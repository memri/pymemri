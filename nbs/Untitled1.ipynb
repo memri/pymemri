{
 "cells": [
  {
   "cell_type": "code",
   "execution_count": null,
   "id": "99380232",
   "metadata": {},
   "outputs": [],
   "source": [
    "from uuid import uuid4\n",
    "from pymemri.pod.client import PodClient\n",
    "from pymemri.data.schema import Account"
   ]
  },
  {
   "cell_type": "code",
   "execution_count": null,
   "id": "1e281591",
   "metadata": {},
   "outputs": [],
   "source": [
    "def test_server_restart():\n",
    "    # Create a random owner/database key pair\n",
    "    owner = uuid4().hex\n",
    "    database_key = uuid4().hex\n",
    "    client = PodClient(\n",
    "        url=\"https://qa.pod.memri.io\",\n",
    "        owner_key=owner, database_key=database_key)\n",
    "    \n",
    "    print(client.owner_key, client.database_key, client.api.auth_json)\n",
    "\n",
    "    # Add an item to the pod\n",
    "    client.add_to_schema(Account)\n",
    "    client.create(Account(displayName=\"aziz\"))\n",
    "    assert client.search({\"type\" : \"Account\"})\n",
    "\n",
    "\n",
    "    # Use the same owner, but a different database key\n",
    "    new_database_key = uuid4().hex\n",
    "    client = PodClient(url=\"https://qa.pod.memri.io\",\n",
    "        owner_key=owner, database_key=new_database_key)\n",
    "    # We shouldn't able to access data with the wrong key\n",
    "    print(client.api.search({\"type\" : \"Account\"}))\n",
    "    print(client.owner_key, client.database_key, client.api.auth_json)"
   ]
  },
  {
   "cell_type": "code",
   "execution_count": null,
   "id": "d2479918",
   "metadata": {},
   "outputs": [
    {
     "name": "stdout",
     "output_type": "stream",
     "text": [
      "aa9d2716ef464490bec06a6f9233a462 80e0500c5b0e42b787921903a17c71ba {'type': 'ClientAuth', 'databaseKey': '80e0500c5b0e42b787921903a17c71ba'}\n",
      "[{'dateCreated': 1664195052602, 'dateModified': 1664195052602, 'dateServerModified': 1664195052602, 'deleted': False, 'displayName': 'aziz', 'id': '26c751355e354e1686f1c8d911cf5ba0', 'rowid': 137, 'type': 'Account'}]\n",
      "aa9d2716ef464490bec06a6f9233a462 f8cb3e15a4e445e0b92b041ef713c2b0 {'type': 'ClientAuth', 'databaseKey': 'f8cb3e15a4e445e0b92b041ef713c2b0'}\n"
     ]
    }
   ],
   "source": [
    "test_server_restart()"
   ]
  },
  {
   "cell_type": "code",
   "execution_count": null,
   "id": "4ab04e3b",
   "metadata": {},
   "outputs": [],
   "source": [
    "from pymemri.pod.api import PodAPI\n",
    "from uuid import uuid4\n",
    "from pymemri.pod.client import PodClient\n",
    "from pymemri.data.schema import Account\n",
    "import requests\n",
    "import curlify"
   ]
  },
  {
   "cell_type": "code",
   "execution_count": null,
   "id": "e59ad026",
   "metadata": {},
   "outputs": [
    {
     "name": "stdout",
     "output_type": "stream",
     "text": [
      "http://localhost:3030/v4/ad93d4b132524fbdb9721b2e11bd3335\n",
      "curl -X POST -H 'Accept: */*' -H 'Accept-Encoding: gzip, deflate' -H 'Connection: keep-alive' -H 'Content-Length: 257' -H 'Content-Type: application/json' -H 'User-Agent: python-requests/2.25.1' -d '{\"auth\": {\"databaseKey\": \"6336109292717241463766379070464809744131320941680269028379236837\", \"type\": \"ClientAuth\"}, \"payload\": {\"itemType\": \"Account\", \"propertyName\": \"secret_property\", \"type\": \"ItemPropertySchema\", \"valueType\": \"Text\", \"id\": \"1234567890\"}}' http://localhost:3030/v4/ad93d4b132524fbdb9721b2e11bd3335/create_item\n"
     ]
    },
    {
     "ename": "NameError",
     "evalue": "name 'r' is not defined",
     "output_type": "error",
     "traceback": [
      "\u001b[0;31m---------------------------------------------------------------------------\u001b[0m",
      "\u001b[0;31mNameError\u001b[0m                                 Traceback (most recent call last)",
      "\u001b[0;32m/tmp/ipykernel_28206/2108368157.py\u001b[0m in \u001b[0;36m<module>\u001b[0;34m\u001b[0m\n\u001b[1;32m     19\u001b[0m \u001b[0muid\u001b[0m \u001b[0;34m=\u001b[0m \u001b[0mrequests\u001b[0m\u001b[0;34m.\u001b[0m\u001b[0mpost\u001b[0m\u001b[0;34m(\u001b[0m\u001b[0;34mf\"{base_url}/create_item\"\u001b[0m\u001b[0;34m,\u001b[0m \u001b[0mjson\u001b[0m\u001b[0;34m=\u001b[0m\u001b[0mcreate_body\u001b[0m\u001b[0;34m)\u001b[0m\u001b[0;34m\u001b[0m\u001b[0;34m\u001b[0m\u001b[0m\n\u001b[1;32m     20\u001b[0m \u001b[0mprint\u001b[0m\u001b[0;34m(\u001b[0m\u001b[0mcurlify\u001b[0m\u001b[0;34m.\u001b[0m\u001b[0mto_curl\u001b[0m\u001b[0;34m(\u001b[0m\u001b[0muid\u001b[0m\u001b[0;34m.\u001b[0m\u001b[0mrequest\u001b[0m\u001b[0;34m)\u001b[0m\u001b[0;34m)\u001b[0m\u001b[0;34m\u001b[0m\u001b[0;34m\u001b[0m\u001b[0m\n\u001b[0;32m---> 21\u001b[0;31m \u001b[0mprint\u001b[0m\u001b[0;34m(\u001b[0m\u001b[0mr\u001b[0m\u001b[0;34m.\u001b[0m\u001b[0mjson\u001b[0m\u001b[0;34m(\u001b[0m\u001b[0;34m)\u001b[0m\u001b[0;34m)\u001b[0m\u001b[0;34m\u001b[0m\u001b[0;34m\u001b[0m\u001b[0m\n\u001b[0m",
      "\u001b[0;31mNameError\u001b[0m: name 'r' is not defined"
     ]
    }
   ],
   "source": [
    "owner_key = uuid4().hex\n",
    "base_url = f\"http://localhost:3030/v4/{owner_key}\"\n",
    "print(base_url)\n",
    "\n",
    "create_body = {\n",
    "    \"auth\": {\n",
    "        \"databaseKey\": \"6336109292717241463766379070464809744131320941680269028379236837\",\n",
    "        \"type\": \"ClientAuth\",\n",
    "    },\n",
    "    \"payload\": {\n",
    "        \"itemType\": \"Account\",\n",
    "        \"propertyName\": \"secret_property\",\n",
    "        \"type\": \"ItemPropertySchema\",\n",
    "        \"valueType\": \"Text\",\n",
    "        \"id\": \"1234567890\"\n",
    "    },\n",
    "}\n",
    "\n",
    "uid = requests.post(f\"{base_url}/create_item\", json=create_body)\n",
    "print(curlify.to_curl(uid.request))\n",
    "print(r.json())"
   ]
  },
  {
   "cell_type": "code",
   "execution_count": null,
   "id": "8e808a83",
   "metadata": {},
   "outputs": [
    {
     "name": "stdout",
     "output_type": "stream",
     "text": [
      "http://localhost:3030/v4/ad93d4b132524fbdb9721b2e11bd3335\n",
      "curl -X POST -H 'Accept: */*' -H 'Accept-Encoding: gzip, deflate' -H 'Connection: keep-alive' -H 'Content-Length: 108' -H 'Content-Type: application/json' -H 'User-Agent: python-requests/2.25.1' -d '{\"auth\": {\"databaseKey\": \"00000000000000000000000000000000\", \"type\": \"ClientAuth\"}, \"payload\": \"1234567890\"}' http://localhost:3030/v4/ad93d4b132524fbdb9721b2e11bd3335/get_item\n",
      "[{'dateCreated': 1664197886900, 'dateModified': 1664197886900, 'dateServerModified': 1664197886900, 'deleted': False, 'id': '1234567890', 'itemType': 'Account', 'propertyName': 'secret_property', 'rowid': 26, 'type': 'ItemPropertySchema', 'valueType': 'Text'}]\n"
     ]
    }
   ],
   "source": [
    "base_url = f\"http://localhost:3030/v4/{owner_key}\"\n",
    "print(base_url)\n",
    "\n",
    "get_body = {\n",
    "    \"auth\": {\n",
    "        \"databaseKey\": \"0\"*32,\n",
    "        \"type\": \"ClientAuth\",\n",
    "    },\n",
    "    \"payload\": \"1234567890\"\n",
    "}\n",
    "\n",
    "r = requests.post(f\"{base_url}/get_item\", json=get_body)\n",
    "print(curlify.to_curl(r.request))\n",
    "\n",
    "print(r.json())"
   ]
  },
  {
   "cell_type": "code",
   "execution_count": null,
   "id": "6ab77d7f",
   "metadata": {},
   "outputs": [],
   "source": [
    "import curlify"
   ]
  },
  {
   "cell_type": "code",
   "execution_count": null,
   "id": "98461d6b",
   "metadata": {},
   "outputs": [
    {
     "name": "stdout",
     "output_type": "stream",
     "text": [
      "{'auth': {'type': 'ClientAuth', 'databaseKey': '000000000000000000000000000'}, 'payload': {'type': 'Account'}}\n",
      "000000000000000000000000000\n",
      "[{'dateCreated': 1664196461543, 'dateModified': 1664196461543, 'dateServerModified': 1664196461543, 'deleted': False, 'handle': 'secret', 'id': 'd456fc0e449b40b38d7ae35e888fb1ef', 'rowid': 137, 'type': 'Account'}]\n"
     ]
    }
   ],
   "source": [
    "search_body = {\n",
    "    \"auth\": {\n",
    "        \"type\": \"ClientAuth\",\n",
    "        \"databaseKey\": \"000000000000000000000000000\"\n",
    "    },\n",
    "    \"payload\": {\"type\": \"Account\"}\n",
    "}\n",
    "\n",
    "print(search_body)\n",
    "url = f\"http://localhost:3030/v4/{client.owner_key}/search\"\n",
    "response = requests.post(url, json=search_body)\n",
    "print(search_body[\"auth\"][\"databaseKey\"])\n",
    "print(response.json())\n"
   ]
  },
  {
   "cell_type": "code",
   "execution_count": null,
   "id": "7207ad97",
   "metadata": {},
   "outputs": [
    {
     "ename": "AttributeError",
     "evalue": "'Response' object has no attribute 'status'",
     "output_type": "error",
     "traceback": [
      "\u001b[0;31m---------------------------------------------------------------------------\u001b[0m",
      "\u001b[0;31mAttributeError\u001b[0m                            Traceback (most recent call last)",
      "\u001b[0;32m/tmp/ipykernel_26393/3492924166.py\u001b[0m in \u001b[0;36m<module>\u001b[0;34m\u001b[0m\n\u001b[0;32m----> 1\u001b[0;31m \u001b[0mresponse\u001b[0m\u001b[0;34m.\u001b[0m\u001b[0mstatus\u001b[0m\u001b[0;34m\u001b[0m\u001b[0;34m\u001b[0m\u001b[0m\n\u001b[0m",
      "\u001b[0;31mAttributeError\u001b[0m: 'Response' object has no attribute 'status'"
     ]
    }
   ],
   "source": [
    "response.statu"
   ]
  },
  {
   "cell_type": "code",
   "execution_count": null,
   "id": "b2e3c1ec",
   "metadata": {},
   "outputs": [
    {
     "ename": "SyntaxError",
     "evalue": "invalid syntax (564631703.py, line 1)",
     "output_type": "error",
     "traceback": [
      "\u001b[0;36m  File \u001b[0;32m\"/tmp/ipykernel_26838/564631703.py\"\u001b[0;36m, line \u001b[0;32m1\u001b[0m\n\u001b[0;31m    curl -X POST http://localhost:3030/v4/06e239033f4c453884b232f333691113/create_item \\\u001b[0m\n\u001b[0m            ^\u001b[0m\n\u001b[0;31mSyntaxError\u001b[0m\u001b[0;31m:\u001b[0m invalid syntax\n"
     ]
    }
   ],
   "source": [
    "curl -X POST -d '{\"auth\": {\"databaseKey\": \"6336109292717241463766379070464809744131320941680269028379236837\", \"type\": \"ClientAuth\"}, \"payload\": {\"itemType\": \"Account\", \"propertyName\": \"secret_property\", \"type\": \"ItemPropertySchema\", \"valueType\": \"Text\", \"id\": \"1234567\"}}' http://localhost:3030/v4/06e239033f4c453884b232f333691113/create_item\n",
    "curl -X POST -d '{\"auth\": {\"databaseKey\": \"0000000000000000000000000000000000000000000000000000000000000000\", \"type\": \"ClientAuth\"}, \"payload\": \"1234567\"}' http://localhost:3030/v4/5c597f86e6de4051aabf9311628e5593/get_item"
   ]
  },
  {
   "cell_type": "code",
   "execution_count": null,
   "id": "3de2c65e",
   "metadata": {},
   "outputs": [
    {
     "ename": "ModuleNotFoundError",
     "evalue": "No module named 'msilib'",
     "output_type": "error",
     "traceback": [
      "\u001b[0;31m---------------------------------------------------------------------------\u001b[0m",
      "\u001b[0;31mModuleNotFoundError\u001b[0m                       Traceback (most recent call last)",
      "\u001b[0;32m/tmp/ipykernel_33566/3404908576.py\u001b[0m in \u001b[0;36m<module>\u001b[0;34m\u001b[0m\n\u001b[1;32m      1\u001b[0m \u001b[0;32mfrom\u001b[0m \u001b[0mpymemri\u001b[0m\u001b[0;34m.\u001b[0m\u001b[0mpod\u001b[0m\u001b[0;34m.\u001b[0m\u001b[0mapi\u001b[0m \u001b[0;32mimport\u001b[0m \u001b[0mPodAPI\u001b[0m\u001b[0;34m\u001b[0m\u001b[0;34m\u001b[0m\u001b[0m\n\u001b[1;32m      2\u001b[0m \u001b[0;32mfrom\u001b[0m \u001b[0muuid\u001b[0m \u001b[0;32mimport\u001b[0m \u001b[0muuid4\u001b[0m\u001b[0;34m\u001b[0m\u001b[0;34m\u001b[0m\u001b[0m\n\u001b[0;32m----> 3\u001b[0;31m \u001b[0;32mfrom\u001b[0m \u001b[0mpymemri\u001b[0m\u001b[0;34m.\u001b[0m\u001b[0mpod\u001b[0m\u001b[0;34m.\u001b[0m\u001b[0mclient\u001b[0m \u001b[0;32mimport\u001b[0m \u001b[0mPodClient\u001b[0m\u001b[0;34m\u001b[0m\u001b[0;34m\u001b[0m\u001b[0m\n\u001b[0m\u001b[1;32m      4\u001b[0m \u001b[0;32mfrom\u001b[0m \u001b[0mpymemri\u001b[0m\u001b[0;34m.\u001b[0m\u001b[0mdata\u001b[0m\u001b[0;34m.\u001b[0m\u001b[0mschema\u001b[0m \u001b[0;32mimport\u001b[0m \u001b[0mAccount\u001b[0m\u001b[0;34m\u001b[0m\u001b[0;34m\u001b[0m\u001b[0m\n\u001b[1;32m      5\u001b[0m \u001b[0;32mimport\u001b[0m \u001b[0mrequests\u001b[0m\u001b[0;34m\u001b[0m\u001b[0;34m\u001b[0m\u001b[0m\n",
      "\u001b[0;32m~/projects/pymemri/pymemri/pod/client.py\u001b[0m in \u001b[0;36m<module>\u001b[0;34m\u001b[0m\n\u001b[1;32m      8\u001b[0m \u001b[0;32mfrom\u001b[0m \u001b[0mloguru\u001b[0m \u001b[0;32mimport\u001b[0m \u001b[0mlogger\u001b[0m\u001b[0;34m\u001b[0m\u001b[0;34m\u001b[0m\u001b[0m\n\u001b[1;32m      9\u001b[0m \u001b[0;34m\u001b[0m\u001b[0m\n\u001b[0;32m---> 10\u001b[0;31m \u001b[0;32mfrom\u001b[0m \u001b[0;34m.\u001b[0m\u001b[0;34m.\u001b[0m\u001b[0mdata\u001b[0m\u001b[0;34m.\u001b[0m\u001b[0mschema\u001b[0m \u001b[0;32mimport\u001b[0m \u001b[0mAccount\u001b[0m\u001b[0;34m,\u001b[0m \u001b[0mFile\u001b[0m\u001b[0;34m,\u001b[0m \u001b[0mItem\u001b[0m\u001b[0;34m,\u001b[0m \u001b[0mPhoto\u001b[0m\u001b[0;34m,\u001b[0m \u001b[0mPluginRun\u001b[0m\u001b[0;34m,\u001b[0m \u001b[0mget_schema_cls\u001b[0m\u001b[0;34m\u001b[0m\u001b[0;34m\u001b[0m\u001b[0m\n\u001b[0m\u001b[1;32m     11\u001b[0m \u001b[0;32mfrom\u001b[0m \u001b[0;34m.\u001b[0m\u001b[0mapi\u001b[0m \u001b[0;32mimport\u001b[0m \u001b[0mDEFAULT_POD_ADDRESS\u001b[0m\u001b[0;34m,\u001b[0m \u001b[0mPOD_VERSION\u001b[0m\u001b[0;34m,\u001b[0m \u001b[0mPodAPI\u001b[0m\u001b[0;34m,\u001b[0m \u001b[0mPodError\u001b[0m\u001b[0;34m\u001b[0m\u001b[0;34m\u001b[0m\u001b[0m\n\u001b[1;32m     12\u001b[0m \u001b[0;32mfrom\u001b[0m \u001b[0;34m.\u001b[0m\u001b[0mdb\u001b[0m \u001b[0;32mimport\u001b[0m \u001b[0mDB\u001b[0m\u001b[0;34m,\u001b[0m \u001b[0mPriority\u001b[0m\u001b[0;34m\u001b[0m\u001b[0;34m\u001b[0m\u001b[0m\n",
      "\u001b[0;32m~/projects/pymemri/pymemri/data/schema/__init__.py\u001b[0m in \u001b[0;36m<module>\u001b[0;34m\u001b[0m\n\u001b[1;32m      1\u001b[0m \u001b[0;32mfrom\u001b[0m \u001b[0;34m.\u001b[0m\u001b[0mitem\u001b[0m \u001b[0;32mimport\u001b[0m \u001b[0mEdge\u001b[0m\u001b[0;34m,\u001b[0m \u001b[0mItem\u001b[0m\u001b[0;34m,\u001b[0m \u001b[0mItemBase\u001b[0m  \u001b[0;31m# noqa: F405, type: ignore\u001b[0m\u001b[0;34m\u001b[0m\u001b[0;34m\u001b[0m\u001b[0m\n\u001b[0;32m----> 2\u001b[0;31m \u001b[0;32mfrom\u001b[0m \u001b[0;34m.\u001b[0m\u001b[0mschema\u001b[0m \u001b[0;32mimport\u001b[0m \u001b[0;34m*\u001b[0m  \u001b[0;31m# noqa: F405, type: ignore\u001b[0m\u001b[0;34m\u001b[0m\u001b[0;34m\u001b[0m\u001b[0m\n\u001b[0m",
      "\u001b[0;32m~/projects/pymemri/pymemri/data/schema/schema.py\u001b[0m in \u001b[0;36m<module>\u001b[0;34m\u001b[0m\n\u001b[1;32m      1\u001b[0m \u001b[0;32mimport\u001b[0m \u001b[0minspect\u001b[0m\u001b[0;34m\u001b[0m\u001b[0;34m\u001b[0m\u001b[0m\n\u001b[0;32m----> 2\u001b[0;31m \u001b[0;32mfrom\u001b[0m \u001b[0mmsilib\u001b[0m \u001b[0;32mimport\u001b[0m \u001b[0mschema\u001b[0m\u001b[0;34m\u001b[0m\u001b[0;34m\u001b[0m\u001b[0m\n\u001b[0m\u001b[1;32m      3\u001b[0m \u001b[0;32mfrom\u001b[0m \u001b[0mtyping\u001b[0m \u001b[0;32mimport\u001b[0m \u001b[0mDict\u001b[0m\u001b[0;34m,\u001b[0m \u001b[0mType\u001b[0m\u001b[0;34m,\u001b[0m \u001b[0mTypeVar\u001b[0m\u001b[0;34m\u001b[0m\u001b[0;34m\u001b[0m\u001b[0m\n\u001b[1;32m      4\u001b[0m \u001b[0;32mfrom\u001b[0m \u001b[0muuid\u001b[0m \u001b[0;32mimport\u001b[0m \u001b[0muuid4\u001b[0m\u001b[0;34m\u001b[0m\u001b[0;34m\u001b[0m\u001b[0m\n\u001b[1;32m      5\u001b[0m \u001b[0;34m\u001b[0m\u001b[0m\n",
      "\u001b[0;31mModuleNotFoundError\u001b[0m: No module named 'msilib'"
     ]
    }
   ],
   "source": [
    "from pymemri.pod.api import PodAPI\n",
    "from uuid import uuid4\n",
    "from pymemri.pod.client import PodClient\n",
    "from pymemri.data.schema import Account\n",
    "import requests\n",
    "import curlify\n",
    "\n",
    "\n",
    "account = Account(handle=\"topsecret\")\n",
    "\n",
    "client = PodClient()\n",
    "client.create(account)\n",
    "\n",
    "client_2 = PodClient(owner_key=client.owner_key, database_key=\"0000000000000000000000000000000\")\n",
    "secret_account = client_2.get(account.id)\n",
    "print(secret_account.handle)"
   ]
  },
  {
   "cell_type": "code",
   "execution_count": null,
   "id": "2929c378",
   "metadata": {},
   "outputs": [
    {
     "name": "stderr",
     "output_type": "stream",
     "text": [
      "2022-09-26 16:26:45.198 | ERROR    | pymemri.pod.client:_get_item_with_properties:427 - 500 Failure: Database rusqlite error file is not a database\n",
      "2022-09-26 16:26:45.206 | ERROR    | pymemri.pod.client:get_edges:415 - 500 Failure: Database rusqlite error file is not a database\n"
     ]
    },
    {
     "ename": "TypeError",
     "evalue": "'NoneType' object is not iterable",
     "output_type": "error",
     "traceback": [
      "\u001b[0;31m---------------------------------------------------------------------------\u001b[0m",
      "\u001b[0;31mTypeError\u001b[0m                                 Traceback (most recent call last)",
      "\u001b[0;32m/tmp/ipykernel_30290/2360265147.py\u001b[0m in \u001b[0;36m<module>\u001b[0;34m\u001b[0m\n\u001b[0;32m----> 1\u001b[0;31m \u001b[0msecret_account\u001b[0m \u001b[0;34m=\u001b[0m \u001b[0mclient\u001b[0m\u001b[0;34m.\u001b[0m\u001b[0mget\u001b[0m\u001b[0;34m(\u001b[0m\u001b[0maccount\u001b[0m\u001b[0;34m.\u001b[0m\u001b[0mid\u001b[0m\u001b[0;34m)\u001b[0m\u001b[0;34m\u001b[0m\u001b[0;34m\u001b[0m\u001b[0m\n\u001b[0m\u001b[1;32m      2\u001b[0m \u001b[0mprint\u001b[0m\u001b[0;34m(\u001b[0m\u001b[0msecret_account\u001b[0m\u001b[0;34m.\u001b[0m\u001b[0mhandle\u001b[0m\u001b[0;34m)\u001b[0m\u001b[0;34m\u001b[0m\u001b[0;34m\u001b[0m\u001b[0m\n",
      "\u001b[0;32m~/projects/pymemri/pymemri/pod/client.py\u001b[0m in \u001b[0;36mget\u001b[0;34m(self, id, expanded, include_deleted)\u001b[0m\n\u001b[1;32m    383\u001b[0m             \u001b[0mlogger\u001b[0m\u001b[0;34m.\u001b[0m\u001b[0merror\u001b[0m\u001b[0;34m(\u001b[0m\u001b[0me\u001b[0m\u001b[0;34m)\u001b[0m\u001b[0;34m\u001b[0m\u001b[0;34m\u001b[0m\u001b[0m\n\u001b[1;32m    384\u001b[0m             \u001b[0;32mreturn\u001b[0m \u001b[0;32mFalse\u001b[0m\u001b[0;34m\u001b[0m\u001b[0;34m\u001b[0m\u001b[0m\n\u001b[0;32m--> 385\u001b[0;31m \u001b[0;34m\u001b[0m\u001b[0m\n\u001b[0m\u001b[1;32m    386\u001b[0m     def search_paginate(\n\u001b[1;32m    387\u001b[0m         \u001b[0mself\u001b[0m\u001b[0;34m,\u001b[0m\u001b[0;34m\u001b[0m\u001b[0;34m\u001b[0m\u001b[0m\n",
      "\u001b[0;32m~/projects/pymemri/pymemri/pod/client.py\u001b[0m in \u001b[0;36m_get_item_expanded\u001b[0;34m(self, id)\u001b[0m\n\u001b[1;32m    400\u001b[0m \u001b[0;34m\u001b[0m\u001b[0m\n\u001b[1;32m    401\u001b[0m         \u001b[0mextra_fields\u001b[0m \u001b[0;34m=\u001b[0m \u001b[0;34m{\u001b[0m\u001b[0;34m\"[[edges]]\"\u001b[0m\u001b[0;34m:\u001b[0m \u001b[0;34m{\u001b[0m\u001b[0;34m}\u001b[0m\u001b[0;34m}\u001b[0m \u001b[0;32mif\u001b[0m \u001b[0minclude_edges\u001b[0m \u001b[0;32melse\u001b[0m \u001b[0;34m{\u001b[0m\u001b[0;34m}\u001b[0m\u001b[0;34m\u001b[0m\u001b[0;34m\u001b[0m\u001b[0m\n\u001b[0;32m--> 402\u001b[0;31m         \u001b[0mquery\u001b[0m \u001b[0;34m=\u001b[0m \u001b[0;34m{\u001b[0m\u001b[0;34m**\u001b[0m\u001b[0mfields_data\u001b[0m\u001b[0;34m,\u001b[0m \u001b[0;34m**\u001b[0m\u001b[0mextra_fields\u001b[0m\u001b[0;34m}\u001b[0m\u001b[0;34m\u001b[0m\u001b[0;34m\u001b[0m\u001b[0m\n\u001b[0m\u001b[1;32m    403\u001b[0m \u001b[0;34m\u001b[0m\u001b[0m\n\u001b[1;32m    404\u001b[0m         \u001b[0;32mtry\u001b[0m\u001b[0;34m:\u001b[0m\u001b[0;34m\u001b[0m\u001b[0;34m\u001b[0m\u001b[0m\n",
      "\u001b[0;31mTypeError\u001b[0m: 'NoneType' object is not iterable"
     ]
    }
   ],
   "source": [
    "secret_account = client.get(account.id)\n",
    "print(secret_account.handle)"
   ]
  },
  {
   "cell_type": "code",
   "execution_count": null,
   "id": "5a3a5dda",
   "metadata": {},
   "outputs": [
    {
     "name": "stderr",
     "output_type": "stream",
     "text": [
      "2022-09-26 16:14:13.389 | ERROR    | pymemri.pod.client:add_to_schema:182 - 500 Failure: Database 'refinery' migration error, `error getting applied migrations`, `database disk image is malformed`\n"
     ]
    },
    {
     "ename": "AssertionError",
     "evalue": "",
     "output_type": "error",
     "traceback": [
      "\u001b[0;31m---------------------------------------------------------------------------\u001b[0m",
      "\u001b[0;31mAssertionError\u001b[0m                            Traceback (most recent call last)",
      "\u001b[0;32m/tmp/ipykernel_30290/2895903247.py\u001b[0m in \u001b[0;36m<module>\u001b[0;34m\u001b[0m\n\u001b[0;32m----> 1\u001b[0;31m \u001b[0mclient_2\u001b[0m \u001b[0;34m=\u001b[0m \u001b[0mPodClient\u001b[0m\u001b[0;34m(\u001b[0m\u001b[0mowner_key\u001b[0m\u001b[0;34m=\u001b[0m\u001b[0mclient\u001b[0m\u001b[0;34m.\u001b[0m\u001b[0mowner_key\u001b[0m\u001b[0;34m,\u001b[0m \u001b[0mdatabase_key\u001b[0m\u001b[0;34m=\u001b[0m\u001b[0;34m\"0000000000000000000000000000000\"\u001b[0m\u001b[0;34m)\u001b[0m\u001b[0;34m\u001b[0m\u001b[0;34m\u001b[0m\u001b[0m\n\u001b[0m\u001b[1;32m      2\u001b[0m \u001b[0msecret_account\u001b[0m \u001b[0;34m=\u001b[0m \u001b[0mclient_2\u001b[0m\u001b[0;34m.\u001b[0m\u001b[0mget\u001b[0m\u001b[0;34m(\u001b[0m\u001b[0maccount\u001b[0m\u001b[0;34m.\u001b[0m\u001b[0mid\u001b[0m\u001b[0;34m)\u001b[0m\u001b[0;34m\u001b[0m\u001b[0;34m\u001b[0m\u001b[0m\n\u001b[1;32m      3\u001b[0m \u001b[0mprint\u001b[0m\u001b[0;34m(\u001b[0m\u001b[0msecret_account\u001b[0m\u001b[0;34m.\u001b[0m\u001b[0mhandle\u001b[0m\u001b[0;34m)\u001b[0m\u001b[0;34m\u001b[0m\u001b[0;34m\u001b[0m\u001b[0m\n",
      "\u001b[0;32m~/projects/pymemri/pymemri/pod/client.py\u001b[0m in \u001b[0;36m__init__\u001b[0;34m(self, url, version, database_key, owner_key, auth_json, register_base_schema, verbose, default_priority)\u001b[0m\n\u001b[1;32m     58\u001b[0m     \u001b[0;32mdef\u001b[0m \u001b[0mfrom_local_keys\u001b[0m\u001b[0;34m(\u001b[0m\u001b[0mcls\u001b[0m\u001b[0;34m,\u001b[0m \u001b[0mpath\u001b[0m\u001b[0;34m=\u001b[0m\u001b[0mDEFAULT_POD_KEY_PATH\u001b[0m\u001b[0;34m,\u001b[0m \u001b[0;34m**\u001b[0m\u001b[0mkwargs\u001b[0m\u001b[0;34m)\u001b[0m\u001b[0;34m:\u001b[0m\u001b[0;34m\u001b[0m\u001b[0;34m\u001b[0m\u001b[0m\n\u001b[1;32m     59\u001b[0m         return cls(\n\u001b[0;32m---> 60\u001b[0;31m             \u001b[0mdatabase_key\u001b[0m\u001b[0;34m=\u001b[0m\u001b[0mread_pod_key\u001b[0m\u001b[0;34m(\u001b[0m\u001b[0;34m\"database_key\"\u001b[0m\u001b[0;34m)\u001b[0m\u001b[0;34m,\u001b[0m\u001b[0;34m\u001b[0m\u001b[0;34m\u001b[0m\u001b[0m\n\u001b[0m\u001b[1;32m     61\u001b[0m             \u001b[0mowner_key\u001b[0m\u001b[0;34m=\u001b[0m\u001b[0mread_pod_key\u001b[0m\u001b[0;34m(\u001b[0m\u001b[0;34m\"owner_key\"\u001b[0m\u001b[0;34m)\u001b[0m\u001b[0;34m,\u001b[0m\u001b[0;34m\u001b[0m\u001b[0;34m\u001b[0m\u001b[0m\n\u001b[1;32m     62\u001b[0m             \u001b[0;34m**\u001b[0m\u001b[0mkwargs\u001b[0m\u001b[0;34m,\u001b[0m\u001b[0;34m\u001b[0m\u001b[0;34m\u001b[0m\u001b[0m\n",
      "\u001b[0;32m~/projects/pymemri/pymemri/pod/client.py\u001b[0m in \u001b[0;36mregister_base_schemas\u001b[0;34m(self)\u001b[0m\n\u001b[1;32m     73\u001b[0m         \u001b[0mitem\u001b[0m\u001b[0;34m.\u001b[0m\u001b[0mcreate_id_if_not_exists\u001b[0m\u001b[0;34m(\u001b[0m\u001b[0;34m)\u001b[0m\u001b[0;34m\u001b[0m\u001b[0;34m\u001b[0m\u001b[0m\n\u001b[1;32m     74\u001b[0m         \u001b[0mpriority\u001b[0m \u001b[0;34m=\u001b[0m \u001b[0mpriority\u001b[0m \u001b[0;32mif\u001b[0m \u001b[0mpriority\u001b[0m \u001b[0;32mis\u001b[0m \u001b[0;32mnot\u001b[0m \u001b[0;32mNone\u001b[0m \u001b[0;32melse\u001b[0m \u001b[0mself\u001b[0m\u001b[0;34m.\u001b[0m\u001b[0mdefault_priority\u001b[0m\u001b[0;34m\u001b[0m\u001b[0;34m\u001b[0m\u001b[0m\n\u001b[0;32m---> 75\u001b[0;31m         \u001b[0;32mreturn\u001b[0m \u001b[0mself\u001b[0m\u001b[0;34m.\u001b[0m\u001b[0mlocal_db\u001b[0m\u001b[0;34m.\u001b[0m\u001b[0mmerge\u001b[0m\u001b[0;34m(\u001b[0m\u001b[0mitem\u001b[0m\u001b[0;34m,\u001b[0m \u001b[0mpriority\u001b[0m\u001b[0;34m)\u001b[0m\u001b[0;34m\u001b[0m\u001b[0;34m\u001b[0m\u001b[0m\n\u001b[0m\u001b[1;32m     76\u001b[0m \u001b[0;34m\u001b[0m\u001b[0m\n\u001b[1;32m     77\u001b[0m     \u001b[0;32mdef\u001b[0m \u001b[0mreset_local_db\u001b[0m\u001b[0;34m(\u001b[0m\u001b[0mself\u001b[0m\u001b[0;34m)\u001b[0m\u001b[0;34m:\u001b[0m\u001b[0;34m\u001b[0m\u001b[0;34m\u001b[0m\u001b[0m\n",
      "\u001b[0;31mAssertionError\u001b[0m: "
     ]
    }
   ],
   "source": [
    "client_2 = PodClient(owner_key=client.owner_key, database_key=\"0000000000000000000000000000000\")\n",
    "secret_account = client_2.get(account.id)\n",
    "print(secret_account.handle)"
   ]
  },
  {
   "cell_type": "code",
   "execution_count": null,
   "id": "99db07ee",
   "metadata": {},
   "outputs": [],
   "source": []
  }
 ],
 "metadata": {
  "kernelspec": {
   "display_name": "Python 3 (ipykernel)",
   "language": "python",
   "name": "python3"
  }
 },
 "nbformat": 4,
 "nbformat_minor": 5
}
