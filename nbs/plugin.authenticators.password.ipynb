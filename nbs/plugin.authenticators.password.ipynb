{
 "cells": [
  {
   "cell_type": "code",
   "execution_count": 1,
   "metadata": {},
   "outputs": [],
   "source": [
    "%load_ext autoreload\n",
    "%autoreload 2\n",
    "# default_exp plugin.authenticators.password"
   ]
  },
  {
   "cell_type": "code",
   "execution_count": 2,
   "metadata": {},
   "outputs": [],
   "source": [
    "# export \n",
    "# hide\n",
    "\n",
    "import abc\n",
    "from time import sleep\n",
    "from pymemri.plugin.states import RUN_USER_ACTION_NEEDED, RUN_USER_ACTION_COMPLETED\n",
    "from pymemri.cvu.utils import get_cvu\n",
    "from pymemri.data.schema import CVUStoredDefinition\n",
    "import time"
   ]
  },
  {
   "cell_type": "code",
   "execution_count": 3,
   "metadata": {},
   "outputs": [],
   "source": [
    "# export\n",
    "LOGIN_CVU = \"passwordAuth.cvu\""
   ]
  },
  {
   "cell_type": "markdown",
   "metadata": {},
   "source": [
    "## Password Authenticator\n",
    "\n",
    "Password Authenticator provides an easy interface to setup standard username-password authentication with 3rd party services.\n",
    "\n",
    "Simply calling `authenticate()` should load the related account with required credentials.\n",
    "\n",
    "Inheriting class should implement:\n",
    "- get_token() that tests username-password combination or gets a new session token to be used for future calls\n"
   ]
  },
  {
   "cell_type": "code",
   "execution_count": 4,
   "metadata": {},
   "outputs": [],
   "source": [
    "# export\n",
    "# hide\n",
    "\n",
    "class PasswordAuthenticator:\n",
    "    MAX_LOGIN_ATTEMPTS = 10\n",
    "    SLEEP_INTERVAL = 1.0\n",
    "    MAX_POLL_TIME = 10\n",
    "\n",
    "    def __init__(self, client, pluginRun):\n",
    "        self.client = client\n",
    "        self.pluginRun = pluginRun\n",
    "        self.isTest = False\n",
    "\n",
    "    def authenticate(self, plugin):\n",
    "        self.request_user_credentials()\n",
    "\n",
    "        login_success = False\n",
    "        for _ in range(self.MAX_LOGIN_ATTEMPTS):\n",
    "            username, password = self.poll_credentials()\n",
    "            try:\n",
    "                plugin.login(username, password)\n",
    "                login_success = True\n",
    "                break\n",
    "            except Exception:\n",
    "                print(\"Login failed, invalid credentials.\")\n",
    "                login_success = False\n",
    "                \n",
    "        if not login_success:\n",
    "            self.pluginRun.status = \"error\"\n",
    "            self.client.update_item(self.pluginRun)\n",
    "            raise RuntimeError(\"Reached max login attempts.\")\n",
    "            \n",
    "    def request_user_credentials(self):\n",
    "        cvu = get_cvu(LOGIN_CVU)\n",
    "        self.client.create(cvu)\n",
    "        self.pluginRun.add_edge(\"view\", cvu)\n",
    "        self.client.create_edge(self.pluginRun.get_edges(\"view\")[0])\n",
    "        self.pluginRun.status = \"userActionNeeded\"\n",
    "        self.client.update_item(self.pluginRun)\n",
    "\n",
    "    def poll_credentials(self):\n",
    "        # request username and password from the user client\n",
    "        # WAIT HERE = BLOCK\n",
    "        start_time = time.time()\n",
    "        while True:\n",
    "            if time.time() - start_time > self.MAX_POLL_TIME:\n",
    "                raise RuntimeError(\"Stop polling, max time reached.\")\n",
    "            print(\"polling for credentials...\")\n",
    "            sleep(self.SLEEP_INTERVAL)\n",
    "            self.pluginRun = self.client.get(self.pluginRun.id)\n",
    "            if self.pluginRun.status == RUN_USER_ACTION_COMPLETED:\n",
    "                account = self.pluginRun.account[0]\n",
    "                return account.identifier, account.secret\n"
   ]
  },
  {
   "cell_type": "code",
   "execution_count": 5,
   "metadata": {},
   "outputs": [
    {
     "data": {
      "text/plain": [
       "True"
      ]
     },
     "execution_count": 5,
     "metadata": {},
     "output_type": "execute_result"
    }
   ],
   "source": [
    "from pymemri.plugin.pluginbase import PluginBase\n",
    "from pymemri.plugin.schema import PluginRun, Account\n",
    "from pymemri.pod.client import PodClient\n",
    "import threading\n",
    "\n",
    "class MyAuthenticatedPlugin(PluginBase):\n",
    "    def __init__(self, *args, **kwargs):\n",
    "        super().__init__(*args, **kwargs)\n",
    "        self.logged_in = False\n",
    "        self.authenticator = PasswordAuthenticator(kwargs[\"client\"], kwargs[\"pluginRun\"])\n",
    "        \n",
    "    def login(self, username, password):\n",
    "        if not (username==\"username\" and password==\"password\"):\n",
    "            raise ValueError(\"Wrong credentials.\")\n",
    "            \n",
    "    def run(self):\n",
    "        self.authenticator.authenticate(self)\n",
    "        self.logged_in = True\n",
    "        print(\"done!\")\n",
    "    \n",
    "    def add_to_schema(self):\n",
    "        pass\n",
    "\n",
    "pod_client = PodClient()\n",
    "\n",
    "run = PluginRun(\"\", \"\", \"\")\n",
    "account = Account(service=\"myAuthenticatedPlugin\")\n",
    "run.add_edge(\"account\", account)\n",
    "run.status = \"start\"\n",
    "\n",
    "pod_client.create(run)\n",
    "pod_client.create(account)\n",
    "pod_client.create_edge(run.get_edges(\"account\")[0])"
   ]
  },
  {
   "cell_type": "code",
   "execution_count": 6,
   "metadata": {},
   "outputs": [],
   "source": [
    "# Create Plugin\n",
    "plugin = MyAuthenticatedPlugin(client=pod_client, pluginRun=run)   "
   ]
  },
  {
   "cell_type": "code",
   "execution_count": 7,
   "metadata": {},
   "outputs": [],
   "source": [
    "# Start plugin in background thread\n",
    "def run_thread():\n",
    "    plugin.run()\n",
    "    assert plugin.logged_in\n",
    "    \n",
    "thread = threading.Thread(target=run_thread)\n",
    "thread.start()"
   ]
  },
  {
   "cell_type": "code",
   "execution_count": 8,
   "metadata": {},
   "outputs": [
    {
     "name": "stdout",
     "output_type": "stream",
     "text": [
      "polling for credentials...\n",
      "done!\n"
     ]
    }
   ],
   "source": [
    "# Enter password and check if plugin is authenticated\n",
    "\n",
    "def simulate_enter_password(pod_client, run_id):\n",
    "    run = pod_client.get(run_id)\n",
    "    account = run.account[0]\n",
    "\n",
    "    username = \"username\"\n",
    "    password = \"password\"\n",
    "    account.identifier = username\n",
    "    account.secret = password\n",
    "    run.status = \"ready\"\n",
    "\n",
    "    pod_client.update_item(account)\n",
    "    pod_client.update_item(run)\n",
    "\n",
    "simulate_enter_password(pod_client, run.id)    \n",
    "time.sleep(4)\n",
    "assert plugin.logged_in"
   ]
  }
 ],
 "metadata": {
  "kernelspec": {
   "display_name": "Python 3",
   "language": "python",
   "name": "python3"
  },
  "language_info": {
   "codemirror_mode": {
    "name": "ipython",
    "version": 3
   },
   "file_extension": ".py",
   "mimetype": "text/x-python",
   "name": "python",
   "nbconvert_exporter": "python",
   "pygments_lexer": "ipython3",
   "version": "3.8.8"
  },
  "toc": {
   "base_numbering": 1,
   "nav_menu": {},
   "number_sections": true,
   "sideBar": true,
   "skip_h1_title": false,
   "title_cell": "Table of Contents",
   "title_sidebar": "Contents",
   "toc_cell": false,
   "toc_position": {},
   "toc_section_display": true,
   "toc_window_display": false
  }
 },
 "nbformat": 4,
 "nbformat_minor": 2
}
