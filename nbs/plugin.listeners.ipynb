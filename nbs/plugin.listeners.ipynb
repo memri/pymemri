{
 "cells": [
  {
   "cell_type": "code",
   "execution_count": null,
   "id": "83281251",
   "metadata": {},
   "outputs": [],
   "source": [
    "%load_ext autoreload\n",
    "%autoreload 2\n",
    "# default_exp plugin.listeners"
   ]
  },
  {
   "cell_type": "code",
   "execution_count": null,
   "id": "978bb73f",
   "metadata": {},
   "outputs": [],
   "source": [
    "# export\n",
    "\n",
    "import time\n",
    "import os\n",
    "import signal\n",
    "from multiprocessing import Process"
   ]
  },
  {
   "cell_type": "code",
   "execution_count": null,
   "id": "8b001a81",
   "metadata": {},
   "outputs": [],
   "source": [
    "# export\n",
    "def status_listener(client, run_id, status, callback, interval=5, verbose=False):\n",
    "    \"\"\"\n",
    "    Listens to status field of plugin, and executes callback when run.status == status.\n",
    "    \"\"\"\n",
    "    if verbose:\n",
    "        print(f\"Listening for status='{status}' on Item {run_id}\")\n",
    "    while True:\n",
    "        time.sleep(interval)\n",
    "        try:\n",
    "            run = client.get(run_id)\n",
    "            if verbose:\n",
    "                print(run.status)\n",
    "            if run.status == status:\n",
    "                callback()\n",
    "        except Exception as e:\n",
    "            print(f\"Could not get run in status listener: {e}\")\n",
    "            \n",
    "def abort_process_callback():\n",
    "    print(\"Status aborted, killing plugin...\")\n",
    "    pgid = os.getpgid(os.getpid())\n",
    "    os.killpg(pgid, signal.SIGABRT)"
   ]
  },
  {
   "cell_type": "code",
   "execution_count": null,
   "id": "8e80ddf0",
   "metadata": {},
   "outputs": [],
   "source": [
    "# export\n",
    "def get_abort_plugin_listener(client, run_id):\n",
    "    return Process(\n",
    "        target=status_listener,\n",
    "        args=(client, run_id, \"aborted\", abort_process_callback)\n",
    "    )"
   ]
  },
  {
   "cell_type": "code",
   "execution_count": null,
   "id": "28289b0a",
   "metadata": {},
   "outputs": [
    {
     "name": "stdout",
     "output_type": "stream",
     "text": [
      "Listening for status='aborted' on Item 2EabE360e917Cf1Ec7e5B2234B5572CC\n",
      "started\n",
      "started\n",
      "started\n",
      "started\n",
      "started\n",
      "aborted\n",
      "Callback\n"
     ]
    }
   ],
   "source": [
    "# hide\n",
    "from pymemri.pod.client import PodClient\n",
    "from pymemri.data.schema import PluginRun\n",
    "\n",
    "def test_callback():\n",
    "    \"\"\"Print Callback and kill listener.\"\"\"\n",
    "    print(\"Callback\")\n",
    "    os.kill(os.getpid(), signal.SIGABRT)\n",
    "\n",
    "client = PodClient()\n",
    "run = PluginRun(containerImage=\"\", status=\"started\")\n",
    "client.create(run)\n",
    "\n",
    "listener = Process(\n",
    "    target=status_listener,\n",
    "    args=(client, run.id, \"aborted\", test_callback, 1, True)\n",
    ")\n",
    "listener.start()\n",
    "\n",
    "for i in range(10):\n",
    "    time.sleep(1)\n",
    "    if i == 5:\n",
    "        run = client.get(run.id)\n",
    "        run.status = \"aborted\"\n",
    "        client.update_item(run)"
   ]
  },
  {
   "cell_type": "code",
   "execution_count": null,
   "id": "a6950943",
   "metadata": {},
   "outputs": [
    {
     "name": "stdout",
     "output_type": "stream",
     "text": [
      "Converted Untitled.ipynb.\n",
      "Converted basic.ipynb.\n",
      "Converted cvu.utils.ipynb.\n",
      "Converted data.photo.ipynb.\n",
      "Converted index.ipynb.\n",
      "Converted itembase.ipynb.\n",
      "Converted plugin.authenticators.credentials.ipynb.\n",
      "Converted plugin.authenticators.oauth.ipynb.\n",
      "Converted plugin.listeners.ipynb.\n",
      "Converted plugin.pluginbase.ipynb.\n",
      "Converted plugin.states.ipynb.\n",
      "Converted plugins.authenticators.password.ipynb.\n",
      "Converted pod.client.ipynb.\n",
      "Converted pod.db.ipynb.\n",
      "Converted pod.utils.ipynb.\n",
      "Converted test_schema.ipynb.\n",
      "Converted test_utils.ipynb.\n"
     ]
    }
   ],
   "source": [
    "# hide\n",
    "from nbdev.export import *\n",
    "notebook2script()"
   ]
  }
 ],
 "metadata": {
  "kernelspec": {
   "display_name": "Python 3",
   "language": "python",
   "name": "python3"
  }
 },
 "nbformat": 4,
 "nbformat_minor": 5
}
