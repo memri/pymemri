{
 "cells": [
  {
   "cell_type": "code",
   "execution_count": null,
   "id": "83281251",
   "metadata": {},
   "outputs": [],
   "source": [
    "%load_ext autoreload\n",
    "%autoreload 2\n",
    "# default_exp plugin.listeners"
   ]
  },
  {
   "cell_type": "code",
   "execution_count": null,
   "id": "978bb73f",
   "metadata": {},
   "outputs": [],
   "source": [
    "# export\n",
    "\n",
    "import time\n",
    "import os\n",
    "import signal\n",
    "import threading\n",
    "from threading import Thread\n",
    "from pymemri.plugin.states import RUN_COMPLETED, RUN_FAILED"
   ]
  },
  {
   "cell_type": "code",
   "execution_count": null,
   "id": "8b001a81",
   "metadata": {},
   "outputs": [],
   "source": [
    "# export\n",
    "\n",
    "class StatusListener:\n",
    "    def __init__(self, client, run_id, status, callback, interval=5, verbose=False):\n",
    "        self.client = client\n",
    "        self.run_id = run_id\n",
    "        self.status = status\n",
    "        self.callback = callback\n",
    "        self.interval = interval\n",
    "        self.verbose = verbose\n",
    "        self.running = True\n",
    "        \n",
    "    def stop(self):\n",
    "        if self.verbose:\n",
    "            print(\"Stopping listener...\", flush=True)\n",
    "        self.running = False\n",
    "        \n",
    "    def run(self):\n",
    "        if self.verbose:\n",
    "            print(f\"Listening for status='{self.status}' on Item {self.run_id}\", flush=True)\n",
    "        \n",
    "        while self.running and threading.main_thread().is_alive():\n",
    "            time.sleep(self.interval)\n",
    "            try:\n",
    "                run = self.client.get(self.run_id)\n",
    "                if self.verbose:\n",
    "                    print(\"run status:\", run.status, flush=True)\n",
    "                if run.status == self.status:\n",
    "                    self.callback()\n",
    "            except Exception as e:\n",
    "                print(f\"Could not get run in status listener: {e}\")"
   ]
  },
  {
   "cell_type": "code",
   "execution_count": null,
   "id": "8e80ddf0",
   "metadata": {},
   "outputs": [],
   "source": [
    "# export\n",
    "def force_exit_callback():\n",
    "    print(\"Status aborted, killing plugin...\", flush=True)\n",
    "    pid = os.getpid()\n",
    "    os.kill(pid, signal.SIGINT)\n",
    "\n",
    "def get_abort_plugin_listener(client, run_id, **kwargs):\n",
    "    listener = StatusListener(\n",
    "        client=client,\n",
    "        run_id=run_id,\n",
    "        status=\"aborted\",\n",
    "        callback=force_exit_callback,\n",
    "        **kwargs\n",
    "    )\n",
    "    thread = Thread(\n",
    "        target=listener.run,\n",
    "    )\n",
    "    thread.start()\n",
    "\n",
    "    return listener"
   ]
  },
  {
   "cell_type": "code",
   "execution_count": null,
   "id": "28289b0a",
   "metadata": {},
   "outputs": [],
   "source": [
    "# hide\n",
    "# skip\n",
    "from pymemri.pod.client import PodClient\n",
    "from pymemri.data.schema import PluginRun\n",
    "\n",
    "def test_callback():\n",
    "    \"\"\"Print Callback and kill listener.\"\"\"\n",
    "    print(\"Callback\")\n",
    "    os.kill(os.getpid(), signal.SIGINT)\n",
    "\n",
    "client = PodClient()\n",
    "run = PluginRun(containerImage=\"\", status=\"started\")\n",
    "client.create(run)\n",
    "\n",
    "listener = get_abort_plugin_listener(client, run.id, verbose=True)\n",
    "\n",
    "for i in range(10):\n",
    "    time.sleep(1)\n",
    "    if i == 5:\n",
    "        run = client.get(run.id)\n",
    "        run.status = \"aborted\"\n",
    "        client.update_item(run)"
   ]
  },
  {
   "cell_type": "code",
   "execution_count": null,
   "id": "a6950943",
   "metadata": {},
   "outputs": [
    {
     "name": "stdout",
     "output_type": "stream",
     "text": [
      "Converted Untitled.ipynb.\n",
      "Converted basic.ipynb.\n",
      "Converted cvu.utils.ipynb.\n",
      "Converted data.photo.ipynb.\n",
      "Converted index.ipynb.\n",
      "Converted itembase.ipynb.\n",
      "Converted plugin.authenticators.credentials.ipynb.\n",
      "Converted plugin.authenticators.oauth.ipynb.\n",
      "Converted plugin.listeners.ipynb.\n",
      "Converted plugin.pluginbase.ipynb.\n",
      "Converted plugin.states.ipynb.\n",
      "Converted plugins.authenticators.password.ipynb.\n",
      "Converted pod.client.ipynb.\n",
      "Converted pod.db.ipynb.\n",
      "Converted pod.utils.ipynb.\n",
      "Converted test_schema.ipynb.\n",
      "Converted test_utils.ipynb.\n"
     ]
    }
   ],
   "source": [
    "# hide\n",
    "from nbdev.export import *\n",
    "notebook2script()"
   ]
  }
 ],
 "metadata": {
  "kernelspec": {
   "display_name": "Python 3 (ipykernel)",
   "language": "python",
   "name": "python3"
  }
 },
 "nbformat": 4,
 "nbformat_minor": 5
}
