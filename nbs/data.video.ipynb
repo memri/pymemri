{
 "cells": [
  {
   "cell_type": "code",
   "execution_count": null,
   "metadata": {},
   "outputs": [],
   "source": [
    "%load_ext autoreload\n",
    "%autoreload 2\n",
    "# default_exp data.video"
   ]
  },
  {
   "cell_type": "code",
   "execution_count": null,
   "metadata": {},
   "outputs": [],
   "source": [
    "# export\n",
    "from pymemri.data.schema import Item"
   ]
  },
  {
   "cell_type": "code",
   "execution_count": null,
   "metadata": {},
   "outputs": [],
   "source": [
    "# export\n",
    "from pymemri.data.schema import *\n",
    "from pymemri.data.basic import *\n",
    "\n",
    "from os import remove\n",
    "from random import randint\n",
    "import ffmpeg"
   ]
  },
  {
   "cell_type": "code",
   "execution_count": null,
   "metadata": {},
   "outputs": [],
   "source": [
    "# export\n",
    "\n",
    "# A video file.\n",
    "class Video(Item):\n",
    "    def __init__(self, dateAccessed=None, dateCreated=None, dateModified=None, deleted=None,\n",
    "                 externalId=None, itemDescription=None, starred=None, version=None, id=None, importJson=None,\n",
    "                 bitrate=None, duration=None, endTime=None, fileLocation=None, startTime=None, caption=None,\n",
    "                 exifData=None, name=None, width=None, height=None, changelog=None, label=None, genericAttribute=None, measure=None,\n",
    "                 sharedWith=None, file=None, includes=None, thumbnail=None):\n",
    "        super().__init__(dateAccessed=dateAccessed, dateCreated=dateCreated, dateModified=dateModified,\n",
    "                         deleted=deleted, externalId=externalId, itemDescription=itemDescription, starred=starred,\n",
    "                         version=version, id=id, importJson=importJson, changelog=changelog, label=label,\n",
    "                         genericAttribute=genericAttribute, measure=measure, sharedWith=sharedWith)\n",
    "        self.bitrate = bitrate\n",
    "        self.duration = duration\n",
    "        self.endTime = endTime\n",
    "        self.fileLocation = fileLocation\n",
    "        self.startTime = startTime\n",
    "        self.caption = caption\n",
    "        self.exifData = exifData\n",
    "        self.name = name\n",
    "        self.width = width\n",
    "        self.height = height\n",
    "        self.file = file if file is not None else []\n",
    "        self.includes = includes if includes is not None else []\n",
    "        self.thumbnail = thumbnail if thumbnail is not None else []\n",
    "\n",
    "    @classmethod\n",
    "    def from_json(cls, json):\n",
    "        all_edges = json.get(\"allEdges\", None)\n",
    "        dateAccessed = json.get(\"dateAccessed\", None)\n",
    "        dateCreated = json.get(\"dateCreated\", None)\n",
    "        dateModified = json.get(\"dateModified\", None)\n",
    "        deleted = json.get(\"deleted\", None)\n",
    "        externalId = json.get(\"externalId\", None)\n",
    "        itemDescription = json.get(\"itemDescription\", None)\n",
    "        starred = json.get(\"starred\", None)\n",
    "        version = json.get(\"version\", None)\n",
    "        id = json.get(\"id\", None)\n",
    "        importJson = json.get(\"importJson\", None)\n",
    "        bitrate = json.get(\"bitrate\", None)\n",
    "        duration = json.get(\"duration\", None)\n",
    "        endTime = json.get(\"endTime\", None)\n",
    "        fileLocation = json.get(\"fileLocation\", None)\n",
    "        startTime = json.get(\"startTime\", None)\n",
    "        caption = json.get(\"caption\", None)\n",
    "        exifData = json.get(\"exifData\", None)\n",
    "        name = json.get(\"name\", None)\n",
    "        width = json.get(\"width\", None)\n",
    "        height = json.get(\"height\", None)\n",
    "       \n",
    "        changelog = []\n",
    "        label = []\n",
    "        genericAttribute = []\n",
    "        measure = []\n",
    "        sharedWith = []\n",
    "        file = []\n",
    "        includes = []\n",
    "        thumbnail = []\n",
    "        \n",
    "        if all_edges is not None:\n",
    "            for edge_json in all_edges:\n",
    "                edge = Edge.from_json(edge_json)\n",
    "                if edge._type == \"changelog\" or edge._type == \"~changelog\": \n",
    "                    changelog.append(edge)\n",
    "                elif edge._type == \"label\" or edge._type == \"~label\": \n",
    "                    label.append(edge)\n",
    "                elif edge._type == \"genericAttribute\" or edge._type == \"~genericAttribute\": \n",
    "                    genericAttribute.append(edge)\n",
    "                elif edge._type == \"measure\" or edge._type == \"~measure\": \n",
    "                    measure.append(edge)\n",
    "                elif edge._type == \"sharedWith\" or edge._type == \"~sharedWith\": \n",
    "                    sharedWith.append(edge)\n",
    "                elif edge._type == \"file\" or edge._type == \"~file\": \n",
    "                    file.append(edge)\n",
    "                elif edge._type == \"includes\" or edge._type == \"~includes\": \n",
    "                    includes.append(edge)\n",
    "                elif edge._type == \"thumbnail\" or edge._type == \"~thumbnail\": \n",
    "                    thumbnail.append(edge)\n",
    "        \n",
    "        res = cls(dateAccessed=dateAccessed, dateCreated=dateCreated, dateModified=dateModified,\n",
    "                  deleted=deleted, externalId=externalId, itemDescription=itemDescription, starred=starred,\n",
    "                  version=version, id=id, importJson=importJson, bitrate=bitrate, duration=duration,\n",
    "                  endTime=endTime, fileLocation=fileLocation, startTime=startTime, caption=caption, exifData=exifData,\n",
    "                  name=name, width=width, height=height, changelog=changelog, label=label, genericAttribute=genericAttribute, measure=measure,\n",
    "                  sharedWith=sharedWith, file=file, includes=includes, thumbnail=thumbnail)\n",
    "        for e in res.get_all_edges(): e.source = res\n",
    "        return res\n",
    "\n",
    "    @classmethod\n",
    "    def from_bytes(cls, data):\n",
    "        name = \"\".join([str(randint(0, 9)) for i in range(16)])\n",
    "        path = f\"/tmp/{name}\"\n",
    "        with open(path, 'wb') as fd:\n",
    "            fd.write(data)\n",
    "        return cls.from_path(path)\n",
    "        \n",
    "    @classmethod\n",
    "    def from_path(cls, path):\n",
    "        probe = ffmpeg.probe(path)\n",
    "        # TODO: Set all exif data\n",
    "        attrs_dict = {\n",
    "            'width': int(probe['streams'][0]['width']),\n",
    "            'height': int(probe['streams'][0]['height']),\n",
    "            'bitrate': int(probe['format']['bit_rate']),\n",
    "            'duration': int(probe['format']['duration'].split('.')[0]),\n",
    "            'fileLocation': path\n",
    "        }\n",
    "        return cls.from_data(**attrs_dict)\n"
   ]
  },
  {
   "cell_type": "code",
   "execution_count": null,
   "metadata": {},
   "outputs": [],
   "source": [
    "# test_video_path = \"~/Downloads/SampleVideo_1280x720_2mb.mp4\"\n",
    "# video = Video.from_path(test_video_path)\n",
    "\n"
   ]
  },
  {
   "cell_type": "markdown",
   "metadata": {},
   "source": [
    "# Export -"
   ]
  },
  {
   "cell_type": "code",
   "execution_count": null,
   "metadata": {},
   "outputs": [
    {
     "name": "stdout",
     "output_type": "stream",
     "text": [
      "Converted basic.ipynb.\n",
      "Converted data.photo.ipynb.\n",
      "Converted importers.Importer.ipynb.\n",
      "Converted importers.util.ipynb.\n",
      "Converted index.ipynb.\n",
      "Converted indexers.indexer.ipynb.\n",
      "Converted itembase.ipynb.\n",
      "Converted pod.client.ipynb.\n"
     ]
    }
   ],
   "source": [
    "# hide\n",
    "from nbdev.export import *\n",
    "notebook2script()"
   ]
  },
  {
   "cell_type": "code",
   "execution_count": null,
   "metadata": {},
   "outputs": [],
   "source": []
  }
 ],
 "metadata": {
  "kernelspec": {
   "display_name": "Python 3",
   "language": "python",
   "name": "python3"
  }
 },
 "nbformat": 4,
 "nbformat_minor": 4
}
