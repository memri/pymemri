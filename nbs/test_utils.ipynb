{
 "cells": [
  {
   "cell_type": "code",
   "execution_count": null,
   "id": "411970cb",
   "metadata": {},
   "outputs": [],
   "source": [
    "%load_ext autoreload\n",
    "%autoreload 2\n",
    "# default_exp test_utils"
   ]
  },
  {
   "cell_type": "code",
   "execution_count": null,
   "id": "48406581",
   "metadata": {},
   "outputs": [],
   "source": [
    "#export\n",
    "#hide\n",
    "import os\n",
    "\n",
    "def get_ci_variables(*varnames):\n",
    "    \"\"\"\n",
    "    Gets ci variables from environment, can be set on gitlab in settings -> ci/cd -> variables\n",
    "    \"\"\"\n",
    "    return {varname: os.environ.get(varname) for varname in varnames}"
   ]
  },
  {
   "cell_type": "code",
   "execution_count": null,
   "id": "8be91a62",
   "metadata": {},
   "outputs": [],
   "source": [
    "#ci\n",
    "#hide\n",
    "ci_test_credentials = get_ci_variables(\"TEST_CI_USERNAME\", \"TEST_CI_PASSWORD\")\n",
    "assert ci_test_credentials['TEST_CI_USERNAME'] == \"username\"\n",
    "assert ci_test_credentials['TEST_CI_PASSWORD'] == \"password\""
   ]
  }
 ],
 "metadata": {
  "kernelspec": {
   "display_name": "Python 3",
   "language": "python",
   "name": "python3"
  }
 },
 "nbformat": 4,
 "nbformat_minor": 5
}
