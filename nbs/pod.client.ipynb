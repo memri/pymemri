{
 "cells": [
  {
   "cell_type": "code",
   "execution_count": null,
   "metadata": {},
   "outputs": [],
   "source": [
    "# default_exp pod.client\n",
    "%load_ext autoreload\n",
    "%autoreload 2"
   ]
  },
  {
   "cell_type": "markdown",
   "metadata": {},
   "source": [
    "# Pod Client"
   ]
  },
  {
   "cell_type": "code",
   "execution_count": null,
   "metadata": {},
   "outputs": [],
   "source": [
    "# export\n",
    "from pymemri.data.basic import *\n",
    "from pymemri.data.schema import *\n",
    "from pymemri.data.itembase import Edge, ItemBase, Item\n",
    "from pymemri.imports import *\n",
    "from hashlib import sha256\n",
    "from pymemri.pod.db import DB\n",
    "from pymemri.pod.utils import *\n",
    "from pymemri.plugin.schema import *\n",
    "from pymemri.test_utils import get_ci_variables\n",
    "from pymemri.pod.api import PodAPI, PodError, DEFAULT_POD_ADDRESS, POD_VERSION\n",
    "\n",
    "from typing import List, Union\n",
    "import uuid\n",
    "import urllib\n",
    "from datetime import datetime"
   ]
  },
  {
   "cell_type": "code",
   "execution_count": null,
   "metadata": {},
   "outputs": [],
   "source": [
    "# export\n",
    "class PodClient:\n",
    "    # Mapping from python type to schema type\n",
    "    # TODO move to data.schema once schema is refactored\n",
    "    TYPE_TO_SCHEMA = {\n",
    "        bool: \"Bool\",\n",
    "        str: \"Text\",\n",
    "        int: \"Integer\",\n",
    "        float: \"Real\",\n",
    "        datetime: \"DateTime\",\n",
    "    }\n",
    "\n",
    "    def __init__(\n",
    "        self,\n",
    "        url=DEFAULT_POD_ADDRESS,\n",
    "        version=POD_VERSION,\n",
    "        database_key=None,\n",
    "        owner_key=None,\n",
    "        auth_json=None,\n",
    "        register_base_schema=True,\n",
    "        verbose=False,\n",
    "    ):\n",
    "        self.verbose = verbose\n",
    "        self.database_key = (\n",
    "            database_key if database_key is not None else self.generate_random_key()\n",
    "        )\n",
    "        self.owner_key = (\n",
    "            owner_key if owner_key is not None else self.generate_random_key()\n",
    "        )\n",
    "        self.api = PodAPI(\n",
    "            database_key=self.database_key,\n",
    "            owner_key=self.owner_key,\n",
    "            url=url,\n",
    "            version=version,\n",
    "            auth_json=auth_json,\n",
    "            verbose=verbose,\n",
    "        )\n",
    "        self.api.test_connection()\n",
    "        self.local_db = DB()\n",
    "        self.registered_classes = dict()\n",
    "        self.register_base_schemas()\n",
    "\n",
    "    @classmethod\n",
    "    def from_local_keys(cls, path=DEFAULT_POD_KEY_PATH, **kwargs):\n",
    "        return cls(\n",
    "            database_key=read_pod_key(\"database_key\"),\n",
    "            owner_key=read_pod_key(\"owner_key\"),\n",
    "            **kwargs,\n",
    "        )\n",
    "\n",
    "    @staticmethod\n",
    "    def generate_random_key():\n",
    "        return \"\".join([str(random.randint(0, 9)) for i in range(64)])\n",
    "\n",
    "    def register_base_schemas(self):\n",
    "        assert self.add_to_schema(PluginRun, CVUStoredDefinition, Account, Photo)\n",
    "\n",
    "    def add_to_db(self, node):\n",
    "        existing = self.local_db.get(node.id)\n",
    "        if existing is None and node.id is not None:\n",
    "            self.local_db.add(node)\n",
    "\n",
    "    def reset_local_db(self):\n",
    "        self.local_db = DB()\n",
    "\n",
    "    def get_create_dict(self, node):\n",
    "        properties = node.to_json()\n",
    "        properties = {k: v for k, v in properties.items() if v != []}\n",
    "        return properties\n",
    "\n",
    "    def create(self, node):\n",
    "        create_dict = self.get_create_dict(node)\n",
    "        try:\n",
    "            result = self.api.create_item(create_dict)\n",
    "            node.id = result\n",
    "            self.add_to_db(node)\n",
    "            return True\n",
    "        except Exception as e:\n",
    "            print(e)\n",
    "            return False\n",
    "\n",
    "    def create_photo(self, photo):\n",
    "        file = photo.file[0]\n",
    "    \n",
    "        # create the photo\n",
    "        items_edges_success = self.bulk_action(\n",
    "            create_items=[photo, file], create_edges=photo.get_edges(\"file\")\n",
    "        )\n",
    "        if not items_edges_success:\n",
    "            raise ValueError(\"Could not create file or photo item\")\n",
    "            \n",
    "        return self._upload_image(photo.data) \n",
    "\n",
    "    def _property_dicts_from_instance(self, node):\n",
    "        create_items = []\n",
    "        attributes = node.to_json()\n",
    "        for k, v in attributes.items():\n",
    "            if type(v) not in self.TYPE_TO_SCHEMA:\n",
    "                raise ValueError(f\"Could not add property {k} with type {type(v)}\")\n",
    "            value_type = self.TYPE_TO_SCHEMA[type(v)]\n",
    "\n",
    "            create_items.append(\n",
    "                {\n",
    "                    \"type\": \"ItemPropertySchema\",\n",
    "                    \"itemType\": attributes[\"type\"],\n",
    "                    \"propertyName\": k,\n",
    "                    \"valueType\": value_type,\n",
    "                }\n",
    "            )\n",
    "        return create_items\n",
    "\n",
    "    def _property_dicts_from_type(self, item):\n",
    "        create_items = []\n",
    "        for property, p_type in item.get_property_types().items():\n",
    "            p_type = self.TYPE_TO_SCHEMA[p_type]\n",
    "            create_items.append(\n",
    "                {\n",
    "                    \"type\": \"ItemPropertySchema\",\n",
    "                    \"itemType\": item.__name__,\n",
    "                    \"propertyName\": property,\n",
    "                    \"valueType\": p_type,\n",
    "                }\n",
    "            )\n",
    "        return create_items\n",
    "\n",
    "    def add_to_schema(self, *items: List[Union[object, type]]):\n",
    "        create_items = []\n",
    "\n",
    "        for item in items:\n",
    "            if isinstance(item, type):\n",
    "                property_dicts = self._property_dicts_from_type(item)\n",
    "            else:\n",
    "                property_dicts = self._property_dicts_from_instance(item)\n",
    "                item = type(item)\n",
    "            create_items.extend(property_dicts)\n",
    "            self.registered_classes[item.__name__] = item\n",
    "\n",
    "        try:\n",
    "            self.api.bulk(create_items=create_items)\n",
    "            return True\n",
    "        except Exception as e:\n",
    "            print(e)\n",
    "            return False\n",
    "\n",
    "    def _upload_image(self, img):\n",
    "        if isinstance(img, np.ndarray):\n",
    "            return self.upload_file(img.tobytes())\n",
    "        elif isinstance(img, bytes):\n",
    "            return self.upload_file(img)\n",
    "        else:\n",
    "            raise ValueError(f\"Unknown image data type {type(img)}\")\n",
    "\n",
    "    def upload_file(self, file):\n",
    "        try:\n",
    "            self.api.upload_file(file)\n",
    "            return True\n",
    "        except PodError as e:\n",
    "            # 409 = CONFLICT, file already exists\n",
    "            if e.status == 409:\n",
    "                return True\n",
    "            return False\n",
    "\n",
    "    def get_file(self, sha):\n",
    "        return self.api.get_file(sha)\n",
    "\n",
    "    def get_photo(self, id, size=640):\n",
    "        photo = self.get(id)\n",
    "        self._load_photo_data(photo, size=size)\n",
    "        return photo\n",
    "\n",
    "    def _load_photo_data(self, photo, size=None):\n",
    "        if len(photo.file) > 0 and photo.data is None:\n",
    "            file = self.get_file(photo.file[0].sha256)\n",
    "            if file is None:\n",
    "                print(\n",
    "                    f\"Could not load data of {photo} attached file item does not have data in pod\"\n",
    "                )\n",
    "                return\n",
    "            photo.data = file\n",
    "        else:\n",
    "            print(f\"could not load data of {photo}, no file attached\")\n",
    "\n",
    "    def create_if_external_id_not_exists(self, node):\n",
    "        if not self.external_id_exists(node):\n",
    "            self.create(node)\n",
    "\n",
    "    def external_id_exists(self, node):\n",
    "        if node.externalId is None:\n",
    "            return False\n",
    "        existing = self.search({\"externalId\": node.externalId})\n",
    "        return len(existing) > 0\n",
    "\n",
    "    def create_edges(self, edges):\n",
    "        return self.bulk_action(create_edges=edges)\n",
    "\n",
    "    def delete_items(self, items):\n",
    "        return self.bulk_action(delete_items=items)\n",
    "\n",
    "    def delete_all(self):\n",
    "        items = self.get_all_items()\n",
    "        self.delete_items(items)\n",
    "\n",
    "    @staticmethod\n",
    "    def gather_batch(items, start_idx, start_size=0, max_size=5000000):\n",
    "        idx = start_idx\n",
    "        total_size = start_size\n",
    "        batch_items = []\n",
    "        for i, x in enumerate(items):\n",
    "            if i < idx:\n",
    "                continue\n",
    "            elif len(str(x)) > max_size:\n",
    "                idx = i + 1\n",
    "                print(\"Could not add item: Item exceeds max item size\")\n",
    "            elif total_size + len(str(x)) < max_size:\n",
    "                batch_items.append(x)\n",
    "                total_size += len(str(x))\n",
    "                idx = i + 1\n",
    "            else:\n",
    "                break\n",
    "        return batch_items, idx, total_size\n",
    "\n",
    "    def bulk_action(\n",
    "        self, create_items=None, update_items=None, create_edges=None, delete_items=None\n",
    "    ):\n",
    "        # we need to set the id to not lose the reference\n",
    "        if create_items is not None:\n",
    "            for c in create_items:\n",
    "                if c.id is None:\n",
    "                    c.id = uuid.uuid4().hex\n",
    "        create_items = (\n",
    "            [self.get_create_dict(i) for i in create_items]\n",
    "            if create_items is not None\n",
    "            else []\n",
    "        )\n",
    "        update_items = (\n",
    "            [self.get_update_dict(i) for i in update_items]\n",
    "            if update_items is not None\n",
    "            else []\n",
    "        )\n",
    "        create_edges = (\n",
    "            [self.get_create_edge_dict(i) for i in create_edges]\n",
    "            if create_edges is not None\n",
    "            else []\n",
    "        )\n",
    "        # Note: skip delete_items without id, as items that are not in pod cannot be deleted\n",
    "        delete_items = (\n",
    "            [item.id for item in delete_items if item.id is not None]\n",
    "            if delete_items is not None\n",
    "            else []\n",
    "        )\n",
    "\n",
    "        n_total = len(create_items + update_items + create_edges + delete_items)\n",
    "        n = 0\n",
    "\n",
    "        i_ci, i_ui, i_ce, i_di = 0, 0, 0, 0\n",
    "        while not (\n",
    "            i_ci == len(create_items)\n",
    "            and i_ui == len(update_items)\n",
    "            and i_ce == len(create_edges)\n",
    "            and i_di == len(delete_items)\n",
    "        ):\n",
    "            batch_size = 0\n",
    "            create_items_batch, i_ci, batch_size = self.gather_batch(\n",
    "                create_items, i_ci, start_size=batch_size\n",
    "            )\n",
    "            update_items_batch, i_ui, batch_size = self.gather_batch(\n",
    "                update_items, i_ui, start_size=batch_size\n",
    "            )\n",
    "            delete_items_batch, i_di, batch_size = self.gather_batch(\n",
    "                delete_items, i_di, start_size=batch_size\n",
    "            )\n",
    "            if i_ci == len(create_items):\n",
    "                create_edges_batch, i_ce, batch_size = self.gather_batch(\n",
    "                    create_edges, i_ce, start_size=batch_size\n",
    "                )\n",
    "            else:\n",
    "                create_edges_batch = []\n",
    "            n_batch = len(\n",
    "                create_items_batch\n",
    "                + update_items_batch\n",
    "                + create_edges_batch\n",
    "                + delete_items_batch\n",
    "            )\n",
    "            n += n_batch\n",
    "            print(f\"BULK: Writing {n}/{n_total} items/edges\")\n",
    "\n",
    "            try:\n",
    "                result = self.api.bulk(\n",
    "                    create_items_batch,\n",
    "                    update_items_batch,\n",
    "                    create_edges_batch,\n",
    "                    delete_items_batch,\n",
    "                )\n",
    "            except PodError as e:\n",
    "                print(e)\n",
    "                print(\"could not complete bulk action, aborting\")\n",
    "                return False\n",
    "        print(f\"Completed Bulk action, written {n} items/edges\")\n",
    "        return True\n",
    "    \n",
    "    def get_create_edge_dict(self, edge):\n",
    "        return {\"_source\": edge.source.id, \"_target\": edge.target.id, \"_name\": edge._type}\n",
    "\n",
    "    def create_edge(self, edge):\n",
    "        edge_dict = self.get_create_edge_dict(edge)\n",
    "\n",
    "        try:\n",
    "            self.api.create_edge(edge_dict)\n",
    "            return True\n",
    "        except PodError as e:\n",
    "            print(e)\n",
    "            return False\n",
    "\n",
    "    def get(self, id, expanded=True, include_deleted=False):\n",
    "        if not expanded:\n",
    "            res = self._get_item_with_properties(id)\n",
    "        else:\n",
    "            res = self._get_item_expanded(id)\n",
    "        if res is None:\n",
    "            raise ValueError(f\"Item with id {id} does not exist\")\n",
    "        elif res.deleted and not include_deleted:\n",
    "            print(f\"Item with id {id} has been deleted\")\n",
    "            return\n",
    "        return res\n",
    "\n",
    "    def get_all_items(self):\n",
    "        raise NotImplementedError()\n",
    "\n",
    "    def filter_deleted(self, items):\n",
    "        return [i for i in items if not i.deleted == True]\n",
    "\n",
    "    def _get_item_expanded(self, id, include_deleted=False):\n",
    "        item = self.get(id, expanded=False, include_deleted=include_deleted)\n",
    "        edges = self.get_edges(id)\n",
    "        for e in edges:\n",
    "            item.add_edge(e[\"name\"], e[\"item\"])\n",
    "        return item\n",
    "\n",
    "    def get_edges(self, id):\n",
    "        try:\n",
    "            result = self.api.get_edges(id)\n",
    "            for d in result:\n",
    "                d[\"item\"] = self.item_from_json(d[\"item\"])\n",
    "            return result\n",
    "        except PodError as e:\n",
    "            print(e)\n",
    "            return\n",
    "\n",
    "    def _get_item_with_properties(self, id):\n",
    "        try:\n",
    "            result = self.api.get_item(str(id))\n",
    "            if not len(result):\n",
    "                return\n",
    "            return self.item_from_json(result[0])\n",
    "        except PodError as e:\n",
    "            print(e)\n",
    "            return\n",
    "\n",
    "    def get_update_dict(self, node):\n",
    "        properties = node.to_json(dates=False)\n",
    "        properties.pop(\"type\", None)\n",
    "        properties.pop(\"deleted\", None)\n",
    "        return properties\n",
    "\n",
    "    def update_item(self, node):\n",
    "        data = self.get_update_dict(node)\n",
    "        try:\n",
    "            self.api.update_item(data)\n",
    "            return True\n",
    "        except PodError as e:\n",
    "            print(e)\n",
    "            return False\n",
    "\n",
    "    def exists(self, id):\n",
    "        try:\n",
    "            result = self.api.get_item(str(id))\n",
    "            if isinstance(result, list) and len(result) > 0:\n",
    "                return True\n",
    "            return False\n",
    "        except PodError as e:\n",
    "            print(e)\n",
    "            return False\n",
    "\n",
    "    def search_paginate(self, fields_data, limit=50, include_edges=True):\n",
    "        extra_fields = {\"[[edges]]\": {}} if include_edges else {}\n",
    "        query = {**fields_data, **extra_fields}\n",
    "        \n",
    "        try:\n",
    "            for page in self.api.search_paginate(query, limit):\n",
    "                result = [self._item_from_search(item) for item in page]\n",
    "                yield self.filter_deleted(result)\n",
    "        except PodError as e:\n",
    "            print(e)\n",
    "\n",
    "    def search(self, fields_data, include_edges: bool = True):\n",
    "        extra_fields = {\"[[edges]]\": {}} if include_edges else {}\n",
    "        query = {**fields_data, **extra_fields}\n",
    "        try:\n",
    "            result = self.api.search(query)\n",
    "            result = [self._item_from_search(item) for item in result]\n",
    "            return self.filter_deleted(result)\n",
    "        except PodError as e:\n",
    "            print(e)\n",
    "\n",
    "    def _item_from_search(self, item_json: dict):\n",
    "        # search returns different fields w.r.t. edges compared to `get` api,\n",
    "        # different method to keep `self.get` clean.\n",
    "        item = self.item_from_json(item_json)\n",
    "\n",
    "        for edge_json in item_json.get(\"[[edges]]\", []):\n",
    "            edge_name = edge_json[\"_edge\"]\n",
    "            try:\n",
    "                edge_item = self.item_from_json(edge_json[\"_item\"])\n",
    "                item.add_edge(edge_name, edge_item)\n",
    "            except Exception as e:\n",
    "                print(f\"Could not attach edge {edge_json['_item']} to {item}\")\n",
    "                print(e)\n",
    "                continue\n",
    "        return item\n",
    "\n",
    "    def search_last_added(self, type=None, with_prop=None, with_val=None):\n",
    "        query = {\"_limit\": 1, \"_sortOrder\": \"Desc\"}\n",
    "        if type is not None:\n",
    "            query[\"type\"] = type\n",
    "        if with_prop is not None:\n",
    "            query[f\"{with_prop}==\"] = with_val\n",
    "        return self.search(query)[0]\n",
    "\n",
    "    def item_from_json(self, json):\n",
    "        plugin_class = json.get(\"pluginClass\", None)\n",
    "        plugin_package = json.get(\"pluginPackage\", None)\n",
    "\n",
    "        constructor = get_constructor(\n",
    "            json[\"type\"],\n",
    "            plugin_class,\n",
    "            plugin_package=plugin_package,\n",
    "            extra=self.registered_classes,\n",
    "        )\n",
    "        new_item = constructor.from_json(json)\n",
    "        existing = self.local_db.get(new_item.id)\n",
    "        # TODO: cleanup\n",
    "        if existing is not None:\n",
    "            if not existing.is_expanded() and new_item.is_expanded():\n",
    "                for edge_name in new_item.get_all_edge_names():\n",
    "                    edges = new_item.get_edges(edge_name)\n",
    "                    for e in edges:\n",
    "                        e.source = existing\n",
    "                    existing.__setattr__(edge_name, edges)\n",
    "\n",
    "            for prop_name in new_item.get_property_names():\n",
    "                existing.__setattr__(prop_name, new_item.__getattribute__(prop_name))\n",
    "            return existing\n",
    "        else:\n",
    "            return new_item\n",
    "\n",
    "    def get_properties(self, expanded):\n",
    "        properties = copy(expanded)\n",
    "        if ALL_EDGES in properties:\n",
    "            del properties[ALL_EDGES]\n",
    "        return properties\n",
    "\n",
    "    def send_email(self, to, subject=\"\", body=\"\"):\n",
    "        try:\n",
    "            self.api.send_email(to, subject, body)\n",
    "            print(f\"succesfully sent email to {to}\")\n",
    "            return True\n",
    "        except PodError as e:\n",
    "            print(e)\n",
    "            return False"
   ]
  },
  {
   "cell_type": "markdown",
   "metadata": {},
   "source": [
    "Pymemri communicates with the pod via the `PodClient`. The PodClient requires you to provide a [database key](https://gitlab.memri.io/memri/pod/-/blob/dev/docs/HTTP_API.md#user-content-api-authentication-credentials) and an [owner key](https://gitlab.memri.io/memri/pod/-/blob/dev/docs/HTTP_API.md#user-content-api-authentication-credentials). During development, you don't have to worry about these keys, you can just omit the keys when initializing the `PodClient`, which creates a new user by defining random keys.\n",
    "\n",
    "If you want to use the same keys for different `PodClient` instances, you can store a random key pair locally with the `store_keys` CLI, and create a new client with `PodClient.from_local_keys()`. When you are using the app, setting the keys in the pod, and passing them when calling a plugin is handled for you by the app itself."
   ]
  },
  {
   "cell_type": "code",
   "execution_count": null,
   "metadata": {},
   "outputs": [
    {
     "name": "stdout",
     "output_type": "stream",
     "text": [
      "<class 'pymemri.data.photo.Photo'>\n"
     ]
    },
    {
     "data": {
      "text/plain": [
       "pymemri.data.photo.Photo"
      ]
     },
     "execution_count": null,
     "metadata": {},
     "output_type": "execute_result"
    }
   ],
   "source": [
    "client = PodClient()\n",
    "client.registered_classes[\"Photo\"]"
   ]
  },
  {
   "cell_type": "code",
   "execution_count": null,
   "metadata": {},
   "outputs": [],
   "source": [
    "# hide\n",
    "success = client.api.test_connection()\n",
    "assert success"
   ]
  },
  {
   "cell_type": "markdown",
   "metadata": {},
   "source": [
    "## Creating Items and Edges"
   ]
  },
  {
   "cell_type": "markdown",
   "metadata": {},
   "source": [
    "Now that we have access to the pod, we can create items here and upload them to the pod. All items are defined in the schema of the pod. To create an item in the pod, you have to add the schema first. Schemas can be added as follows"
   ]
  },
  {
   "cell_type": "code",
   "execution_count": null,
   "metadata": {},
   "outputs": [],
   "source": [
    "from pymemri.data.schema import EmailMessage, Address, PhoneNumber\n",
    "succes = client.add_to_schema(EmailMessage, Address, PhoneNumber)"
   ]
  },
  {
   "cell_type": "code",
   "execution_count": null,
   "metadata": {},
   "outputs": [],
   "source": [
    "# hide\n",
    "assert succes"
   ]
  },
  {
   "cell_type": "markdown",
   "metadata": {},
   "source": [
    "We can now create an item with one of the above item definitions. As a side-effect, our item will be assigned an id."
   ]
  },
  {
   "cell_type": "code",
   "execution_count": null,
   "metadata": {},
   "outputs": [
    {
     "name": "stdout",
     "output_type": "stream",
     "text": [
      "556efe1042cf8761e94bae4c8c5e3e83\n"
     ]
    }
   ],
   "source": [
    "email_item = EmailMessage.from_data(content=\"example content field\")\n",
    "client.create(email_item)\n",
    "print(email_item.id)"
   ]
  },
  {
   "cell_type": "markdown",
   "metadata": {},
   "source": [
    "The types of items in the pod are not limited to definitions to the pymemri schema. We can easily define our own types, or overwrite existing item definitions with the same `add_to_schema` method.\n",
    "\n",
    "Note that all keyword arguments need to be added to the `properties` class variable to let the pod know what the properties of our item are. Additionally, properties in the Pod are statically typed, and have to be inferred from type the annotations of our `__init__` method."
   ]
  },
  {
   "cell_type": "code",
   "execution_count": null,
   "metadata": {},
   "outputs": [],
   "source": [
    "# export\n",
    "class Dog(Item):\n",
    "    properties = Item.properties + [\"name\", \"age\", \"bites\", \"weight\"]\n",
    "\n",
    "    def __init__(self, name: str=None, age: int=None, bites: bool=False, weight: float=None, **kwargs):\n",
    "        super().__init__(**kwargs)\n",
    "        self.name = name\n",
    "        self.age = age\n",
    "        self.bites = bites\n",
    "        self.weight = weight"
   ]
  },
  {
   "cell_type": "code",
   "execution_count": null,
   "metadata": {},
   "outputs": [],
   "source": [
    "client.add_to_schema(Dog)\n",
    "dog2 = Dog(name=\"bob\", age=3, weight=33.2)\n",
    "client.create(dog2);"
   ]
  },
  {
   "cell_type": "code",
   "execution_count": null,
   "metadata": {},
   "outputs": [],
   "source": [
    "# hide\n",
    "client.reset_local_db()\n",
    "dog_from_db = client.get(dog2.id)\n",
    "\n",
    "assert dog_from_db.name == \"bob\"\n",
    "assert dog_from_db.age == 3\n",
    "assert dog_from_db.weight == 33.2"
   ]
  },
  {
   "cell_type": "markdown",
   "metadata": {},
   "source": [
    "We can connect items using edges. Let's create another item, a person, and connect the email and the person."
   ]
  },
  {
   "cell_type": "code",
   "execution_count": null,
   "metadata": {},
   "outputs": [],
   "source": [
    "person_item = Person.from_data(firstName=\"Alice\", lastName=\"X\")\n",
    "succes = client.add_to_schema(person_item)"
   ]
  },
  {
   "cell_type": "code",
   "execution_count": null,
   "metadata": {},
   "outputs": [],
   "source": [
    "# hide\n",
    "assert succes"
   ]
  },
  {
   "cell_type": "code",
   "execution_count": null,
   "metadata": {},
   "outputs": [
    {
     "name": "stdout",
     "output_type": "stream",
     "text": [
      "[{'item': Person (#33b03cddf56811350e3eee3e8910afd2), 'name': 'sender'}]\n"
     ]
    }
   ],
   "source": [
    "person_item = Person.from_data(firstName=\"Alice\", lastName=\"X\")\n",
    "item_succes = client.create(person_item)\n",
    "edge = Edge(email_item, person_item, \"sender\")\n",
    "edge_succes = client.create_edge(edge)\n",
    "\n",
    "print(client.get_edges(email_item.id))"
   ]
  },
  {
   "cell_type": "code",
   "execution_count": null,
   "metadata": {},
   "outputs": [],
   "source": [
    "# hide\n",
    "assert item_succes\n",
    "assert edge_succes"
   ]
  },
  {
   "cell_type": "markdown",
   "metadata": {},
   "source": [
    "If we use the normal `client.get` (without `expanded=False`), we also get items directly connected to the Item."
   ]
  },
  {
   "cell_type": "code",
   "execution_count": null,
   "metadata": {},
   "outputs": [
    {
     "name": "stdout",
     "output_type": "stream",
     "text": [
      "[Person (#33b03cddf56811350e3eee3e8910afd2)]\n"
     ]
    }
   ],
   "source": [
    "email_from_db = client.get(email_item.id) \n",
    "print(email_from_db.sender)"
   ]
  },
  {
   "cell_type": "code",
   "execution_count": null,
   "metadata": {},
   "outputs": [],
   "source": [
    "# hide\n",
    "assert isinstance(email_from_db.sender[0], Person)"
   ]
  },
  {
   "cell_type": "markdown",
   "metadata": {},
   "source": [
    "# Fetching and updating Items"
   ]
  },
  {
   "cell_type": "markdown",
   "metadata": {},
   "source": [
    "## Normal Items"
   ]
  },
  {
   "cell_type": "markdown",
   "metadata": {},
   "source": [
    "We can use the client to fetch data from the database. This is in particular useful for indexers, which often use data in the database as input for their models. The simplest form  of querying the database is by querying items in the pod by their id (unique identifier)."
   ]
  },
  {
   "cell_type": "code",
   "execution_count": null,
   "metadata": {},
   "outputs": [],
   "source": [
    "person_item = Person.from_data(firstName=\"Alice\")\n",
    "client.create(person_item)\n",
    "\n",
    "# Retrieve person from Pod\n",
    "person_from_db = client.get(person_item.id, expanded=False)"
   ]
  },
  {
   "cell_type": "code",
   "execution_count": null,
   "metadata": {},
   "outputs": [],
   "source": [
    "# hide\n",
    "assert person_from_db is not None\n",
    "assert person_from_db == person_item\n",
    "assert person_from_db.id is not None"
   ]
  },
  {
   "cell_type": "markdown",
   "metadata": {},
   "source": [
    "Appart from creating, we might want to update existing items:"
   ]
  },
  {
   "cell_type": "code",
   "execution_count": null,
   "metadata": {},
   "outputs": [
    {
     "name": "stdout",
     "output_type": "stream",
     "text": [
      "Awesome\n"
     ]
    }
   ],
   "source": [
    "person_item.lastName = \"Awesome\"\n",
    "client.update_item(person_item)\n",
    "person_from_db = client.get(person_item.id, expanded=False)\n",
    "print(person_from_db.lastName)"
   ]
  },
  {
   "cell_type": "code",
   "execution_count": null,
   "metadata": {},
   "outputs": [],
   "source": [
    "# hide\n",
    "assert person_from_db.lastName == \"Awesome\""
   ]
  },
  {
   "cell_type": "markdown",
   "metadata": {},
   "source": [
    "When we don't know the ids of the items we want to fetch, we can also search by property. We can use this for instance when we want to query all items from a particular type to perform some indexing on. We can get all `Person` Items from the db by:"
   ]
  },
  {
   "cell_type": "markdown",
   "metadata": {},
   "source": [
    "## Search"
   ]
  },
  {
   "cell_type": "markdown",
   "metadata": {},
   "source": [
    "the `PodClient` can search through the pod with the `search` or `search_paginate` methods, which return the results of a search as a list or generator respectively. Search uses the same arguments as the Pod search API, which can be found [here](https://gitlab.memri.io/memri/pod/-/blob/dev/docs/HTTP_API.md#post-v4owner_keysearch).\n",
    "\n",
    "To display how search works, we first add a few new items"
   ]
  },
  {
   "cell_type": "code",
   "execution_count": null,
   "metadata": {},
   "outputs": [
    {
     "name": "stdout",
     "output_type": "stream",
     "text": [
      "BULK: Writing 1/1 items/edges\n",
      "Completed Bulk action, written 1 items/edges\n"
     ]
    }
   ],
   "source": [
    "person_item2 = Person.from_data(firstName=\"Bob\")\n",
    "person_account = Account(service=\"testService\")\n",
    "client.create(person_item2)\n",
    "client.create(person_account)\n",
    "\n",
    "person_item2.add_edge(\"account\", person_account)\n",
    "client.create_edges(person_item2.get_edges(\"account\"));"
   ]
  },
  {
   "cell_type": "code",
   "execution_count": null,
   "metadata": {},
   "outputs": [],
   "source": [
    "# hide\n",
    "client.reset_local_db()"
   ]
  },
  {
   "cell_type": "code",
   "execution_count": null,
   "metadata": {},
   "outputs": [
    {
     "name": "stdout",
     "output_type": "stream",
     "text": [
      "Number of results: 3\n"
     ]
    }
   ],
   "source": [
    "# Search for all Persons in the pod\n",
    "all_people = client.search({\"type\": \"Person\"}, include_edges=True)\n",
    "print(\"Number of results:\", len(all_people))"
   ]
  },
  {
   "cell_type": "code",
   "execution_count": null,
   "metadata": {},
   "outputs": [],
   "source": [
    "# hide\n",
    "assert all([isinstance(p, Person) for p in all_people]) and len(all_people) > 0\n",
    "assert any([len(p.account) for p in all_people])"
   ]
  },
  {
   "cell_type": "code",
   "execution_count": null,
   "metadata": {},
   "outputs": [],
   "source": [
    "# hide\n",
    "# search without returning edges\n",
    "all_people = client.search({\"type\": \"Person\"}, include_edges=False)\n",
    "assert len(all_people)\n",
    "assert([len(person.get_all_edges())==0 for person in all_people])"
   ]
  },
  {
   "cell_type": "code",
   "execution_count": null,
   "metadata": {},
   "outputs": [],
   "source": [
    "# hide\n",
    "assert len(all_people)"
   ]
  },
  {
   "cell_type": "code",
   "execution_count": null,
   "metadata": {},
   "outputs": [],
   "source": [
    "# hide\n",
    "# Search with edges\n",
    "all_people = client.search({\"type\": \"Person\"}, include_edges=True)\n",
    "\n",
    "assert all([isinstance(p, Person) for p in all_people]) and len(all_people) > 0\n",
    "assert any([len(p.account) for p in all_people])"
   ]
  },
  {
   "cell_type": "markdown",
   "metadata": {},
   "source": [
    "To hande large volumes of Items, the `PodClient.search_paginate` method can search through the pod and return a generator which yields batches of items. This method uses the same search arguments as the `search` method:"
   ]
  },
  {
   "cell_type": "code",
   "execution_count": null,
   "metadata": {},
   "outputs": [
    {
     "name": "stdout",
     "output_type": "stream",
     "text": [
      "BULK: Writing 100/100 items/edges\n",
      "Completed Bulk action, written 100 items/edges\n"
     ]
    }
   ],
   "source": [
    "# Create 100 accounts to search\n",
    "client.bulk_action(\n",
    "    create_items=[\n",
    "        Account(identifier=str(i), service=\"paginate_test\") for i in range(100)\n",
    "    ]\n",
    ")\n",
    "\n",
    "generator = client.search_paginate({\"type\": \"Account\", \"service\": \"paginate_test\"}, limit=10)\n",
    "for page in generator:\n",
    "    # process accounts\n",
    "    pass"
   ]
  },
  {
   "cell_type": "code",
   "execution_count": null,
   "metadata": {},
   "outputs": [],
   "source": [
    "# hide\n",
    "# Test pagination\n",
    "accounts = client.search({\"type\": \"Account\", \"service\": \"paginate_test\"})\n",
    "\n",
    "generator = client.search_paginate({\"type\": \"Account\", \"service\": \"paginate_test\"}, limit=10)\n",
    "accounts_paginated = []\n",
    "for page in generator:\n",
    "    accounts_paginated.extend(page)\n",
    "\n",
    "assert len(accounts_paginated) == 100\n",
    "assert [a.id for a in accounts] == [a.id for a in accounts_paginated]"
   ]
  },
  {
   "cell_type": "code",
   "execution_count": null,
   "metadata": {},
   "outputs": [],
   "source": [
    "# hide\n",
    "# Search, edge cases\n",
    "\n",
    "result = client.search({\"type\": \"Account\", \"service\": \"NonExistentService\"})\n",
    "assert result == []\n",
    "\n",
    "paginator = client.search_paginate({\"type\": \"Account\", \"service\": \"NonExistentService\"})\n",
    "\n",
    "try:\n",
    "    next(paginator)\n",
    "except Exception as e:\n",
    "    if not isinstance(e, StopIteration):\n",
    "        assert False"
   ]
  },
  {
   "cell_type": "markdown",
   "metadata": {},
   "source": [
    "## Search last added items"
   ]
  },
  {
   "cell_type": "code",
   "execution_count": null,
   "metadata": {},
   "outputs": [],
   "source": [
    "person_item2 = Person.from_data(firstName=\"Last Person\")\n",
    "client.create(person_item2)\n",
    "last_added = client.search_last_added(type=\"Person\")"
   ]
  },
  {
   "cell_type": "code",
   "execution_count": null,
   "metadata": {},
   "outputs": [],
   "source": [
    "# hide\n",
    "assert last_added.firstName == \"Last Person\""
   ]
  },
  {
   "cell_type": "markdown",
   "metadata": {},
   "source": [
    "In the near future, Pod will support searching by user defined properties as well. This will allow for the following. **warning, this is currently not supported**"
   ]
  },
  {
   "cell_type": "markdown",
   "metadata": {},
   "source": [
    "```client.search_last_added(type=\"Person\", with_prop=\"ImportedBy\", with_val=\"EmailImporter\")```"
   ]
  },
  {
   "cell_type": "markdown",
   "metadata": {},
   "source": [
    "## Uploading & downloading files"
   ]
  },
  {
   "cell_type": "markdown",
   "metadata": {},
   "source": [
    "### File API"
   ]
  },
  {
   "cell_type": "markdown",
   "metadata": {},
   "source": [
    "To work with files like Photos or Videos, the `PodClient` has a separate file api. This api works by posting a blob to the `upload_file` endpoint, and creating an Item with a property with the same sha256 as the sha used in the endpoint.\n",
    "\n",
    "For example, we can upload a photo with the file API as follows:"
   ]
  },
  {
   "cell_type": "code",
   "execution_count": null,
   "metadata": {},
   "outputs": [],
   "source": [
    "x = np.random.randint(0, 255+1, size=(640, 640), dtype=np.uint8)\n",
    "photo = Photo.from_np(x)\n",
    "file = photo.file[0]\n",
    "succes = client.create(file)\n",
    "succes2 = client._upload_image(photo.data)"
   ]
  },
  {
   "cell_type": "code",
   "execution_count": null,
   "metadata": {},
   "outputs": [],
   "source": [
    "# hide\n",
    "assert succes\n",
    "assert succes2\n",
    "\n",
    "data = client.get_file(file.sha256)\n",
    "photo.data = data\n",
    "\n",
    "arr = photo.to_np()\n",
    "assert (arr == x).all()"
   ]
  },
  {
   "cell_type": "markdown",
   "metadata": {},
   "source": [
    "### Photo API"
   ]
  },
  {
   "cell_type": "markdown",
   "metadata": {},
   "source": [
    "The PodClient implements an easier API for photos separately, which uses the same file API under the hood"
   ]
  },
  {
   "cell_type": "code",
   "execution_count": null,
   "metadata": {},
   "outputs": [
    {
     "name": "stdout",
     "output_type": "stream",
     "text": [
      "<class 'pymemri.data.photo.Photo'>\n",
      "BULK: Writing 3/3 items/edges\n",
      "Completed Bulk action, written 3 items/edges\n"
     ]
    },
    {
     "data": {
      "text/plain": [
       "[File (#76bbf5ecd3a140a999d793f71187c340)]"
      ]
     },
     "execution_count": null,
     "metadata": {},
     "output_type": "execute_result"
    }
   ],
   "source": [
    "print(client.registered_classes[\"Photo\"])\n",
    "\n",
    "# client.add_to_schema(Photo)\n",
    "\n",
    "x = np.random.randint(0, 255+1, size=(640, 640), dtype=np.uint8)\n",
    "photo = Photo.from_np(x)\n",
    "client.create_photo(photo);\n",
    "\n",
    "photo.file"
   ]
  },
  {
   "cell_type": "code",
   "execution_count": null,
   "metadata": {},
   "outputs": [
    {
     "name": "stdout",
     "output_type": "stream",
     "text": [
      "d7af0a4a291d42f9a25a38443d07bc91\n"
     ]
    }
   ],
   "source": [
    "# hide\n",
    "res = client.get_photo(photo.id)\n",
    "print(res.id)\n",
    "res.file[0].sha256\n",
    "assert (res.to_np() == x).all()"
   ]
  },
  {
   "cell_type": "markdown",
   "metadata": {},
   "source": [
    "Some photos come as bytes, for example when downloading them from a third party service. We can use `photo.from_bytes` to initialize these photos:"
   ]
  },
  {
   "cell_type": "code",
   "execution_count": null,
   "metadata": {},
   "outputs": [
    {
     "name": "stdout",
     "output_type": "stream",
     "text": [
      "BULK: Writing 3/3 items/edges\n",
      "Completed Bulk action, written 3 items/edges\n"
     ]
    }
   ],
   "source": [
    "byte_photo = b'\\x89PNG\\r\\n\\x1a\\n\\x00\\x00\\x00\\rIHDR\\x00\\x00\\x00\\xe1\\x00\\x00\\x00\\xe1\\x08\\x03\\x00\\x00\\x00\\tm\"H\\x00\\x00\\x003PLTE\\x04\\x02\\x04\\x00\\x00\\x00\\xa0\\xa0\\xa0\\xa3\\xa3\\xa3\\xaa\\xaa\\xaa\\xb4\\xb4\\xb4\\xbd\\xbe\\xbd\\xbb\\xbc\\xbb\\xde\\xde\\xde\\x9b\\x9a\\x9b\\xfe\\xfe\\xfe\\xf2\\xf3\\xf2\\xe5\\xe6\\xe5\\xd8\\xd9\\xd8\\xd1\\xd1\\xd1\\xc9\\xca\\xc9\\xae\\xae\\xae\\x80k\\x98\\xfc\\x00\\x00\\x01TIDATx\\x9c\\xed\\xdd;r\\xc2P\\x00\\x04A!\\x90\\x84\\xfc\\x01\\xee\\x7fZ\\x138\\xb1\\x13S\\xceF\\xaf\\xfb\\x06\\x93o\\xd5No\\xef\\x1f\\x9f\\xb7\\xfb}]\\xd7my\\xba|;\\xff4\\xff\\xdf\\xf9O\\x97W<\\x96W\\xac\\xbfm\\xd7i9\\x1d\\xdb\\xfe,\\x9c\\x8e\\xec4+\\xac{\\x16^\\x14\\xb6)\\xecS\\xd8\\xa7\\xb0Oa\\x9f\\xc2\\xbe!\\n\\xcf\\n\\xdb\\x14\\xf6)\\xecS\\xd8\\xa7\\xb0Oa\\x9f\\xc2>\\x85}\\n\\xfb\\x14\\xf6)\\xecS\\xd8\\xa7\\xb0Oa\\x9f\\xc2>\\x85}C\\x14\\xce\\n\\xdb\\x14\\xf6)\\xecS\\xd8\\xa7\\xb0Oa\\x9f\\xc2>\\x85}\\n\\xfb\\x14\\xf6)\\xecS\\xd8\\xa7\\xb0Oa\\x9f\\xc2>\\x85}\\n\\xfb\\x14\\xf6)\\xecS\\xd87\\xc4bHa\\x9c\\xc2>\\x85}\\n\\xfb\\x14\\xf6)\\xecS\\xd8\\xa7\\xb0Oa\\x9f\\xc2>\\x85}\\n\\xfb\\x14\\xf6)\\xecS\\xd8\\xa7\\xb0Oa\\x9f\\xc2>\\x85}\\n\\xfb\\x86xaQ\\x18\\xa7\\xb0Oa\\x9f\\xc2>\\x85}\\n\\xfb\\x14\\xf6)\\xecS\\xd8\\xa7\\xb0Oa\\x9f\\xc2>\\x85}\\n\\xfb\\x14\\xf6)\\xecS\\xd87D\\xe1\\xe3\\xf0\\x85\\x8b\\xc26\\x85}\\n\\xfb\\x14\\xf6)\\xecS\\xd8\\xa7\\xb0Oa\\x9f\\xc2>\\x85}\\n\\xfb\\x14\\xf6)\\xecS\\xd8\\xa7\\xb0Oa\\x9f\\xc2>\\x85}C\\x14\\xae\\n\\xdb\\x14\\xf6)\\xecS\\xd8\\xa7\\xb0Oa\\x9f\\xc2>\\x85}C\\x14n\\xa7c\\xdb\\xa7\\xeb>\\x1f\\xd9~\\xfb\\x02\\xee\\x7f\\r\\xe5\\xe1h\\x04\"\\x00\\x00\\x00\\x00IEND\\xaeB`\\x82'\n",
    "photo = Photo.from_bytes(byte_photo)\n",
    "client.create_photo(photo);"
   ]
  },
  {
   "cell_type": "code",
   "execution_count": null,
   "metadata": {},
   "outputs": [
    {
     "name": "stdout",
     "output_type": "stream",
     "text": [
      "<class 'pymemri.data.photo.Photo'>\n"
     ]
    }
   ],
   "source": [
    "# hide\n",
    "# Test on a new client to prevent caching\n",
    "new_client = PodClient(database_key=client.database_key, owner_key=client.owner_key)\n",
    "res = new_client.get_photo(photo.id, size=225)\n",
    "assert res.data == photo.data"
   ]
  },
  {
   "cell_type": "markdown",
   "metadata": {},
   "source": [
    "## Bulk API"
   ]
  },
  {
   "cell_type": "markdown",
   "metadata": {},
   "source": [
    "Adding each item separately to the pod with the `create` method can take a lot of time. For this reason, using the bulk API is faster and more convenient in most cases. Here we show creating items and edges, updating and deleting is also possible."
   ]
  },
  {
   "cell_type": "code",
   "execution_count": null,
   "metadata": {},
   "outputs": [
    {
     "name": "stdout",
     "output_type": "stream",
     "text": [
      "BULK: Writing 103/103 items/edges\n",
      "Completed Bulk action, written 103 items/edges\n"
     ]
    }
   ],
   "source": [
    "# Create 100 Dogs to add to the pod, and two edges to a new person\n",
    "dogs = [Dog(name=f\"dog number {i}\") for i in range(100)]\n",
    "person = Person(firstName=\"Alice\")\n",
    "edge1 = Edge(dogs[0], person, \"label\")\n",
    "edge2 = Edge(dogs[1], person, \"label\")\n",
    "\n",
    "# Simultaneously add the dogs, person, and edges with the bulk API\n",
    "success = client.bulk_action(create_items=dogs + [person], create_edges=[edge1, edge2])"
   ]
  },
  {
   "cell_type": "code",
   "execution_count": null,
   "metadata": {},
   "outputs": [
    {
     "name": "stdout",
     "output_type": "stream",
     "text": [
      "2\n"
     ]
    }
   ],
   "source": [
    "# hide\n",
    "dogs = client.search({\"type\": \"Dog\"})\n",
    "dogs_with_edge = [item for item in dogs if len(item.get_all_edges())]\n",
    "\n",
    "print(len(dogs_with_edge))\n",
    "assert len(dogs_with_edge) == 2\n",
    "for d in dogs_with_edge:\n",
    "    assert len(d.label) > 0"
   ]
  },
  {
   "cell_type": "code",
   "execution_count": null,
   "metadata": {},
   "outputs": [
    {
     "name": "stdout",
     "output_type": "stream",
     "text": [
      "BULK: Writing 2/2 items/edges\n",
      "Completed Bulk action, written 2 items/edges\n"
     ]
    }
   ],
   "source": [
    "# hide\n",
    "# test bulk delete and update\n",
    "\n",
    "# Change person name, delete first dog :(\n",
    "person.firstName = \"Bob\"\n",
    "to_delete = [dogs[0]]\n",
    "to_update = [person]\n",
    "\n",
    "client.bulk_action(delete_items=to_delete, update_items=to_update)\n",
    "dogs_with_edge = [\n",
    "    item for item in client.search({\"type\": \"Dog\"}) if item.name.startswith(\"dog number 0\") or item.name.startswith(\"dog number 1 \")\n",
    "]\n",
    "\n",
    "assert len(dogs_with_edge) == 1\n",
    "\n",
    "dog = dogs_with_edge[0]\n",
    "assert dog.label[0].firstName == \"Bob\""
   ]
  },
  {
   "cell_type": "markdown",
   "metadata": {},
   "source": [
    "# Sending emails -"
   ]
  },
  {
   "cell_type": "code",
   "execution_count": null,
   "metadata": {},
   "outputs": [
    {
     "name": "stdout",
     "output_type": "stream",
     "text": [
      "succesfully sent email to myemail@gmail.com\n"
     ]
    },
    {
     "data": {
      "text/plain": [
       "True"
      ]
     },
     "execution_count": null,
     "metadata": {},
     "output_type": "execute_result"
    }
   ],
   "source": [
    "# hide\n",
    "# skip\n",
    "to = \"myemail@gmail.com\"\n",
    "client.send_email(to=to, subject=\"test\", body=\"test2\")"
   ]
  },
  {
   "cell_type": "markdown",
   "metadata": {},
   "source": [
    "# Create items that do not exist in the Pod\n",
    "\n",
    "The `PodClient` can deduplicate items with the same externalId with the `create_if_external_id_not_exists` method."
   ]
  },
  {
   "cell_type": "code",
   "execution_count": null,
   "metadata": {},
   "outputs": [],
   "source": [
    "person_item = Person(firstName=\"Eve\", externalId=\"gmail_1\")\n",
    "person_item2 = Person(firstName=\"Eve2\", externalId=\"gmail_1\")\n",
    "\n",
    "client.create_if_external_id_not_exists(person_item)\n",
    "client.create_if_external_id_not_exists(person_item2)\n",
    "\n",
    "existing = client.search({\"externalId\": \"gmail_1\"})"
   ]
  },
  {
   "cell_type": "code",
   "execution_count": null,
   "metadata": {},
   "outputs": [],
   "source": [
    "# hide\n",
    "assert len(existing) == 1"
   ]
  },
  {
   "cell_type": "markdown",
   "metadata": {},
   "source": [
    "# Export -"
   ]
  },
  {
   "cell_type": "code",
   "execution_count": null,
   "metadata": {},
   "outputs": [
    {
     "name": "stdout",
     "output_type": "stream",
     "text": [
      "Converted basic.ipynb.\n",
      "Converted cvu.utils.ipynb.\n",
      "Converted data.photo.ipynb.\n",
      "Converted exporters.query.ipynb.\n",
      "Converted index.ipynb.\n",
      "Converted itembase.ipynb.\n",
      "Converted plugin.authenticators.credentials.ipynb.\n",
      "Converted plugin.authenticators.oauth.ipynb.\n",
      "Converted plugin.listeners.ipynb.\n",
      "Converted plugin.pluginbase.ipynb.\n",
      "Converted plugin.states.ipynb.\n",
      "Converted plugins.authenticators.password.ipynb.\n",
      "Converted pod.api.ipynb.\n",
      "Converted pod.client.ipynb.\n",
      "Converted pod.db.ipynb.\n",
      "Converted pod.utils.ipynb.\n",
      "Converted template.config.ipynb.\n",
      "Converted template.formatter.ipynb.\n",
      "Converted test_schema.ipynb.\n",
      "Converted test_utils.ipynb.\n"
     ]
    }
   ],
   "source": [
    "# hide\n",
    "from nbdev.export import *\n",
    "notebook2script()"
   ]
  }
 ],
 "metadata": {
  "kernelspec": {
   "display_name": "Python 3 (ipykernel)",
   "language": "python",
   "name": "python3"
  }
 },
 "nbformat": 4,
 "nbformat_minor": 4
}
