{
 "cells": [
  {
   "cell_type": "code",
   "execution_count": null,
   "source": [
    "%load_ext autoreload\n",
    "%autoreload 2\n",
    "# default_exp plugin.authenticators.oauth"
   ],
   "outputs": [],
   "metadata": {}
  },
  {
   "cell_type": "code",
   "execution_count": null,
   "source": [
    "# export \n",
    "# hide\n",
    "import abc\n",
    "from time import sleep\n",
    "from pymemri.plugin.pluginbase import PluginBase\n",
    "from pymemri.plugin.states import RUN_USER_ACTION_NEEDED, RUN_USER_ACTION_COMPLETED, RUN_FAILED\n",
    "from pymemri.plugin.schema import PluginRun, Account\n",
    "from pymemri.pod.client import PodClient"
   ],
   "outputs": [],
   "metadata": {}
  },
  {
   "cell_type": "markdown",
   "source": [
    "## OAuth Authenticator\n",
    "\n",
    "For plugins that require OAuth, `OAuthAuthenticator` provides an easy interface to login to thirds party services. By implementing You can nest an inherited version class of `OAuthAuthenticator` in your `Plugin` item and call authenticator.authenticate().\n",
    "\n",
    "`YourOauthAuthenticator` class should implement:\n",
    "- get_oauth_url() -> str to setup OAuth endpoint\n",
    "- get_tokens_from_code() -> Dict[str, str] to retrieve tokens from the service with returned OAuth code\n",
    "- refresh_tokens() -> None to get new token pairs"
   ],
   "metadata": {}
  },
  {
   "cell_type": "code",
   "execution_count": null,
   "source": [
    "# export\n",
    "# hide\n",
    "\n",
    "class OAuthAuthenticator(metaclass=abc.ABCMeta):\n",
    "\n",
    "    SLEEP_INTERVAL = 1.0\n",
    "\n",
    "    def __init__(self, client, pluginRun):\n",
    "        self.client = client\n",
    "        self.pluginRun = pluginRun\n",
    "\n",
    "    def authenticate(self):\n",
    "        account = self.pluginRun.account[0] if len(self.pluginRun.account) > 0 else None\n",
    "        if account.accessToken:\n",
    "            if self.verify_access_token(account.accessToken):\n",
    "                return\n",
    "\n",
    "        tokens = None\n",
    "        try:\n",
    "            if not self.pluginRun.account[0].refreshToken:\n",
    "                raise Exception(\"Refresh token is empty\")\n",
    "            tokens = self.refresh_tokens(self.pluginRun.account[0].refreshToken)\n",
    "        except: # no account exists or expired refresh token\n",
    "            url = self.get_oauth_url()\n",
    "            self.present_url_to_user(url)\n",
    "            code = self.poll_for_code()\n",
    "            tokens = self.get_tokens_from_code(code)\n",
    "            # if not tokens: raise an exception or set pluginRun.status=FAILED and pluginRun.message=ERROR_MESSAGE\n",
    "\n",
    "        self.store_tokens(tokens)\n",
    "        \n",
    "    def poll_for_code(self):\n",
    "        while True:\n",
    "            sleep(self.SLEEP_INTERVAL)\n",
    "            self.pluginRun = self.client.get(self.pluginRun.id)\n",
    "            if self.pluginRun.status == RUN_USER_ACTION_COMPLETED:\n",
    "                return self.pluginRun.account[0].code\n",
    "            if self.pluginRun.status == RUN_FAILED:\n",
    "                raise Exception(f\"Error in plugin.authenticators.oauth {self.pluginRun.message}\") \n",
    "\n",
    "    def present_url_to_user(self, url):\n",
    "        # request user to visit url\n",
    "        self.pluginRun.authUrl = url\n",
    "        self.pluginRun.status = RUN_USER_ACTION_NEEDED\n",
    "        self.pluginRun.update(self.client)               \n",
    "\n",
    "    def store_tokens(self, tokens):\n",
    "        account = self.pluginRun.account[0]\n",
    "        account.accessToken = tokens['access_token']\n",
    "        account.refreshToken = tokens['refresh_token'] if 'refresh_token' in tokens else None\n",
    "        account.update(self.client)\n",
    "        \n",
    "    def get_account(self):\n",
    "        return self.pluginRun.account[0]\n",
    "\n",
    "    @abc.abstractmethod\n",
    "    def get_oauth_url(self):\n",
    "        raise NotImplemented()\n",
    "\n",
    "    @abc.abstractmethod\n",
    "    def get_tokens_from_code(self, code):\n",
    "        \"\"\" Gets access and refresh tokens from 3rd party service\n",
    "            and returns them in form:\n",
    "                {\n",
    "                    'access_token': '...',\n",
    "                    'refresh_token': '...'\n",
    "                }\n",
    "        \"\"\"\n",
    "        raise NotImplemented()\n",
    "\n",
    "    @abc.abstractmethod\n",
    "    def refresh_tokens(self):\n",
    "        \"\"\" Gets new tokens by using an existing refresh token\n",
    "            and returns them in form:\n",
    "                {\n",
    "                    'access_token': '...',\n",
    "                    'refresh_token': '...'\n",
    "                }\n",
    "\n",
    "        \"\"\"\n",
    "        # use self.pluginRun.account[0].refreshToken\n",
    "        raise NotImplemented()\n",
    "\n",
    "    @abc.abstractmethod\n",
    "    def verify_access_token(self, token):\n",
    "        \"\"\"\n",
    "        Check if existing token is working. If this returns True, then user interaction will not be needed.\n",
    "        \"\"\"\n",
    "        raise NotImplemented()"
   ],
   "outputs": [],
   "metadata": {}
  },
  {
   "cell_type": "markdown",
   "source": [
    "## Example"
   ],
   "metadata": {}
  },
  {
   "cell_type": "markdown",
   "source": [
    "Lets build an example oauth authenticator, to show its class structure"
   ],
   "metadata": {}
  },
  {
   "cell_type": "code",
   "execution_count": null,
   "source": [
    "class ExampleOAuthAuthenticator(OAuthAuthenticator):\n",
    "\n",
    "    def get_oauth_url(self):\n",
    "        return \"https://example.com/oauth\"\n",
    "\n",
    "    def get_tokens_from_code(self, code):\n",
    "        return {\n",
    "            'access_token': 'dummy_access_token',\n",
    "            'refresh_token': 'dummy_refresh_token'\n",
    "        }\n",
    "\n",
    "    def refresh_tokens(self, refreshToken):\n",
    "        return {\n",
    "            'access_token': 'refreshed_dummy_access_token',\n",
    "            'refresh_token': 'refreshed_dummy_refresh_token'\n",
    "        }\n",
    "\n",
    "    def verify_access_token(self, token):\n",
    "        if token:\n",
    "            return True\n",
    "    \n",
    "    def present_url_to_user(self, *args):\n",
    "        # NORMALLY YOU WOULD NOT IMPLEMENT THIS\n",
    "        # mocking user interaction\n",
    "        self.pluginRun.status = RUN_USER_ACTION_COMPLETED\n",
    "        self.pluginRun.account[0].code = \"dummy code\"\n",
    "        self.pluginRun.account[0].update(self.client)\n",
    "        self.pluginRun.update(self.client)\n"
   ],
   "outputs": [],
   "metadata": {}
  },
  {
   "cell_type": "code",
   "execution_count": null,
   "source": [
    "class MyOAuthPlugin(PluginBase):\n",
    "\n",
    "    def __init__(self, **kwargs):\n",
    "        super().__init__(**kwargs)\n",
    "\n",
    "    def run(self):\n",
    "        print(\"running\")\n",
    "        self.login()\n",
    "        print(\"Login completed!\")\n",
    "        \n",
    "    def login(self):\n",
    "        auth = ExampleOAuthAuthenticator(self.client, self.pluginRun)\n",
    "        auth.authenticate()\n",
    "        print(f\"logged in with {auth.get_account().accessToken}\")\n",
    "\n",
    "    def add_to_schema(self):\n",
    "        self.client.add_to_schema(MyItem(\"my name\", 10))"
   ],
   "outputs": [],
   "metadata": {}
  },
  {
   "cell_type": "code",
   "execution_count": null,
   "source": [
    "client = PodClient()\n",
    "\n",
    "# Create a dummy account to use for authentication within the plugin\n",
    "account = Account(service=\"my_plugin_service\", identifier=\"username\", secret=\"password\")\n",
    "# Create a run to enable plugin runtime\n",
    "run = PluginRun(\"pymemri\", \"pymemri.plugin.pluginbase\", \"MyOAuthPlugin\")\n",
    "run.add_edge('account', account)\n",
    "account.update(client)\n",
    "run.update(client)"
   ],
   "outputs": [],
   "metadata": {}
  },
  {
   "cell_type": "code",
   "execution_count": null,
   "source": [
    "plugin = MyOAuthPlugin(pluginRun=run, client=client)"
   ],
   "outputs": [],
   "metadata": {}
  },
  {
   "cell_type": "code",
   "execution_count": null,
   "source": [
    "plugin.run()"
   ],
   "outputs": [],
   "metadata": {}
  },
  {
   "cell_type": "markdown",
   "source": [
    "### Test Plugin properties and attached items -"
   ],
   "metadata": {}
  },
  {
   "cell_type": "code",
   "execution_count": null,
   "source": [
    "# # hide\n",
    "# from pymemri.plugin.schema import Account\n",
    "# from pymemri.plugin.pluginbase import PluginRun, run_plugin_from_run_id\n",
    "\n",
    "# client = PodClient()\n",
    "\n",
    "# # Create a dummy account to use for authentication within the plugin\n",
    "# account = Account(service=\"my_plugin_service\", identifier=\"username\", secret=\"password\")\n",
    "# client.create(account)\n",
    "\n",
    "# # Create a run to enable plugin runtime\n",
    "# run = PluginRun(\"pymemri\", \"pymemri.plugin.pluginbase\", \"MyOAuthPlugin\")\n",
    "# run.add_edge('account', account)\n",
    "# client.create(run)\n",
    "# client.update(account)\n",
    "\n",
    "# plugin = run_plugin_from_run_id(run.id, client)\n",
    "\n",
    "# # check if authentication worked\n",
    "# assert plugin.pluginRun.account[0].identifier == \"username\"\n",
    "# assert plugin.pluginRun.account[0].accessToken == \"dummy_access_token\"\n",
    "\n",
    "# # set a state\n",
    "# plugin.pluginRun.status = \"test state\"\n",
    "# plugin.pluginRun.update(client)\n",
    "# plugin.pluginRun = client.get(plugin.pluginRun.id)\n",
    "# assert plugin.pluginRun.status == \"test state\""
   ],
   "outputs": [],
   "metadata": {}
  },
  {
   "cell_type": "code",
   "execution_count": null,
   "source": [],
   "outputs": [],
   "metadata": {}
  }
 ],
 "metadata": {
  "kernelspec": {
   "display_name": "Python 3",
   "language": "python",
   "name": "python3"
  }
 },
 "nbformat": 4,
 "nbformat_minor": 5
}