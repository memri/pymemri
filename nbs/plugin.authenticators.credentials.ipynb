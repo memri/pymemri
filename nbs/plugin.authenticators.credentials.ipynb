{
 "cells": [
  {
   "cell_type": "code",
   "execution_count": null,
   "id": "6be94daf",
   "metadata": {},
   "outputs": [
    {
     "name": "stdout",
     "output_type": "stream",
     "text": [
      "The autoreload extension is already loaded. To reload it, use:\n",
      "  %reload_ext autoreload\n"
     ]
    }
   ],
   "source": [
    "# default_exp plugin.authenticators.credentials\n",
    "%load_ext autoreload\n",
    "%autoreload 2"
   ]
  },
  {
   "cell_type": "code",
   "execution_count": null,
   "id": "9d4455e0",
   "metadata": {},
   "outputs": [],
   "source": [
    "# export\n",
    "from pymemri.data.basic import read_json, HOME_DIR\n",
    "PLUGIN_DIR = HOME_DIR / \".pymemri\" / \"plugins\" "
   ]
  },
  {
   "cell_type": "code",
   "execution_count": null,
   "id": "62736a2f",
   "metadata": {},
   "outputs": [],
   "source": [
    "# export\n",
    "def read_username_password(plugin: str):\n",
    "    credentials_path = PLUGIN_DIR / plugin / \"credentials.json\"\n",
    "    credentials = read_json(credentials_path)\n",
    "    username, password = credentials[\"username\"], credentials[\"password\"]\n",
    "    return username,password"
   ]
  },
  {
   "cell_type": "markdown",
   "id": "cd60e86b",
   "metadata": {},
   "source": [
    "# Export -"
   ]
  },
  {
   "cell_type": "code",
   "execution_count": null,
   "id": "8ce543dd",
   "metadata": {},
   "outputs": [
    {
     "name": "stdout",
     "output_type": "stream",
     "text": [
      "Converted basic.ipynb.\n",
      "Converted cvu.utils.ipynb.\n",
      "Converted data.photo.ipynb.\n",
      "Converted importers.Importer.ipynb.\n",
      "Converted importers.util.ipynb.\n",
      "Converted index.ipynb.\n",
      "Converted indexers.indexer.ipynb.\n",
      "Converted itembase.ipynb.\n",
      "Converted plugin.authenticators.credentials.ipynb.\n",
      "Converted plugin.authenticators.oauth.ipynb.\n",
      "Converted plugin.pluginbase.ipynb.\n",
      "Converted plugin.schema.ipynb.\n",
      "Converted plugin.states.ipynb.\n",
      "Converted plugins.authenticators.password.ipynb.\n",
      "Converted pod.client.ipynb.\n",
      "Converted pod.db.ipynb.\n",
      "Converted pod.utils.ipynb.\n",
      "Converted test_utils.ipynb.\n"
     ]
    }
   ],
   "source": [
    "# hide\n",
    "from nbdev.export import *\n",
    "notebook2script()"
   ]
  },
  {
   "cell_type": "code",
   "execution_count": null,
   "id": "9078f294",
   "metadata": {},
   "outputs": [],
   "source": []
  }
 ],
 "metadata": {
  "kernelspec": {
   "display_name": "Python 3",
   "language": "python",
   "name": "python3"
  }
 },
 "nbformat": 4,
 "nbformat_minor": 5
}
