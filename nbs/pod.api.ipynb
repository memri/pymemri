{
 "cells": [
  {
   "cell_type": "code",
   "execution_count": null,
   "id": "ce12c19d",
   "metadata": {},
   "outputs": [
    {
     "name": "stdout",
     "output_type": "stream",
     "text": [
      "The autoreload extension is already loaded. To reload it, use:\n",
      "  %reload_ext autoreload\n"
     ]
    }
   ],
   "source": [
    "# default_exp pod.api\n",
    "%load_ext autoreload\n",
    "%autoreload 2"
   ]
  },
  {
   "cell_type": "code",
   "execution_count": null,
   "id": "db0e1b09",
   "metadata": {},
   "outputs": [],
   "source": [
    "# export\n",
    "import os\n",
    "from typing import List, Iterator\n",
    "import requests"
   ]
  },
  {
   "cell_type": "code",
   "execution_count": null,
   "id": "7b0495ab",
   "metadata": {},
   "outputs": [],
   "source": [
    "# export\n",
    "DEFAULT_POD_ADDRESS = os.environ.get(\"POD_ADDRESS\") or \"http://localhost:3030\"\n",
    "POD_VERSION = \"v4\""
   ]
  },
  {
   "cell_type": "code",
   "execution_count": null,
   "id": "52efed61",
   "metadata": {},
   "outputs": [],
   "source": [
    "# export\n",
    "class PodAPI:\n",
    "    def __init__(\n",
    "        self,\n",
    "        database_key: str,\n",
    "        owner_key: str,\n",
    "        url: str = DEFAULT_POD_ADDRESS,\n",
    "        version: str = POD_VERSION,\n",
    "        auth_json: dict = None,\n",
    "    ):\n",
    "        self.database_key = database_key\n",
    "        self.owner_key = owner_key\n",
    "\n",
    "        self._url = url\n",
    "        self.base_url = f\"{url}/{version}/{self.owner_key}\"\n",
    "\n",
    "        if auth_json is not None:\n",
    "            self.auth_json = {\"type\": \"PluginAuth\", **auth_json}\n",
    "        else:\n",
    "            self.auth_json = {\"type\": \"ClientAuth\", \"databaseKey\": self.database_key}\n",
    "\n",
    "    @property\n",
    "    def version(self):\n",
    "        response = requests.get(f\"{self._url}/version\")\n",
    "        response.raise_for_status()\n",
    "        return response.json()\n",
    "\n",
    "    def post(self, endpoint, payload):\n",
    "        body = {\"auth\": self.auth_json, \"payload\": payload}\n",
    "        response = requests.post(f\"{self.base_url}/{endpoint}\", json=body)\n",
    "        response.raise_for_status()\n",
    "        return response.json()\n",
    "\n",
    "    def get_item(self, uid: str) -> dict:\n",
    "        return self.post(\"get_item\", uid)\n",
    "\n",
    "    def create_item(self, item: dict) -> str:\n",
    "        return self.post(\"create_item\", item)\n",
    "\n",
    "    def update_item(self, item: dict) -> None:\n",
    "        return self.post(\"update_item\", item)\n",
    "\n",
    "    def get_edges(\n",
    "        self, uid: str, direction: str = \"Outgoing\", expand_items: bool = True\n",
    "    ) -> List[dict]:\n",
    "        payload = {\"item\": uid, \"direction\": direction, \"expandItems\": expand_items}\n",
    "        return self.post(\"get_edges\", payload)\n",
    "\n",
    "    def create_edge(self, src_id: str, tgt_id: str, name: str) -> str:\n",
    "        payload = {\"_source\": src_id, \"_target\": tgt_id, \"_name\": name}\n",
    "        return self.post(\"create_edge\", payload)\n",
    "        \n",
    "    def delete_item(self, uid) -> None:\n",
    "        return self.post(\"delete_item\", uid)\n",
    "\n",
    "    def search(self, query: dict) -> List[dict]:\n",
    "        pass\n",
    "\n",
    "    def search_paginate(self, query: dict, limit: int) -> Iterator:\n",
    "        pass\n",
    "\n",
    "    def bulk(\n",
    "        self,\n",
    "        create_items: List[dict] = None,\n",
    "        update_items: List[dict] = None,\n",
    "        create_edges: List[dict] = None,\n",
    "        delete_items: List[str] = None,\n",
    "    ) -> None:\n",
    "        pass"
   ]
  },
  {
   "cell_type": "code",
   "execution_count": null,
   "id": "373ab5ef",
   "metadata": {},
   "outputs": [],
   "source": [
    "from pymemri.pod.client import PodClient\n",
    "from pymemri.data.schema import Account\n",
    "\n",
    "client = PodClient()\n",
    "api = PodAPI(database_key=client.database_key, owner_key=client.owner_key)"
   ]
  },
  {
   "cell_type": "code",
   "execution_count": null,
   "id": "502871ea",
   "metadata": {},
   "outputs": [],
   "source": [
    "assert len(api.version)"
   ]
  },
  {
   "cell_type": "code",
   "execution_count": null,
   "id": "22890488",
   "metadata": {},
   "outputs": [
    {
     "data": {
      "text/plain": [
       "True"
      ]
     },
     "execution_count": null,
     "metadata": {},
     "output_type": "execute_result"
    }
   ],
   "source": [
    "account = Account(identifier=\"abcd\")\n",
    "client.create(account)"
   ]
  },
  {
   "cell_type": "code",
   "execution_count": null,
   "id": "31a3c2c6",
   "metadata": {},
   "outputs": [
    {
     "data": {
      "text/plain": [
       "[{'dateCreated': 1636472956588,\n",
       "  'dateModified': 1636472956588,\n",
       "  'dateServerModified': 1636472956588,\n",
       "  'deleted': False,\n",
       "  'id': '1726ba1773aaacdbd9e074ea7970009e',\n",
       "  'identifier': 'abcd',\n",
       "  'type': 'Account'}]"
      ]
     },
     "execution_count": null,
     "metadata": {},
     "output_type": "execute_result"
    }
   ],
   "source": [
    "api.get_item(account.id)"
   ]
  },
  {
   "cell_type": "code",
   "execution_count": null,
   "id": "fe58fb77",
   "metadata": {},
   "outputs": [],
   "source": [
    "# hide\n",
    "from nbdev.export import *\n",
    "notebook2script()"
   ]
  }
 ],
 "metadata": {
  "kernelspec": {
   "display_name": "Python 3 (ipykernel)",
   "language": "python",
   "name": "python3"
  }
 },
 "nbformat": 4,
 "nbformat_minor": 5
}
