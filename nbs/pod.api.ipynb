{
 "cells": [
  {
   "cell_type": "code",
   "execution_count": null,
   "id": "ce12c19d",
   "metadata": {},
   "outputs": [],
   "source": [
    "# default_exp pod.api\n",
    "%load_ext autoreload\n",
    "%autoreload 2"
   ]
  },
  {
   "cell_type": "code",
   "execution_count": null,
   "id": "fda25da1",
   "metadata": {},
   "outputs": [],
   "source": [
    "# export\n",
    "import os\n",
    "from typing import Any, Dict, List, Generator, Deque\n",
    "import requests\n",
    "import urllib\n",
    "from hashlib import sha256\n",
    "from collections import deque\n",
    "import json"
   ]
  },
  {
   "cell_type": "code",
   "execution_count": null,
   "id": "c30d8cf1",
   "metadata": {},
   "outputs": [],
   "source": [
    "# export\n",
    "DEFAULT_POD_ADDRESS = os.environ.get(\"POD_ADDRESS\") or \"http://localhost:3030\"\n",
    "POD_VERSION = \"v4\""
   ]
  },
  {
   "cell_type": "code",
   "execution_count": null,
   "id": "6b0d271d",
   "metadata": {},
   "outputs": [],
   "source": [
    "# export\n",
    "class PodError(Exception):\n",
    "    def __init__(self, status=None, message=None, **kwargs) -> None:\n",
    "        super().__init__(status, message, **kwargs)\n",
    "        self.status = status\n",
    "        self.message = message\n",
    "\n",
    "    def __str__(self) -> str:\n",
    "        return \" \".join([str(a) for a in self.args if a])"
   ]
  },
  {
   "cell_type": "code",
   "execution_count": null,
   "id": "52efed61",
   "metadata": {},
   "outputs": [],
   "source": [
    "# export\n",
    "class PodAPI:\n",
    "    def __init__(\n",
    "        self,\n",
    "        database_key: str,\n",
    "        owner_key: str,\n",
    "        url: str = DEFAULT_POD_ADDRESS,\n",
    "        version: str = POD_VERSION,\n",
    "        auth_json: dict = None,\n",
    "        verbose: bool = True,\n",
    "    ) -> None:\n",
    "        self.verbose = verbose\n",
    "        self.database_key = database_key\n",
    "        self.owner_key = owner_key\n",
    "        self.version = version\n",
    "        self._url = url\n",
    "        self.base_url = f\"{url}/{version}/{self.owner_key}\"\n",
    "        self.auth_json = self._create_auth(auth_json)\n",
    "\n",
    "    def _create_auth(self, auth_json: dict = None) -> dict:\n",
    "        if auth_json is not None:\n",
    "            return {\"type\": \"PluginAuth\", **auth_json}\n",
    "        else:\n",
    "            return {\"type\": \"ClientAuth\", \"databaseKey\": self.database_key}\n",
    "\n",
    "    def test_connection(self) -> bool:\n",
    "        try:\n",
    "            res = requests.get(self._url)\n",
    "            if self.verbose:\n",
    "                print(\"Succesfully connected to pod\")\n",
    "            return True\n",
    "        except requests.exceptions.RequestException as e:\n",
    "            print(\"Could no connect to backend\")\n",
    "            return False\n",
    "\n",
    "    @property\n",
    "    def pod_version(self) -> dict:\n",
    "        response = requests.get(f\"{self._url}/version\")\n",
    "        if response.status_code != 200:\n",
    "            raise PodError(response.status_code, response.text)\n",
    "        return response.json()\n",
    "\n",
    "    def post(self, endpoint: str, payload: Any) -> Any:\n",
    "        body = {\"auth\": self.auth_json, \"payload\": payload}\n",
    "        response = requests.post(f\"{self.base_url}/{endpoint}\", json=body)\n",
    "        if response.status_code != 200:\n",
    "            raise PodError(response.status_code, response.text)\n",
    "        return response\n",
    "\n",
    "    def get_item(self, uid: str) -> dict:\n",
    "        return self.post(\"get_item\", uid).json()\n",
    "\n",
    "    def create_item(self, item: dict) -> str:\n",
    "        return self.post(\"create_item\", item).json()\n",
    "\n",
    "    def update_item(self, item: dict) -> list:\n",
    "        return self.post(\"update_item\", item).json()\n",
    "\n",
    "    def get_edges(\n",
    "        self, uid: str, direction: str = \"Outgoing\", expand_items: bool = True\n",
    "    ) -> List[dict]:\n",
    "        payload = {\"item\": uid, \"direction\": direction, \"expandItems\": expand_items}\n",
    "        return self.post(\"get_edges\", payload).json()\n",
    "\n",
    "    def create_edge(self, edge: dict) -> str:\n",
    "        return self.post(\"create_edge\", edge).json()\n",
    "\n",
    "    def delete_item(self, uid) -> list:\n",
    "        return self.post(\"delete_item\", uid).json()\n",
    "\n",
    "    def search(self, query: dict) -> List[dict]:\n",
    "        return self.post(\"search\", query).json()\n",
    "    \n",
    "    def search_paginate(self, query: dict, limit: int = 32, even_page_size=True) -> Generator:\n",
    "        \"\"\"\n",
    "        The Pod returns uneven page sizes when paginating, which can be an issue for some applications.\n",
    "        `search_paginate` wraps the pagination, and always returns pages of size `limit` by storing overflow items\n",
    "        in a queue.\n",
    "        \"\"\"\n",
    "        paginator = self._paginate(query, limit)\n",
    "        \n",
    "        if not even_page_size:\n",
    "            yield from paginator\n",
    "        \n",
    "        remaining: Deque[Item] = deque()\n",
    "        while True:\n",
    "            if len(remaining) >= limit:\n",
    "                yield [remaining.popleft() for _ in range(limit)]\n",
    "            if len(remaining) < limit:\n",
    "                try:\n",
    "                    remaining.extend(next(paginator))\n",
    "                except StopIteration:\n",
    "                    break\n",
    "\n",
    "        while len(remaining):\n",
    "            yield [remaining.popleft() for _ in range(min(limit, len(remaining)))]\n",
    "\n",
    "\n",
    "    def _paginate(self, query: dict, limit: int = 32) -> Generator:\n",
    "        if (\n",
    "            \"_limit\" in query\n",
    "            or \"dateServerModified\" in query\n",
    "            or \"dateServerModified>=\" in query\n",
    "            or \"dateServerModified<\" in query\n",
    "        ):\n",
    "            raise ValueError(\"Cannot paginate query that contains a date or limit.\")\n",
    "        if \"_sortOrder\" in query:\n",
    "            raise NotImplementedError(\"Only 'Asc' order is supported.\")\n",
    "\n",
    "        query = {**query, \"_limit\": limit}\n",
    "        response = self.search(query)\n",
    "        if not len(response):\n",
    "            return\n",
    "            yield\n",
    "\n",
    "        next_date = 0\n",
    "        while True:\n",
    "            query[\"dateServerModified>=\"] = next_date\n",
    "            response = self.search(query)\n",
    "            if not len(response):\n",
    "                break\n",
    "\n",
    "            next_date = response[-1][\"dateServerModified\"] + 1\n",
    "            yield response\n",
    "\n",
    "    def bulk(\n",
    "        self,\n",
    "        create_items: List[dict] = None,\n",
    "        update_items: List[dict] = None,\n",
    "        create_edges: List[dict] = None,\n",
    "        delete_items: List[str] = None,\n",
    "        search: List[dict] = None,\n",
    "    ) -> Dict[str, Any]:\n",
    "\n",
    "        payload = {\n",
    "            \"createItems\": create_items,\n",
    "            \"updateItems\": update_items,\n",
    "            \"createEdges\": create_edges,\n",
    "            \"deleteItems\": delete_items,\n",
    "            \"search\": search,\n",
    "        }\n",
    "        payload = {k: v for k, v in payload.items() if v is not None}\n",
    "        return self.post(\"bulk\", payload).json()\n",
    "\n",
    "    def upload_file(self, file: bytes) -> Any:\n",
    "        if self.auth_json.get(\"type\") == \"PluginAuth\":\n",
    "            # alternative file upload for plugins, with different authentication\n",
    "            return self.upload_file_b(file)\n",
    "\n",
    "        sha = sha256(file).hexdigest()\n",
    "        result = requests.post(\n",
    "            f\"{self.base_url}/upload_file/{self.database_key}/{sha}\", data=file\n",
    "        )\n",
    "        if result.status_code != 200:\n",
    "            raise PodError(result.status_code, result.text)\n",
    "\n",
    "        return result\n",
    "\n",
    "    def upload_file_b(self, file: bytes) -> Any:\n",
    "        sha = sha256(file).hexdigest()\n",
    "        auth = urllib.parse.quote(json.dumps(self.auth_json))\n",
    "        result = requests.post(f\"{self.base_url}/upload_file_b/{auth}/{sha}\", data=file)\n",
    "        if result.status_code != 200:\n",
    "            raise PodError(result.status_code, result.text)\n",
    "\n",
    "        return result\n",
    "\n",
    "    def get_file(self, sha: str) -> bytes:\n",
    "        return self.post(\"get_file\", {\"sha256\": sha}).content\n",
    "\n",
    "    def send_email(self, to: str, subject: str = \"\", body: str = \"\") -> Any:\n",
    "        payload = {\"to\": to, \"subject\": subject, \"body\": body}\n",
    "        return self.post(\"send_email\", payload)\n",
    "    \n",
    "    def plugin_run_logs(self, run_id: str) -> Any:\n",
    "        return self.post(\"get_pluginrun_log\", run_id).json()"
   ]
  },
  {
   "cell_type": "markdown",
   "id": "c372da52",
   "metadata": {},
   "source": [
    "## Test setup"
   ]
  },
  {
   "cell_type": "code",
   "execution_count": null,
   "id": "e4223da1",
   "metadata": {},
   "outputs": [],
   "source": [
    "from pymemri.pod.client import PodClient\n",
    "from pymemri.data.schema import Account, Person\n",
    "from pymemri.data.itembase import Edge\n",
    "\n",
    "client = PodClient()\n",
    "api = PodAPI(database_key=client.database_key, owner_key=client.owner_key)"
   ]
  },
  {
   "cell_type": "code",
   "execution_count": null,
   "id": "0e7b1466",
   "metadata": {},
   "outputs": [
    {
     "name": "stdout",
     "output_type": "stream",
     "text": [
      "BULK: Writing 7/7 items/edges\n",
      "Completed Bulk action, written 7 items/edges\n",
      "BULK: Writing 100/100 items/edges\n",
      "Completed Bulk action, written 100 items/edges\n"
     ]
    },
    {
     "data": {
      "text/plain": [
       "True"
      ]
     },
     "execution_count": null,
     "metadata": {},
     "output_type": "execute_result"
    }
   ],
   "source": [
    "# Create dummy data\n",
    "person = Person(displayName=\"Alice\")\n",
    "accounts = [\n",
    "    Account(identifier=\"Alice\", service=\"whatsapp\"),\n",
    "    Account(identifier=\"Alice\", service=\"instagram\"),\n",
    "    Account(identifier=\"Alice\", service=\"gmail\")\n",
    "]\n",
    "\n",
    "edges = [\n",
    "    Edge(account, person, \"owner\") for account in accounts\n",
    "]\n",
    "\n",
    "client.add_to_schema(Account, Person)\n",
    "client.bulk_action(create_items = [person] + accounts, create_edges=edges)\n",
    "\n",
    "# Create data for search\n",
    "search_accounts = [Account(identifier=str(i), service=\"search\") for i in range(100)]\n",
    "client.bulk_action(create_items=search_accounts)"
   ]
  },
  {
   "cell_type": "code",
   "execution_count": null,
   "id": "8eef626f",
   "metadata": {},
   "outputs": [],
   "source": [
    "from pymemri.data.schema import Message"
   ]
  },
  {
   "cell_type": "code",
   "execution_count": null,
   "id": "bcc4dddf",
   "metadata": {},
   "outputs": [
    {
     "name": "stdout",
     "output_type": "stream",
     "text": [
      "BULK: Writing 1000/1000 items/edges\n",
      "Completed Bulk action, written 1000 items/edges\n",
      "BULK: Writing 10/10 items/edges\n",
      "Completed Bulk action, written 10 items/edges\n",
      "BULK: Writing 10/10 items/edges\n",
      "Completed Bulk action, written 10 items/edges\n",
      "BULK: Writing 10/10 items/edges\n",
      "Completed Bulk action, written 10 items/edges\n",
      "BULK: Writing 10/10 items/edges\n",
      "Completed Bulk action, written 10 items/edges\n",
      "BULK: Writing 10/10 items/edges\n",
      "Completed Bulk action, written 10 items/edges\n",
      "BULK: Writing 1000/1000 items/edges\n",
      "Completed Bulk action, written 1000 items/edges\n"
     ]
    },
    {
     "data": {
      "text/plain": [
       "True"
      ]
     },
     "execution_count": null,
     "metadata": {},
     "output_type": "execute_result"
    }
   ],
   "source": [
    "client.bulk_action(create_items=[Message(isMock=False) for i in range (1000)])\n",
    "client.bulk_action(create_items=[Message(isMock=True) for i in range (10)])\n",
    "client.bulk_action(create_items=[Message(isMock=False) for i in range (10)])\n",
    "client.bulk_action(create_items=[Message(isMock=True) for i in range (10)])\n",
    "client.bulk_action(create_items=[Message(isMock=False) for i in range (10)])\n",
    "client.bulk_action(create_items=[Message(isMock=True) for i in range (10)])\n",
    "client.bulk_action(create_items=[Message(isMock=False) for i in range (1000)])\n"
   ]
  },
  {
   "cell_type": "code",
   "execution_count": null,
   "id": "8e9f7083",
   "metadata": {},
   "outputs": [
    {
     "data": {
      "text/plain": [
       "30"
      ]
     },
     "execution_count": null,
     "metadata": {},
     "output_type": "execute_result"
    }
   ],
   "source": [
    "len(client.search({\"type\": \"Message\", \"_limit\": 30, \"isMock\": True}))"
   ]
  },
  {
   "cell_type": "markdown",
   "id": "7ac9d19e",
   "metadata": {},
   "source": [
    "## Tests"
   ]
  },
  {
   "cell_type": "code",
   "execution_count": null,
   "id": "be009c3c",
   "metadata": {},
   "outputs": [],
   "source": [
    "version = api.pod_version\n",
    "\n",
    "assert \"cargo\" in version"
   ]
  },
  {
   "cell_type": "markdown",
   "id": "6c5f8aa3",
   "metadata": {},
   "source": [
    "### Get, Create"
   ]
  },
  {
   "cell_type": "code",
   "execution_count": null,
   "id": "9a1a2159",
   "metadata": {},
   "outputs": [],
   "source": [
    "# Get created person\n",
    "person = api.get_item(person.id)\n",
    "\n",
    "assert len(person)\n",
    "assert person[0][\"displayName\"] == 'Alice'"
   ]
  },
  {
   "cell_type": "code",
   "execution_count": null,
   "id": "7928c33e",
   "metadata": {},
   "outputs": [],
   "source": [
    "# Add new person\n",
    "new_person = {\"displayName\": \"clara\", \"type\": \"Person\"}\n",
    "new_id = api.create_item(new_person)\n",
    "\n",
    "assert len(new_id) and isinstance(new_id, str)"
   ]
  },
  {
   "cell_type": "code",
   "execution_count": null,
   "id": "1be8bbc5",
   "metadata": {},
   "outputs": [],
   "source": [
    "# Update new person\n",
    "new_person_updated = {\"displayName\": \"Clara\", \"id\": new_id, \"birthDate\": 631152000000}\n",
    "api.update_item(new_person_updated)\n",
    "\n",
    "new_person = api.get_item(new_id)\n",
    "assert new_person[0][\"displayName\"] == \"Clara\"\n",
    "assert new_person[0][\"birthDate\"] == 631152000000"
   ]
  },
  {
   "cell_type": "markdown",
   "id": "35fc66ec",
   "metadata": {},
   "source": [
    "### Edges"
   ]
  },
  {
   "cell_type": "code",
   "execution_count": null,
   "id": "1d96bd19",
   "metadata": {},
   "outputs": [],
   "source": [
    "# Get outgoing edges\n",
    "edges = api.get_edges(person[0][\"id\"], direction=\"Incoming\")\n",
    "assert len(edges) == 3\n",
    "edge_items = [edge[\"item\"] for edge in edges]\n",
    "assert set(item[\"id\"] for item in edge_items) == set(account.id for account in accounts)\n",
    "\n",
    "# Get incoming edges\n",
    "for account in accounts:\n",
    "    edges = api.get_edges(account.id, direction=\"Outgoing\")\n",
    "    assert len(edges) == 1\n",
    "    item = edges[0][\"item\"]\n",
    "    assert item[\"id\"] == person[0][\"id\"]"
   ]
  },
  {
   "cell_type": "code",
   "execution_count": null,
   "id": "5c430323",
   "metadata": {},
   "outputs": [],
   "source": [
    "# Create edges\n",
    "src_id = person[0][\"id\"]\n",
    "tgt_id = new_person[0][\"id\"]\n",
    "edge = {\"_source\": src_id, \"_target\": tgt_id, \"_name\": \"relationship\"}\n",
    "\n",
    "edge_id = api.create_edge(edge)\n",
    "\n",
    "edges = api.get_edges(person[0][\"id\"], direction=\"Outgoing\")\n",
    "assert len(edges) == 1\n",
    "assert edges[0][\"name\"] == \"relationship\"\n",
    "assert edges[0][\"item\"][\"id\"] == tgt_id"
   ]
  },
  {
   "cell_type": "markdown",
   "id": "1806ddf6",
   "metadata": {},
   "source": [
    "### Delete"
   ]
  },
  {
   "cell_type": "code",
   "execution_count": null,
   "id": "9caf93cd",
   "metadata": {},
   "outputs": [],
   "source": [
    "api.delete_item(new_person[0][\"id\"])\n",
    "\n",
    "item = api.get_item(new_person[0][\"id\"])\n",
    "assert item[0][\"deleted\"] == True"
   ]
  },
  {
   "cell_type": "markdown",
   "id": "aeec5bf5",
   "metadata": {},
   "source": [
    "### Search"
   ]
  },
  {
   "cell_type": "code",
   "execution_count": null,
   "id": "790b3fa0",
   "metadata": {},
   "outputs": [],
   "source": [
    "# Test search with 100 new accounts\n",
    "results = api.search({\"type\": \"Account\", \"service\": \"search\"})\n",
    "\n",
    "assert len(results) == 100\n",
    "assert set([result[\"id\"] for result in results]) == set([account.id for account in search_accounts])"
   ]
  },
  {
   "cell_type": "code",
   "execution_count": null,
   "id": "b18cf6b0",
   "metadata": {},
   "outputs": [],
   "source": [
    "# Test paginated search\n",
    "paginator = api.search_paginate({\"type\": \"Account\", \"service\": \"search\"}, limit=10, even_page_size=False)\n",
    "\n",
    "results = []\n",
    "for page in paginator:\n",
    "    assert len(page)\n",
    "    results.extend(page)\n",
    "    \n",
    "assert len(results) == 100, len(results)\n",
    "assert set([result[\"id\"] for result in results]) == set([account.id for account in search_accounts])\n",
    "identifiers = [result[\"identifier\"] for result in results]\n",
    "\n",
    "# Test paginated search with even page sizes\n",
    "paginator = api.search_paginate({\"type\": \"Account\", \"service\": \"search\"}, limit=10, even_page_size=True)\n",
    "\n",
    "results = []\n",
    "for page in paginator:\n",
    "    assert len(page) == 10\n",
    "    results.extend(page)\n",
    "    \n",
    "assert len(results) == 100, len(results)\n",
    "assert set([result[\"id\"] for result in results]) == set([account.id for account in search_accounts])\n",
    "identifiers2 = [result[\"identifier\"] for result in results]\n",
    "\n",
    "assert identifiers == identifiers2"
   ]
  },
  {
   "cell_type": "code",
   "execution_count": null,
   "id": "b7a5ffcb",
   "metadata": {},
   "outputs": [],
   "source": [
    "# Empty search\n",
    "result = api.search({\"type\": \"Account\", \"service\": \"wrong_service\"})\n",
    "assert result == []"
   ]
  },
  {
   "cell_type": "code",
   "execution_count": null,
   "id": "6bc42676",
   "metadata": {},
   "outputs": [],
   "source": [
    "# Empty paginated search\n",
    "result = api.search_paginate({\"type\": \"Account\", \"service\": \"wrong_service\"}, limit=10)\n",
    "\n",
    "assert isinstance(result, Generator)\n",
    "try:\n",
    "    page = next(result)\n",
    "    assert False, \"StopIteration expected for empty generator\"\n",
    "except StopIteration:\n",
    "    pass"
   ]
  },
  {
   "cell_type": "markdown",
   "id": "acfa4e0b",
   "metadata": {},
   "source": [
    "### Bulk"
   ]
  },
  {
   "cell_type": "code",
   "execution_count": null,
   "id": "20d2559b",
   "metadata": {},
   "outputs": [],
   "source": [
    "# Test Bulk\n",
    "bulk_accounts = [\n",
    "    {\"type\": \"Account\", \"identifier\": str(i), \"service\": \"bulk\"} for i in range(10)\n",
    "]\n",
    "\n",
    "result = api.bulk(create_items=bulk_accounts)\n",
    "assert len(result[\"createItems\"]) == 10"
   ]
  },
  {
   "cell_type": "markdown",
   "id": "25631710",
   "metadata": {},
   "source": [
    "### Error handling"
   ]
  },
  {
   "cell_type": "code",
   "execution_count": null,
   "id": "e36db723",
   "metadata": {},
   "outputs": [
    {
     "name": "stdout",
     "output_type": "stream",
     "text": [
      "Expected error raised:\n",
      "500 Failure: Database rusqlite error UNIQUE constraint failed: items.id, Failed to execute insert_item with parameters\n"
     ]
    }
   ],
   "source": [
    "# Test error: duplicate id\n",
    "new_person = {\"displayName\": \"clara\", \"type\": \"Person\"}\n",
    "new_id = api.create_item(new_person)\n",
    "\n",
    "new_person = {\"displayName\": \"clara\", \"type\": \"Person\", \"id\": new_id}\n",
    "try:\n",
    "    api.create_item(new_person)\n",
    "    assert False, \"PodError 500 expected\"\n",
    "except PodError as e:\n",
    "    print(\"Expected error raised:\")\n",
    "    print(e)\n",
    "    pass"
   ]
  },
  {
   "cell_type": "code",
   "execution_count": null,
   "id": "10c8a981",
   "metadata": {},
   "outputs": [
    {
     "name": "stdout",
     "output_type": "stream",
     "text": [
      "Converted basic.ipynb.\n",
      "Converted cvu.utils.ipynb.\n",
      "Converted data.dataset.ipynb.\n",
      "Converted data.loader.ipynb.\n",
      "Converted data.photo.ipynb.\n",
      "Converted exporters.exporters.ipynb.\n",
      "Converted index.ipynb.\n",
      "Converted itembase.ipynb.\n",
      "Converted plugin.authenticators.credentials.ipynb.\n",
      "Converted plugin.authenticators.oauth.ipynb.\n",
      "Converted plugin.listeners.ipynb.\n",
      "Converted plugin.pluginbase.ipynb.\n",
      "Converted plugin.states.ipynb.\n",
      "Converted plugins.authenticators.password.ipynb.\n",
      "Converted pod.api.ipynb.\n",
      "Converted pod.client.ipynb.\n",
      "Converted pod.db.ipynb.\n",
      "Converted pod.utils.ipynb.\n",
      "Converted template.config.ipynb.\n",
      "Converted template.formatter.ipynb.\n",
      "Converted test_schema.ipynb.\n",
      "Converted test_utils.ipynb.\n"
     ]
    }
   ],
   "source": [
    "# hide\n",
    "from nbdev.export import *\n",
    "notebook2script()"
   ]
  },
  {
   "cell_type": "code",
   "execution_count": null,
   "id": "73331937",
   "metadata": {},
   "outputs": [],
   "source": []
  }
 ],
 "metadata": {
  "kernelspec": {
   "display_name": "Python 3",
   "language": "python",
   "name": "python3"
  }
 },
 "nbformat": 4,
 "nbformat_minor": 5
}
