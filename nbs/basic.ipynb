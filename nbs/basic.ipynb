{
 "cells": [
  {
   "cell_type": "code",
   "execution_count": 2,
   "metadata": {},
   "outputs": [],
   "source": [
    "#default_exp data.basic"
   ]
  },
  {
   "cell_type": "code",
   "execution_count": 3,
   "metadata": {},
   "outputs": [],
   "source": [
    "# export\n",
    "from pyintegrators.imports import *\n",
    "from urllib.request import urlretrieve\n",
    "import requests\n",
    "from tqdm import tqdm\n",
    "from fastai.data.external import download_url\n",
    "from fastai.basics import progress_bar\n",
    "import zipfile\n",
    "import cv2"
   ]
  },
  {
   "cell_type": "markdown",
   "metadata": {},
   "source": [
    "# Basic"
   ]
  },
  {
   "cell_type": "code",
   "execution_count": 6,
   "metadata": {},
   "outputs": [],
   "source": [
    "# export\n",
    "Path.ls = lambda x: list(x.iterdir())\n",
    "PYI_HOME = Path.cwd().parent\n",
    "PYI_TESTDATA = PYI_HOME / \"test\" / \"data\"\n",
    "HOME_DIR = Path.home()\n",
    "MODEL_DIR = HOME_DIR / \".memri\" / \"models\"\n",
    "MEMRI_S3 = \"https://memri.s3-eu-west-1.amazonaws.com\"\n",
    "MODEL_DIR.mkdir(parents=True, exist_ok=True)\n",
    "\n",
    "\n",
    "def read_file(path):\n",
    "    return open(path, \"r\").read()\n",
    "\n",
    "def read_json(path):\n",
    "    with open(path) as json_file:\n",
    "        return json.load(json_file)\n",
    "\n",
    "def write_json(obj, fname):\n",
    "    with open(fname, 'w') as file_out:\n",
    "        json.dump(obj , file_out)\n",
    "\n",
    "def download_file(url, output_path): \n",
    "    if not Path(output_path).exists():\n",
    "        output_path.parent.mkdir(exist_ok=True, parents=True)\n",
    "        print(f\"downloading {url}\", flush=True)\n",
    "        \n",
    "        # this may look overly complicated, but we want the system to first completely download and then write\n",
    "        # , to prevent caching issues.\n",
    "        response = requests.get(url, stream=True)\n",
    "        total_length = response.headers.get('content-length')\n",
    "        if total_length is None: # no content length header\n",
    "            res = response.content\n",
    "            with open(output_path, \"wb\") as f:\n",
    "                f.write(res)\n",
    "        else:\n",
    "            dl = 0\n",
    "            total_length = int(total_length)\n",
    "            pbar = progress_bar(range(total_length), leave=False)\n",
    "            pbar.update(0)\n",
    "            res = b''\n",
    "            for data in response.iter_content(chunk_size=1024*1024):\n",
    "                dl += len(data)\n",
    "                pbar.update(dl)\n",
    "                res += data\n",
    "            with open(output_path, \"wb\") as f:\n",
    "                f.write(res)\n",
    "        \n",
    "def unzip(f, dest):\n",
    "    with zipfile.ZipFile(str(f)) as zf:\n",
    "        zf.extractall(str(dest))\n",
    "        \n",
    "def resize(img, maxsize):\n",
    "    size = get_size(img, maxsize)\n",
    "    return cv2.resize(img, dsize=size, interpolation=cv2.INTER_CUBIC)\n",
    "\n",
    "def get_size(img, maxsize):\n",
    "    s = img.shape\n",
    "    assert len(s) > 1\n",
    "    div = max(s) / maxsize\n",
    "    return (int(s[1]//div), int(s[0]//div))"
   ]
  },
  {
   "cell_type": "markdown",
   "metadata": {},
   "source": [
    "# Export -"
   ]
  },
  {
   "cell_type": "code",
   "execution_count": 7,
   "metadata": {},
   "outputs": [
    {
     "name": "stdout",
     "output_type": "stream",
     "text": [
      "Converted basic.ipynb.\n",
      "Converted importers.Importer.ipynb.\n",
      "Converted importers.util.ipynb.\n",
      "Converted index.ipynb.\n",
      "Converted indexers.indexer.ipynb.\n",
      "Converted itembase.ipynb.\n",
      "Converted pod.client.ipynb.\n"
     ]
    }
   ],
   "source": [
    "# hide\n",
    "from nbdev.export import *\n",
    "notebook2script()"
   ]
  },
  {
   "cell_type": "code",
   "execution_count": null,
   "metadata": {},
   "outputs": [],
   "source": []
  }
 ],
 "metadata": {
  "kernelspec": {
   "display_name": "Python 3",
   "language": "python",
   "name": "python3"
  },
  "language_info": {
   "codemirror_mode": {
    "name": "ipython",
    "version": 3
   },
   "file_extension": ".py",
   "mimetype": "text/x-python",
   "name": "python",
   "nbconvert_exporter": "python",
   "pygments_lexer": "ipython3",
   "version": "3.7.7"
  },
  "toc": {
   "base_numbering": 1,
   "nav_menu": {},
   "number_sections": true,
   "sideBar": true,
   "skip_h1_title": false,
   "title_cell": "Table of Contents",
   "title_sidebar": "Contents",
   "toc_cell": false,
   "toc_position": {},
   "toc_section_display": true,
   "toc_window_display": true
  }
 },
 "nbformat": 4,
 "nbformat_minor": 4
}
