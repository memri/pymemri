{
 "cells": [
  {
   "cell_type": "code",
   "execution_count": null,
   "metadata": {},
   "outputs": [],
   "source": [
    "#default_exp data.basic\n",
    "%load_ext autoreload\n",
    "%autoreload 2"
   ]
  },
  {
   "cell_type": "code",
   "execution_count": null,
   "metadata": {},
   "outputs": [],
   "source": [
    "# export\n",
    "from pymemri.imports import *\n",
    "from urllib.request import urlretrieve\n",
    "import requests\n",
    "from tqdm import tqdm\n",
    "import zipfile\n",
    "import cv2"
   ]
  },
  {
   "cell_type": "markdown",
   "metadata": {},
   "source": [
    "# Basic"
   ]
  },
  {
   "cell_type": "code",
   "execution_count": null,
   "metadata": {},
   "outputs": [],
   "source": [
    "# export\n",
    "Path.ls = lambda x: list(x.iterdir())\n",
    "PYI_HOME = Path.cwd().parent\n",
    "PYI_TESTDATA = PYI_HOME / \"test\" / \"data\"\n",
    "HOME_DIR = Path.home()\n",
    "MODEL_DIR = HOME_DIR / \".memri\" / \"models\"\n",
    "MEMRI_S3 = \"https://memri.s3-eu-west-1.amazonaws.com\"\n",
    "MODEL_DIR.mkdir(parents=True, exist_ok=True)\n",
    "\n",
    "\n",
    "def read_file(path):\n",
    "    return open(path, \"r\").read()\n",
    "\n",
    "def read_json(path):\n",
    "    with open(path) as json_file:\n",
    "        return json.load(json_file)\n",
    "\n",
    "def write_json(obj, fname, indent=4):\n",
    "    with open(fname, 'w') as file_out:\n",
    "        json.dump(obj , file_out, indent=indent)\n",
    "\n",
    "def unzip(f, dest):\n",
    "    with zipfile.ZipFile(str(f)) as zf:\n",
    "        zf.extractall(str(dest))\n",
    "\n",
    "def resize(img, maxsize):\n",
    "    size = get_size(img, maxsize)\n",
    "    return cv2.resize(img, dsize=size, interpolation=cv2.INTER_CUBIC)\n",
    "\n",
    "def get_size(img, maxsize):\n",
    "    s = img.shape\n",
    "    assert len(s) > 1\n",
    "    div = max(s) / maxsize\n",
    "    return (int(s[1]//div), int(s[0]//div))"
   ]
  },
  {
   "cell_type": "markdown",
   "metadata": {},
   "source": [
    "# Export -"
   ]
  },
  {
   "cell_type": "code",
   "execution_count": null,
   "metadata": {},
   "outputs": [
    {
     "name": "stdout",
     "output_type": "stream",
     "text": [
      "Converted basic.ipynb.\n",
      "Converted cvu.utils.ipynb.\n",
      "Converted data.photo.ipynb.\n",
      "Converted index.ipynb.\n",
      "Converted itembase.ipynb.\n",
      "Converted plugin.authenticators.credentials.ipynb.\n",
      "Converted plugin.authenticators.oauth.ipynb.\n",
      "Converted plugin.pluginbase.ipynb.\n",
      "Converted plugin.schema.ipynb.\n",
      "Converted plugin.states.ipynb.\n",
      "Converted plugins.authenticators.password.ipynb.\n",
      "Converted pod.client.ipynb.\n",
      "Converted pod.db.ipynb.\n",
      "Converted pod.utils.ipynb.\n",
      "Converted test_schema.ipynb.\n",
      "Converted test_utils.ipynb.\n"
     ]
    }
   ],
   "source": [
    "# hide\n",
    "from nbdev.export import *\n",
    "notebook2script()"
   ]
  },
  {
   "cell_type": "code",
   "execution_count": null,
   "metadata": {},
   "outputs": [],
   "source": []
  }
 ],
 "metadata": {
  "kernelspec": {
   "display_name": "Python 3",
   "language": "python",
   "name": "python3"
  }
 },
 "nbformat": 4,
 "nbformat_minor": 4
}
