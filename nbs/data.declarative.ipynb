{
 "cells": [
  {
   "cell_type": "code",
   "execution_count": null,
   "id": "6c01afe7",
   "metadata": {},
   "outputs": [],
   "source": [
    "#default_exp data.declarative\n",
    "%load_ext autoreload\n",
    "%autoreload 2"
   ]
  },
  {
   "cell_type": "code",
   "execution_count": null,
   "id": "80c76cf3",
   "metadata": {},
   "outputs": [],
   "source": [
    "# export\n",
    "# hide\n",
    "import json\n",
    "import re\n",
    "import os\n",
    "import requests\n",
    "import urllib\n",
    "\n",
    "from pymemri.data.itembase import Item"
   ]
  },
  {
   "cell_type": "code",
   "execution_count": null,
   "id": "dc015f3b",
   "metadata": {},
   "outputs": [],
   "source": [
    "# export\n",
    "# hide\n",
    "\n",
    "def schema_init(self, **kwargs):\n",
    "    super(type(self), self).__init__(**kwargs)\n",
    "\n",
    "    for p in self._property_kwargs:\n",
    "        setattr(self, p, kwargs.get(p, None))\n",
    "        \n",
    "    for e in self._edge_kwargs:\n",
    "        setattr(self, e, kwargs.get(e, list()))\n",
    "    \n",
    "class SchemaFactory:\n",
    "    \n",
    "    @staticmethod\n",
    "    def is_valid_schema_name(name: str) -> bool:\n",
    "        \"\"\"Check if name is a valid schema name\"\"\"\n",
    "        return re.match(r\"[A-Z][a-zA-Z0-9_]*\", name)\n",
    "\n",
    "    @staticmethod\n",
    "    def create_schema(name: str, properties: list, edges: list, \n",
    "                      base: type=Item, description=None) -> type:\n",
    "        \"\"\"\n",
    "        Create a type for schema from a name, list of properties and list of edges. Optionally set the base schema.\n",
    "        \"\"\"\n",
    "        if not  SchemaFactory.is_valid_schema_name(name):\n",
    "            raise ValueError(f\"{name} is not a valid schema name.\")\n",
    "\n",
    "        properties = [p for p in properties if p not in base.properties]\n",
    "        edges = [e for e in edges if e not in base.edges]\n",
    "        \n",
    "        # Store property_kwargs and edge_kwargs of self to set these in the init.\n",
    "        cls_dict = {\n",
    "            \"_property_kwargs\": properties, \n",
    "            \"_edge_kwargs\": edges,\n",
    "            \"properties\": base.properties + properties,\n",
    "            \"edges\": base.edges + edges,\n",
    "            \"description\": description,\n",
    "            \"__init__\": schema_init\n",
    "        }\n",
    "        \n",
    "        schema_cls = type(\n",
    "            name, \n",
    "            (base,), \n",
    "            cls_dict\n",
    "        )\n",
    "        return schema_cls\n",
    "    \n",
    "    @staticmethod\n",
    "    def from_dict(name: str, schema_dict: dict) -> type:\n",
    "        \"\"\"\n",
    "        Creates a schema type from a dictionary. See https://gitlab.memri.io/memri/schema/ for format.\n",
    "        \n",
    "        TODO add edge constraints (\"sequenced\" and \"singular\")\n",
    "        TODO add option for different base class\n",
    "        \"\"\"\n",
    "        properties = schema_dict.get(\"properties\", [])\n",
    "        edges = list(schema_dict.get(\"relations\", {}).keys())\n",
    "        description=schema_dict.get(\"description\", None)\n",
    "        \n",
    "        return SchemaFactory.create_schema(\n",
    "            name=name,\n",
    "            properties=properties,\n",
    "            edges=edges,\n",
    "            description=description\n",
    "        )\n",
    "        \n",
    "    @staticmethod\n",
    "    def from_file(file_name: str) -> type:\n",
    "        \"\"\"\n",
    "        Create a schema class from json file.\n",
    "        \"\"\"\n",
    "        schema_name = os.path.splitext(os.path.basename(file_name))[0]\n",
    "        schema_dict = json.load(file_name)\n",
    "        return SchemaFactory.from_dict(schema_name, schema_dict)\n",
    "    \n",
    "    @staticmethod\n",
    "    def from_url(url: str) -> type:\n",
    "        \"\"\"\n",
    "        Create a schema class from json url.\n",
    "        \"\"\"\n",
    "        file_name = urllib.parse.urlparse(url)[2].rpartition('/')[-1]\n",
    "        schema_name = os.path.splitext(file_name)[0]\n",
    "        schema_dict = requests.get(url).json()\n",
    "        return SchemaFactory.from_dict(schema_name, schema_dict)"
   ]
  },
  {
   "cell_type": "code",
   "execution_count": null,
   "id": "a616c11c",
   "metadata": {},
   "outputs": [],
   "source": [
    "from pymemri.pod.client import PodClient\n",
    "pod_client = PodClient()"
   ]
  },
  {
   "cell_type": "code",
   "execution_count": null,
   "id": "3267a5d6",
   "metadata": {},
   "outputs": [],
   "source": [
    "account_json = \"\"\"\n",
    "{\n",
    "  \"description\": \"An account or subscription, for instance for some online service, or a bank account or wallet.\",\n",
    "  \"properties\": [\n",
    "    \"handle\",\n",
    "    \"displayName\",\n",
    "    \"service\",\n",
    "    \"itemType\",\n",
    "    \"avatarUrl\"\n",
    "  ],\n",
    "  \"relations\": {\n",
    "    \"belongsTo\": {\n",
    "      \"sequenced\": false,\n",
    "      \"singular\": false\n",
    "    },\n",
    "    \"price\": {\n",
    "      \"sequenced\": false,\n",
    "      \"singular\": false\n",
    "    },\n",
    "    \"location\": {\n",
    "      \"sequenced\": false,\n",
    "      \"singular\": false\n",
    "    },\n",
    "    \"organization\": {\n",
    "      \"sequenced\": false,\n",
    "      \"singular\": false\n",
    "    },\n",
    "    \"contact\": {\n",
    "      \"sequenced\": false,\n",
    "      \"singular\": false\n",
    "    }\n",
    "  },\n",
    "  \"foregroundColor\": \"#ffffff\",\n",
    "  \"backgroundColor\": \"#93c47d\"\n",
    "}\n",
    "\"\"\" \n",
    "\n",
    "Account = SchemaFactory.from_dict(\"Account\", json.loads(account_json))\n",
    "test_account = Account(handle=\"Test Account\", displayName=\"Test Account\")\n",
    "\n",
    "assert pod_client.add_to_schema(Account(handle=\"\", displayName=\"\"))\n",
    "assert pod_client.create(test_account)"
   ]
  },
  {
   "cell_type": "code",
   "execution_count": null,
   "id": "010e95e6",
   "metadata": {},
   "outputs": [],
   "source": [
    "url = 'https://gitlab.memri.io/memri/schema/-/raw/dev/TypeHierarchy/Item/Account/Account.json'\n",
    "Account = SchemaFactory.from_url(url)\n",
    "test_account = Account(handle=\"Test Account\", displayName=\"Test Account\")\n",
    "\n",
    "assert pod_client.add_to_schema(Account(handle=\"\", displayName=\"\"))\n",
    "assert pod_client.create(test_account)"
   ]
  },
  {
   "cell_type": "code",
   "execution_count": null,
   "id": "cb8ebc8a",
   "metadata": {},
   "outputs": [
    {
     "name": "stdout",
     "output_type": "stream",
     "text": [
      "[Account (#779f42c8cd3a246c277ef65f8c0fc795), Account (#36873234c80964b000fd23a6e33b45f0)]\n"
     ]
    }
   ],
   "source": [
    "print(pod_client.search({\"type\": \"Account\"}))"
   ]
  },
  {
   "cell_type": "code",
   "execution_count": null,
   "id": "895192da",
   "metadata": {},
   "outputs": [
    {
     "name": "stdout",
     "output_type": "stream",
     "text": [
      "Converted basic.ipynb.\n",
      "Converted data.declarative.ipynb.\n",
      "Converted data.photo.ipynb.\n",
      "Converted importers.Importer.ipynb.\n",
      "Converted importers.util.ipynb.\n",
      "Converted index.ipynb.\n",
      "Converted indexers.indexer.ipynb.\n",
      "Converted itembase.ipynb.\n",
      "Converted plugin.pluginbase.ipynb.\n",
      "Converted plugin.schema.ipynb.\n",
      "Converted plugin.stateful.ipynb.\n",
      "Converted pod.client.ipynb.\n",
      "Converted pod.db.ipynb.\n",
      "Converted pod.utils.ipynb.\n"
     ]
    }
   ],
   "source": [
    "# hide\n",
    "from nbdev.export import *\n",
    "notebook2script()"
   ]
  },
  {
   "cell_type": "code",
   "execution_count": null,
   "id": "7d529ca5",
   "metadata": {},
   "outputs": [],
   "source": []
  }
 ],
 "metadata": {
  "kernelspec": {
   "display_name": "Python 3",
   "language": "python",
   "name": "python3"
  }
 },
 "nbformat": 4,
 "nbformat_minor": 5
}
