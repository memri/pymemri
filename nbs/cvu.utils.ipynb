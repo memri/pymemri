{
 "cells": [
  {
   "cell_type": "code",
   "execution_count": 7,
   "id": "f643bcc7",
   "metadata": {},
   "outputs": [],
   "source": [
    "# default_exp cvu.utils"
   ]
  },
  {
   "cell_type": "code",
   "execution_count": 11,
   "id": "7965b263",
   "metadata": {},
   "outputs": [],
   "source": [
    "# export\n",
    "from pymemri.data.basic import read_file\n",
    "from pymemri.data.schema import CVUStoredDefinition\n",
    "from pathlib import Path\n",
    "import pymemri"
   ]
  },
  {
   "cell_type": "code",
   "execution_count": 9,
   "id": "3b3092f5",
   "metadata": {},
   "outputs": [],
   "source": [
    "# export\n",
    "BASE_PATH = Path(pymemri.__file__).parent.parent / \"cvu\"\n",
    "\n",
    "def get_cvu(name, base_path=BASE_PATH):\n",
    "    path = Path(base_path) / name\n",
    "    cvu_str = read_file(path)\n",
    "    return CVUStoredDefinition(definition=cvu_str, name=name, externalId=name)"
   ]
  },
  {
   "cell_type": "code",
   "execution_count": 10,
   "id": "0a2dbf65",
   "metadata": {},
   "outputs": [
    {
     "name": "stdout",
     "output_type": "stream",
     "text": [
      ".auth-view {\n",
      "    title: \"Login\"\n",
      "    defaultRenderer: generalEditor\n",
      "    showContextualBottomBar: false\n",
      "    showBottomBar: false\n",
      "    showDefaultLayout: false\n",
      "\n",
      "    [renderer = generalEditor] {\n",
      "        layout: [\n",
      "            { section: username, fields: identifier, exclude: labels }\n",
      "            { section: password, fields: secret, exclude: labels }\n",
      "            { section: oAuthCode, fields: code, exclude: labels }\n",
      "            { section: login }\n",
      "        ]\n",
      "    }\n",
      "    \n",
      "    login {\n",
      "        showTitle: false\n",
      "        HStack {\n",
      "            alignment: center\n",
      "            Spacer\n",
      "            Button {\n",
      "                padding: 20 0 20 0\n",
      "                onPress: [sync back]\n",
      "                \n",
      "                VStack {\n",
      "                    background: #218721\n",
      "                    cornerRadius: 5\n",
      "                \n",
      "                    Text {\n",
      "                        text: \"Login\"\n",
      "                        font: 16 semibold\n",
      "                        color: #fff\n",
      "                        padding: 5 8 5 8\n",
      "                    }\n",
      "                }\n",
      "            }\n",
      "            Spacer\n",
      "        }\n",
      "    }\n",
      "}\n",
      "\n",
      "\n"
     ]
    }
   ],
   "source": [
    "print(get_cvu(\"passwordAuth.cvu\"))"
   ]
  },
  {
   "cell_type": "code",
   "execution_count": null,
   "id": "f75b274b",
   "metadata": {},
   "outputs": [],
   "source": []
  }
 ],
 "metadata": {
  "kernelspec": {
   "display_name": "Python 3",
   "language": "python",
   "name": "python3"
  },
  "language_info": {
   "codemirror_mode": {
    "name": "ipython",
    "version": 3
   },
   "file_extension": ".py",
   "mimetype": "text/x-python",
   "name": "python",
   "nbconvert_exporter": "python",
   "pygments_lexer": "ipython3",
   "version": "3.8.8"
  },
  "toc": {
   "base_numbering": 1,
   "nav_menu": {},
   "number_sections": true,
   "sideBar": true,
   "skip_h1_title": false,
   "title_cell": "Table of Contents",
   "title_sidebar": "Contents",
   "toc_cell": false,
   "toc_position": {},
   "toc_section_display": true,
   "toc_window_display": false
  }
 },
 "nbformat": 4,
 "nbformat_minor": 5
}
