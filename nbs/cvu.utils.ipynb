{
 "cells": [
  {
   "cell_type": "code",
   "execution_count": 1,
   "id": "c96ac334",
   "metadata": {},
   "outputs": [],
   "source": [
    "%load_ext autoreload\n",
    "%autoreload 2\n",
    "# default_exp cvu.utils"
   ]
  },
  {
   "cell_type": "code",
   "execution_count": 2,
   "id": "79f978b8",
   "metadata": {},
   "outputs": [],
   "source": [
    "# export\n",
    "# hide\n",
    "from pathlib import Path\n",
    "from typing import List\n",
    "\n",
    "import pymemri\n",
    "from pymemri.data.basic import read_file\n",
    "from pymemri.data.schema import CVUStoredDefinition\n",
    "\n",
    "BASE_PATH = Path(pymemri.__file__).parent.parent / \"cvu\""
   ]
  },
  {
   "cell_type": "code",
   "execution_count": 8,
   "id": "156dbcb9",
   "metadata": {},
   "outputs": [],
   "source": [
    "try:\n",
    "    import importlib.resources as pkg_resources\n",
    "except ImportError:\n",
    "    # Try backported to PY<37 `importlib_resources`.\n",
    "    import importlib_resources as pkg_resources"
   ]
  },
  {
   "cell_type": "code",
   "execution_count": 12,
   "id": "49c8a6d9",
   "metadata": {},
   "outputs": [],
   "source": [
    "from pymemri import cvu_definitions  # relative-import the *package* containing the templates\n",
    "\n",
    "# template = pkg_resources.read_text(templates, 'temp_file')"
   ]
  },
  {
   "cell_type": "code",
   "execution_count": 14,
   "id": "8a7f4bb1",
   "metadata": {},
   "outputs": [],
   "source": [
    "# template = pkg_resources.read_text(cvu_definitions, 'password_auth.cvu')"
   ]
  },
  {
   "cell_type": "code",
   "execution_count": 6,
   "id": "899b7af1",
   "metadata": {},
   "outputs": [
    {
     "data": {
      "text/plain": [
       "PosixPath('/Users/koen/workspace/pymemri/cvu')"
      ]
     },
     "execution_count": 6,
     "metadata": {},
     "output_type": "execute_result"
    }
   ],
   "source": [
    "BASE_PATH"
   ]
  },
  {
   "cell_type": "code",
   "execution_count": 7,
   "id": "335489ea",
   "metadata": {},
   "outputs": [
    {
     "data": {
      "text/plain": [
       "PosixPath('/Users/koen/workspace/pymemri/pymemri/__init__.py')"
      ]
     },
     "execution_count": 7,
     "metadata": {},
     "output_type": "execute_result"
    }
   ],
   "source": [
    "Path(pymemri.__file__)"
   ]
  },
  {
   "cell_type": "code",
   "execution_count": 3,
   "id": "d9651e03",
   "metadata": {},
   "outputs": [],
   "source": [
    "# export\n",
    "\n",
    "def get_default_cvu(name: str, base_path: Path = BASE_PATH) -> CVUStoredDefinition:\n",
    "    \"\"\"\n",
    "    Get a CVU by name. \n",
    "    \"\"\"\n",
    "    path = Path(base_path) / name\n",
    "    cvu_str = read_file(path)\n",
    "    return CVUStoredDefinition(definition=cvu_str, name=name, externalId=name)\n",
    "\n",
    "def list_default_cvus(base_path: Path = BASE_PATH) -> List[str]:\n",
    "    \"\"\"\n",
    "    List all CVUs available in pymemri.\n",
    "    \"\"\"\n",
    "    path = Path(base_path)\n",
    "    cvus = path.glob(\"*.cvu\")\n",
    "    cvu_names = [path.name for path in cvus]\n",
    "    return cvu_names"
   ]
  },
  {
   "cell_type": "code",
   "execution_count": 4,
   "id": "06669298",
   "metadata": {},
   "outputs": [],
   "source": [
    "assert len(list_default_cvus())"
   ]
  },
  {
   "cell_type": "code",
   "execution_count": 5,
   "id": "39929886",
   "metadata": {},
   "outputs": [],
   "source": [
    "cvu = get_default_cvu(list_default_cvus()[0])\n",
    "assert isinstance(cvu, CVUStoredDefinition)\n",
    "assert len(cvu.definition)"
   ]
  },
  {
   "cell_type": "code",
   "execution_count": 15,
   "id": "7b58bc20",
   "metadata": {},
   "outputs": [
    {
     "name": "stdout",
     "output_type": "stream",
     "text": [
      "Converted basic.ipynb.\n",
      "Converted cvu.utils.ipynb.\n",
      "Converted data.photo.ipynb.\n",
      "Converted importers.Importer.ipynb.\n",
      "Converted importers.util.ipynb.\n",
      "Converted index.ipynb.\n",
      "Converted indexers.indexer.ipynb.\n",
      "Converted itembase.ipynb.\n",
      "Converted plugin.authenticators.oauth.ipynb.\n",
      "Converted plugin.pluginbase.ipynb.\n",
      "Converted plugin.schema.ipynb.\n",
      "Converted plugin.states.ipynb.\n",
      "Converted plugins.authenticators.password.ipynb.\n",
      "Converted pod.client.ipynb.\n",
      "Converted pod.db.ipynb.\n",
      "Converted pod.utils.ipynb.\n",
      "Converted test_utils.ipynb.\n"
     ]
    }
   ],
   "source": [
    "# hide\n",
    "from nbdev.export import notebook2script\n",
    "notebook2script()"
   ]
  },
  {
   "cell_type": "code",
   "execution_count": null,
   "id": "7f7d7c30",
   "metadata": {},
   "outputs": [],
   "source": []
  }
 ],
 "metadata": {
  "kernelspec": {
   "display_name": "Python 3",
   "language": "python",
   "name": "python3"
  },
  "language_info": {
   "codemirror_mode": {
    "name": "ipython",
    "version": 3
   },
   "file_extension": ".py",
   "mimetype": "text/x-python",
   "name": "python",
   "nbconvert_exporter": "python",
   "pygments_lexer": "ipython3",
   "version": "3.7.10"
  },
  "toc": {
   "base_numbering": 1,
   "nav_menu": {},
   "number_sections": true,
   "sideBar": true,
   "skip_h1_title": false,
   "title_cell": "Table of Contents",
   "title_sidebar": "Contents",
   "toc_cell": false,
   "toc_position": {},
   "toc_section_display": true,
   "toc_window_display": true
  }
 },
 "nbformat": 4,
 "nbformat_minor": 5
}
