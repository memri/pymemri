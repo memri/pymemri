{
 "cells": [
  {
   "cell_type": "code",
   "execution_count": null,
   "id": "c96ac334",
   "metadata": {},
   "outputs": [],
   "source": [
    "%load_ext autoreload\n",
    "%autoreload 2\n",
    "# default_exp cvu.utils"
   ]
  },
  {
   "cell_type": "code",
   "execution_count": null,
   "id": "79f978b8",
   "metadata": {},
   "outputs": [],
   "source": [
    "# export\n",
    "# hide\n",
    "from pathlib import Path\n",
    "from typing import List\n",
    "\n",
    "import pymemri\n",
    "from pymemri.data.basic import read_file\n",
    "from pymemri.data.schema import CVUStoredDefinition\n",
    "\n",
    "CVU_BASE_PATH = Path(pymemri.__file__).parent / \"cvu\" / \"definitions\""
   ]
  },
  {
   "cell_type": "code",
   "execution_count": null,
   "id": "d9651e03",
   "metadata": {},
   "outputs": [],
   "source": [
    "# export\n",
    "\n",
    "def get_default_cvu(name: str, base_path: Path = CVU_BASE_PATH) -> CVUStoredDefinition:\n",
    "    \"\"\"\n",
    "    Get a CVU by name. \n",
    "    \"\"\"\n",
    "    path = Path(base_path) / name\n",
    "    cvu_str = read_file(path)\n",
    "    return CVUStoredDefinition(definition=cvu_str, name=name, externalId=name)\n",
    "\n",
    "def list_default_cvus(base_path: Path = CVU_BASE_PATH) -> List[str]:\n",
    "    \"\"\"\n",
    "    List all CVUs available in pymemri.\n",
    "    \"\"\"\n",
    "    path = Path(base_path)\n",
    "    cvus = path.glob(\"*.cvu\")\n",
    "    cvu_names = [path.name for path in cvus]\n",
    "    return cvu_names"
   ]
  },
  {
   "cell_type": "code",
   "execution_count": null,
   "id": "06669298",
   "metadata": {},
   "outputs": [],
   "source": [
    "assert len(list_default_cvus())"
   ]
  },
  {
   "cell_type": "code",
   "execution_count": null,
   "id": "39929886",
   "metadata": {},
   "outputs": [],
   "source": [
    "cvu = get_default_cvu(list_default_cvus()[0])\n",
    "assert isinstance(cvu, CVUStoredDefinition)\n",
    "assert len(cvu.definition)"
   ]
  },
  {
   "cell_type": "code",
   "execution_count": null,
   "id": "7b58bc20",
   "metadata": {},
   "outputs": [
    {
     "name": "stdout",
     "output_type": "stream",
     "text": [
      "Converted basic.ipynb.\n",
      "Converted cvu.utils.ipynb.\n",
      "Converted data.photo.ipynb.\n",
      "Converted importers.Importer.ipynb.\n",
      "Converted importers.util.ipynb.\n",
      "Converted index.ipynb.\n",
      "Converted indexers.indexer.ipynb.\n",
      "Converted itembase.ipynb.\n",
      "Converted plugin.authenticators.oauth.ipynb.\n",
      "Converted plugin.pluginbase.ipynb.\n",
      "Converted plugin.schema.ipynb.\n",
      "Converted plugin.states.ipynb.\n",
      "Converted plugins.authenticators.password.ipynb.\n",
      "Converted pod.client.ipynb.\n",
      "Converted pod.db.ipynb.\n",
      "Converted pod.utils.ipynb.\n",
      "Converted test_utils.ipynb.\n"
     ]
    }
   ],
   "source": [
    "# hide\n",
    "from nbdev.export import notebook2script\n",
    "notebook2script()"
   ]
  }
 ],
 "metadata": {
  "kernelspec": {
   "display_name": "Python 3 (ipykernel)",
   "language": "python",
   "name": "python3"
  }
 },
 "nbformat": 4,
 "nbformat_minor": 5
}
