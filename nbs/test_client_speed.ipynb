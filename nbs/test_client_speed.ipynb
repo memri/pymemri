{
 "cells": [
  {
   "cell_type": "code",
   "execution_count": null,
   "id": "20d15749",
   "metadata": {},
   "outputs": [],
   "source": [
    "%load_ext autoreload\n",
    "%autoreload 2"
   ]
  },
  {
   "cell_type": "code",
   "execution_count": null,
   "id": "36574432",
   "metadata": {},
   "outputs": [],
   "source": [
    "from pymemri.pod.client import PodClient\n",
    "from pymemri.data.schema import Account, EmailMessage"
   ]
  },
  {
   "cell_type": "code",
   "execution_count": null,
   "id": "2c0e1358",
   "metadata": {},
   "outputs": [],
   "source": [
    "client = PodClient()\n",
    "client.add_to_schema(EmailMessage)\n",
    "client2 = PodClient(owner_key=client.owner_key, database_key=client.database_key)"
   ]
  },
  {
   "cell_type": "markdown",
   "id": "72553da1",
   "metadata": {},
   "source": [
    "## Default schema"
   ]
  },
  {
   "cell_type": "code",
   "execution_count": null,
   "id": "19b6ac4d",
   "metadata": {},
   "outputs": [
    {
     "name": "stdout",
     "output_type": "stream",
     "text": [
      "BULK: Writing 10/10 items/edges\n",
      "Completed Bulk action, written 10 items/edges\n",
      "4.5 ms ± 61.9 µs per loop (mean ± std. dev. of 7 runs, 100 loops each)\n",
      "5.21 ms ± 193 µs per loop (mean ± std. dev. of 7 runs, 100 loops each)\n",
      "4.02 ms ± 251 µs per loop (mean ± std. dev. of 7 runs, 100 loops each)\n"
     ]
    }
   ],
   "source": [
    "accounts = [Account(identifier=\"a\") for _ in range(10)]\n",
    "client.bulk_action(accounts)\n",
    "\n",
    "%timeit client.create(Account(identifier=\"a\"))\n",
    "%timeit client.get(accounts[0].id)\n",
    "%timeit client.search({\"type\": \"EmailMessage\", \"_limit\": 10})"
   ]
  },
  {
   "cell_type": "markdown",
   "id": "fb6f9946",
   "metadata": {},
   "source": [
    "## Central schema"
   ]
  },
  {
   "cell_type": "code",
   "execution_count": null,
   "id": "ab9efa86",
   "metadata": {},
   "outputs": [],
   "source": [
    "from pymemri.pod.client import PodClient\n",
    "from pymemri.data.schema import Account, EmailMessage\n",
    "\n",
    "client = PodClient()\n",
    "client.add_to_schema(EmailMessage)\n",
    "\n",
    "#client.bulk_action(create_items=[EmailMessage(content=\"a\"*1000) for _ in range(100)])\n",
    "messages = [EmailMessage(content=\"a\"*1000) for _ in range(100)]\n",
    "for msg in messages:\n",
    "    client.create(msg)"
   ]
  },
  {
   "cell_type": "code",
   "execution_count": null,
   "id": "27b01117",
   "metadata": {},
   "outputs": [
    {
     "name": "stdout",
     "output_type": "stream",
     "text": [
      "4.86 ms ± 202 µs per loop (mean ± std. dev. of 7 runs, 100 loops each)\n",
      "4.74 ms ± 55.4 µs per loop (mean ± std. dev. of 7 runs, 100 loops each)\n",
      "3.85 ms ± 184 µs per loop (mean ± std. dev. of 7 runs, 100 loops each)\n"
     ]
    }
   ],
   "source": [
    "%timeit client.create(EmailMessage(content=\"a\"*1000))\n",
    "%timeit client.get(messages[0].id)\n",
    "%timeit client.search({\"type\": \"EmailMessage\", \"_limit\": 10})"
   ]
  },
  {
   "cell_type": "markdown",
   "id": "39d8f89f",
   "metadata": {},
   "source": [
    "### Issue: local_db slows search down significantly\n",
    "note: only with items added with create (not bulk_action)"
   ]
  },
  {
   "cell_type": "code",
   "execution_count": null,
   "id": "7e72a07d",
   "metadata": {},
   "outputs": [
    {
     "name": "stdout",
     "output_type": "stream",
     "text": [
      "132 ms ± 3.14 ms per loop (mean ± std. dev. of 7 runs, 10 loops each)\n",
      "77.9 ms ± 1.88 ms per loop (mean ± std. dev. of 7 runs, 10 loops each)\n"
     ]
    }
   ],
   "source": [
    "%timeit client.search({\"type\": \"EmailMessage\"})\n",
    "client.reset_local_db()\n",
    "%timeit client.search({\"type\": \"EmailMessage\"})"
   ]
  }
 ],
 "metadata": {
  "kernelspec": {
   "display_name": "Python 3 (ipykernel)",
   "language": "python",
   "name": "python3"
  }
 },
 "nbformat": 4,
 "nbformat_minor": 5
}
