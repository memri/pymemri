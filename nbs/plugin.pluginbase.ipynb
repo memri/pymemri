{
 "cells": [
  {
   "cell_type": "code",
   "execution_count": null,
   "metadata": {},
   "outputs": [],
   "source": [
    "%load_ext autoreload\n",
    "%autoreload 2\n",
    "# default_exp plugin.pluginbase"
   ]
  },
  {
   "cell_type": "code",
   "execution_count": null,
   "metadata": {},
   "outputs": [],
   "source": [
    "# export\n",
    "from pymemri.data.schema import *\n",
    "from pymemri.pod.client import PodClient, DEFAULT_POD_ADDRESS\n",
    "from pymemri.imports import *\n",
    "from os import environ\n",
    "from abc import ABCMeta\n",
    "import abc\n",
    "import json"
   ]
  },
  {
   "cell_type": "code",
   "execution_count": null,
   "metadata": {},
   "outputs": [],
   "source": [
    "# hide\n",
    "from nbdev.showdoc import *"
   ]
  },
  {
   "cell_type": "markdown",
   "metadata": {},
   "source": [
    "# Plugins"
   ]
  },
  {
   "cell_type": "code",
   "execution_count": null,
   "metadata": {},
   "outputs": [],
   "source": [
    "# export\n",
    "POD_FULL_ADDRESS_ENV        = 'POD_FULL_ADDRESS'\n",
    "POD_TARGET_ITEM_ENV         = 'POD_TARGET_ITEM'\n",
    "POD_OWNER_KEY_ENV           = 'POD_OWNER'\n",
    "POD_AUTH_JSON_ENV           = 'POD_AUTH_JSON'"
   ]
  },
  {
   "cell_type": "code",
   "execution_count": null,
   "metadata": {},
   "outputs": [],
   "source": [
    "# export\n",
    "# hide\n",
    "class PluginBase(Item, metaclass=ABCMeta):\n",
    "    \"\"\"Base class for plugins\"\"\"\n",
    "    properties = Item.properties + [\"name\", \"repository\", \"icon\", \"data_query\", \"bundleImage\",\n",
    "                                    \"runDestination\", \"pluginClass\", \"pluginPackage\"]\n",
    "    edges = Item.edges + [\"PluginRun\"]\n",
    "    \n",
    "    def __init__(self, name=None, repository=None, icon=None, query=None, bundleImage=None, runDestination=None,\n",
    "                 pluginClass=None, indexerRun=None, **kwargs):\n",
    "        if pluginClass is None: pluginClass=self.__class__.__name__\n",
    "        self.pluginPackage=None\n",
    "        super().__init__(**kwargs)\n",
    "        self.name = name\n",
    "        self.repository = repository\n",
    "        self.icon = icon\n",
    "        self.query = query\n",
    "        self.bundleImage = bundleImage\n",
    "        self.runDestination = runDestination\n",
    "        self.pluginClass = pluginClass\n",
    "        self.indexerRun = indexerRun if indexerRun is not None else []\n",
    "    \n",
    "    @abc.abstractmethod\n",
    "    def run(self):\n",
    "        raise NotImplementedError()\n",
    "        \n",
    "    @abc.abstractmethod    \n",
    "    def add_to_schema(self):\n",
    "        raise NotImplementedError()"
   ]
  },
  {
   "cell_type": "code",
   "execution_count": null,
   "metadata": {},
   "outputs": [],
   "source": [
    "# export\n",
    "# hide\n",
    "class PluginRun(Item):\n",
    "    properties = Item.properties\n",
    "    edges = Item.edges + [\"plugin\"]\n",
    "    \n",
    "    def __init__(self, plugin=None, **kwargs):\n",
    "        super().__init__(**kwargs)\n",
    "        self.plugin=plugin if plugin is not None else []"
   ]
  },
  {
   "cell_type": "markdown",
   "metadata": {},
   "source": [
    "## Creating a plugin"
   ]
  },
  {
   "cell_type": "markdown",
   "metadata": {},
   "source": [
    "The memri [pod](https://gitlab.memri.io/memri/pod) uses a plugin system to add features to the backend memri backend. Plugins, can import your data (importers), change your data (indexers), or call other serivces. Users can define their own plugins to add new behaviour to their memri app. Let's use the following plugin as an example of how we can start plugins."
   ]
  },
  {
   "cell_type": "code",
   "execution_count": null,
   "metadata": {},
   "outputs": [],
   "source": [
    "# export\n",
    "# hide\n",
    "class MyItem(Item):\n",
    "    properties = Item.properties + [\"name\", \"age\"]\n",
    "    edges = Item.edges\n",
    "    def __init__(self, name=None, age=None, **kwargs):\n",
    "        super().__init__(**kwargs)\n",
    "        self.name = name\n",
    "        self.age = age\n",
    "\n",
    "class MyPlugin(PluginBase):\n",
    "    \"\"\"\"\"\"\n",
    "    properties = PluginBase.properties\n",
    "    edges= PluginBase.edges\n",
    "    \n",
    "    def __init__(self, **kwargs):\n",
    "        super().__init__(**kwargs)\n",
    "        self.pluginPackage=\"pymemri.plugin.pluginbase\"\n",
    "        \n",
    "    def run(self, run, client):\n",
    "        print(\"running\")\n",
    "        client.create(MyItem(\"some person\", 20))\n",
    "        \n",
    "    def add_to_schema(self, client):\n",
    "        client.add_to_schema(MyItem(\"my name\", 10)) "
   ]
  },
  {
   "cell_type": "markdown",
   "metadata": {},
   "source": [
    "Memri plugins need to define at least 2 methods: `.run()` and `.add_to_schema()`. `.run()` defines the logic of the plugin. `.add_to_schema()` defines the schema for the plugin in the pod. Note that currently, `add_to_schema` requires all item to **have all properties defined that are used in the plugin**. In the future, we might replace add_to_schema, to be done automatically, based on a declarative schema defined in the plugin. "
   ]
  },
  {
   "cell_type": "code",
   "execution_count": null,
   "metadata": {},
   "outputs": [
    {
     "data": {
      "text/plain": [
       "MyPlugin (#None)"
      ]
     },
     "execution_count": null,
     "metadata": {},
     "output_type": "execute_result"
    }
   ],
   "source": [
    "MyPlugin()"
   ]
  },
  {
   "cell_type": "markdown",
   "metadata": {},
   "source": [
    "```python\n",
    "class MyItem(Item):\n",
    "    properties = Item.properties + [\"name\", \"age\"]\n",
    "    edges = Item.edges\n",
    "    def __init__(self, name=None, age=None, **kwargs):\n",
    "        super().__init__(**kwargs)\n",
    "        self.name = name\n",
    "        self.age = age\n",
    "\n",
    "class MyPlugin(PluginBase):\n",
    "    \"\"\"\"\"\"\n",
    "    properties = PluginBase.properties\n",
    "    edges= PluginBase.edges\n",
    "    \n",
    "    def __init__(self, **kwargs):\n",
    "        super().__init__(**kwargs)\n",
    "        self.pluginPackage=\"pymemri.plugin.pluginbase\"\n",
    "        \n",
    "    def run(self, run, client):\n",
    "        print(\"running\")\n",
    "        client.create(MyItem(\"some person\", 20))\n",
    "        \n",
    "    def add_to_schema(self, client):\n",
    "        client.add_to_schema(MyItem(\"my name\", 10)) \n",
    "```"
   ]
  },
  {
   "cell_type": "code",
   "execution_count": null,
   "metadata": {},
   "outputs": [],
   "source": [
    "from pymemri.pod.client import PodClient\n",
    "client = PodClient()"
   ]
  },
  {
   "cell_type": "code",
   "execution_count": null,
   "metadata": {},
   "outputs": [],
   "source": [
    "assert client.add_to_schema(MyPlugin(name=\"abc\", data_query=\"abc\"))\n",
    "assert client.add_to_schema(PluginRun())"
   ]
  },
  {
   "cell_type": "code",
   "execution_count": null,
   "metadata": {},
   "outputs": [],
   "source": [
    "plugin = MyPlugin(name=\"abc\", data_query=\"abc\")\n",
    "run = PluginRun()\n",
    "run.add_edge(\"plugin\", plugin)"
   ]
  },
  {
   "cell_type": "code",
   "execution_count": null,
   "metadata": {},
   "outputs": [],
   "source": [
    "client.create(run)\n",
    "client.create(plugin)\n",
    "client.create_edge(run.get_edges(\"plugin\")[0]);"
   ]
  },
  {
   "cell_type": "code",
   "execution_count": null,
   "metadata": {},
   "outputs": [],
   "source": [
    "run = client.get(run.id)"
   ]
  },
  {
   "cell_type": "markdown",
   "metadata": {},
   "source": [
    "## Running your plugin"
   ]
  },
  {
   "cell_type": "markdown",
   "metadata": {},
   "source": [
    "Plugins can be started using the pymemri `run_plugin` CLI. To use the CLI, you can either pass your run arguments as parameters, or set them as environment variables. If both are set, the CLI will prefer the passed arguments."
   ]
  },
  {
   "cell_type": "code",
   "execution_count": null,
   "metadata": {},
   "outputs": [],
   "source": [
    "# hide\n",
    "# export\n",
    "def run_plugin_from_run_id(run_id, client):\n",
    "    run = client.get(run_id)\n",
    "    plugins = run.plugin\n",
    "    if len(plugins) == 0:\n",
    "        raise ValueError(f\"plugin run {run_id} has no plugin attached to it. Make sure there is a 'plugin' \\\n",
    "                           edge from your run to the actual plugin object.\")\n",
    "    if len(plugins) > 1:\n",
    "        raise ValueError(\"Too many plugins attached to run\")\n",
    "    plugin = plugins[0]\n",
    "    plugin.add_to_schema(client)\n",
    "    plugin.run(run, client)"
   ]
  },
  {
   "cell_type": "code",
   "execution_count": null,
   "metadata": {},
   "outputs": [],
   "source": [
    "# export\n",
    "# hide\n",
    "def register_base_classes(client):\n",
    "    try:\n",
    "        assert client.add_to_schema(PluginRun())\n",
    "    except Exception as e:\n",
    "        raise ValueError(\"Could not add base schema\")"
   ]
  },
  {
   "cell_type": "code",
   "execution_count": null,
   "metadata": {},
   "outputs": [
    {
     "name": "stdout",
     "output_type": "stream",
     "text": [
      "running\n"
     ]
    }
   ],
   "source": [
    "# hide\n",
    "run_plugin_from_run_id(run.id, client)"
   ]
  },
  {
   "cell_type": "code",
   "execution_count": null,
   "metadata": {},
   "outputs": [],
   "source": [
    "# export\n",
    "def _run_plugin(client, plugin_run_id=None, verbose=False):\n",
    "    \"\"\"Runs an plugin, you can either provide the run settings as parameters to this function (for local testing)\n",
    "    or via environment variables (this is how the pod communicates with plugins).\"\"\"\n",
    "    register_base_classes(client)\n",
    "    run_plugin_from_run_id(plugin_run_id, client)\n",
    "    "
   ]
  },
  {
   "cell_type": "code",
   "execution_count": null,
   "metadata": {},
   "outputs": [
    {
     "name": "stdout",
     "output_type": "stream",
     "text": [
      "running\n"
     ]
    }
   ],
   "source": [
    "# hide\n",
    "_run_plugin(client=client, plugin_run_id=run.id)"
   ]
  },
  {
   "cell_type": "markdown",
   "metadata": {},
   "source": [
    "### CLI"
   ]
  },
  {
   "cell_type": "code",
   "execution_count": null,
   "metadata": {},
   "outputs": [],
   "source": [
    "# export\n",
    "# hide\n",
    "def _parse_env(env):\n",
    "    try:\n",
    "        pod_full_address = env.get(POD_FULL_ADDRESS_ENV, DEFAULT_POD_ADDRESS)\n",
    "        plugin_run_json  = json.loads(str(env[POD_TARGET_ITEM_ENV]))\n",
    "        plugin_run_id    = plugin_run_json[\"id\"]\n",
    "        owner_key        = env.get(POD_OWNER_KEY_ENV)\n",
    "        pod_auth_json    = json.loads(str(env.get(POD_AUTH_JSON_ENV)))\n",
    "#         database_key = pod_service_payload[DATABASE_KEY_ENV]\n",
    "#         owner_key    = pod_service_payload[OWNER_KEY_ENV]\n",
    "        return pod_full_address, plugin_run_id, pod_auth_json, owner_key\n",
    "    except KeyError as e:\n",
    "        raise Exception('Missing parameter: {}'.format(e)) from None\n"
   ]
  },
  {
   "cell_type": "code",
   "execution_count": null,
   "metadata": {},
   "outputs": [],
   "source": [
    "# export\n",
    "from fastscript import *\n",
    "import os\n",
    "\n",
    "@call_parse\n",
    "def run_plugin(pod_full_address:Param(\"The pod full address\", str)=None,\n",
    "               plugin_run_id:Param(\"Run id of the plugin to be executed\", str)=None,\n",
    "               database_key:Param(\"Database key of the pod\", str)=None,\n",
    "               owner_key:Param(\"Owner key of the pod\", str)=None,\n",
    "               from_pod:Param(\"Run by calling the pod\", bool)=False,\n",
    "               container:Param(\"Pod container to run frod\", str)=None):\n",
    "\n",
    "    env = os.environ\n",
    "    params = [pod_full_address, plugin_run_id, database_key, owner_key]\n",
    "    \n",
    "    if all([p is None for p in params]):\n",
    "        print(\"Reading `run_plugin()` parameters from environment variables\")\n",
    "        pod_full_address, plugin_run_id, pod_auth_json, owner_key = _parse_env(env)\n",
    "        database_key=None\n",
    "    else:\n",
    "        print(\"Used arguments passed to `run_plugin()` (ignoring environment)\")\n",
    "        pod_auth_json=None\n",
    "        if (None in params):\n",
    "            raise ValueError(f\"Defined some params to run indexer, but not all. Missing \\\n",
    "                             {[p for p in params if p is None]}\")\n",
    "    client = PodClient(url=pod_full_address, database_key=database_key, owner_key=owner_key,\n",
    "                       auth_json=pod_auth_json)\n",
    "    for name, val in [(\"pod_full_address\", pod_full_address), (\"plugin_run_id\", plugin_run_id),\n",
    "                      (\"owner_key\", owner_key), (\"auth_json\", pod_auth_json)]:\n",
    "        print(f\"{name} = {val}\")\n",
    "    print()\n",
    "    if from_pod:\n",
    "        print(f\"calling the `create` api on {pod_full_address} to make your Pod start \" \n",
    "              f\"a plugin with id {plugin_run_id}.\")\n",
    "        print(f\"*Check the pod log/console for debug output.*\")\n",
    "        assert container is not None\n",
    "        client.start_plugin(container, plugin_run_id)\n",
    "    else:\n",
    "        _run_plugin(client=client, plugin_run_id=plugin_run_id)"
   ]
  },
  {
   "cell_type": "markdown",
   "metadata": {},
   "source": [
    "To start a plugin on your local machine, you can use the CLI. This will create a client for you, and run the code defined in `<myplugin>.run()`"
   ]
  },
  {
   "cell_type": "code",
   "execution_count": null,
   "metadata": {},
   "outputs": [
    {
     "name": "stdout",
     "output_type": "stream",
     "text": [
      "Used arguments passed to `run_plugin()` (ignoring environment)\n",
      "pod_full_address = http://localhost:3030\n",
      "plugin_run_id = d5a47f06079d1fc3a30465d975804a3c\n",
      "owner_key = 1695144462728245497259821516084075751813751672211754961447730595\n",
      "auth_json = None\n",
      "\n",
      "running\n"
     ]
    }
   ],
   "source": [
    "!run_plugin --pod_full_address=$DEFAULT_POD_ADDRESS --plugin_run_id=$run.id --owner_key=$client.owner_key \\\n",
    "            --database_key=$client.database_key"
   ]
  },
  {
   "cell_type": "markdown",
   "metadata": {},
   "source": [
    "## Run plugin from pod -"
   ]
  },
  {
   "cell_type": "code",
   "execution_count": null,
   "metadata": {},
   "outputs": [],
   "source": [
    "# export\n",
    "# hide\n",
    "class StartPlugin(Item):\n",
    "    properties = Item.properties + [\"container\", \"targetItemId\"]\n",
    "    edges = Item.edges\n",
    "    def __init__(self, container=None, targetItemId=None, **kwargs):\n",
    "        super().__init__(**kwargs)\n",
    "        self.container = container\n",
    "        self.targetItemId = targetItemId"
   ]
  },
  {
   "cell_type": "markdown",
   "metadata": {},
   "source": [
    "In production, we start plugins by making an API call to the pod, which in turn creates an environment for the plugin and starts it (currently on docker is supported). We can start this process using the CLI by provding `--from_pod==True` and providing a `--container` (the docker container used by the pod). **Note that the provided docker container should be installed within the Pod environemnt (e.g. `docker build -t pymemri .` for this repo) in order to start it.** "
   ]
  },
  {
   "cell_type": "code",
   "execution_count": null,
   "metadata": {},
   "outputs": [
    {
     "name": "stdout",
     "output_type": "stream",
     "text": [
      "Used arguments passed to `run_plugin()` (ignoring environment)\n",
      "pod_full_address = http://localhost:3030\n",
      "plugin_run_id = d5a47f06079d1fc3a30465d975804a3c\n",
      "owner_key = 1695144462728245497259821516084075751813751672211754961447730595\n",
      "auth_json = None\n",
      "\n",
      "calling the `create` api on http://localhost:3030 to make your Pod start a plugin with id d5a47f06079d1fc3a30465d975804a3c.\n",
      "*Check the pod log/console for debug output.*\n"
     ]
    }
   ],
   "source": [
    "!run_plugin --pod_full_address=$DEFAULT_POD_ADDRESS --plugin_run_id=$run.id --owner_key=$client.owner_key \\\n",
    "            --database_key=$client.database_key --from_pod=True, --container=\"pymemri\""
   ]
  },
  {
   "cell_type": "markdown",
   "metadata": {},
   "source": [
    "> Note: The data that was created earlier (PluginRun, plugin) should be in the pod in order for this to work"
   ]
  },
  {
   "cell_type": "code",
   "execution_count": null,
   "metadata": {},
   "outputs": [],
   "source": [
    "# hide\n",
    "# client.start_plugin(\"pymemri\", run.id)"
   ]
  },
  {
   "cell_type": "markdown",
   "metadata": {},
   "source": [
    "## Running a Plugin by providing environment variables -"
   ]
  },
  {
   "cell_type": "code",
   "execution_count": null,
   "metadata": {},
   "outputs": [],
   "source": [
    "# hide\n",
    "# # export\n",
    "# def generate_test_env(client, indexer_run):\n",
    "#     payload = json.dumps({DATABASE_KEY_ENV: client.database_key, OWNER_KEY_ENV: client.owner_key})\n",
    "              \n",
    "#     return {POD_FULL_ADDRESS_ENV: DEFAULT_POD_ADDRESS,\n",
    "#             POD_TARGET_ITEM: indexer_run.id,\n",
    "#             POD_SERVICE_PAYLOAD_ENV: payload}"
   ]
  },
  {
   "cell_type": "code",
   "execution_count": null,
   "metadata": {},
   "outputs": [],
   "source": [
    "# hide\n",
    "# run_plugin(env=generate_test_env(client, run))"
   ]
  },
  {
   "cell_type": "markdown",
   "metadata": {},
   "source": [
    "# Export -"
   ]
  },
  {
   "cell_type": "code",
   "execution_count": null,
   "metadata": {},
   "outputs": [
    {
     "name": "stdout",
     "output_type": "stream",
     "text": [
      "Converted basic.ipynb.\n",
      "Converted data.photo.ipynb.\n",
      "Converted importers.Importer.ipynb.\n",
      "Converted importers.util.ipynb.\n",
      "Converted index.ipynb.\n",
      "Converted indexers.indexer.ipynb.\n",
      "Converted itembase.ipynb.\n",
      "Converted plugin.pluginbase.ipynb.\n",
      "Converted pod.client.ipynb.\n"
     ]
    }
   ],
   "source": [
    "# hide\n",
    "from nbdev.export import *\n",
    "notebook2script()"
   ]
  },
  {
   "cell_type": "code",
   "execution_count": null,
   "metadata": {},
   "outputs": [],
   "source": []
  }
 ],
 "metadata": {
  "kernelspec": {
   "display_name": "Python 3",
   "language": "python",
   "name": "python3"
  }
 },
 "nbformat": 4,
 "nbformat_minor": 4
}
