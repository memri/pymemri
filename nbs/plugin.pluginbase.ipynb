{
 "cells": [
  {
   "cell_type": "code",
   "execution_count": null,
   "metadata": {},
   "outputs": [],
   "source": [
    "%load_ext autoreload\n",
    "%autoreload 2\n",
    "# default_exp plugin.pluginbase"
   ]
  },
  {
   "cell_type": "code",
   "execution_count": null,
   "metadata": {},
   "outputs": [],
   "source": [
    "# export\n",
    "from pymemri.data.schema import *\n",
    "from pymemri.pod.client import PodClient, DEFAULT_POD_ADDRESS\n",
    "from pymemri.imports import *\n",
    "from os import environ\n",
    "from abc import ABCMeta\n",
    "import abc\n",
    "import json\n",
    "import importlib\n",
    "import string\n",
    "from enum import Enum\n",
    "from pymemri.pod.client import PodClient\n",
    "from fastscript import *\n",
    "import os"
   ]
  },
  {
   "cell_type": "code",
   "execution_count": null,
   "metadata": {},
   "outputs": [],
   "source": [
    "# hide\n",
    "from nbdev.showdoc import *"
   ]
  },
  {
   "cell_type": "markdown",
   "metadata": {},
   "source": [
    "# Plugins"
   ]
  },
  {
   "cell_type": "markdown",
   "metadata": {},
   "source": [
    "PluginBase is the plugin class that the simplest plugin inherits.\n",
    "\n",
    "Inheriting class should implement:\n",
    "\n",
    "- run()           that implements the logic of the plugin\n",
    "- add_to_schema() for plugin specific item types"
   ]
  },
  {
   "cell_type": "code",
   "execution_count": null,
   "metadata": {},
   "outputs": [],
   "source": [
    "# export\n",
    "POD_FULL_ADDRESS_ENV        = 'POD_FULL_ADDRESS'\n",
    "POD_TARGET_ITEM_ENV         = 'POD_TARGET_ITEM'\n",
    "POD_OWNER_KEY_ENV           = 'POD_OWNER'\n",
    "POD_AUTH_JSON_ENV           = 'POD_AUTH_JSON'"
   ]
  },
  {
   "cell_type": "code",
   "execution_count": null,
   "metadata": {},
   "outputs": [],
   "source": [
    "# export\n",
    "# hide\n",
    "class PluginBase(Item, metaclass=ABCMeta):\n",
    "    \"\"\"Base class for plugins\"\"\"\n",
    "    properties = Item.properties + [\"name\", \"repository\", \"icon\", \"data_query\", \"bundleImage\",\n",
    "                                    \"runDestination\", \"pluginClass\"]\n",
    "    edges = Item.edges\n",
    "    \n",
    "    def __init__(self, name=None, repository=None, icon=None, query=None, bundleImage=None, runDestination=None,\n",
    "                 pluginClass=None, **kwargs):\n",
    "        if pluginClass is None: pluginClass=self.__class__.__name__\n",
    "        super().__init__(**kwargs)\n",
    "        self.name = name\n",
    "        self.repository = repository\n",
    "        self.icon = icon\n",
    "        self.query = query\n",
    "        self.bundleImage = bundleImage\n",
    "        self.runDestination = runDestination\n",
    "        self.pluginClass = pluginClass\n",
    "    \n",
    "    @abc.abstractmethod\n",
    "    def run(self):\n",
    "        raise NotImplementedError()\n",
    "        \n",
    "    @abc.abstractmethod    \n",
    "    def add_to_schema(self, client):\n",
    "        raise NotImplementedError()"
   ]
  },
  {
   "cell_type": "code",
   "execution_count": null,
   "metadata": {},
   "outputs": [],
   "source": [
    "# export\n",
    "# hide\n",
    "class PluginRun(Item):\n",
    "    properties = Item.properties + [\"targetItemId\", \"pluginModule\", \"pluginName\", \"config\", \"containerImage\",\n",
    "                                    \"state\"]\n",
    "    edges = PluginBase.edges + [\"view\"]\n",
    "\n",
    "    def __init__(self, containerImage, pluginModule, pluginName, config=\"\", state=None, view=None, targetItemId=None,\n",
    "                 **kwargs):\n",
    "        \"\"\"\n",
    "                PluginRun defines a the run of plugin `plugin_module.plugin_name`,\n",
    "        with an optional `config` string.\n",
    "\n",
    "        Args:\n",
    "            plugin_module (str): module of the plugin.\n",
    "            plugin_name (str): class name of the plugin.\n",
    "            config (str, optional): Optional plugin configuration. For example, \n",
    "                this could be a `json.dumps` of a configuration dict. Defaults to None.\n",
    "        \"\"\"\n",
    "        super().__init__(**kwargs)\n",
    "        self.pluginModule = pluginModule\n",
    "        self.pluginName = pluginName\n",
    "        self.config = config\n",
    "        self.containerImage=containerImage\n",
    "        id_ = \"\".join([random.choice(string.hexdigits) for i in range(32)]) if targetItemId is None else targetItemId\n",
    "        self.targetItemId=id_\n",
    "        self.id=id_\n",
    "        self.state=state\n",
    "\n",
    "        self.view = view if view is not None else []"
   ]
  },
  {
   "cell_type": "markdown",
   "metadata": {},
   "source": [
    "## Creating a plugin"
   ]
  },
  {
   "cell_type": "markdown",
   "metadata": {},
   "source": [
    "The memri [pod](https://gitlab.memri.io/memri/pod) uses a plugin system to add features to the backend memri backend. Plugins can import your data (importers), change your data (indexers), or call other serivces. Users can define their own plugins to add new behaviour to their memri app. Let's use the following plugin as an example of how we can start plugins."
   ]
  },
  {
   "cell_type": "code",
   "execution_count": null,
   "metadata": {},
   "outputs": [],
   "source": [
    "# export\n",
    "# hide\n",
    "class MyItem(Item):\n",
    "    properties = Item.properties + [\"name\", \"age\"]\n",
    "    edges = Item.edges\n",
    "    def __init__(self, name=None, age=None, **kwargs):\n",
    "        super().__init__(**kwargs)\n",
    "        self.name = name\n",
    "        self.age = age\n",
    "\n",
    "class MyPlugin(PluginBase):\n",
    "    \"\"\"\"\"\"\n",
    "    properties = PluginBase.properties + [\"containerImage\"]\n",
    "    edges= PluginBase.edges\n",
    "    \n",
    "    def __init__(self, **kwargs):\n",
    "        super().__init__(**kwargs)\n",
    "        \n",
    "    def run(self, run, client):\n",
    "        print(\"running\")\n",
    "        client.create(MyItem(\"some person\", 20))\n",
    "        \n",
    "    def add_to_schema(self, client):\n",
    "        client.add_to_schema(MyItem(\"my name\", 10)) "
   ]
  },
  {
   "cell_type": "code",
   "execution_count": null,
   "metadata": {},
   "outputs": [
    {
     "data": {
      "text/plain": [
       "MyPlugin (#None)"
      ]
     },
     "execution_count": null,
     "metadata": {},
     "output_type": "execute_result"
    }
   ],
   "source": [
    "# hide\n",
    "MyPlugin()"
   ]
  },
  {
   "cell_type": "markdown",
   "metadata": {},
   "source": [
    "```python\n",
    "class MyItem(Item):\n",
    "    properties = Item.properties + [\"name\", \"age\"]\n",
    "    edges = Item.edges\n",
    "    def __init__(self, name=None, age=None, **kwargs):\n",
    "        super().__init__(**kwargs)\n",
    "        self.name = name\n",
    "        self.age = age\n",
    "\n",
    "class MyPlugin(PluginBase):\n",
    "    \"\"\"\"\"\"\n",
    "    properties = PluginBase.properties\n",
    "    edges= PluginBase.edges\n",
    "    \n",
    "    def __init__(self, **kwargs):\n",
    "        super().__init__(**kwargs)\n",
    "        \n",
    "    def run(self, run, client):\n",
    "        print(\"running\")\n",
    "        client.create(MyItem(\"some person\", 20))\n",
    "        \n",
    "    def add_to_schema(self, client):\n",
    "        client.add_to_schema(MyItem(\"my name\", 10)) \n",
    "```"
   ]
  },
  {
   "cell_type": "markdown",
   "metadata": {},
   "source": [
    "Memri plugins need to define at least 2 methods: `.run()` and `.add_to_schema()`. `.run()` defines the logic of the plugin. `.add_to_schema()` defines the schema for the plugin in the pod. Note that currently, `add_to_schema` requires all item to **have all properties defined that are used in the plugin**. In the future, we might replace add_to_schema, to be done automatically, based on a declarative schema defined in the plugin. "
   ]
  },
  {
   "cell_type": "markdown",
   "metadata": {},
   "source": [
    "## Helper classes -"
   ]
  },
  {
   "cell_type": "code",
   "execution_count": null,
   "metadata": {},
   "outputs": [],
   "source": [
    "# hide\n",
    "# export\n",
    "def get_plugin(plugin_module, plugin_name):\n",
    "    try:\n",
    "        module = importlib.import_module(plugin_module)\n",
    "        plugin_cls = getattr(module, plugin_name)\n",
    "        return plugin_cls()\n",
    "    except (ImportError, AttributeError):\n",
    "        raise ImportError(f\"Unknown plugin: {plugin_module}.{plugin_name}\")\n",
    "\n",
    "def run_plugin_from_run_id(run_id, client, return_plugin=False):\n",
    "    \"\"\"\n",
    "    Args:\n",
    "        run_id (int): id of the PluginRun\n",
    "        client (PodClient): client containing PluginRun\n",
    "        return_plugin (bool): Returns created plugin instance for testing purposes.\n",
    "    \"\"\"\n",
    "    run = client.get(run_id)\n",
    "    plugin = get_plugin(run.pluginModule, run.pluginName)\n",
    "    plugin.add_to_schema(client)\n",
    "    plugin.run(run, client)\n",
    "\n",
    "    return plugin if return_plugin else None"
   ]
  },
  {
   "cell_type": "code",
   "execution_count": null,
   "metadata": {},
   "outputs": [],
   "source": [
    "# export\n",
    "# hide\n",
    "def register_base_schemas(client):\n",
    "    try:\n",
    "        assert client.add_to_schema(PluginRun(\"\", \"\", \"\", \"\", \"\"))\n",
    "        assert client.add_to_schema(CVUStoredDefinition(name=\"\", definition=\"\"))\n",
    "    except Exception as e:\n",
    "        raise ValueError(\"Could not add base schema\")"
   ]
  },
  {
   "cell_type": "code",
   "execution_count": null,
   "metadata": {},
   "outputs": [
    {
     "name": "stdout",
     "output_type": "stream",
     "text": [
      "running\n"
     ]
    }
   ],
   "source": [
    "# hide\n",
    "# skip\n",
    "client = PodClient()\n",
    "run = PluginRun(\"pymemri\", \"pymemri.plugin.pluginbase\", \"MyPlugin\", \"my_config_string\", state=\"not started\")\n",
    "assert client.add_to_schema(PluginRun(\"\", \"\", \"\", \"\", \"\"))\n",
    "assert client.create(run)\n",
    "run = client.get(run.id)\n",
    "run_plugin_from_run_id(run.id, client)"
   ]
  },
  {
   "cell_type": "code",
   "execution_count": null,
   "metadata": {},
   "outputs": [],
   "source": [
    "# export\n",
    "def _run_plugin(client, plugin_run_id=None, verbose=False):\n",
    "    \"\"\"Runs an plugin, you can either provide the run settings as parameters to this function (for local testing)\n",
    "    or via environment variables (this is how the pod communicates with plugins).\"\"\"\n",
    "    register_base_schemas(client)\n",
    "    run_plugin_from_run_id(plugin_run_id, client)"
   ]
  },
  {
   "cell_type": "code",
   "execution_count": null,
   "metadata": {},
   "outputs": [
    {
     "name": "stdout",
     "output_type": "stream",
     "text": [
      "running\n"
     ]
    }
   ],
   "source": [
    "# hide\n",
    "# skip\n",
    "_run_plugin(client=client, plugin_run_id=run.id)"
   ]
  },
  {
   "cell_type": "code",
   "execution_count": null,
   "metadata": {},
   "outputs": [],
   "source": [
    "# export\n",
    "# hide\n",
    "def _parse_env(env):\n",
    "    try:\n",
    "        pod_full_address = env.get(POD_FULL_ADDRESS_ENV, DEFAULT_POD_ADDRESS)\n",
    "        plugin_run_json  = json.loads(str(env[POD_TARGET_ITEM_ENV]))\n",
    "        print(plugin_run_json)\n",
    "        plugin_run_id    = plugin_run_json[\"id\"]\n",
    "        owner_key        = env.get(POD_OWNER_KEY_ENV)\n",
    "        pod_auth_json    = json.loads(str(env.get(POD_AUTH_JSON_ENV)))\n",
    "#         database_key = pod_service_payload[DATABASE_KEY_ENV]\n",
    "#         owner_key    = pod_service_payload[OWNER_KEY_ENV]\n",
    "        return pod_full_address, plugin_run_id, pod_auth_json, owner_key\n",
    "    except KeyError as e:\n",
    "        raise Exception('Missing parameter: {}'.format(e)) from None\n"
   ]
  },
  {
   "cell_type": "markdown",
   "metadata": {},
   "source": [
    "## Running your plugin using the CLI"
   ]
  },
  {
   "cell_type": "markdown",
   "metadata": {},
   "source": [
    "Plugins can be started using the pymemri `run_plugin` or `run_plugin_from_pod` CLI. With `run_plugin` the plugin is invoked directly by spawning a new python process, while `run_plugin_from_pod` requests the pod to spawn a new process, docker container, or kubernetes container, which in calls `run_plugin` (for more info see `run_plugin_from_pod`. When using `run_plugin`, you can either pass your run arguments as parameters, or set them as environment variables. If both are set, the CLI will use the passed arguments."
   ]
  },
  {
   "cell_type": "code",
   "execution_count": null,
   "metadata": {},
   "outputs": [],
   "source": [
    "# export\n",
    "@call_parse\n",
    "def run_plugin(pod_full_address:Param(\"The pod full address\", str)=None,\n",
    "               plugin_run_id:Param(\"Run id of the plugin to be executed\", str)=None,\n",
    "               database_key:Param(\"Database key of the pod\", str)=None,\n",
    "               owner_key:Param(\"Owner key of the pod\", str)=None,\n",
    "               container:Param(\"Pod container to run frod\", str)=None):\n",
    "\n",
    "    env = os.environ\n",
    "    params = [pod_full_address, plugin_run_id, database_key, owner_key]\n",
    "    \n",
    "    if all([p is None for p in params]):\n",
    "        print(\"Reading `run_plugin()` parameters from environment variables\")\n",
    "        pod_full_address, plugin_run_id, pod_auth_json, owner_key = _parse_env(env)\n",
    "        database_key=None\n",
    "    else:\n",
    "        print(\"Used arguments passed to `run_plugin()` (ignoring environment)\")\n",
    "        pod_auth_json=None\n",
    "        if (None in params):\n",
    "            raise ValueError(f\"Defined some params to run indexer, but not all. Missing \\\n",
    "                             {[p for p in params if p is None]}\")\n",
    "    client = PodClient(url=pod_full_address, database_key=database_key, owner_key=owner_key,\n",
    "                       auth_json=pod_auth_json)\n",
    "    for name, val in [(\"pod_full_address\", pod_full_address), (\"plugin_run_id\", plugin_run_id),\n",
    "                      (\"owner_key\", owner_key), (\"auth_json\", pod_auth_json)]:\n",
    "        print(f\"{name}={val}\")\n",
    "    print()\n",
    "    _run_plugin(client=client, plugin_run_id=plugin_run_id)"
   ]
  },
  {
   "cell_type": "markdown",
   "metadata": {},
   "source": [
    "To start a plugin on your local machine, you can use the CLI. This will create a client for you, and run the code defined in `<myplugin>.run()`"
   ]
  },
  {
   "cell_type": "code",
   "execution_count": null,
   "metadata": {},
   "outputs": [],
   "source": [
    "# skip\n",
    "client = PodClient()\n",
    "run = PluginRun(containerImage=\"pymemri\", pluginModule=\"pymemri.plugin.pluginbase\",\n",
    "                pluginName=\"MyPlugin\", config=\"\", state=\"not started\")\n",
    "assert client.add_to_schema(PluginRun(\"\", \"\", \"\", \"\", \"\")) and client.create(run)"
   ]
  },
  {
   "cell_type": "code",
   "execution_count": null,
   "metadata": {},
   "outputs": [
    {
     "name": "stdout",
     "output_type": "stream",
     "text": [
      "Used arguments passed to `run_plugin()` (ignoring environment)\n",
      "pod_full_address=http://localhost:3030\n",
      "plugin_run_id=1bf06Bfb7B63f114FcfB8DBC67eA49Be\n",
      "owner_key=3961574559904730128514448689870083724159258570216156665995117538\n",
      "auth_json=None\n",
      "\n",
      "running\n"
     ]
    }
   ],
   "source": [
    "!run_plugin --pod_full_address=$DEFAULT_POD_ADDRESS --owner_key=$client.owner_key \\\n",
    "            --database_key=$client.database_key --container=\"pymemri\" --plugin_run_id=$run.id"
   ]
  },
  {
   "cell_type": "markdown",
   "metadata": {},
   "source": [
    "> Note: The data that is created here should be in the pod in order for this to work"
   ]
  },
  {
   "cell_type": "markdown",
   "metadata": {},
   "source": [
    "## Run from pod "
   ]
  },
  {
   "cell_type": "markdown",
   "metadata": {},
   "source": [
    "In production, we start plugins by making an API call to the pod, which in turn creates an environment for the plugin and starts it using docker containers, kubernetes containers or a shell script. We can start this process using the `run_plugin_from_pod` CLI. **Note that when using docker, provided container name should be \"installed\" within the Pod environemnt (e.g. `docker build -t pymemri .` for this repo) in order to start it.** "
   ]
  },
  {
   "cell_type": "markdown",
   "metadata": {},
   "source": [
    "![running a plugin](images/running_a_plugin.svg)"
   ]
  },
  {
   "cell_type": "code",
   "execution_count": null,
   "metadata": {},
   "outputs": [],
   "source": [
    "# export\n",
    "from fastcore.script import call_parse, Param\n",
    "import os\n",
    "\n",
    "@call_parse\n",
    "def run_plugin_from_pod(pod_full_address:Param(\"The pod full address\", str)=None,\n",
    "                        database_key:Param(\"Database key of the pod\", str)=None,\n",
    "                        owner_key:Param(\"Owner key of the pod\", str)=None,\n",
    "                        container:Param(\"Pod container to run frod\", str)=None,\n",
    "                        plugin_module:Param(\"Plugin module\", str)=None,\n",
    "                        plugin_name:Param(\"Plugin class name\", str)=None,\n",
    "                        settings_file:Param(\"Plugin settings (json)\", str)=None):\n",
    "    params = [pod_full_address, database_key, owner_key, container, plugin_module, plugin_name]\n",
    "    if (None in params):\n",
    "        raise ValueError(f\"Defined some params to run indexer, but not all. Missing \\\n",
    "                         {[p for p in params if p is None]}\")\n",
    "    client = PodClient(url=pod_full_address, database_key=database_key, owner_key=owner_key)\n",
    "    for name, val in [(\"pod_full_address\", pod_full_address), (\"owner_key\", owner_key)]:\n",
    "        print(f\"{name}={val}\")\n",
    "\n",
    "    if settings_file is not None:\n",
    "        with open(settings_file, 'r') as f:\n",
    "            settings = f.read()\n",
    "    else:\n",
    "        settings = None\n",
    "    \n",
    "    register_base_schemas(client)\n",
    "    run = PluginRun(container, plugin_module, plugin_name, settings)\n",
    "    print(f\"\\ncalling the `create` api on {pod_full_address} to make your Pod start \" \n",
    "          f\"a plugin with id {run.id}.\")\n",
    "    print(f\"*Check the pod log/console for debug output.*\")\n",
    "    client.create(run)\n",
    "    print(f\"Created PluginRun: {run.id}\")\n",
    "    return run\n"
   ]
  },
  {
   "cell_type": "code",
   "execution_count": null,
   "metadata": {},
   "outputs": [],
   "source": [
    "client = PodClient()"
   ]
  },
  {
   "cell_type": "code",
   "execution_count": null,
   "metadata": {},
   "outputs": [
    {
     "name": "stdout",
     "output_type": "stream",
     "text": [
      "pod_full_address=http://localhost:3030\n",
      "owner_key=4566065835753341432440539540364977361089552669232085362436171995\n",
      "\n",
      "calling the `create` api on http://localhost:3030 to make your Pod start a plugin with id cc01FaEbAf5DC88ADc27e408a790b8D6.\n",
      "*Check the pod log/console for debug output.*\n",
      "Created PluginRun: cc01FaEbAf5DC88ADc27e408a790b8D6\n"
     ]
    }
   ],
   "source": [
    "!run_plugin_from_pod --pod_full_address=$DEFAULT_POD_ADDRESS --owner_key=$client.owner_key \\\n",
    "                     --database_key=$client.database_key --container=\"pymemri\" \\\n",
    "                     --plugin_module=\"pymemri.plugin.pluginbase\" --plugin_name=\"MyPlugin\""
   ]
  },
  {
   "cell_type": "markdown",
   "metadata": {},
   "source": [
    "## Appendix -"
   ]
  },
  {
   "cell_type": "code",
   "execution_count": null,
   "metadata": {},
   "outputs": [],
   "source": [
    "# hide\n",
    "# client.start_plugin(\"pymemri\", run.id)"
   ]
  },
  {
   "cell_type": "code",
   "execution_count": null,
   "metadata": {},
   "outputs": [],
   "source": [
    "# hide\n",
    "# class StartPlugin(Item):\n",
    "#     properties = Item.properties + [\"container\", \"targetItemId\"]\n",
    "#     edges = Item.edges\n",
    "#     def __init__(self, container=None, targetItemId=None, **kwargs):\n",
    "#         super().__init__(**kwargs)\n",
    "#         self.container = container\n",
    "#         self.targetItemId = targetItemId"
   ]
  },
  {
   "cell_type": "code",
   "execution_count": null,
   "metadata": {},
   "outputs": [],
   "source": [
    "# hide\n",
    "# class PluginSettings(Item):\n",
    "#     def __init__(self, settings_dict):\n",
    "#         self.settings_dict=settings_dict\n",
    "        \n",
    "#     def __getattr__(self, k):\n",
    "#         if k in self.settings_dict:\n",
    "#             return self.settings_dict[k]\n",
    "        \n",
    "#     @classmethod\n",
    "#     def from_string(cls, s):\n",
    "#         objs = json.loads(s)\n",
    "#         cls(objs)"
   ]
  },
  {
   "cell_type": "code",
   "execution_count": null,
   "metadata": {},
   "outputs": [],
   "source": [
    "# hide\n",
    "# # export\n",
    "# def generate_test_env(client, indexer_run):\n",
    "#     payload = json.dumps({DATABASE_KEY_ENV: client.database_key, OWNER_KEY_ENV: client.owner_key})\n",
    "              \n",
    "#     return {POD_FULL_ADDRESS_ENV: DEFAULT_POD_ADDRESS,\n",
    "#             POD_TARGET_ITEM: indexer_run.id,\n",
    "#             POD_SERVICE_PAYLOAD_ENV: payload}"
   ]
  },
  {
   "cell_type": "code",
   "execution_count": null,
   "metadata": {},
   "outputs": [],
   "source": [
    "# hide\n",
    "# run_plugin(env=generate_test_env(client, run))"
   ]
  },
  {
   "cell_type": "markdown",
   "metadata": {},
   "source": [
    "# Export -"
   ]
  },
  {
   "cell_type": "code",
   "execution_count": null,
   "metadata": {},
   "outputs": [
    {
     "name": "stdout",
     "output_type": "stream",
     "text": [
      "Converted basic.ipynb.\n",
      "Converted data.photo.ipynb.\n",
      "Converted importers.Importer.ipynb.\n",
      "Converted importers.util.ipynb.\n",
      "Converted index.ipynb.\n",
      "Converted indexers.indexer.ipynb.\n",
      "Converted itembase.ipynb.\n",
      "Converted plugin.pluginbase.ipynb.\n",
      "Converted pod.client.ipynb.\n"
     ]
    }
   ],
   "source": [
    "# hide\n",
    "from nbdev.export import *\n",
    "notebook2script()"
   ]
  },
  {
   "cell_type": "code",
   "execution_count": null,
   "metadata": {},
   "outputs": [],
   "source": []
  }
 ],
 "metadata": {
  "kernelspec": {
   "display_name": "Python 3",
   "language": "python",
   "name": "python3"
  }
 },
 "nbformat": 4,
 "nbformat_minor": 4
}
