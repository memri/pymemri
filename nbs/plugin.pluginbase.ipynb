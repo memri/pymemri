{
 "cells": [
  {
   "cell_type": "code",
   "execution_count": null,
   "metadata": {},
   "outputs": [],
   "source": [
    "%load_ext autoreload\n",
    "%autoreload 2\n",
    "# default_exp plugin.pluginbase"
   ]
  },
  {
   "cell_type": "code",
   "execution_count": null,
   "metadata": {},
   "outputs": [],
   "source": [
    "# export\n",
    "from pymemri.data.schema import *\n",
    "from pymemri.pod.client import *\n",
    "from pymemri.imports import *\n",
    "from pymemri.plugin.states import *\n",
    "from pymemri.pod.utils import *\n",
    "from pymemri.plugin.listeners import get_abort_plugin_listener\n",
    "\n",
    "from os import environ\n",
    "from abc import ABCMeta\n",
    "import abc\n",
    "import json\n",
    "import importlib\n",
    "import string\n",
    "import time\n",
    "from enum import Enum\n",
    "from fastscript import *\n",
    "import os\n",
    "from pymemri.plugin.schema import Account, PluginRun\n",
    "from pymemri.data.basic import *\n",
    "from pymemri.pod.client import Dog, PodClient, DEFAULT_POD_ADDRESS\n",
    "import warnings\n",
    "from pymemri.data.basic import write_json\n",
    "from pymemri.plugin.authenticators.credentials import PLUGIN_DIR\n",
    "from fastcore.script import call_parse, Param\n",
    "import os\n",
    "import traceback"
   ]
  },
  {
   "cell_type": "code",
   "execution_count": null,
   "metadata": {},
   "outputs": [],
   "source": [
    "# hide\n",
    "from nbdev.showdoc import *"
   ]
  },
  {
   "cell_type": "markdown",
   "metadata": {},
   "source": [
    "# Plugins"
   ]
  },
  {
   "cell_type": "markdown",
   "metadata": {},
   "source": [
    "PluginBase is the plugin class that the simplest plugin inherits.\n",
    "\n",
    "Inheriting class should implement:\n",
    "\n",
    "- run()           that implements the logic of the plugin\n",
    "- add_to_schema() for plugin specific item types"
   ]
  },
  {
   "cell_type": "code",
   "execution_count": null,
   "metadata": {},
   "outputs": [],
   "source": [
    "# export\n",
    "POD_FULL_ADDRESS_ENV        = 'POD_FULL_ADDRESS'\n",
    "POD_TARGET_ITEM_ENV         = 'POD_TARGET_ITEM'\n",
    "POD_OWNER_KEY_ENV           = 'POD_OWNER'\n",
    "POD_AUTH_JSON_ENV           = 'POD_AUTH_JSON'\n",
    "POD_PLUGIN_DNS_ENV          = 'PLUGIN_DNS'"
   ]
  },
  {
   "cell_type": "code",
   "execution_count": null,
   "metadata": {},
   "outputs": [],
   "source": [
    "# export\n",
    "# hide\n",
    "class PluginBase(metaclass=ABCMeta):\n",
    "    \"\"\"Base class for plugins\"\"\"\n",
    "\n",
    "    def __init__(self, pluginRun=None, client=None, **kwargs):\n",
    "        super().__init__()\n",
    "        if pluginRun is None:\n",
    "            warnings.warn(\n",
    "                \"Plugin needs a pluginRun as kwarg, running without will only work in development.\",\n",
    "                RuntimeWarning)\n",
    "        self.pluginRun = pluginRun\n",
    "        \n",
    "        if client is None:\n",
    "            raise ValueError(\"Plugins need a `client: PodClient` as kwarg to run.\")\n",
    "        self.client = client\n",
    "        self._status_listeners = []\n",
    "        self._config_dict = kwargs\n",
    "\n",
    "    def set_run_status(self, status):\n",
    "        # TODO sync before setting status (requires pod_client.sync())\n",
    "        if self.pluginRun and self.client:\n",
    "            self.pluginRun.status = status\n",
    "            self.client.update_item(self.pluginRun)\n",
    "\n",
    "    def setup(self):\n",
    "        if self.client and self.pluginRun:\n",
    "            status_abort_listener = get_abort_plugin_listener(self.client, self.pluginRun.id)\n",
    "            self._status_listeners.append(status_abort_listener)\n",
    "    \n",
    "    def teardown(self):\n",
    "        for listener in self._status_listeners:\n",
    "            listener.stop()\n",
    "        \n",
    "    def _run(self):\n",
    "        self.setup()\n",
    "        self.run()\n",
    "        self.teardown()\n",
    "\n",
    "    @abc.abstractmethod\n",
    "    def run(self):\n",
    "        raise NotImplementedError()\n",
    "\n",
    "    @abc.abstractmethod\n",
    "    def add_to_schema(self):\n",
    "        \"\"\"\n",
    "        Add all schema classes required by the plugin to self.client here.\n",
    "        \"\"\"\n",
    "        raise NotImplementedError()"
   ]
  },
  {
   "cell_type": "code",
   "execution_count": null,
   "metadata": {},
   "outputs": [],
   "source": [
    "# export\n",
    "# hide\n",
    "class PluginError(Exception):\n",
    "    \"\"\"Generic class for plugin errors. This error is raised when a plugin raises an unexpected exception.\"\"\"\n",
    "    pass"
   ]
  },
  {
   "cell_type": "markdown",
   "metadata": {},
   "source": [
    "## Creating a plugin"
   ]
  },
  {
   "cell_type": "markdown",
   "metadata": {},
   "source": [
    "The memri [pod](https://gitlab.memri.io/memri/pod) uses a plugin system to add features to the backend memri backend. Plugins can import your data (importers), change your data (indexers), or call other serivces. Users can define their own plugins to add new behaviour to their memri app. Let's use the following plugin as an example of how we can start plugins."
   ]
  },
  {
   "cell_type": "markdown",
   "metadata": {},
   "source": [
    "```python\n",
    "class ExamplePlugin(PluginBase):\n",
    "\n",
    "    def __init__(self, **kwargs):\n",
    "        super().__init__(**kwargs)\n",
    "\n",
    "    def run(self):\n",
    "        print(\"running\")\n",
    "        self.client.create(Dog(\"some dog\", 20))\n",
    "\n",
    "    def add_to_schema(self):\n",
    "        self.client.add_to_schema(Dog(\"my name\", 10))\n",
    "```"
   ]
  },
  {
   "cell_type": "code",
   "execution_count": null,
   "metadata": {},
   "outputs": [],
   "source": [
    "# export\n",
    "# hide\n",
    "class ExamplePlugin(PluginBase):\n",
    "    \"\"\"\"\"\"\n",
    "\n",
    "    def __init__(self, **kwargs):\n",
    "        super().__init__(**kwargs)\n",
    "\n",
    "    def run(self):\n",
    "        self.client.create(Dog(\"some dog\", 20))\n",
    "        print(\"Plugin run success.\")\n",
    "\n",
    "    def add_to_schema(self):\n",
    "        self.client.add_to_schema(Dog(\"my name\", 10))"
   ]
  },
  {
   "cell_type": "markdown",
   "metadata": {},
   "source": [
    "Memri plugins need to define at least 2 methods: `.run()` and `.add_to_schema()`. `.run()` defines the logic of the plugin. `.add_to_schema()` defines the schema for the plugin in the pod. Note that currently, `add_to_schema` requires all item to **have all properties defined that are used in the plugin**. In the future, we might replace add_to_schema, to be done automatically, based on a declarative schema defined in the plugin. "
   ]
  },
  {
   "cell_type": "markdown",
   "metadata": {},
   "source": [
    "### Authentication"
   ]
  },
  {
   "cell_type": "markdown",
   "metadata": {},
   "source": [
    "Many plugins use authentication. For examples, see `OAuthAuthenticator` or `PasswordAuthenticator`."
   ]
  },
  {
   "cell_type": "markdown",
   "metadata": {},
   "source": [
    "## Helper methods"
   ]
  },
  {
   "cell_type": "code",
   "execution_count": null,
   "metadata": {},
   "outputs": [],
   "source": [
    "# export\n",
    "# hide\n",
    "def write_run_info(plugin, id_):\n",
    "    try:\n",
    "        if plugin is None:\n",
    "            raise ValueError(\"Empty container\")\n",
    "        run_path = PLUGIN_DIR / plugin / \"current_run.json\"\n",
    "        run_path.parent.mkdir(parents=True, exist_ok=True)\n",
    "        print(f\"writing run info to {run_path}\")\n",
    "        write_json({\"id\": id_}, run_path)\n",
    "    except Exception as e:\n",
    "        print(f\"\"\"failed to write run info to {run_path}\\n{e}\"\"\")"
   ]
  },
  {
   "cell_type": "code",
   "execution_count": null,
   "metadata": {},
   "outputs": [],
   "source": [
    "# hide\n",
    "# export\n",
    "def get_plugin_cls(plugin_module, plugin_name):\n",
    "    try:\n",
    "        module = importlib.import_module(plugin_module)\n",
    "        plugin_cls = getattr(module, plugin_name)\n",
    "        return plugin_cls\n",
    "    except (ImportError, AttributeError):\n",
    "        raise ImportError(f\"Unknown plugin: {plugin_module}.{plugin_name}\")\n",
    "\n",
    "def run_plugin_from_run_id(run_id, client, **kwargs):\n",
    "    \"\"\"\n",
    "    Runs a plugin from run_id, initialized with **kwargs.\n",
    "    \n",
    "    Args:\n",
    "        client (PodClient): client containing PluginRun\n",
    "        run_id (int): id of the PluginRun\n",
    "    \"\"\"\n",
    "\n",
    "    run = client.get(run_id)\n",
    "    write_run_info(run.pluginModule.split(\".\")[0] if run.pluginModule is not None else run.containerImage, run.id)\n",
    "\n",
    "    plugin_cls = get_plugin_cls(run.pluginModule, run.pluginName)\n",
    "    plugin = plugin_cls(pluginRun=run, client=client, **kwargs)\n",
    "    plugin.add_to_schema()\n",
    "\n",
    "    plugin.set_run_status(RUN_STARTED)\n",
    "    plugin._run()\n",
    "    plugin.pluginRun = plugin.client.get(run_id)\n",
    "    plugin.set_run_status(RUN_COMPLETED)\n",
    "\n",
    "    return plugin"
   ]
  },
  {
   "cell_type": "markdown",
   "metadata": {},
   "source": [
    "## Run from id test -"
   ]
  },
  {
   "cell_type": "code",
   "execution_count": null,
   "metadata": {},
   "outputs": [
    {
     "name": "stdout",
     "output_type": "stream",
     "text": [
      "{'id': '3BFcDbf6b42FC923fEbe4FeDBfF04feF', 'containerImage': 'pymemri', 'pluginModule': 'pymemri.plugin.pluginbase', 'pluginName': 'ExamplePlugin', 'status': 'not started', 'targetItemId': '3BFcDbf6b42FC923fEbe4FeDBfF04feF', 'type': 'PluginRun'}\n",
      "writing run info to /home/eelco/.pymemri/plugins/pymemri/current_run.json\n"
     ]
    },
    {
     "ename": "SyntaxError",
     "evalue": "invalid syntax (pluginbase.py, line 309)",
     "output_type": "error",
     "traceback": [
      "Traceback \u001b[0;36m(most recent call last)\u001b[0m:\n",
      "  File \u001b[1;32m\"/home/eelco/miniconda3/envs/pymemri/lib/python3.9/site-packages/IPython/core/interactiveshell.py\"\u001b[0m, line \u001b[1;32m3441\u001b[0m, in \u001b[1;35mrun_code\u001b[0m\n    exec(code_obj, self.user_global_ns, self.user_ns)\n",
      "  File \u001b[1;32m\"/tmp/ipykernel_9542/404436309.py\"\u001b[0m, line \u001b[1;32m18\u001b[0m, in \u001b[1;35m<module>\u001b[0m\n    run_plugin_from_run_id(run.id, client);\n",
      "  File \u001b[1;32m\"/tmp/ipykernel_9542/788996697.py\"\u001b[0m, line \u001b[1;32m23\u001b[0m, in \u001b[1;35mrun_plugin_from_run_id\u001b[0m\n    plugin_cls = get_plugin_cls(run.pluginModule, run.pluginName)\n",
      "  File \u001b[1;32m\"/tmp/ipykernel_9542/788996697.py\"\u001b[0m, line \u001b[1;32m5\u001b[0m, in \u001b[1;35mget_plugin_cls\u001b[0m\n    module = importlib.import_module(plugin_module)\n",
      "  File \u001b[1;32m\"/home/eelco/miniconda3/envs/pymemri/lib/python3.9/importlib/__init__.py\"\u001b[0m, line \u001b[1;32m127\u001b[0m, in \u001b[1;35mimport_module\u001b[0m\n    return _bootstrap._gcd_import(name[level:], package, level)\n",
      "  File \u001b[1;32m\"<frozen importlib._bootstrap>\"\u001b[0m, line \u001b[1;32m1030\u001b[0m, in \u001b[1;35m_gcd_import\u001b[0m\n",
      "  File \u001b[1;32m\"<frozen importlib._bootstrap>\"\u001b[0m, line \u001b[1;32m1007\u001b[0m, in \u001b[1;35m_find_and_load\u001b[0m\n",
      "  File \u001b[1;32m\"<frozen importlib._bootstrap>\"\u001b[0m, line \u001b[1;32m986\u001b[0m, in \u001b[1;35m_find_and_load_unlocked\u001b[0m\n",
      "  File \u001b[1;32m\"<frozen importlib._bootstrap>\"\u001b[0m, line \u001b[1;32m680\u001b[0m, in \u001b[1;35m_load_unlocked\u001b[0m\n",
      "  File \u001b[1;32m\"<frozen importlib._bootstrap_external>\"\u001b[0m, line \u001b[1;32m851\u001b[0m, in \u001b[1;35mexec_module\u001b[0m\n",
      "  File \u001b[1;32m\"<frozen importlib._bootstrap_external>\"\u001b[0m, line \u001b[1;32m988\u001b[0m, in \u001b[1;35mget_code\u001b[0m\n",
      "  File \u001b[1;32m\"<frozen importlib._bootstrap_external>\"\u001b[0m, line \u001b[1;32m918\u001b[0m, in \u001b[1;35msource_to_code\u001b[0m\n",
      "\u001b[0;36m  File \u001b[0;32m\"<frozen importlib._bootstrap>\"\u001b[0;36m, line \u001b[0;32m228\u001b[0;36m, in \u001b[0;35m_call_with_frames_removed\u001b[0;36m\u001b[0m\n",
      "\u001b[0;36m  File \u001b[0;32m\"/home/eelco/projects/pymemri/pymemri/plugin/pluginbase.py\"\u001b[0;36m, line \u001b[0;32m309\u001b[0m\n\u001b[0;31m    params = [pod_full_address, database_key, owner_key]:\u001b[0m\n\u001b[0m                                                        ^\u001b[0m\n\u001b[0;31mSyntaxError\u001b[0m\u001b[0;31m:\u001b[0m invalid syntax\n"
     ]
    }
   ],
   "source": [
    "# hide\n",
    "# skip\n",
    "client = PodClient()\n",
    "run = PluginRun(\n",
    "    containerImage=\"pymemri\",\n",
    "    pluginModule=\"pymemri.plugin.pluginbase\",\n",
    "    pluginName=\"ExamplePlugin\",\n",
    "    status=\"not started\")\n",
    "account = Account(identifier=\"login\", secret=\"password\")\n",
    "run.add_edge(\"account\", account)\n",
    "assert client.add_to_schema(PluginRun(\"\", \"\", \"\", \"\", \"\"))\n",
    "assert client.create(run)\n",
    "assert client.create(account)\n",
    "assert client.create_edge(run.get_edges(\"account\")[0])\n",
    "\n",
    "print(run.to_json())\n",
    "\n",
    "run_plugin_from_run_id(run.id, client);\n",
    "\n",
    "run = client.get(run.id)\n",
    "assert run.status == RUN_COMPLETED"
   ]
  },
  {
   "cell_type": "code",
   "execution_count": null,
   "metadata": {},
   "outputs": [],
   "source": [
    "# export\n",
    "# hide\n",
    "def _parse_env():\n",
    "    env = os.environ\n",
    "    print(\"Reading `run_plugin()` parameters from environment variables\")\n",
    "    try:\n",
    "        pod_full_address = env.get(POD_FULL_ADDRESS_ENV, DEFAULT_POD_ADDRESS)\n",
    "        plugin_run_json  = json.loads(str(env[POD_TARGET_ITEM_ENV]))\n",
    "        print(plugin_run_json)\n",
    "        plugin_run_id    = plugin_run_json[\"id\"]\n",
    "        owner_key        = env.get(POD_OWNER_KEY_ENV)\n",
    "        pod_auth_json    = json.loads(str(env.get(POD_AUTH_JSON_ENV)))\n",
    "        return pod_full_address, plugin_run_id, pod_auth_json, owner_key\n",
    "    except KeyError as e:\n",
    "        raise Exception('Missing parameter: {}'.format(e)) from None"
   ]
  },
  {
   "cell_type": "markdown",
   "metadata": {},
   "source": [
    "## Running your plugin using the CLI"
   ]
  },
  {
   "cell_type": "markdown",
   "metadata": {},
   "source": [
    "Plugins can be started using the pymemri `run_plugin` or `simulate_run_plugin_from_frontend` CLI. With `run_plugin` the plugin is invoked directly by spawning a new python process, while `simulate_run_plugin_from_frontend` requests the pod to spawn a new process, docker container, or kubernetes container, which in calls `run_plugin` (for more info see `simulate_run_plugin_from_frontend`. When using `run_plugin`, you can either pass your run arguments as parameters, or set them as environment variables. If both are set, the CLI will use the passed arguments."
   ]
  },
  {
   "cell_type": "code",
   "execution_count": null,
   "metadata": {},
   "outputs": [],
   "source": [
    "# export\n",
    "# hide\n",
    "@call_parse\n",
    "def store_keys(path:Param(\"path to store the keys\", str)=DEFAULT_POD_KEY_PATH,\n",
    "               database_key:Param(\"Database key of the pod\", str)=None,\n",
    "               owner_key:Param(\"Owner key of the pod\", str)=None):\n",
    "    \n",
    "    if database_key is None: database_key = PodClient.generate_random_key()\n",
    "    if owner_key is None: owner_key = PodClient.generate_random_key()\n",
    "\n",
    "    obj = {\"database_key\": database_key,\n",
    "           \"owner_key\": owner_key}\n",
    "    Path(path).parent.mkdir(parents=True, exist_ok=True)\n",
    "    if path.exists():\n",
    "        timestr = time.strftime(\"%Y%m%d-%H%M%S\")\n",
    "        path.rename(POD_KEYS_FULL_FOLDER / f\"keys-{timestr}.json\")\n",
    "    write_json(obj, path)"
   ]
  },
  {
   "cell_type": "code",
   "execution_count": null,
   "metadata": {},
   "outputs": [],
   "source": [
    "# hide\n",
    "store_keys()"
   ]
  },
  {
   "cell_type": "code",
   "execution_count": null,
   "metadata": {},
   "outputs": [],
   "source": [
    "# export\n",
    "# hide\n",
    "def parse_metadata(fn, remove_container=False):\n",
    "    metadata = read_json(fn)\n",
    "    for k in [\"pluginModule\", \"pluginName\"]:\n",
    "        if k not in metadata:\n",
    "            raise ValueError(f\"Missing metadata: {k}\")\n",
    "            \n",
    "    run_vars = {k: v for k, v in metadata.items() if k in PluginRun.properties}\n",
    "    run = PluginRun.from_json(run_vars)\n",
    "    if remove_container:\n",
    "        run.containerImage = \"none\"\n",
    "        \n",
    "    if \"account\" in metadata:\n",
    "        account = Account.from_json(metadata[\"account\"])\n",
    "        run.add_edge(\"account\", account)\n",
    "    return run\n",
    "\n",
    "\n",
    "def parse_config(run_config, config_file=None, remove_container=False):\n",
    "    \"\"\"\n",
    "    Parse the configuration of the plugin. A configuration is a dict that is passed to the plugin init as kwargs.\n",
    "    If configuration file is defined, the run_config is ignored.\n",
    "    \"\"\"\n",
    "    if config_file is not None:\n",
    "        config = read_json(config_file)\n",
    "    elif isinstance(run_config, str) and len(run_config):\n",
    "        config = json.loads(run_config)\n",
    "    else:\n",
    "        config = dict()\n",
    "    \n",
    "    if not isinstance(config, dict):\n",
    "        raise ValueError(f\"Incorrect plugin config format, expected a dict, got a {type(config)}\")\n",
    "    return config\n",
    "\n",
    "\n",
    "def create_run_expanded(client, run):\n",
    "    client.create(run)\n",
    "    accounts = run.account\n",
    "    if accounts:\n",
    "        account=accounts[0]\n",
    "        client.create(account)\n",
    "        client.create_edge(run.get_edges(\"account\")[0])    "
   ]
  },
  {
   "cell_type": "code",
   "execution_count": null,
   "metadata": {},
   "outputs": [],
   "source": [
    "# export\n",
    "@call_parse\n",
    "def run_plugin(\n",
    "    pod_full_address: Param(\"The pod full address\", str) = DEFAULT_POD_ADDRESS,\n",
    "    plugin_run_id: Param(\"Run id of the plugin to be executed\", str) = None,\n",
    "    database_key: Param(\"Database key of the pod\", str) = None,\n",
    "    owner_key: Param(\"Owner key of the pod\", str) = None,\n",
    "    read_args_from_env: Param(\"Read the args from the environment\", bool) = False,\n",
    "    metadata: Param(\"metadata file for the PluginRun\", str) = None,\n",
    "    config_file: Param(\n",
    "        \"A plugin configuration, overwrites the configuration of the PluginRun\", str\n",
    "    ) = None,\n",
    "):\n",
    "\n",
    "    if read_args_from_env:\n",
    "        pod_full_address, plugin_run_id, pod_auth_json, owner_key = _parse_env()\n",
    "        database_key = None\n",
    "    else:\n",
    "        if database_key is None:\n",
    "            database_key = read_pod_key(\"database_key\")\n",
    "        if owner_key is None:\n",
    "            owner_key = read_pod_key(\"owner_key\")\n",
    "        pod_auth_json = None\n",
    "    if POD_PLUGIN_DNS_ENV in os.environ:\n",
    "        print(f\"Plugin accesible via {os.environ.get(POD_PLUGIN_DNS_ENV)}:8080\")\n",
    "\n",
    "    client = PodClient(\n",
    "        url=pod_full_address,\n",
    "        database_key=database_key,\n",
    "        owner_key=owner_key,\n",
    "        auth_json=pod_auth_json,\n",
    "    )\n",
    "    print(f\"pod_full_address={pod_full_address}\\nowner_key={owner_key}\\n\")\n",
    "\n",
    "    if metadata is not None:\n",
    "        run = parse_metadata(metadata, remove_container=True)\n",
    "        create_run_expanded(client, run)\n",
    "        plugin_run_id = run.id\n",
    "    else:\n",
    "        run = client.get(plugin_run_id)\n",
    "    plugin_config = parse_config(run.config, config_file)\n",
    "\n",
    "    try:\n",
    "        run_plugin_from_run_id(\n",
    "            plugin_run_id, client, **plugin_config\n",
    "        )\n",
    "    except Exception as e:\n",
    "        run = client.get(plugin_run_id)\n",
    "        run.status = RUN_FAILED\n",
    "        client.update_item(run)\n",
    "        print(traceback.format_exc(), flush=True)\n",
    "        raise PluginError(\"The plugin quit unexpectedly.\") from None"
   ]
  },
  {
   "cell_type": "markdown",
   "metadata": {},
   "source": [
    "To start a plugin on your local machine, you can use the CLI. This will create a client for you, and run the code defined in `<myplugin>.run()`"
   ]
  },
  {
   "cell_type": "code",
   "execution_count": null,
   "metadata": {},
   "outputs": [],
   "source": [
    "run_plugin(metadata=\"../example_plugin.json\")"
   ]
  },
  {
   "cell_type": "markdown",
   "metadata": {},
   "source": [
    "> Note: The data that is created here should be in the pod in order for this to work"
   ]
  },
  {
   "cell_type": "markdown",
   "metadata": {},
   "source": [
    "## Run from pod "
   ]
  },
  {
   "cell_type": "markdown",
   "metadata": {},
   "source": [
    "In production, we start plugins by making an API call to the pod, which in turn creates an environment for the plugin and starts it using docker containers, kubernetes containers or a shell script. We can start this process using the `simulate_run_plugin_from_frontend` CLI. **Note that when using docker, provided container name should be \"installed\" within the Pod environemnt (e.g. `docker build -t pymemri .` for this repo) in order to start it.** "
   ]
  },
  {
   "cell_type": "markdown",
   "metadata": {},
   "source": [
    "![running a plugin](images/running_a_plugin.svg)"
   ]
  },
  {
   "cell_type": "code",
   "execution_count": null,
   "metadata": {},
   "outputs": [],
   "source": [
    "# export\n",
    "@call_parse\n",
    "def simulate_run_plugin_from_frontend(\n",
    "    pod_full_address: Param(\"The pod full address\", str) = DEFAULT_POD_ADDRESS,\n",
    "    database_key: Param(\"Database key of the pod\", str) = None,\n",
    "    owner_key: Param(\"Owner key of the pod\", str) = None,\n",
    "    container: Param(\"Pod container to run frod\", str) = None,\n",
    "    plugin_path: Param(\"Plugin path\", str) = None,\n",
    "    metadata: Param(\"metadata file for the PluginRun\", str) = None,\n",
    "    config_file: Param(\n",
    "        \"A plugin configuration, overwrites the configuration of the PluginRun\", str\n",
    "    ) = None,\n",
    "    account_id: Param(\"Account id to be used inside the plugin\", str) = None,\n",
    "):\n",
    "    if database_key is None:\n",
    "        database_key = read_pod_key(\"database_key\")\n",
    "    if owner_key is None:\n",
    "        owner_key = read_pod_key(\"owner_key\")\n",
    "    params = [pod_full_address, database_key, owner_key]\n",
    "    if None in params:\n",
    "        raise ValueError(f\"Missing Pod credentials\")\n",
    "    \n",
    "    client = PodClient(url=pod_full_address, database_key=database_key, owner_key=owner_key)\n",
    "    print(f\"pod_full_address={pod_full_address}\\nowner_key={owner_key}\\n\")\n",
    "    \n",
    "    if metadata is not None:\n",
    "        run = parse_metadata(metadata)\n",
    "        create_run_expanded(client, run)\n",
    "    else:\n",
    "        if container is None:\n",
    "            container = plugin_path.split(\".\", 1)[0]\n",
    "        print(f\"Inferred '{container}' as plugin container name\")\n",
    "        plugin_module, plugin_name = plugin_path.rsplit(\".\", 1)\n",
    "        run = PluginRun(container, plugin_module, plugin_name)\n",
    "\n",
    "        if account_id is not None:\n",
    "            account = client.get(account_id)\n",
    "            run.add_edge(\"account\", account)\n",
    "            print(f\"Using existing {account}\")\n",
    "\n",
    "        client.create(run)\n",
    "\n",
    "    print(\n",
    "        f\"Created pluginrun with id {run.id} on {pod_full_address}\"\n",
    "    )\n",
    "\n",
    "    plugin_dir = run.containerImage\n",
    "    write_run_info(plugin_dir, run.id)\n",
    "\n",
    "    print(f\"*Check the pod log/console for debug output.*\")\n",
    "    return run"
   ]
  },
  {
   "cell_type": "code",
   "execution_count": null,
   "metadata": {},
   "outputs": [],
   "source": [
    "client = PodClient()"
   ]
  },
  {
   "cell_type": "code",
   "execution_count": null,
   "metadata": {},
   "outputs": [
    {
     "name": "stdout",
     "output_type": "stream",
     "text": [
      "reading database_key from /home/eelco/.pymemri/pod_keys/keys.json\n",
      "reading owner_key from /home/eelco/.pymemri/pod_keys/keys.json\n",
      "pod_full_address=http://localhost:3030\n",
      "owner_key=0669504049511661364795770949641722972379709465482258592795264679\n",
      "\n",
      "Created pluginrun with id DDDFb7dFDeFF5c5917e7f846BF5df099 on http://localhost:3030\n",
      "writing run info to /home/eelco/.pymemri/plugins/pymemri/current_run.json\n",
      "*Check the pod log/console for debug output.*\n"
     ]
    }
   ],
   "source": [
    "!simulate_run_plugin_from_frontend --metadata \"../example_plugin.json\""
   ]
  },
  {
   "cell_type": "markdown",
   "metadata": {},
   "source": [
    "## Appendix -"
   ]
  },
  {
   "cell_type": "code",
   "execution_count": null,
   "metadata": {},
   "outputs": [],
   "source": [
    "# hide\n",
    "# client.start_plugin(\"pymemri\", run.id)"
   ]
  },
  {
   "cell_type": "code",
   "execution_count": null,
   "metadata": {},
   "outputs": [],
   "source": [
    "# hide\n",
    "# # export\n",
    "# def generate_test_env(client, indexer_run):\n",
    "#     payload = json.dumps({DATABASE_KEY_ENV: client.database_key, OWNER_KEY_ENV: client.owner_key})\n",
    "              \n",
    "#     return {POD_FULL_ADDRESS_ENV: DEFAULT_POD_ADDRESS,\n",
    "#             POD_TARGET_ITEM: indexer_run.id,\n",
    "#             POD_SERVICE_PAYLOAD_ENV: payload}"
   ]
  },
  {
   "cell_type": "code",
   "execution_count": null,
   "metadata": {},
   "outputs": [],
   "source": [
    "# hide\n",
    "# run_plugin(env=generate_test_env(client, run))"
   ]
  },
  {
   "cell_type": "markdown",
   "metadata": {},
   "source": [
    "# Export -"
   ]
  },
  {
   "cell_type": "code",
   "execution_count": null,
   "metadata": {},
   "outputs": [
    {
     "name": "stdout",
     "output_type": "stream",
     "text": [
      "Converted Untitled.ipynb.\n",
      "Converted basic.ipynb.\n",
      "Converted cvu.utils.ipynb.\n",
      "Converted data.photo.ipynb.\n",
      "Converted index.ipynb.\n",
      "Converted itembase.ipynb.\n",
      "Converted plugin.authenticators.credentials.ipynb.\n",
      "Converted plugin.authenticators.oauth.ipynb.\n",
      "Converted plugin.listeners.ipynb.\n",
      "Converted plugin.pluginbase.ipynb.\n",
      "Converted plugin.states.ipynb.\n",
      "Converted plugins.authenticators.password.ipynb.\n",
      "Converted pod.api.ipynb.\n",
      "Converted pod.client.ipynb.\n",
      "Converted pod.db.ipynb.\n",
      "Converted pod.utils.ipynb.\n",
      "Converted template.config.ipynb.\n",
      "Converted template.formatter.ipynb.\n",
      "Converted test_schema.ipynb.\n",
      "Converted test_utils.ipynb.\n"
     ]
    }
   ],
   "source": [
    "# hide\n",
    "from nbdev.export import *\n",
    "notebook2script()"
   ]
  }
 ],
 "metadata": {
  "kernelspec": {
   "display_name": "Python 3 (ipykernel)",
   "language": "python",
   "name": "python3"
  }
 },
 "nbformat": 4,
 "nbformat_minor": 4
}
