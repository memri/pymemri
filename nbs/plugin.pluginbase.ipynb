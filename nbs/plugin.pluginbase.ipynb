{
 "cells": [
  {
   "cell_type": "code",
   "execution_count": null,
   "metadata": {},
   "outputs": [],
   "source": [
    "%load_ext autoreload\n",
    "%autoreload 2\n",
    "# default_exp plugin.pluginbase"
   ]
  },
  {
   "cell_type": "code",
   "execution_count": null,
   "metadata": {},
   "outputs": [],
   "source": [
    "# export\n",
    "from pymemri.data.schema import *\n",
    "from pymemri.pod.client import *\n",
    "from pymemri.imports import *\n",
    "from pymemri.pod.utils import *\n",
    "from os import environ\n",
    "from abc import ABCMeta\n",
    "import abc\n",
    "import json\n",
    "import importlib\n",
    "import string\n",
    "import time\n",
    "from enum import Enum\n",
    "from fastscript import *\n",
    "import os\n",
    "from pymemri.plugin.schema import PluginRun\n",
    "from pymemri.data.basic import *"
   ]
  },
  {
   "cell_type": "code",
   "execution_count": null,
   "metadata": {},
   "outputs": [],
   "source": [
    "# hide\n",
    "from nbdev.showdoc import *"
   ]
  },
  {
   "cell_type": "markdown",
   "metadata": {},
   "source": [
    "# Plugins"
   ]
  },
  {
   "cell_type": "markdown",
   "metadata": {},
   "source": [
    "PluginBase is the plugin class that the simplest plugin inherits.\n",
    "\n",
    "Inheriting class should implement:\n",
    "\n",
    "- run()           that implements the logic of the plugin\n",
    "- add_to_schema() for plugin specific item types"
   ]
  },
  {
   "cell_type": "code",
   "execution_count": null,
   "metadata": {},
   "outputs": [],
   "source": [
    "# export\n",
    "POD_FULL_ADDRESS_ENV        = 'POD_FULL_ADDRESS'\n",
    "POD_TARGET_ITEM_ENV         = 'POD_TARGET_ITEM'\n",
    "POD_OWNER_KEY_ENV           = 'POD_OWNER'\n",
    "POD_AUTH_JSON_ENV           = 'POD_AUTH_JSON'"
   ]
  },
  {
   "cell_type": "code",
   "execution_count": null,
   "metadata": {},
   "outputs": [],
   "source": [
    "# export\n",
    "# hide\n",
    "class PluginBase(Item, metaclass=ABCMeta):\n",
    "    \"\"\"Base class for plugins\"\"\"\n",
    "    properties = Item.properties + [\"name\", \"repository\", \"icon\", \"query\", \"bundleImage\",\n",
    "                                    \"runDestination\", \"pluginClass\"]\n",
    "    edges = Item.edges\n",
    "\n",
    "    def __init__(self, client=None, run_id=None, name=None, repository=None, icon=None,\n",
    "                 query=None, bundleImage=None, runDestination=None, pluginClass=None, **kwargs):\n",
    "        if pluginClass is None: pluginClass=self.__class__.__name__\n",
    "        super().__init__(**kwargs)\n",
    "        self.client = client\n",
    "        self.run_id = run_id\n",
    "        self.name = name\n",
    "        self.repository = repository\n",
    "        self.icon = icon\n",
    "        self.query = query\n",
    "        self.bundleImage = bundleImage\n",
    "        self.runDestination = runDestination\n",
    "        self.pluginClass = pluginClass\n",
    "        \n",
    "    def get_run(self):\n",
    "        return self.client.get(self.run_id, expanded=False)\n",
    "    \n",
    "    def get_state(self):\n",
    "        return self.get_run().state\n",
    "        \n",
    "    def get_account(self):\n",
    "        run = self.get_run()\n",
    "        return run.account[0] if len(run.account) > 0 else None\n",
    "    \n",
    "    def get_settings(self):\n",
    "        run = self.get_run(self.client)\n",
    "        return json.loads(run.settings)\n",
    "        \n",
    "    def set_vars(self, vars):\n",
    "        run = self.get_run()\n",
    "        for k,v in vars.items():\n",
    "            if hasattr(run, k):\n",
    "                setattr(run, k, v)\n",
    "        run.update(self.client)\n",
    "        \n",
    "    def set_state(self, state, message=None):\n",
    "        self.set_vars({'state': state, 'message': message})\n",
    "        \n",
    "    def set_account(self, account):\n",
    "        existing = self.get_account()\n",
    "        if existing:\n",
    "            account.id = existing.id\n",
    "            account.update(self.client)\n",
    "        else:\n",
    "            run = self.get_run()\n",
    "            run.add_edge('account', account)\n",
    "            run.update(self.client)\n",
    "        \n",
    "    def set_settings(self, settings):\n",
    "        self.set_vars({'settings': json.dumps(settings)})\n",
    "        \n",
    "    @abc.abstractmethod\n",
    "    def run(self):\n",
    "        raise NotImplementedError()\n",
    "\n",
    "    @abc.abstractmethod\n",
    "    def add_to_schema(self):\n",
    "        raise NotImplementedError()"
   ]
  },
  {
   "cell_type": "markdown",
   "metadata": {},
   "source": [
    "## Creating a plugin"
   ]
  },
  {
   "cell_type": "markdown",
   "metadata": {},
   "source": [
    "The memri [pod](https://gitlab.memri.io/memri/pod) uses a plugin system to add features to the backend memri backend. Plugins can import your data (importers), change your data (indexers), or call other serivces. Users can define their own plugins to add new behaviour to their memri app. Let's use the following plugin as an example of how we can start plugins."
   ]
  },
  {
   "cell_type": "code",
   "execution_count": null,
   "metadata": {},
   "outputs": [],
   "source": [
    "# export\n",
    "# hide\n",
    "class MyItem(Item):\n",
    "    properties = Item.properties + [\"name\", \"age\"]\n",
    "    edges = Item.edges\n",
    "    def __init__(self, name=None, age=None, **kwargs):\n",
    "        super().__init__(**kwargs)\n",
    "        self.name = name\n",
    "        self.age = age\n",
    "\n",
    "class MyPlugin(PluginBase):\n",
    "    \"\"\"\"\"\"\n",
    "    properties = PluginBase.properties + [\"containerImage\"]\n",
    "    edges= PluginBase.edges\n",
    "\n",
    "    def __init__(self, **kwargs):\n",
    "        super().__init__(**kwargs)\n",
    "\n",
    "    def run(self):\n",
    "        print(\"running\")\n",
    "        self.client.create(MyItem(\"some person\", 20))\n",
    "\n",
    "    def add_to_schema(self):\n",
    "        self.client.add_to_schema(MyItem(\"my name\", 10))"
   ]
  },
  {
   "cell_type": "code",
   "execution_count": null,
   "metadata": {},
   "outputs": [
    {
     "data": {
      "text/plain": [
       "MyPlugin (#None)"
      ]
     },
     "execution_count": null,
     "metadata": {},
     "output_type": "execute_result"
    }
   ],
   "source": [
    "# hide\n",
    "MyPlugin()"
   ]
  },
  {
   "cell_type": "markdown",
   "metadata": {},
   "source": [
    "```python\n",
    "class MyItem(Item):\n",
    "    properties = Item.properties + [\"name\", \"age\"]\n",
    "    edges = Item.edges\n",
    "    def __init__(self, name=None, age=None, **kwargs):\n",
    "        super().__init__(**kwargs)\n",
    "        self.name = name\n",
    "        self.age = age\n",
    "\n",
    "class MyPlugin(PluginBase):\n",
    "    \"\"\"\"\"\"\n",
    "    properties = PluginBase.properties\n",
    "    edges= PluginBase.edges\n",
    "    \n",
    "    def __init__(self, **kwargs):\n",
    "        super().__init__(**kwargs)\n",
    "        \n",
    "    def run(self):\n",
    "        print(\"running\")\n",
    "        self.client.create(MyItem(\"some person\", 20))\n",
    "        \n",
    "    def add_to_schema(self):\n",
    "        self.client.add_to_schema(MyItem(\"my name\", 10)) \n",
    "```"
   ]
  },
  {
   "cell_type": "markdown",
   "metadata": {},
   "source": [
    "Memri plugins need to define at least 2 methods: `.run()` and `.add_to_schema()`. `.run()` defines the logic of the plugin. `.add_to_schema()` defines the schema for the plugin in the pod. Note that currently, `add_to_schema` requires all item to **have all properties defined that are used in the plugin**. In the future, we might replace add_to_schema, to be done automatically, based on a declarative schema defined in the plugin. "
   ]
  },
  {
   "cell_type": "markdown",
   "metadata": {},
   "source": [
    "## Helper classes -"
   ]
  },
  {
   "cell_type": "code",
   "execution_count": null,
   "metadata": {},
   "outputs": [],
   "source": [
    "# hide\n",
    "# export\n",
    "def get_plugin_cls(plugin_module, plugin_name):\n",
    "    try:\n",
    "        module = importlib.import_module(plugin_module)\n",
    "        plugin_cls = getattr(module, plugin_name)\n",
    "        return plugin_cls\n",
    "    except (ImportError, AttributeError):\n",
    "        raise ImportError(f\"Unknown plugin: {plugin_module}.{plugin_name}\")\n",
    "\n",
    "def run_plugin_from_run_id(run_id, client):\n",
    "    \"\"\"\n",
    "    Args:\n",
    "        run_id (int): id of the PluginRun\n",
    "        client (PodClient): client containing PluginRun\n",
    "        return_plugin (bool): Returns created plugin instance for testing purposes.\n",
    "    \"\"\"\n",
    "\n",
    "    run = client.get(run_id)\n",
    "    plugin_cls = get_plugin_cls(run.pluginModule, run.pluginName)\n",
    "    plugin = plugin_cls(client=client, run_id=run_id)\n",
    "    plugin.add_to_schema()\n",
    "\n",
    "    # TODO handle plugin status before run\n",
    "    plugin.run()\n",
    "\n",
    "    return plugin"
   ]
  },
  {
   "cell_type": "code",
   "execution_count": null,
   "metadata": {},
   "outputs": [],
   "source": [
    "# export\n",
    "# hide\n",
    "def register_base_schemas(client):\n",
    "    try:\n",
    "        assert client.add_to_schema(PluginRun(\"\", \"\", \"\", state=\"\", message=\"\", targetItemId=\"\"))\n",
    "        assert client.add_to_schema(Account(service=\"\", identifier=\"\", secret=\"\"))\n",
    "    except Exception as e:\n",
    "        raise ValueError(\"Could not add base schema\")"
   ]
  },
  {
   "cell_type": "markdown",
   "metadata": {},
   "source": [
    "### Test Plugin Runtime"
   ]
  },
  {
   "cell_type": "code",
   "execution_count": null,
   "metadata": {},
   "outputs": [],
   "source": [
    "# hide\n",
    "from pymemri.pod.client import PodClient\n",
    "from pymemri.data.schema import Account\n",
    "from pymemri.plugin.pluginbase import PluginRun, register_base_schemas, run_plugin_from_run_id\n",
    "\n",
    "client = PodClient()\n",
    "register_base_schemas(client)\n",
    "\n",
    "# Create a dummy account to use for authentication within the plugin\n",
    "account = Account(service=\"my_plugin_service\", identifier=\"username\", secret=\"password\")\n",
    "account.update(client)\n",
    "\n",
    "# Create a run to enable plugin runtime\n",
    "run = PluginRun(\"pymemri\", \"pymemri.plugin.pluginbase\", \"MyPlugin\", account=[account])\n",
    "run.update(client)\n",
    "\n",
    "plugin = run_plugin_from_run_id(run.id, client)\n",
    "\n",
    "# check if account is accessible\n",
    "assert plugin.get_account().identifier == \"username\"\n",
    "\n",
    "# set a state\n",
    "plugin.set_state(\"test_state\", message=\"test_message\")\n",
    "assert plugin.get_state() == \"test_state\"\n"
   ]
  },
  {
   "cell_type": "markdown",
   "metadata": {},
   "source": [
    "## Run from id test -"
   ]
  },
  {
   "cell_type": "code",
   "execution_count": null,
   "metadata": {},
   "outputs": [],
   "source": []
  },
  {
   "cell_type": "code",
   "execution_count": null,
   "metadata": {},
   "outputs": [
    {
     "name": "stdout",
     "output_type": "stream",
     "text": [
      "running\n",
      "logging in with account login and password password\n"
     ]
    }
   ],
   "source": [
    "# hide\n",
    "# skip\n",
    "client = PodClient()\n",
    "run = PluginRun(\"pymemri\", \"pymemri.plugin.pluginbase\", \"MyPlugin\", state=\"not started\")\n",
    "account = Account(identifier=\"login\", secret=\"password\")\n",
    "run.add_edge(\"account\", account)\n",
    "assert client.add_to_schema(PluginRun(\"\", \"\", \"\", \"\", \"\"))\n",
    "assert client.create(run)\n",
    "assert client.create(account)\n",
    "assert client.create_edge(run.get_edges(\"account\")[0])\n",
    "run = client.get(run.id)\n",
    "run_plugin_from_run_id(run.id, client);"
   ]
  },
  {
   "cell_type": "code",
   "execution_count": null,
   "metadata": {},
   "outputs": [],
   "source": [
    "# export\n",
    "# hide\n",
    "def _parse_env():\n",
    "    env = os.environ\n",
    "    print(\"Reading `run_plugin()` parameters from environment variables\")\n",
    "    try:\n",
    "        pod_full_address = env.get(POD_FULL_ADDRESS_ENV, DEFAULT_POD_ADDRESS)\n",
    "        plugin_run_json  = json.loads(str(env[POD_TARGET_ITEM_ENV]))\n",
    "        print(plugin_run_json)\n",
    "        plugin_run_id    = plugin_run_json[\"id\"]\n",
    "        owner_key        = env.get(POD_OWNER_KEY_ENV)\n",
    "        pod_auth_json    = json.loads(str(env.get(POD_AUTH_JSON_ENV)))\n",
    "        return pod_full_address, plugin_run_id, pod_auth_json, owner_key\n",
    "    except KeyError as e:\n",
    "        raise Exception('Missing parameter: {}'.format(e)) from None"
   ]
  },
  {
   "cell_type": "markdown",
   "metadata": {},
   "source": [
    "## Running your plugin using the CLI"
   ]
  },
  {
   "cell_type": "markdown",
   "metadata": {},
   "source": [
    "Plugins can be started using the pymemri `run_plugin` or `simulate_run_plugin_from_frontend` CLI. With `run_plugin` the plugin is invoked directly by spawning a new python process, while `simulate_run_plugin_from_frontend` requests the pod to spawn a new process, docker container, or kubernetes container, which in calls `run_plugin` (for more info see `simulate_run_plugin_from_frontend`. When using `run_plugin`, you can either pass your run arguments as parameters, or set them as environment variables. If both are set, the CLI will use the passed arguments."
   ]
  },
  {
   "cell_type": "code",
   "execution_count": null,
   "metadata": {},
   "outputs": [],
   "source": [
    "# export\n",
    "# hide\n",
    "@call_parse\n",
    "def store_keys(path:Param(\"path to store the keys\", str)=DEFAULT_POD_KEY_PATH,\n",
    "               database_key:Param(\"Database key of the pod\", str)=None,\n",
    "               owner_key:Param(\"Owner key of the pod\", str)=None):\n",
    "    \n",
    "    if database_key is None: database_key = PodClient.generate_random_key()\n",
    "    if owner_key is None: owner_key = PodClient.generate_random_key()\n",
    "\n",
    "    obj = {\"database_key\": database_key,\n",
    "           \"owner_key\": owner_key}\n",
    "    Path(path).parent.mkdir(parents=True, exist_ok=True)\n",
    "    if path.exists():\n",
    "        timestr = time.strftime(\"%Y%m%d-%H%M%S\")\n",
    "        path.rename(POD_KEYS_FULL_FOLDER / f\"keys-{timestr}.json\")\n",
    "    write_json(obj, path)"
   ]
  },
  {
   "cell_type": "code",
   "execution_count": null,
   "metadata": {},
   "outputs": [],
   "source": [
    "# hide\n",
    "store_keys()"
   ]
  },
  {
   "cell_type": "code",
   "execution_count": null,
   "metadata": {},
   "outputs": [],
   "source": [
    "# export\n",
    "# hide\n",
    "def parse_config(file, remove_container=False):\n",
    "    json_dict = read_json(file)\n",
    "    account = Account.from_json(json_dict[\"account\"])\n",
    "    del json_dict[\"account\"]\n",
    "    settings = json.dumps(json_dict[\"settings\"])\n",
    "    del json_dict[\"settings\"]\n",
    "    run = PluginRun.from_json(json_dict)\n",
    "    run.settings = settings\n",
    "    run.add_edge(\"account\", account)\n",
    "    if remove_container:\n",
    "        run.containerImage = \"none\"\n",
    "    return run\n",
    "    \n",
    "def create_run_expanded(client, run):\n",
    "    client.create(run)\n",
    "    accounts = run.account\n",
    "    if accounts:\n",
    "        account=accounts[0]\n",
    "        client.create(account)\n",
    "        client.create_edge(run.get_edges(\"account\")[0])    "
   ]
  },
  {
   "cell_type": "code",
   "execution_count": null,
   "metadata": {},
   "outputs": [],
   "source": [
    "# export\n",
    "@call_parse\n",
    "def run_plugin(pod_full_address:Param(\"The pod full address\", str)=DEFAULT_POD_ADDRESS,\n",
    "               plugin_run_id:Param(\"Run id of the plugin to be executed\", str)=None,\n",
    "               database_key:Param(\"Database key of the pod\", str)=None,\n",
    "               owner_key:Param(\"Owner key of the pod\", str)=None,\n",
    "               read_args_from_env:Param(\"Read the args from the environment\", bool)=False,\n",
    "               config_file:Param(\"config file for the PluginRun\", str)=None):\n",
    "    \n",
    "    if read_args_from_env:\n",
    "        pod_full_address, plugin_run_id, pod_auth_json, owner_key = _parse_env()\n",
    "        database_key=None\n",
    "    else:\n",
    "        if database_key is None: database_key = read_pod_key(\"database_key\")\n",
    "        if owner_key is None: owner_key = read_pod_key(\"owner_key\")\n",
    "        pod_auth_json = None\n",
    "\n",
    "    client = PodClient(url=pod_full_address, database_key=database_key, owner_key=owner_key,\n",
    "                       auth_json=pod_auth_json)\n",
    "    \n",
    "    if config_file is not None:\n",
    "        run = parse_config(config_file, remove_container=True)\n",
    "        create_run_expanded(client, run)\n",
    "        plugin_run_id=run.id\n",
    "    \n",
    "    print(f\"pod_full_address={pod_full_address}\\nowner_key={owner_key}\\n\")\n",
    "\n",
    "    run_plugin_from_run_id(run_id=plugin_run_id, client=client)"
   ]
  },
  {
   "cell_type": "markdown",
   "metadata": {},
   "source": [
    "To start a plugin on your local machine, you can use the CLI. This will create a client for you, and run the code defined in `<myplugin>.run()`"
   ]
  },
  {
   "cell_type": "code",
   "execution_count": null,
   "metadata": {},
   "outputs": [
    {
     "name": "stdout",
     "output_type": "stream",
     "text": [
      "reading database_key from /Users/koen/.pymemri/pod_keys/keys.json\n",
      "reading owner_key from /Users/koen/.pymemri/pod_keys/keys.json\n",
      "pod_full_address=http://localhost:3030\n",
      "owner_key=8677996173299944016776856689234978705539171358808241281853139489\n",
      "\n",
      "running\n",
      "logging in with account myusername and password mypassword\n"
     ]
    }
   ],
   "source": [
    "run_plugin(config_file=\"../example_config.json\")"
   ]
  },
  {
   "cell_type": "markdown",
   "metadata": {},
   "source": [
    "> Note: The data that is created here should be in the pod in order for this to work"
   ]
  },
  {
   "cell_type": "markdown",
   "metadata": {},
   "source": [
    "## Run from pod "
   ]
  },
  {
   "cell_type": "markdown",
   "metadata": {},
   "source": [
    "In production, we start plugins by making an API call to the pod, which in turn creates an environment for the plugin and starts it using docker containers, kubernetes containers or a shell script. We can start this process using the `simulate_run_plugin_from_frontend` CLI. **Note that when using docker, provided container name should be \"installed\" within the Pod environemnt (e.g. `docker build -t pymemri .` for this repo) in order to start it.** "
   ]
  },
  {
   "cell_type": "markdown",
   "metadata": {},
   "source": [
    "![running a plugin](images/running_a_plugin.svg)"
   ]
  },
  {
   "cell_type": "code",
   "execution_count": null,
   "metadata": {},
   "outputs": [],
   "source": [
    "# export\n",
    "from fastcore.script import call_parse, Param\n",
    "import os\n",
    "\n",
    "@call_parse\n",
    "def simulate_run_plugin_from_frontend(pod_full_address:Param(\"The pod full address\", str)=DEFAULT_POD_ADDRESS,\n",
    "                        database_key:Param(\"Database key of the pod\", str)=None,\n",
    "                        owner_key:Param(\"Owner key of the pod\", str)=None,\n",
    "                        container:Param(\"Pod container to run frod\", str)=None,\n",
    "                        plugin_path:Param(\"Plugin path\", str)=None,\n",
    "                        account_id:Param(\"Account id to be used inside the plugin\", str)=None,\n",
    "                        settings_file:Param(\"Plugin settings (json)\", str)=None):\n",
    "    # TODO remove container, plugin_module, plugin_name and move to Plugin item.\n",
    "    # Open question: This presumes Plugin item is already in pod before simulate_run_plugin_from_frontend is called.\n",
    "    if database_key is None: database_key = read_pod_key(\"database_key\")\n",
    "    if owner_key is None: owner_key = read_pod_key(\"owner_key\")\n",
    "    params = [pod_full_address, database_key, owner_key]\n",
    "        \n",
    "    if (None in params):\n",
    "        raise ValueError(f\"Defined some params to run indexer, but not all\")\n",
    "    client = PodClient(url=pod_full_address, database_key=database_key, owner_key=owner_key)\n",
    "    for name, val in [(\"pod_full_address\", pod_full_address), (\"owner_key\", owner_key)]:\n",
    "        print(f\"{name}={val}\")\n",
    "\n",
    "    if settings_file is not None:\n",
    "        with open(settings_file, 'r') as f:\n",
    "            settings = f.read()\n",
    "    else:\n",
    "        settings = None\n",
    "        \n",
    "    if account_id is None:\n",
    "        account = None\n",
    "    else:\n",
    "        account = client.get(account_id)\n",
    "        print(f\"Using {account}\")\n",
    "\n",
    "    register_base_schemas(client)\n",
    "    run = PluginRun(container, plugin_module, plugin_name, account=[account])\n",
    "\n",
    "    else:\n",
    "        if container is None:\n",
    "            container = plugin_path.split(\".\", 1)[0]\n",
    "        print(f\"Inferred '{container}' as plugin container name\")\n",
    "        plugin_module, plugin_name = plugin_path.rsplit(\".\", 1)\n",
    "        run = PluginRun(container, plugin_module, plugin_name)\n",
    "        if plugin_id is not None:\n",
    "            persistent_state = client.get(plugin_id)\n",
    "            run.add_edge(\"persistentState\", persistent_state)\n",
    "            client.create_edge(run.get_edges(\"persistentState\")[0])\n",
    "            client.create(run)\n",
    "    print(f\"\\ncalling the `create` api on {pod_full_address} to make your Pod start \"\n",
    "          f\"a plugin with id {run.id}.\")\n",
    "    print(f\"*Check the pod log/console for debug output.*\")\n",
    "    return run"
   ]
  },
  {
   "cell_type": "code",
   "execution_count": null,
   "metadata": {},
   "outputs": [],
   "source": [
    "client = PodClient()"
   ]
  },
  {
   "cell_type": "code",
   "execution_count": null,
   "metadata": {},
   "outputs": [
    {
     "name": "stdout",
     "output_type": "stream",
     "text": [
      "reading database_key from /Users/koen/.pymemri/pod_keys/keys.json\n",
      "reading owner_key from /Users/koen/.pymemri/pod_keys/keys.json\n",
      "pod_full_address=http://localhost:3030\n",
      "owner_key=8677996173299944016776856689234978705539171358808241281853139489\n",
      "\n",
      "calling the `create` api on http://localhost:3030 to make your Pod start a plugin with id 4DfDBbcdcbABcf822Fc7DC5d5b3C3BDc.\n",
      "*Check the pod log/console for debug output.*\n"
     ]
    }
   ],
   "source": [
    "!simulate_run_plugin_from_frontend --config_file=\"../example_config.json\""
   ]
  },
  {
   "cell_type": "code",
   "execution_count": null,
   "metadata": {},
   "outputs": [],
   "source": [
    "# hide\n",
    "# !simulate_run_plugin_from_frontend --plugin_path=\"pymemri.plugin.pluginbase.MyPlugin\""
   ]
  },
  {
   "cell_type": "markdown",
   "metadata": {},
   "source": [
    "## Appendix -"
   ]
  },
  {
   "cell_type": "code",
   "execution_count": null,
   "metadata": {},
   "outputs": [],
   "source": [
    "# hide\n",
    "# client.start_plugin(\"pymemri\", run.id)"
   ]
  },
  {
   "cell_type": "code",
   "execution_count": null,
   "metadata": {},
   "outputs": [],
   "source": [
    "# hide\n",
    "# class StartPlugin(Item):\n",
    "#     properties = Item.properties + [\"container\", \"targetItemId\"]\n",
    "#     edges = Item.edges\n",
    "#     def __init__(self, container=None, targetItemId=None, **kwargs):\n",
    "#         super().__init__(**kwargs)\n",
    "#         self.container = container\n",
    "#         self.targetItemId = targetItemId"
   ]
  },
  {
   "cell_type": "code",
   "execution_count": null,
   "metadata": {},
   "outputs": [],
   "source": [
    "# hide\n",
    "# class PluginSettings(Item):\n",
    "#     def __init__(self, settings_dict):\n",
    "#         self.settings_dict=settings_dict\n",
    "        \n",
    "#     def __getattr__(self, k):\n",
    "#         if k in self.settings_dict:\n",
    "#             return self.settings_dict[k]\n",
    "        \n",
    "#     @classmethod\n",
    "#     def from_string(cls, s):\n",
    "#         objs = json.loads(s)\n",
    "#         cls(objs)"
   ]
  },
  {
   "cell_type": "code",
   "execution_count": null,
   "metadata": {},
   "outputs": [],
   "source": [
    "# hide\n",
    "# # export\n",
    "# def generate_test_env(client, indexer_run):\n",
    "#     payload = json.dumps({DATABASE_KEY_ENV: client.database_key, OWNER_KEY_ENV: client.owner_key})\n",
    "              \n",
    "#     return {POD_FULL_ADDRESS_ENV: DEFAULT_POD_ADDRESS,\n",
    "#             POD_TARGET_ITEM: indexer_run.id,\n",
    "#             POD_SERVICE_PAYLOAD_ENV: payload}"
   ]
  },
  {
   "cell_type": "code",
   "execution_count": null,
   "metadata": {},
   "outputs": [],
   "source": [
    "# hide\n",
    "# run_plugin(env=generate_test_env(client, run))"
   ]
  },
  {
   "cell_type": "markdown",
   "metadata": {},
   "source": [
    "# Export -"
   ]
  },
  {
   "cell_type": "code",
   "execution_count": null,
   "metadata": {},
   "outputs": [
    {
     "name": "stdout",
     "output_type": "stream",
     "text": [
      "Converted basic.ipynb.\n",
      "Converted data.photo.ipynb.\n",
      "Converted importers.Importer.ipynb.\n",
      "Converted importers.util.ipynb.\n",
      "Converted index.ipynb.\n",
      "Converted indexers.indexer.ipynb.\n",
      "Converted itembase.ipynb.\n",
      "Converted plugin.pluginbase.ipynb.\n",
      "Converted pod.client.ipynb.\n"
     ]
    }
   ],
   "source": [
    "# hide\n",
    "from nbdev.export import *\n",
    "notebook2script()"
   ]
  },
  {
   "cell_type": "code",
   "execution_count": null,
   "metadata": {},
   "outputs": [],
   "source": []
  }
 ],
 "metadata": {
  "kernelspec": {
   "display_name": "Python 3",
   "language": "python",
   "name": "python3"
  }
 },
 "nbformat": 4,
 "nbformat_minor": 4
}
