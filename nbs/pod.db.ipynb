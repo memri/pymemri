{
 "cells": [
  {
   "cell_type": "code",
   "execution_count": null,
   "id": "0e11237e",
   "metadata": {},
   "outputs": [],
   "source": [
    "%load_ext autoreload\n",
    "%autoreload 2\n",
    "# default_exp pod.db"
   ]
  },
  {
   "cell_type": "code",
   "execution_count": null,
   "id": "a28de89f",
   "metadata": {},
   "outputs": [],
   "source": [
    "# export\n",
    "# hide\n",
    "class DB():\n",
    "    def __init__(self):\n",
    "        self.nodes = dict()\n",
    "\n",
    "    def add(self, node):\n",
    "        id = node.id\n",
    "        if id in self.nodes:\n",
    "            print(f\"Error trying to add node, but node with with id: {id} is already in database\")\n",
    "        self.nodes[id] = node\n",
    "\n",
    "    def get(self, id):\n",
    "        res = self.nodes.get(id, None)\n",
    "        return res\n",
    "\n",
    "    def contains(self, node):\n",
    "        id = node.get_property(\"id\")\n",
    "        return id in self.nodes\n",
    "\n",
    "    def create(self, node):\n",
    "        existing = self.get(node.properties.get(\"id\", None))\n",
    "\n",
    "        if existing is not None:\n",
    "            if not existing._expanded:\n",
    "                existing.edges = node.edges\n",
    "                existing._expanded = node.edges is not None\n",
    "            return existing\n",
    "        else:\n",
    "            self.add(node)\n",
    "            return node"
   ]
  }
 ],
 "metadata": {
  "kernelspec": {
   "display_name": "Python 3",
   "language": "python",
   "name": "python3"
  }
 },
 "nbformat": 4,
 "nbformat_minor": 5
}
