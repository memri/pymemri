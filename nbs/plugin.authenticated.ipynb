{
 "cells": [
  {
   "cell_type": "code",
   "execution_count": null,
   "metadata": {},
   "outputs": [],
   "source": [
    "%load_ext autoreload\n",
    "%autoreload 2\n",
    "# default_exp plugin.authenticated"
   ]
  },
  {
   "cell_type": "code",
   "execution_count": null,
   "metadata": {},
   "outputs": [],
   "source": [
    "#export\n",
    "from pymemri.data.schema import Item, CVUStoredDefinition, Account\n",
    "from pymemri.plugin.stateful import StatefulPlugin\n",
    "import abc\n",
    "import logging\n",
    "from time import time, sleep"
   ]
  },
  {
   "cell_type": "code",
   "execution_count": null,
   "metadata": {},
   "outputs": [],
   "source": [
    "#export\n",
    "RUN_STATE_POLLING_INTERVAL = 0.6\n",
    "RUN_USER_ACTION_TIMEOUT = 120"
   ]
  },
  {
   "cell_type": "markdown",
   "metadata": {},
   "source": [
    "## Authentication methods for plugins"
   ]
  },
  {
   "cell_type": "code",
   "execution_count": null,
   "metadata": {},
   "outputs": [],
   "source": [
    "# export\n",
    "class AuthenticatedPlugin(StatefulPlugin):\n",
    "\n",
    "    def __init__(self, runId=None, **kwargs):\n",
    "        super().__init__(runId=runId, **kwargs)\n",
    "\n",
    "    @abc.abstractmethod\n",
    "    def start_auth(self, client):\n",
    "        raise NotImplementedError()\n",
    "\n",
    "    def get_account_from_plugin(self, client, pluginName=None):\n",
    "        # Find persistent plugin state\n",
    "        persistent_state = self.get_state(client, pluginName)\n",
    "        return persistent_state.get_account()  \n",
    "\n",
    "    def ask_user_for_accounts(self, client, view, oauth_url=None):\n",
    "        # start userActionNeeded flow\n",
    "        self.action_required(client)\n",
    "        \n",
    "        self.set_run_vars(client, {'oAuthUrl': oauth_url})\n",
    "        self.set_run_view(client, view)\n",
    "\n",
    "        # poll here\n",
    "        start_time = time()\n",
    "        # handle timeouts\n",
    "        while RUN_USER_ACTION_TIMEOUT > time() - start_time:\n",
    "            sleep(RUN_STATE_POLLING_INTERVAL)\n",
    "            if self.is_action_completed(client):\n",
    "                # Now the client has set up the account as an edge to the plugin\n",
    "                return self.get_account_from_plugin(client)\n",
    "\n",
    "        raise Exception(\"PluginFlow: User input timeout\")\n",
    "\n",
    "    def set_account_vars(self, client, vars_dictionary):\n",
    "        account = self.get_account_from_plugin(client)\n",
    "        if account:\n",
    "            for k,v in vars_dictionary.items():\n",
    "                setattr(account, k, v)\n",
    "            account.update(client)\n",
    "        else:\n",
    "            # Create account item\n",
    "            account = Account(**vars_dictionary)\n",
    "            # Save accounts as an edge to the plugin\n",
    "            client.create(account)\n",
    "            # add the account to the plugin item\n",
    "            plugin = client.get(self.persistenceId)\n",
    "            plugin.add_edge('account', account)\n",
    "            plugin.update(client)\n",
    "\n",
    "    def add_to_schema(self, client):\n",
    "        super().add_to_schema(client)\n",
    "        client.add_to_schema(Account(identifier=\"\", secret=\"\", code=\"\", refreshToken=\"\", \\\n",
    "            service=\"\", handle=\"\", displayName=\"\", avatarUrl=\"\", externalId=\"\", errorMessage=\"\"))\n"
   ]
  },
  {
   "cell_type": "markdown",
   "metadata": {},
   "source": [
    "## Building a plugin with authentication"
   ]
  },
  {
   "cell_type": "code",
   "execution_count": null,
   "metadata": {},
   "outputs": [],
   "source": [
    "NUM_LOGIN_TRIES = 3\n",
    "SERVICE_NAME = \"example service\"\n",
    "\n",
    "class MyAuthPlugin(AuthenticatedPlugin):\n",
    "\n",
    "    def __init__(self, runId=None, **kwargs):\n",
    "        super().__init__(runId=runId, **kwargs)\n",
    "\n",
    "    def start_auth(self, client):\n",
    "        account = self.get_account_from_plugin(client)\n",
    "        if account and not account.errorMessage:\n",
    "            return True\n",
    "        \n",
    "        for i in range(NUM_LOGIN_TRIES):\n",
    "            account = self.ask_user_for_accounts(client, \"auth-view\", oauth_url=\"\")\n",
    "            # test user input here, normally via a service e.g. `self.service.login(account.identifier, account.secret)`\n",
    "            if account and account.identifier == \"username\" and account.secret == \"password\":\n",
    "                return True\n",
    "            else:\n",
    "                self.set_account_vars(client, {'errorMessage': 'Incorrect credentials'})\n",
    "            \n",
    "        return False\n",
    "\n",
    "\n",
    "    def run(self):\n",
    "        print(\"Running plugin\")\n",
    "        pass\n",
    "    \n",
    "    def add_to_schema(self, client):\n",
    "        print(\"Adding schema\")\n",
    "        super().add_to_schema(client)\n",
    "        # add plugin-specific schemas here\n",
    "        pass\n"
   ]
  },
  {
   "cell_type": "code",
   "execution_count": null,
   "metadata": {},
   "outputs": [],
   "source": [
    "from pymemri.pod.client import PodClient\n",
    "from pymemri.data.schema import CVUStoredDefinition\n",
    "from pymemri.plugin.pluginbase import PluginRun, register_base_schemas\n",
    "from pymemri.plugin.stateful import RUN_STARTED\n",
    "\n",
    "# prepare\n",
    "client = PodClient()\n",
    "\n",
    "# deploy plugin or get the deployed state\n",
    "auth_plugin = MyAuthPlugin()\n",
    "auth_plugin.add_to_schema(client)\n",
    "auth_plugin.init_run(client, containerImage=\"authenticated_plugin\", pluginModule=\"pymemri.plugin.authenticated\", pluginName=\"AuthenticatedPlugin\")\n",
    "persistence = auth_plugin.get_state(client, \"myAuthPlugin\")\n",
    "if not persistence:\n",
    "    views = [CVUStoredDefinition(name=\"login-view\"), CVUStoredDefinition(name=\"other-view\")]\n",
    "    persistence = auth_plugin.persist(client, \"myAuthPlugin\", views=views, account=None)\n",
    "\n",
    "# test the run states\n",
    "auth_plugin.started(client)\n",
    "assert auth_plugin.get_run_state_str(client) == RUN_STARTED\n",
    "\n",
    "# test empty persistent account\n",
    "state = auth_plugin.get_state(client)\n",
    "assert state.get_account() == None\n",
    "\n",
    "# set an account attached to the persistent state\n",
    "service_account = Account(service=\"3rd party\", identifier=\"me\", secret=\"mypassword\")\n",
    "service_account.update(client)\n",
    "state = auth_plugin.get_state(client)\n",
    "state.set_account(client, service_account)\n",
    "assert state.get_account().identifier == \"me\"\n"
   ]
  }
 ],
 "metadata": {
  "kernelspec": {
   "display_name": "Python 3.8.5 64-bit ('usr')",
   "name": "python385jvsc74a57bd031f2aee4e71d21fbe5cf8b01ff0e069b9275f58929596ceb00d14d90e3e16cd6"
  }
 },
 "nbformat": 4,
 "nbformat_minor": 2
}
