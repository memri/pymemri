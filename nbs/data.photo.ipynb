{
 "cells": [
  {
   "cell_type": "code",
   "execution_count": null,
   "metadata": {},
   "outputs": [],
   "source": [
    "%load_ext autoreload\n",
    "%autoreload 2\n",
    "# default_exp data.photo"
   ]
  },
  {
   "cell_type": "code",
   "execution_count": null,
   "metadata": {},
   "outputs": [],
   "source": [
    "# export\n",
    "from pymemri.data.schema import Item"
   ]
  },
  {
   "cell_type": "code",
   "execution_count": null,
   "metadata": {},
   "outputs": [],
   "source": [
    "# export\n",
    "from pymemri.data.schema import *\n",
    "from pymemri.data.basic import *\n",
    "from matplotlib.pyplot import imshow\n",
    "from matplotlib import patches\n",
    "from matplotlib.collections import PatchCollection\n",
    "from numpy.linalg import norm\n",
    "from hashlib import sha256\n",
    "import matplotlib.pyplot as plt\n",
    "import math\n",
    "import numpy as np\n",
    "import io\n",
    "from PIL import Image\n",
    "from hashlib import sha256\n",
    "from typing import Any"
   ]
  },
  {
   "cell_type": "markdown",
   "metadata": {},
   "source": [
    "# Photo"
   ]
  },
  {
   "cell_type": "code",
   "execution_count": null,
   "metadata": {},
   "outputs": [],
   "source": [
    "# export\n",
    "DEFAULT_ENCODING = \"PNG\""
   ]
  },
  {
   "cell_type": "code",
   "execution_count": null,
   "metadata": {},
   "outputs": [],
   "source": [
    "# export\n",
    "def show_images(images, cols = 3, titles = None):\n",
    "    image_list = [x.data for x in images] if isinstance(images[0], Photo) else images\n",
    "    assert((titles is None) or (len(image_list) == len(titles)))\n",
    "    n_images = len(image_list)\n",
    "    if titles is None: titles = [\"\" for i in range(1,n_images + 1)]\n",
    "    fig = plt.figure()\n",
    "    for n, (image, title) in enumerate(zip(image_list, titles)):\n",
    "        a = fig.add_subplot(int(np.ceil(n_images/float(cols))), cols , n + 1)\n",
    "        a.axis('off')\n",
    "        if image.ndim == 2:\n",
    "            plt.gray()\n",
    "        plt.imshow(image[:,:,::-1])\n",
    "        a.set_title(title)\n",
    "    fig.set_size_inches(np.array(fig.get_size_inches()) * n_images)\n",
    "    plt.show()"
   ]
  },
  {
   "cell_type": "code",
   "execution_count": null,
   "metadata": {},
   "outputs": [],
   "source": [
    "# export\n",
    "class Photo(Item):\n",
    "\n",
    "    properties = Item.properties + [\"width\", \"height\", \"channels\", \"encoding\", \"mode\"]\n",
    "    edges = Item.edges + [\"file\"]\n",
    "\n",
    "    def __init__(\n",
    "        self,\n",
    "        data: Any=None,\n",
    "        includes: Any=None,  # TODO\n",
    "        thumbnail: Any=None, # TODO\n",
    "        height: int=None,\n",
    "        width: int=None,\n",
    "        channels: int=None,\n",
    "        encoding: str=None,\n",
    "        mode: str=None,\n",
    "        file: list=None,\n",
    "        _file_created: bool=False,\n",
    "        **kwargs\n",
    "    ):\n",
    "        super().__init__(**kwargs)\n",
    "        self.private = [\"data\", \"embedding\", \"path\"] #TODO\n",
    "        self.height = height\n",
    "        self.width = width\n",
    "        self.channels = channels\n",
    "        self.encoding = encoding\n",
    "        self.mode = mode\n",
    "        self.file = file if file is not None else []\n",
    "        self.data = data\n",
    "        self._file_created = _file_created\n",
    "\n",
    "    def show(self):\n",
    "        fig, ax = plt.subplots(1)\n",
    "        fig.set_figheight(15)\n",
    "        fig.set_figwidth(15)\n",
    "        ax.axis(\"off\")\n",
    "        imshow(self.data[:, :, ::-1])\n",
    "        fig.set_size_inches((6, 6))\n",
    "        plt.show()\n",
    "        \n",
    "    @property\n",
    "    def size(self):\n",
    "        return self.width, self.height\n",
    "\n",
    "    @classmethod\n",
    "    def from_data(cls, *args, **kwargs):\n",
    "        res = super().from_data(*args, **kwargs)\n",
    "        if res.file:\n",
    "            res.file[0]  # TODO\n",
    "        return res\n",
    "\n",
    "    @classmethod\n",
    "    def from_path(cls, path, size=None):\n",
    "        pil_image = Image.open(path)\n",
    "        encoding, mode, shape = cls.infer_PIL_metadata(pil_image)\n",
    "        w, h, c = shape\n",
    "        _bytes = cls.PIL_to_bytes(pil_image, encoding)\n",
    "\n",
    "        res = cls(data=_bytes, height=h, width=w, channels=c, encoding=encoding, mode=mode)\n",
    "        file = File.from_data(sha256=sha256(_bytes).hexdigest())\n",
    "        res.add_edge(\"file\", file)\n",
    "        return res\n",
    "\n",
    "    @classmethod\n",
    "    def from_np(cls, data, size=None, *args, **kwargs):\n",
    "        pil_image = Image.fromarray(data)\n",
    "        if size is not None:\n",
    "            pil_image = pil_image.resize(size)\n",
    "        encoding, mode, shape = cls.infer_PIL_metadata(pil_image)\n",
    "        w, h, c = shape\n",
    "        _bytes = cls.PIL_to_bytes(pil_image, encoding)\n",
    "\n",
    "        res = cls(data=_bytes, height=h, width=w, channels=c, encoding=encoding, mode=mode)\n",
    "        file = File.from_data(sha256=sha256(_bytes).hexdigest())\n",
    "        res.add_edge(\"file\", file)\n",
    "        return res\n",
    "\n",
    "    @classmethod\n",
    "    def from_bytes(cls, _bytes):\n",
    "        image_stream = io.BytesIO(_bytes)\n",
    "        pil_image = Image.open(image_stream)\n",
    "        encoding, mode, shape = cls.infer_PIL_metadata(pil_image)\n",
    "        w, h, c = shape\n",
    "\n",
    "        res = cls(data=_bytes, height=h, width=w, channels=c, encoding=encoding, mode=mode)\n",
    "        file = File.from_data(sha256=sha256(_bytes).hexdigest())\n",
    "        res.add_edge(\"file\", file)\n",
    "        return res\n",
    "    \n",
    "    @staticmethod\n",
    "    def PIL_to_bytes(pil_image, encoding):\n",
    "        byte_io = io.BytesIO()\n",
    "        pil_image.save(byte_io, encoding)\n",
    "        return byte_io.getvalue()\n",
    "\n",
    "    @staticmethod\n",
    "    def infer_PIL_metadata(pil_image):\n",
    "        encoding = pil_image.format or DEFAULT_ENCODING\n",
    "        mode = pil_image.mode\n",
    "        size = pil_image.size\n",
    "        if len(size) == 3:\n",
    "            w, h, c = size\n",
    "        if len(size) == 2:\n",
    "            w, h = size\n",
    "            c = 1\n",
    "        else:\n",
    "            raise Error\n",
    "        return encoding, mode, (w, h, c)\n",
    "    \n",
    "    def to_PIL(self):\n",
    "        if self.data is None:\n",
    "            raise ValueError(\"Photo object has no data\")\n",
    "        \n",
    "        return Image.open(io.BytesIO(self.data))\n",
    "    \n",
    "    def to_np(self):\n",
    "        pil_img = self.to_PIL()\n",
    "        return np.asarray(pil_img)"
   ]
  },
  {
   "cell_type": "code",
   "execution_count": null,
   "metadata": {},
   "outputs": [],
   "source": [
    "photo_path = Photo.from_path(\"images/labrador.jpg\")\n",
    "assert photo_path.encoding == \"JPEG\"\n",
    "assert photo_path.mode == \"RGB\""
   ]
  },
  {
   "cell_type": "code",
   "execution_count": null,
   "metadata": {},
   "outputs": [],
   "source": [
    "with open(\"images/labrador.jpg\", \"rb\") as f:\n",
    "    b = f.read()\n",
    "    \n",
    "photo_bytes = Photo.from_bytes(b)\n",
    "assert photo_bytes.encoding == \"JPEG\"\n",
    "assert photo_bytes.mode == \"RGB\""
   ]
  },
  {
   "cell_type": "code",
   "execution_count": null,
   "metadata": {},
   "outputs": [],
   "source": [
    "np_image = np.asarray(Image.open(\"images/labrador.jpg\"))\n",
    "photo_np = Photo.from_np(np_image)\n",
    "\n",
    "assert photo_np.encoding == DEFAULT_ENCODING\n",
    "assert photo_np.mode == \"RGB\""
   ]
  },
  {
   "cell_type": "code",
   "execution_count": null,
   "metadata": {},
   "outputs": [],
   "source": [
    "grayscale_img = np.uint8(np.random.random([500, 500]) * 255)\n",
    "photo = Photo.from_np(grayscale_img)\n",
    "\n",
    "assert photo.channels == 1\n",
    "assert photo.mode == \"L\""
   ]
  },
  {
   "cell_type": "markdown",
   "metadata": {},
   "source": [
    "# Export -"
   ]
  },
  {
   "cell_type": "code",
   "execution_count": null,
   "metadata": {},
   "outputs": [
    {
     "name": "stdout",
     "output_type": "stream",
     "text": [
      "Converted basic.ipynb.\n",
      "Converted cvu.utils.ipynb.\n",
      "Converted data.photo.ipynb.\n",
      "Converted exporters.query.ipynb.\n",
      "Converted index.ipynb.\n",
      "Converted itembase.ipynb.\n",
      "Converted plugin.authenticators.credentials.ipynb.\n",
      "Converted plugin.authenticators.oauth.ipynb.\n",
      "Converted plugin.listeners.ipynb.\n",
      "Converted plugin.pluginbase.ipynb.\n",
      "Converted plugin.states.ipynb.\n",
      "Converted plugins.authenticators.password.ipynb.\n",
      "Converted pod.api.ipynb.\n",
      "Converted pod.client.ipynb.\n",
      "Converted pod.db.ipynb.\n",
      "Converted pod.utils.ipynb.\n",
      "Converted template.config.ipynb.\n",
      "Converted template.formatter.ipynb.\n",
      "Converted test_schema.ipynb.\n",
      "Converted test_utils.ipynb.\n"
     ]
    }
   ],
   "source": [
    "# hide\n",
    "from nbdev.export import *\n",
    "notebook2script()"
   ]
  }
 ],
 "metadata": {
  "kernelspec": {
   "display_name": "Python 3 (ipykernel)",
   "language": "python",
   "name": "python3"
  }
 },
 "nbformat": 4,
 "nbformat_minor": 4
}
