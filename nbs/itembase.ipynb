{
 "cells": [
  {
   "cell_type": "code",
   "execution_count": null,
   "metadata": {},
   "outputs": [],
   "source": [
    "%load_ext autoreload\n",
    "%autoreload 2\n",
    "# default_exp data.itembase"
   ]
  },
  {
   "cell_type": "markdown",
   "metadata": {},
   "source": [
    "# Itembase"
   ]
  },
  {
   "cell_type": "markdown",
   "metadata": {},
   "source": [
    "Any data class in pymemri inherits from `Item`. It is a base class for items with some handy functionalities to create new items and edges, retrieve all edges to other items, and sync with the pod."
   ]
  },
  {
   "cell_type": "code",
   "execution_count": null,
   "metadata": {},
   "outputs": [],
   "source": [
    "# export\n",
    "# hide\n",
    "from pymemri.imports import *\n",
    "\n",
    "ALL_EDGES = \"allEdges\"\n",
    "SOURCE, TARGET, TYPE, EDGE_TYPE, LABEL, SEQUENCE = \"_source\", \"_target\", \"_type\", \"_type\", \"label\", \"sequence\""
   ]
  },
  {
   "cell_type": "code",
   "execution_count": null,
   "metadata": {},
   "outputs": [],
   "source": [
    "#hide\n",
    "from nbdev.showdoc import *"
   ]
  },
  {
   "cell_type": "code",
   "execution_count": null,
   "metadata": {},
   "outputs": [],
   "source": [
    "# export\n",
    "# hide\n",
    "def parse_base_item_json(json):\n",
    "    id = json.get(\"id\", None)\n",
    "    dateAccessed = json.get(\"dateAccessed\", None)\n",
    "    dateCreated = json.get(\"dateCreated\", None)\n",
    "    dateModified = json.get(\"dateModified\", None)\n",
    "    deleted = json.get(\"deleted\", None)\n",
    "    externalId = json.get(\"externalId\", None)\n",
    "    itemDescription = json.get(\"itemDescription\", None)\n",
    "    starred = json.get(\"starred\", None)\n",
    "    version = json.get(\"version\", None)\n",
    "\n",
    "    return id, dateAccessed, dateCreated, dateModified, deleted, externalId, itemDescription, starred, version, None, None"
   ]
  },
  {
   "cell_type": "code",
   "execution_count": null,
   "metadata": {},
   "outputs": [],
   "source": [
    "# export\n",
    "class Edge():\n",
    "    \"\"\"Edges makes a link between two `ItemBase` Items. You won't use this class a lot in practice, as edges are\n",
    "    abstracted away for normal users. When items are retrieved from the database, the edges are parsed automatically.\n",
    "    When you add an edge between to items within pymemri, you will often use `ItemBase.add_edge`\"\"\"\n",
    "    def __init__(self, source, target, _type, label=None, sequence=None, created=False, reverse=True):\n",
    "        self.source   = source\n",
    "        self.target   = target\n",
    "        self._type    = _type\n",
    "        self.label    = label\n",
    "        self.sequence = sequence\n",
    "        self.created  = created\n",
    "        self.reverse  = reverse\n",
    "\n",
    "    @classmethod\n",
    "    def from_json(cls, json):\n",
    "        from pymemri.data.schema import get_constructor\n",
    "        # we only set the target here\n",
    "        _type = json[EDGE_TYPE]\n",
    "        json_target = json[TARGET]\n",
    "        target_type = json_target[\"_type\"]\n",
    "        plugin_class = json_target.get(\"pluginClass\", None)\n",
    "        target_constructor = get_constructor(target_type, plugin_class)\n",
    "        target = target_constructor.from_json(json_target)\n",
    "        return cls(source=None, target=target, _type=_type)\n",
    "\n",
    "    def __repr__(self):\n",
    "        return f\"{self.source} --{self._type}-> {self.target}\"\n",
    "\n",
    "    def update(self, api):\n",
    "        if self.created:\n",
    "            api.create_edges([self])\n",
    "\n",
    "    def __eq__(self, other):\n",
    "        return self.source is other.source and self.target is other.target \\\n",
    "         and self._type == other._type and self.reverse == other.reverse and self.created == other.created \\\n",
    "         and self.label == other.label\n",
    "\n",
    "    def traverse(self, start):\n",
    "        \"\"\"We can traverse an edge starting from the source to the target or vice versa. In practice we often call\n",
    "        item.some_edge_type, which calls item.traverse(edgetype), which in turn calls this function.\"\"\"\n",
    "        if start == self.source:\n",
    "            return self.target\n",
    "        elif start == self.target:\n",
    "            return self.source\n",
    "        else:\n",
    "            raise ValueError"
   ]
  },
  {
   "cell_type": "code",
   "execution_count": null,
   "metadata": {},
   "outputs": [
    {
     "data": {
      "text/markdown": [
       "<h4 id=\"Edge.traverse\" class=\"doc_header\"><code>Edge.traverse</code><a href=\"__main__.py#L39\" class=\"source_link\" style=\"float:right\">[source]</a></h4>\n",
       "\n",
       "> <code>Edge.traverse</code>(**`start`**)\n",
       "\n",
       "We can traverse an edge starting from the source to the target or vice versa. In practice we often call\n",
       "item.some_edge_type, which calls item.traverse(edgetype), which in turn calls this function."
      ],
      "text/plain": [
       "<IPython.core.display.Markdown object>"
      ]
     },
     "metadata": {},
     "output_type": "display_data"
    }
   ],
   "source": [
    "show_doc(Edge.traverse)"
   ]
  },
  {
   "cell_type": "code",
   "execution_count": null,
   "metadata": {},
   "outputs": [],
   "source": [
    "ITEMBASE_PROPERTIES = [\"dateAccessed\", \"dateCreated\", \"dateModified\", \"deleted\", \"externalId\", \"itemDescription\",\n",
    "                     \"starred\", \"version\", \"id\", \"importJson\", \"name\", \"repository\", \"icon\", \"bundleImage\",\n",
    "                     \"runDestination\", \"pluginClass\"]"
   ]
  },
  {
   "cell_type": "code",
   "execution_count": null,
   "metadata": {},
   "outputs": [],
   "source": [
    "# export\n",
    "# hide\n",
    "class ItemBase():\n",
    "    \"\"\"Provides a base class for all items.\n",
    "    All items in the schema inherit from this class, and it provides some\n",
    "    basic functionality for consistency and to enable easier usage.\"\"\"\n",
    "\n",
    "    def __init__(self, id=None):\n",
    "        self.id=id\n",
    "\n",
    "    def __getattribute__(self, name):\n",
    "        val = object.__getattribute__(self, name)\n",
    "        if isinstance(val, Edge):\n",
    "            edge = val\n",
    "            return edge.traverse(start=self)\n",
    "        if isinstance(val, list) and len(val) > 0 and isinstance(val[0], Edge):\n",
    "            edges = val\n",
    "            return [edge.traverse(start=self) for edge in edges]\n",
    "        else:\n",
    "            return val\n",
    "\n",
    "    def add_edge(self, name, val):\n",
    "        \"\"\"Creates an edge of type name and makes it point to val\"\"\"\n",
    "        val = Edge(self, val, name, created=True)\n",
    "        if name not in self.__dict__:\n",
    "            raise NameError(f\"object {self} does not have edge with name {name}\")\n",
    "        existing = object.__getattribute__(self, name)\n",
    "        if val not in existing:\n",
    "            res = existing + [val]\n",
    "            self.__setattr__(name, res)\n",
    "\n",
    "    def is_expanded(self):\n",
    "        \"\"\"returns whether the node is expanded. An expanded node retrieved nodes that are\n",
    "        *directly* connected to it\n",
    "        from the pod, and stored their values via edges in the object.\"\"\"\n",
    "        return len(self.get_all_edges()) > 0\n",
    "\n",
    "    def get_edges(self, name):\n",
    "        return object.__getattribute__(self, name)\n",
    "\n",
    "    def get_all_edges(self):\n",
    "        return [e for attr in self.__dict__.values() if self.attr_is_edge(attr) for e in attr]\n",
    "\n",
    "    def get_all_edge_names(self):\n",
    "        return [k for k,v in self.__dict__.items() if self.attr_is_edge(v)]\n",
    "\n",
    "    def get_property_names(self):\n",
    "        return [k for k, v in self.__dict__.items() if not type(v) == list]\n",
    "\n",
    "    @staticmethod\n",
    "    def attr_is_edge(attr):\n",
    "        return isinstance(attr, list) and len(attr)>0 and isinstance(attr[0], Edge)\n",
    "\n",
    "    def update(self, api, edges=True, create_if_not_exists=True, skip_nodes=False):\n",
    "\n",
    "        if not self.exists(api):\n",
    "            print(f\"creating {self}\")\n",
    "            api.create(self)\n",
    "        else:\n",
    "            print(f\"updating {self}\")\n",
    "            api.update_item(self)\n",
    "\n",
    "        if edges:\n",
    "            for e in self.get_all_edges():\n",
    "                e.update(api)\n",
    "\n",
    "    def exists(self, api):\n",
    "        return api.exists(self.id) if self.id else None\n",
    "\n",
    "\n",
    "#     def expand(self, api):\n",
    "#         \"\"\"Expands a node (retrieves all directly connected nodes ands adds to object).\"\"\"\n",
    "#         self._expanded = True\n",
    "#         res = api.get(self.id, expanded=True)\n",
    "#         for edge_name in res.get_all_edge_names():\n",
    "#             edges = res.get_edges(edge_name)\n",
    "#             for e in edges:\n",
    "#                 e.source = self\n",
    "#             self.__setattr__(edge_name, edges)\n",
    "\n",
    "#         # self.edges = res.edges\n",
    "#         return self\n",
    "\n",
    "    def __repr__(self):\n",
    "        id = self.id\n",
    "        _type = self.__class__.__name__\n",
    "        return f\"{_type} (#{id})\"\n",
    "\n",
    "    @classmethod\n",
    "    def from_data(cls, *args, **kwargs):\n",
    "        edges = dict()\n",
    "        new_kwargs = dict()\n",
    "        for k, v in kwargs.items():\n",
    "            if isinstance(v, ItemBase):\n",
    "                edge = Edge(None, v, k)\n",
    "                edges[k] = edge\n",
    "                new_kwargs[k] = edge\n",
    "            else:\n",
    "                new_kwargs[k] = v\n",
    "\n",
    "        res = cls(*args, **new_kwargs)\n",
    "\n",
    "        for v in edges.values():\n",
    "            v.source = res\n",
    "        return res\n",
    "\n",
    "#     def inherit_funcs(self, other):\n",
    "#         \"\"\"This function can be used to inherit new functionalities from a subclass. This is a patch to solve\n",
    "#         the fact that python does provide extensions of classes that are defined in a different file that are\n",
    "#         dynamic enough for our use case.\"\"\"\n",
    "#         assert issubclass(other, self.__class__)\n",
    "#         self.__class__ = other"
   ]
  },
  {
   "cell_type": "code",
   "execution_count": null,
   "metadata": {},
   "outputs": [],
   "source": [
    "# export\n",
    "class Item(ItemBase):\n",
    "    \"\"\"Item is the baseclass for all of the data classes.\"\"\"\n",
    "    properties = [\"dateAccessed\", \"dateCreated\", \"dateModified\", \"deleted\", \"externalId\", \"itemDescription\",\n",
    "                  \"starred\", \"version\", \"id\", \"importJson\", \"pluginClass\"]\n",
    "    edges = [\"changelog\", \"label\", \"genericAttribute\", \"measure\", \"sharedWith\"]\n",
    "    def __init__(self, **kwargs):\n",
    "        super().__init__(kwargs.get(\"id\"))\n",
    "        for p in self.properties:\n",
    "            if p == \"id\":\n",
    "                continue\n",
    "            setattr(self, p, kwargs.get(p, None))\n",
    "\n",
    "        for e in self.edges:\n",
    "            setattr(self, e, kwargs.get(e, []))\n",
    "\n",
    "    @classmethod\n",
    "    def parse_json(self, cls, json):\n",
    "        property_kwargs = Item.parse_properties(cls, json)\n",
    "        edge_kwargs = Item.parse_edges(cls, json)\n",
    "        return {**property_kwargs, **edge_kwargs}\n",
    "\n",
    "    @classmethod\n",
    "    def parse_properties(self, cls, json):\n",
    "        return {p: json.get(p, None) for p in cls.properties}\n",
    "\n",
    "    @classmethod\n",
    "    def parse_edges(self, cls, json):\n",
    "        all_edges = json.get(ALL_EDGES, None)\n",
    "        edge_kwargs = dict()\n",
    "        reverse_edges = [f\"~{e}\" for e in cls.edges]\n",
    "        if all_edges is not None:\n",
    "            for edge_json in all_edges:\n",
    "                edge = Edge.from_json(edge_json)\n",
    "                if edge.type in self.edges + reverse_edges:\n",
    "                    edge_name = self.remove_prefix(edge.type)\n",
    "                    if edge_name in edge_kwargs:\n",
    "                        edge_kwargs[edge_name] += [edge]\n",
    "                    else:\n",
    "                        edge_kwargs[edge_name] = [edge]\n",
    "        return edge_kwargs\n",
    "\n",
    "    @classmethod\n",
    "    def remove_prefix(s, prefix=\"~\"):\n",
    "        return s[1:] if s[0] == \"`\" else s\n",
    "\n",
    "    @classmethod\n",
    "    def from_json(cls, json):\n",
    "        kwargs = Item.parse_json(cls, json)\n",
    "        res = cls(**kwargs)\n",
    "        for e in res.get_all_edges(): e.source = res\n",
    "        return res"
   ]
  },
  {
   "cell_type": "code",
   "execution_count": null,
   "metadata": {},
   "outputs": [
    {
     "data": {
      "text/markdown": [
       "<h4 id=\"ItemBase.add_edge\" class=\"doc_header\"><code>ItemBase.add_edge</code><a href=\"__main__.py#L29\" class=\"source_link\" style=\"float:right\">[source]</a></h4>\n",
       "\n",
       "> <code>ItemBase.add_edge</code>(**`name`**, **`val`**)\n",
       "\n",
       "Creates an edge of type name and makes it point to val"
      ],
      "text/plain": [
       "<IPython.core.display.Markdown object>"
      ]
     },
     "metadata": {},
     "output_type": "display_data"
    }
   ],
   "source": [
    "show_doc(ItemBase.add_edge)"
   ]
  },
  {
   "cell_type": "code",
   "execution_count": null,
   "metadata": {},
   "outputs": [
    {
     "data": {
      "text/markdown": [
       "<h4 id=\"ItemBase.is_expanded\" class=\"doc_header\"><code>ItemBase.is_expanded</code><a href=\"__main__.py#L39\" class=\"source_link\" style=\"float:right\">[source]</a></h4>\n",
       "\n",
       "> <code>ItemBase.is_expanded</code>()\n",
       "\n",
       "returns whether the node is expanded. An expanded node retrieved nodes that are \n",
       "*directly* connected to it\n",
       "from the pod, and stored their values via edges in the object."
      ],
      "text/plain": [
       "<IPython.core.display.Markdown object>"
      ]
     },
     "metadata": {},
     "output_type": "display_data"
    }
   ],
   "source": [
    "show_doc(ItemBase.is_expanded)"
   ]
  },
  {
   "cell_type": "markdown",
   "metadata": {},
   "source": [
    "# Usage"
   ]
  },
  {
   "cell_type": "markdown",
   "metadata": {},
   "source": [
    "With the `Item` and `Edge` classes we can create an item and its surrounding graph. The schema is defined in schema.py, in general we want to use the from_data staticmethod to generate new items, because it ensures that edges are linked from both the source and the target object. Let's make a new item and add it to the pod."
   ]
  },
  {
   "cell_type": "code",
   "execution_count": null,
   "metadata": {},
   "outputs": [],
   "source": [
    "class MyItem(Item):\n",
    "    properties = Item.properties + [\"name\", \"age\"]\n",
    "    edges = Item.edges + [\"friend\"]\n",
    "    def __init__(self, name=None, age=None,friend=None, **kwargs):\n",
    "        super().__init__(**kwargs)\n",
    "        self.name = name\n",
    "        self.age = age\n",
    "        self.friend = fried if friend is not None else []"
   ]
  },
  {
   "cell_type": "code",
   "execution_count": null,
   "metadata": {},
   "outputs": [],
   "source": [
    "from pymemri.pod.client import PodClient\n",
    "client = PodClient()"
   ]
  },
  {
   "cell_type": "code",
   "execution_count": null,
   "metadata": {},
   "outputs": [],
   "source": [
    "assert client.add_to_schema(MyItem(name=\"abc\", age=1))"
   ]
  },
  {
   "cell_type": "code",
   "execution_count": null,
   "metadata": {},
   "outputs": [],
   "source": [
    "x = MyItem(name=\"me\", age=30)\n",
    "x.add_edge(\"friend\", MyItem(name=\"my friend\", age=31))"
   ]
  },
  {
   "cell_type": "markdown",
   "metadata": {},
   "source": [
    "We can now create our `MyItem`, as a side-effect of creating it, it will receive an id"
   ]
  },
  {
   "cell_type": "code",
   "execution_count": null,
   "metadata": {},
   "outputs": [
    {
     "name": "stdout",
     "output_type": "stream",
     "text": [
      "None\n"
     ]
    }
   ],
   "source": [
    "print(x.id)"
   ]
  },
  {
   "cell_type": "code",
   "execution_count": null,
   "metadata": {},
   "outputs": [],
   "source": [
    "assert client.create(x)"
   ]
  },
  {
   "cell_type": "code",
   "execution_count": null,
   "metadata": {},
   "outputs": [
    {
     "name": "stdout",
     "output_type": "stream",
     "text": [
      "bfec09ee3c0eee83e4fb4a63674704f5\n"
     ]
    }
   ],
   "source": [
    "print(x.id)"
   ]
  },
  {
   "cell_type": "code",
   "execution_count": null,
   "metadata": {},
   "outputs": [],
   "source": [
    "y = client.get(x.id)"
   ]
  },
  {
   "cell_type": "code",
   "execution_count": null,
   "metadata": {},
   "outputs": [],
   "source": [
    "assert len(y.friend) > 0"
   ]
  },
  {
   "cell_type": "code",
   "execution_count": null,
   "metadata": {},
   "outputs": [
    {
     "data": {
      "text/plain": [
       "'my friend'"
      ]
     },
     "execution_count": null,
     "metadata": {},
     "output_type": "execute_result"
    }
   ],
   "source": [
    "assert y.friend[0].name == \"my friend\"\n",
    "assert y.name == \"me\"\n",
    "assert y.age == 30\n",
    "\n",
    "# One year later\n",
    "y.age = 31\n",
    "y.add_edge(\"friend\", MyItem(name=\"my friend2\", age=29))\n",
    "y.update(client)\n",
    "assert y.age == 31\n",
    "assert len(y.friend) == 2"
   ]
  },
  {
   "cell_type": "markdown",
   "metadata": {},
   "source": [
    "# Export -"
   ]
  },
  {
   "cell_type": "code",
   "execution_count": null,
   "metadata": {},
   "outputs": [
    {
     "name": "stdout",
     "output_type": "stream",
     "text": [
      "Converted basic.ipynb.\n",
      "Converted data.photo.ipynb.\n",
      "Converted importers.Importer.ipynb.\n",
      "Converted importers.util.ipynb.\n",
      "Converted index.ipynb.\n",
      "Converted indexers.indexer.ipynb.\n",
      "Converted itembase.ipynb.\n",
      "Converted plugin.pluginbase.ipynb.\n",
      "Converted pod.client.ipynb.\n"
     ]
    }
   ],
   "source": [
    "# hide\n",
    "from nbdev.export import *\n",
    "notebook2script()"
   ]
  },
  {
   "cell_type": "code",
   "execution_count": null,
   "metadata": {},
   "outputs": [],
   "source": []
  }
 ],
 "metadata": {
  "kernelspec": {
   "display_name": "Python 3",
   "language": "python",
   "name": "python3"
  },
  "language_info": {
   "codemirror_mode": {
    "name": "ipython",
    "version": 3
   },
   "file_extension": ".py",
   "mimetype": "text/x-python",
   "name": "python",
   "nbconvert_exporter": "python",
   "pygments_lexer": "ipython3",
   "version": "3.8.8"
  },
  "toc": {
   "base_numbering": 1,
   "nav_menu": {},
   "number_sections": true,
   "sideBar": true,
   "skip_h1_title": false,
   "title_cell": "Table of Contents",
   "title_sidebar": "Contents",
   "toc_cell": false,
   "toc_position": {},
   "toc_section_display": true,
   "toc_window_display": false
  }
 },
 "nbformat": 4,
 "nbformat_minor": 4
}
