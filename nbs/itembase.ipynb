{
 "cells": [
  {
   "cell_type": "code",
   "execution_count": null,
   "metadata": {},
   "outputs": [],
   "source": [
    "%load_ext autoreload\n",
    "%autoreload 2\n",
    "# default_exp data.itembase"
   ]
  },
  {
   "cell_type": "markdown",
   "metadata": {},
   "source": [
    "# Itembase"
   ]
  },
  {
   "cell_type": "markdown",
   "metadata": {},
   "source": [
    "Any data class in pymemri inherits from `Item`. It is a base class for items with some handy functionalities to create new items and edges, retrieve all edges to other items, and sync with the pod."
   ]
  },
  {
   "cell_type": "code",
   "execution_count": null,
   "metadata": {},
   "outputs": [],
   "source": [
    "# export\n",
    "# hide\n",
    "from typing import Optional, Dict, List, Set, Any, Generic, TypeVar, Tuple, Union\n",
    "from pymemri.imports import *\n",
    "from datetime import datetime\n",
    "import uuid\n",
    "\n",
    "ALL_EDGES = \"allEdges\"\n",
    "SOURCE, TARGET, TYPE, EDGE_TYPE, LABEL, SEQUENCE = \"_source\", \"_target\", \"_type\", \"_type\", \"label\", \"sequence\""
   ]
  },
  {
   "cell_type": "code",
   "execution_count": null,
   "metadata": {},
   "outputs": [],
   "source": [
    "#hide\n",
    "from nbdev.showdoc import *"
   ]
  },
  {
   "cell_type": "code",
   "execution_count": null,
   "metadata": {},
   "outputs": [],
   "source": [
    "# export\n",
    "class Edge():\n",
    "    \"\"\"Edges makes a link between two `ItemBase` Items. You won't use this class a lot in practice, as edges are\n",
    "    abstracted away for normal users. When items are retrieved from the database, the edges are parsed automatically.\n",
    "    When you add an edge between to items within pymemri, you will often use `ItemBase.add_edge`\"\"\"\n",
    "    def __init__(self, source, target, _type, label=None, sequence=None, created=False, reverse=True):\n",
    "        self.source   = source\n",
    "        self.target   = target\n",
    "        self._type    = _type\n",
    "        self.label    = label\n",
    "        self.sequence = sequence\n",
    "        self.created  = created\n",
    "        self.reverse  = reverse\n",
    "\n",
    "    @classmethod\n",
    "    def from_json(cls, json):\n",
    "        from pymemri.data.schema import get_constructor\n",
    "        # we only set the target here\n",
    "        _type = json[EDGE_TYPE]\n",
    "        json_target = json[TARGET]\n",
    "        target_type = json_target[\"_type\"]\n",
    "        plugin_class = json_target.get(\"pluginClass\", None)\n",
    "        target_constructor = get_constructor(target_type, plugin_class)\n",
    "        target = target_constructor.from_json(json_target)\n",
    "        return cls(source=None, target=target, _type=_type)\n",
    "\n",
    "    def __repr__(self):\n",
    "        return f\"{self.source} --{self._type}-> {self.target}\"\n",
    "\n",
    "    def update(self, api):\n",
    "        if self.created:\n",
    "            api.create_edges([self])\n",
    "\n",
    "    def __eq__(self, other):\n",
    "        return self.source is other.source and self.target is other.target \\\n",
    "         and self._type == other._type and self.reverse == other.reverse and self.created == other.created \\\n",
    "         and self.label == other.label\n",
    "\n",
    "    def traverse(self, start):\n",
    "        \"\"\"We can traverse an edge starting from the source to the target or vice versa. In practice we often call\n",
    "        item.some_edge_type, which calls item.traverse(edgetype), which in turn calls this function.\"\"\"\n",
    "        if start == self.source:\n",
    "            return self.target\n",
    "        elif start == self.target:\n",
    "            return self.source\n",
    "        else:\n",
    "            raise ValueError"
   ]
  },
  {
   "cell_type": "code",
   "execution_count": null,
   "metadata": {},
   "outputs": [
    {
     "data": {
      "text/markdown": [
       "<h4 id=\"Edge.traverse\" class=\"doc_header\"><code>Edge.traverse</code><a href=\"__main__.py#L39\" class=\"source_link\" style=\"float:right\">[source]</a></h4>\n",
       "\n",
       "> <code>Edge.traverse</code>(**`start`**)\n",
       "\n",
       "```\n",
       "We can traverse an edge starting from the source to the target or vice versa. In practice we often call\n",
       "item.some_edge_type, which calls item.traverse(edgetype), which in turn calls this function.\n",
       "```"
      ],
      "text/plain": [
       "<IPython.core.display.Markdown object>"
      ]
     },
     "metadata": {},
     "output_type": "display_data"
    }
   ],
   "source": [
    "show_doc(Edge.traverse)"
   ]
  },
  {
   "cell_type": "code",
   "execution_count": null,
   "metadata": {},
   "outputs": [],
   "source": [
    "# export\n",
    "T = TypeVar('T')\n",
    "\n",
    "class EdgeList(list, Generic[T]):\n",
    "    def __init__(\n",
    "        self,\n",
    "        name: str,\n",
    "        target_type: Union[type, str],\n",
    "        data: List[Edge] = None,\n",
    "    ) -> None:\n",
    "        self.name = name\n",
    "        if isinstance(target_type, type):\n",
    "            target_type = target_type.__name__\n",
    "        self.target_type = target_type\n",
    "        super().__init__(data if data is not None else list())\n",
    "        \n",
    "    def is_valid_type(self, *edges: List[Edge]):\n",
    "        for edge in edges:\n",
    "            if edge._type != self.name or type(edge.target).__name__ != self.target_type:\n",
    "                return False\n",
    "        return True\n",
    "\n",
    "    @property\n",
    "    def targets(self) -> List[\"Item\"]:\n",
    "        return [edge.target for edge in self]"
   ]
  },
  {
   "cell_type": "code",
   "execution_count": null,
   "metadata": {},
   "outputs": [],
   "source": [
    "# export\n",
    "# hide\n",
    "class ItemBase:\n",
    "    \"\"\"Provides a base class for all items.\n",
    "    All items in the schema inherit from this class, and it provides some\n",
    "    basic functionality for consistency and to enable easier usage.\"\"\"\n",
    "\n",
    "    properties: List[str] = list()\n",
    "    edges: List[str] = list()\n",
    "\n",
    "    def __init__(self, id: str = None):\n",
    "        self._date_local_modified = dict()\n",
    "        self._in_pod: bool = False\n",
    "        self._new_edges = list()\n",
    "        self._original_properties = dict()\n",
    "\n",
    "        self.id: Optional[str] = id\n",
    "\n",
    "    def _init_edge(\n",
    "        self, edge_name: str, target_type: str, init_value: Optional[List[Edge]] = None\n",
    "    ):\n",
    "        edge_list = EdgeList(edge_name, target_type, init_value)\n",
    "        if init_value:\n",
    "            if not edge_list.is_valid_type(*init_value):\n",
    "                raise TypeError(\"Attempted to insert edge with invalid type\")\n",
    "            edge_list.extend(init_value)\n",
    "        return edge_list\n",
    "\n",
    "    def __setattr__(self, name, value):\n",
    "        prev_val = getattr(self, name, None)\n",
    "        super(ItemBase, self).__setattr__(name, value)\n",
    "\n",
    "        if name in self.properties and value != prev_val:\n",
    "            self._date_local_modified[name] = datetime.utcnow()\n",
    "            if name not in self._original_properties:\n",
    "                self._original_properties[name] = prev_val\n",
    "\n",
    "    @property\n",
    "    def _updated_properties(self):\n",
    "        return set(self._original_properties.keys())\n",
    "\n",
    "    def __getattribute__(self, name):\n",
    "        val = object.__getattribute__(self, name)\n",
    "        if name in object.__getattribute__(self, \"edges\"):\n",
    "            if isinstance(val, Edge):\n",
    "                return val.traverse(start=self)\n",
    "            if isinstance(val, EdgeList):\n",
    "                return [edge.traverse(start=self) for edge in val]\n",
    "        return val\n",
    "\n",
    "    def reset_local_sync_state(self):\n",
    "        \"\"\"\n",
    "        reset_local_sync_state is called when self is created or updated (optionally via bulk) in the PodClient.\n",
    "        \"\"\"\n",
    "        self._original_properties = dict()\n",
    "        self._date_local_modified = dict()\n",
    "        self._in_pod = True\n",
    "\n",
    "    def add_edge(self, name, val):\n",
    "        \"\"\"Creates an edge of type name and makes it point to val\"\"\"\n",
    "        if name not in self.edges:\n",
    "            raise NameError(f\"object {self} does not have edge with name {name}\")\n",
    "\n",
    "        existing = object.__getattribute__(self, name)\n",
    "        edge = Edge(self, val, name, created=True)\n",
    "        if not existing.is_valid_type(edge):\n",
    "            raise TypeError(\n",
    "                \"Attempted to add edge with incorrect target type: found {} expected {}\".format(\n",
    "                    existing.target_type, type(val.target).__name__\n",
    "                )\n",
    "            )\n",
    "\n",
    "        if edge not in existing:\n",
    "            existing.append(edge)\n",
    "            self._new_edges.append(edge)\n",
    "\n",
    "    def is_expanded(self):\n",
    "        \"\"\"returns whether the node is expanded. An expanded node retrieved nodes that are\n",
    "        *directly* connected to it\n",
    "        from the pod, and stored their values via edges in the object.\"\"\"\n",
    "        return len(self.get_all_edges()) > 0\n",
    "\n",
    "    def get_edges(self, name):\n",
    "        return object.__getattribute__(self, name)\n",
    "\n",
    "    def get_all_edges(self):\n",
    "        return [\n",
    "            e\n",
    "            for attr in self.__dict__.values()\n",
    "            if self.attr_is_edge(attr)\n",
    "            for e in attr\n",
    "        ]\n",
    "\n",
    "    def get_all_edge_names(self):\n",
    "        return [k for k, v in self.__dict__.items() if self.attr_is_edge(v)]\n",
    "\n",
    "    def get_property_names(self):\n",
    "        return [k for k, v in self.__dict__.items() if not type(v) == list]\n",
    "\n",
    "    @staticmethod\n",
    "    def attr_is_edge(attr):\n",
    "        return isinstance(attr, list) and len(attr) > 0 and isinstance(attr[0], Edge)\n",
    "\n",
    "    def update(self, api, edges=True, create_if_not_exists=True, skip_nodes=False):\n",
    "\n",
    "        if not self.exists(api):\n",
    "            print(f\"creating {self}\")\n",
    "            api.create(self)\n",
    "        else:\n",
    "            print(f\"updating {self}\")\n",
    "            api.update_item(self)\n",
    "\n",
    "        if edges:\n",
    "            api.create_edges(self.get_all_edges())\n",
    "\n",
    "    def exists(self, api):\n",
    "        return api.exists(self.id) if self.id else None\n",
    "\n",
    "    def create_id_if_not_exists(self):\n",
    "        if self.id is None:\n",
    "            self.id = uuid.uuid4().hex\n",
    "\n",
    "    def store(self, client: \"PodClient\"):\n",
    "        return client.add_to_store(self)\n",
    "\n",
    "    def __repr__(self):\n",
    "        id = self.id\n",
    "        _type = self.__class__.__name__\n",
    "        return f\"{_type} (#{id})\"\n",
    "\n",
    "    @classmethod\n",
    "    def from_data(cls, *args, **kwargs):\n",
    "        edges = dict()\n",
    "        new_kwargs = dict()\n",
    "        for k, v in kwargs.items():\n",
    "            if isinstance(v, ItemBase):\n",
    "                edge = Edge(None, v, k)\n",
    "                edges[k] = edge\n",
    "                new_kwargs[k] = edge\n",
    "            else:\n",
    "                new_kwargs[k] = v\n",
    "\n",
    "        res = cls(*args, **new_kwargs)\n",
    "\n",
    "        for v in edges.values():\n",
    "            v.source = res\n",
    "        return res"
   ]
  },
  {
   "cell_type": "code",
   "execution_count": null,
   "metadata": {},
   "outputs": [],
   "source": [
    "# export\n",
    "class Item(ItemBase):\n",
    "    \"\"\"Item is the baseclass for all of the data classes.\"\"\"\n",
    "\n",
    "    properties = [\n",
    "        \"dateCreated\",\n",
    "        \"dateModified\",\n",
    "        \"dateServerModified\",\n",
    "        \"deleted\",\n",
    "        \"externalId\",\n",
    "        \"itemDescription\",\n",
    "        \"starred\",\n",
    "        \"version\",\n",
    "        \"id\",\n",
    "        \"importJson\",\n",
    "        \"pluginClass\",\n",
    "        \"isMock\",\n",
    "    ]\n",
    "    edges = [\"label\"]\n",
    "    \n",
    "    DATE_PROPERTIES = ['dateCreated', 'dateModified', 'dateServerModified']\n",
    "\n",
    "    def __init__(\n",
    "        self,\n",
    "        dateCreated: datetime = None,\n",
    "        dateModified: datetime = None,\n",
    "        dateServerModified: datetime = None,\n",
    "        deleted: bool = None,\n",
    "        externalId: str = None,\n",
    "        itemDescription: str = None,\n",
    "        starred: bool = None,\n",
    "        version: str = None,\n",
    "        id: str = None,\n",
    "        importJson: str = None,\n",
    "        pluginClass: str = None,\n",
    "        isMock: bool = None,\n",
    "        label: EdgeList[\"CategoricalLabel\"] = None,\n",
    "    ):\n",
    "        super().__init__(id)\n",
    "\n",
    "        # Properties\n",
    "        self.dateCreated: Optional[str] = dateCreated\n",
    "        self.dateModified: Optional[str] = dateModified\n",
    "        self.dateServerModified: Optional[str] = dateServerModified\n",
    "        self.deleted: Optional[str] = deleted\n",
    "        self.externalId: Optional[str] = externalId\n",
    "        self.itemDescription: Optional[str] = itemDescription\n",
    "        self.starred: Optional[str] = starred\n",
    "        self.version: Optional[str] = version\n",
    "        self.importJson: Optional[str] = importJson\n",
    "        self.pluginClass: Optional[str] = pluginClass\n",
    "        self.isMock: Optional[bool] = isMock\n",
    "\n",
    "        # Edges\n",
    "        self.label: EdgeList[\"CategoricalLabel\"] = self._init_edge(\n",
    "            \"label\", \"CategoricalLabel\", init_value=label\n",
    "        )\n",
    "\n",
    "    @classmethod\n",
    "    def parse_json(self, cls, json):\n",
    "        property_kwargs = Item.parse_properties(cls, json)\n",
    "        edge_kwargs = Item.parse_edges(cls, json)\n",
    "        return {**property_kwargs, **edge_kwargs}\n",
    "\n",
    "    @classmethod\n",
    "    def parse_properties(self, cls, json):\n",
    "        return {p: json.get(p, None) for p in cls.properties}\n",
    "\n",
    "    @classmethod\n",
    "    def parse_edges(self, cls, json):\n",
    "        all_edges = json.get(ALL_EDGES, None)\n",
    "        edge_kwargs = dict()\n",
    "        reverse_edges = [f\"~{e}\" for e in cls.edges]\n",
    "        if all_edges is not None:\n",
    "            for edge_json in all_edges:\n",
    "                edge = Edge.from_json(edge_json)\n",
    "                if edge.type in self.edges + reverse_edges:\n",
    "                    edge_name = self.remove_prefix(edge.type)\n",
    "                    if edge_name in edge_kwargs:\n",
    "                        edge_kwargs[edge_name] += [edge]\n",
    "                    else:\n",
    "                        edge_kwargs[edge_name] = [edge]\n",
    "        return edge_kwargs\n",
    "\n",
    "    @classmethod\n",
    "    def get_property_types(cls, dates=False) -> Dict[str, type]:\n",
    "        \"\"\"\n",
    "        Infer the property types of all properties in cls. \n",
    "        Raises ValueError if type anotations for properties are missing in the cls init.\n",
    "        \"\"\"\n",
    "        mro = cls.mro()\n",
    "        property_types = dict()\n",
    "        for basecls in reversed(mro[:mro.index(ItemBase)]):\n",
    "            property_types.update(basecls.__init__.__annotations__)\n",
    "        property_types = {k: v for k, v in property_types.items() if k in cls.properties}\n",
    "        \n",
    "        if not set(property_types.keys()) == set(cls.properties):\n",
    "            raise ValueError(f\"Item {cls.__name__} has missing property annotations.\")\n",
    "            \n",
    "        res = dict()\n",
    "        for k, v in property_types.items():\n",
    "            if k[:1] != '_' and k != \"private\" and not (isinstance(v, list)) \\\n",
    "                            and v is not None and (not (dates == False and k in cls.DATE_PROPERTIES)):\n",
    "                res[k] = v    \n",
    "        return res\n",
    "    \n",
    "    @classmethod\n",
    "    def get_edge_types(cls) -> Dict[str, Tuple[str, str]]:\n",
    "        \"\"\"\n",
    "        Infer the types of all edges in cls as tuple (source_type, target_type)\n",
    "        \"\"\"\n",
    "        mro = cls.mro()\n",
    "        tgt_types = dict()\n",
    "        for basecls in reversed(mro[:mro.index(ItemBase)]):\n",
    "            tgt_types.update(basecls.__init__.__annotations__)\n",
    "        tgt_types = {k: v for k, v in tgt_types.items() if k in cls.edges}\n",
    "        \n",
    "        res = dict()\n",
    "        for k, v in tgt_types.items():\n",
    "            if hasattr(v, \"__args__\") and len(v.__args__):  \n",
    "                v = v.__args__[0]\n",
    "                if isinstance(v, type):\n",
    "                    v = v.__name__\n",
    "            else:\n",
    "                v = \"Any\"\n",
    "            res[k] = (cls.__name__, v)\n",
    "        return res\n",
    "\n",
    "    @classmethod\n",
    "    def remove_prefix(s, prefix=\"~\"):\n",
    "        return s[1:] if s[0] == \"`\" else s\n",
    "\n",
    "    @classmethod\n",
    "    def from_json(cls, json):\n",
    "        kwargs = Item.parse_json(cls, json)\n",
    "        \n",
    "        property_types = cls.get_property_types(dates=True)\n",
    "        for k, v in kwargs.items():\n",
    "            if v is not None and property_types[k] == datetime:\n",
    "                # Datetime in pod is in milliseconds\n",
    "                kwargs[k] = datetime.fromtimestamp(v / 1000.)\n",
    "        res = cls(**kwargs)\n",
    "        for e in res.get_all_edges():\n",
    "            e.source = res\n",
    "        return res\n",
    "\n",
    "    def _get_schema_type(self):\n",
    "        for cls in self.__class__.mro():\n",
    "            if cls.__name__ != \"ItemBase\":\n",
    "                return cls.__name__\n",
    "    \n",
    "    def to_json(self, dates=True):\n",
    "        res = dict()\n",
    "        private = getattr(self, \"private\", [])\n",
    "        for k, v in self.__dict__.items():\n",
    "            if k[:1] != '_' and k != \"private\" and k not in private and not (isinstance(v, list)) \\\n",
    "                            and v is not None and (not (dates == False and k in self.DATE_PROPERTIES)):\n",
    "                if isinstance(v, datetime):\n",
    "                    # Save datetimes in milliseconds\n",
    "                    v = int(v.timestamp() * 1000)\n",
    "                res[k] = v\n",
    "        res[\"type\"] = self._get_schema_type()\n",
    "        return res\n",
    "        "
   ]
  },
  {
   "cell_type": "code",
   "execution_count": null,
   "metadata": {},
   "outputs": [
    {
     "data": {
      "text/markdown": [
       "<h4 id=\"ItemBase.add_edge\" class=\"doc_header\"><code>ItemBase.add_edge</code><a href=\"__main__.py#L47\" class=\"source_link\" style=\"float:right\">[source]</a></h4>\n",
       "\n",
       "> <code>ItemBase.add_edge</code>(**`name`**, **`val`**)\n",
       "\n",
       "Creates an edge of type name and makes it point to val"
      ],
      "text/plain": [
       "<IPython.core.display.Markdown object>"
      ]
     },
     "metadata": {},
     "output_type": "display_data"
    }
   ],
   "source": [
    "show_doc(ItemBase.add_edge)"
   ]
  },
  {
   "cell_type": "code",
   "execution_count": null,
   "metadata": {},
   "outputs": [
    {
     "data": {
      "text/markdown": [
       "<h4 id=\"ItemBase.is_expanded\" class=\"doc_header\"><code>ItemBase.is_expanded</code><a href=\"__main__.py#L57\" class=\"source_link\" style=\"float:right\">[source]</a></h4>\n",
       "\n",
       "> <code>ItemBase.is_expanded</code>()\n",
       "\n",
       "returns whether the node is expanded. An expanded node retrieved nodes that are\n",
       "*directly* connected to it\n",
       "from the pod, and stored their values via edges in the object."
      ],
      "text/plain": [
       "<IPython.core.display.Markdown object>"
      ]
     },
     "metadata": {},
     "output_type": "display_data"
    }
   ],
   "source": [
    "show_doc(ItemBase.is_expanded)"
   ]
  },
  {
   "cell_type": "markdown",
   "metadata": {},
   "source": [
    "# Usage"
   ]
  },
  {
   "cell_type": "markdown",
   "metadata": {},
   "source": [
    "With the `Item` and `Edge` classes we can create an item and its surrounding graph. The schema is defined in schema.py, in general we want to use the from_data staticmethod to generate new items, because it ensures that edges are linked from both the source and the target object. Let's make a new item and add it to the pod."
   ]
  },
  {
   "cell_type": "code",
   "execution_count": null,
   "metadata": {},
   "outputs": [],
   "source": [
    "class MyItem(Item):\n",
    "    properties = Item.properties + [\"name\", \"age\"]\n",
    "    edges = Item.edges + [\"friend\"]\n",
    "    def __init__(self, name: str=None, age: int=None,friend: list=None, **kwargs):\n",
    "        super().__init__(**kwargs)\n",
    "        self.name = name\n",
    "        self.age = age\n",
    "        self.friend = fried if friend is not None else []"
   ]
  },
  {
   "cell_type": "code",
   "execution_count": null,
   "metadata": {},
   "outputs": [],
   "source": [
    "from pymemri.pod.client import PodClient\n",
    "client = PodClient()"
   ]
  },
  {
   "cell_type": "code",
   "execution_count": null,
   "metadata": {},
   "outputs": [],
   "source": [
    "assert client.add_to_schema(MyItem(name=\"abc\", age=1))"
   ]
  },
  {
   "cell_type": "code",
   "execution_count": null,
   "metadata": {},
   "outputs": [],
   "source": [
    "x = MyItem(name=\"me\", age=30)\n",
    "target = MyItem(name=\"my friend\", age=31)\n",
    "client.create(target)\n",
    "x.add_edge(\"friend\", MyItem(name=\"my friend\", age=31))"
   ]
  },
  {
   "cell_type": "markdown",
   "metadata": {},
   "source": [
    "We can now create our `MyItem`, as a side-effect of creating it, it will receive an id"
   ]
  },
  {
   "cell_type": "code",
   "execution_count": null,
   "metadata": {},
   "outputs": [
    {
     "name": "stdout",
     "output_type": "stream",
     "text": [
      "None\n"
     ]
    }
   ],
   "source": [
    "print(x.id)"
   ]
  },
  {
   "cell_type": "code",
   "execution_count": null,
   "metadata": {},
   "outputs": [],
   "source": [
    "assert client.create(x)"
   ]
  },
  {
   "cell_type": "code",
   "execution_count": null,
   "metadata": {},
   "outputs": [
    {
     "name": "stdout",
     "output_type": "stream",
     "text": [
      "a17c93d199f4128976d7eac3542b669b\n"
     ]
    }
   ],
   "source": [
    "print(x.id)"
   ]
  },
  {
   "cell_type": "code",
   "execution_count": null,
   "metadata": {},
   "outputs": [],
   "source": [
    "y = client.get(x.id)"
   ]
  },
  {
   "cell_type": "code",
   "execution_count": null,
   "metadata": {},
   "outputs": [],
   "source": [
    "assert len(y.friend) > 0"
   ]
  },
  {
   "cell_type": "code",
   "execution_count": null,
   "metadata": {},
   "outputs": [
    {
     "name": "stdout",
     "output_type": "stream",
     "text": [
      "updating MyItem (#a17c93d199f4128976d7eac3542b669b)\n",
      "BULK: Writing 2/2 items/edges\n",
      "400 Failure: JSON deserialization error payload.createEdges[0]._target: invalid type: null, expected a string at line 1 column 245\n",
      "could not complete bulk action, aborting\n"
     ]
    }
   ],
   "source": [
    "assert y.friend[0].name == \"my friend\"\n",
    "assert y.name == \"me\"\n",
    "assert y.age == 30\n",
    "\n",
    "# One year later\n",
    "y.age = 31\n",
    "y.add_edge(\"friend\", MyItem(name=\"my friend2\", age=29))\n",
    "y.update(client)\n",
    "assert y.age == 31\n",
    "assert len(y.friend) == 2"
   ]
  },
  {
   "cell_type": "code",
   "execution_count": null,
   "metadata": {},
   "outputs": [
    {
     "data": {
      "text/plain": [
       "[MyItem (#None), MyItem (#None)]"
      ]
     },
     "execution_count": null,
     "metadata": {},
     "output_type": "execute_result"
    }
   ],
   "source": [
    "y.friend"
   ]
  },
  {
   "cell_type": "code",
   "execution_count": null,
   "metadata": {},
   "outputs": [
    {
     "data": {
      "text/plain": [
       "{'id': 'a17c93d199f4128976d7eac3542b669b',\n",
       " 'deleted': False,\n",
       " 'name': 'me',\n",
       " 'age': 31,\n",
       " 'type': 'MyItem'}"
      ]
     },
     "execution_count": null,
     "metadata": {},
     "output_type": "execute_result"
    }
   ],
   "source": [
    "y.to_json(dates=False)"
   ]
  },
  {
   "cell_type": "markdown",
   "metadata": {},
   "source": [
    "# Export -"
   ]
  },
  {
   "cell_type": "code",
   "execution_count": null,
   "metadata": {},
   "outputs": [
    {
     "name": "stdout",
     "output_type": "stream",
     "text": [
      "Converted Untitled.ipynb.\n",
      "Converted Untitled1.ipynb.\n",
      "Converted basic.ipynb.\n",
      "Converted cvu.utils.ipynb.\n",
      "Converted data.dataset.ipynb.\n",
      "Converted data.photo.ipynb.\n",
      "Converted exporters.exporters.ipynb.\n",
      "Converted index.ipynb.\n",
      "Converted itembase.ipynb.\n",
      "Converted plugin.authenticators.credentials.ipynb.\n",
      "Converted plugin.authenticators.oauth.ipynb.\n",
      "Converted plugin.listeners.ipynb.\n",
      "Converted plugin.pluginbase.ipynb.\n",
      "Converted plugin.states.ipynb.\n",
      "Converted plugins.authenticators.password.ipynb.\n",
      "Converted pod.api.ipynb.\n",
      "Converted pod.client.ipynb.\n",
      "Converted pod.db.ipynb.\n",
      "Converted pod.utils.ipynb.\n",
      "Converted template.config.ipynb.\n",
      "Converted template.formatter.ipynb.\n",
      "Converted test_schema.ipynb.\n",
      "Converted test_utils.ipynb.\n"
     ]
    }
   ],
   "source": [
    "# hide\n",
    "from nbdev.export import *\n",
    "notebook2script()"
   ]
  }
 ],
 "metadata": {
  "kernelspec": {
   "display_name": "Python 3 (ipykernel)",
   "language": "python",
   "name": "python3"
  }
 },
 "nbformat": 4,
 "nbformat_minor": 4
}
