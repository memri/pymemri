{
 "cells": [
  {
   "cell_type": "code",
   "execution_count": null,
   "id": "2d446f01",
   "metadata": {},
   "outputs": [],
   "source": [
    "%load_ext autoreload\n",
    "%autoreload 2"
   ]
  },
  {
   "cell_type": "code",
   "execution_count": null,
   "id": "870e5db2",
   "metadata": {},
   "outputs": [],
   "source": [
    "import inspect\n",
    "from pymemri.data import _central_schema\n",
    "from pymemri.pod.client import PodClient"
   ]
  },
  {
   "cell_type": "code",
   "execution_count": null,
   "id": "6d5242f4",
   "metadata": {},
   "outputs": [
    {
     "name": "stdout",
     "output_type": "stream",
     "text": [
      "num schema classes: 44\n"
     ]
    }
   ],
   "source": [
    "# Get all central schema classes\n",
    "central_schema = {\n",
    "    k: v\n",
    "    for k, v in inspect.getmembers(_central_schema)\n",
    "    if inspect.isclass(v) and v.__module__ == \"pymemri.data._central_schema\"\n",
    "}\n",
    "print(\"num schema classes:\", len(central_schema))"
   ]
  },
  {
   "cell_type": "code",
   "execution_count": null,
   "id": "943e20bc",
   "metadata": {},
   "outputs": [],
   "source": [
    "client = PodClient()\n",
    "\n",
    "for k, v in central_schema.items():\n",
    "    assert client.add_to_schema(v), f\"Could not add {k} to schema\""
   ]
  },
  {
   "cell_type": "code",
   "execution_count": null,
   "id": "8ea120f0",
   "metadata": {},
   "outputs": [
    {
     "name": "stdout",
     "output_type": "stream",
     "text": [
      "BULK: Writing 4/4 items/edges\n",
      "Completed Bulk action, written 4 items/edges\n"
     ]
    }
   ],
   "source": [
    "from pymemri.data.schema import EmailMessage, Country, Receipt, Account\n",
    "from datetime import datetime\n",
    "\n",
    "item_1 = EmailMessage(starred=True, content=\"This is a test\", dateSent=datetime.now())\n",
    "item_2 = Country(name=\"Belgium\")\n",
    "item_3 = Receipt(category=\"clothing\", store=\"clothing store\", totalCost=100000)\n",
    "item_4 = Account(displayName=\"1234\", identifier=\"5678\", isMe=False, service=\"whatsapp\")\n",
    "assert client.bulk_action(create_items=[item_1, item_2, item_3, item_4])"
   ]
  }
 ],
 "metadata": {
  "kernelspec": {
   "display_name": "Python 3 (ipykernel)",
   "language": "python",
   "name": "python3"
  }
 },
 "nbformat": 4,
 "nbformat_minor": 5
}
