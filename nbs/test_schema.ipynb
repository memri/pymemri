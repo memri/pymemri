{
 "cells": [
  {
   "cell_type": "code",
   "execution_count": null,
   "id": "2d446f01",
   "metadata": {},
   "outputs": [],
   "source": [
    "%load_ext autoreload\n",
    "%autoreload 2"
   ]
  },
  {
   "cell_type": "code",
   "execution_count": null,
   "id": "870e5db2",
   "metadata": {},
   "outputs": [],
   "source": [
    "import inspect\n",
    "from pymemri.data import central_schema\n",
    "from pymemri.pod.client import PodClient"
   ]
  },
  {
   "cell_type": "code",
   "execution_count": null,
   "id": "6d5242f4",
   "metadata": {},
   "outputs": [
    {
     "name": "stdout",
     "output_type": "stream",
     "text": [
      "num schema classes: 43\n"
     ]
    }
   ],
   "source": [
    "# Get all central schema classes\n",
    "central_schema = {k: v for k, v in inspect.getmembers(central_schema) if inspect.isclass(v)}\n",
    "print(\"num schema classes:\", len(central_schema))"
   ]
  },
  {
   "cell_type": "code",
   "execution_count": null,
   "id": "943e20bc",
   "metadata": {},
   "outputs": [
    {
     "data": {
      "text/plain": [
       "True"
      ]
     },
     "execution_count": null,
     "metadata": {},
     "output_type": "execute_result"
    }
   ],
   "source": [
    "client = PodClient()\n",
    "assert client.add_to_schema(*central_schema.values())"
   ]
  },
  {
   "cell_type": "code",
   "execution_count": null,
   "id": "8ea120f0",
   "metadata": {},
   "outputs": [],
   "source": [
    "from pymemri.data.central_schema import EmailMessage, Country, Receipt, Account\n",
    "\n",
    "item_1 = EmailMessage(starred=True, content=\"This is a test\")\n",
    "item_2 = Country(name=\"Belgium\")\n",
    "item_3 = Receipt(category=\"clothing\", store=\"clothing store\", totalCost=100000)\n",
    "item_4 = Account(displayName=\"1234\", identifier=\"5678\", isMe=False, service=\"whatsapp\")\n",
    "assert client.bulk_action(create_items=[item_1, item_2, item_3, item_4])"
   ]
  }
 ],
 "metadata": {
  "kernelspec": {
   "display_name": "Python 3 (ipykernel)",
   "language": "python",
   "name": "python3"
  }
 },
 "nbformat": 4,
 "nbformat_minor": 5
}
