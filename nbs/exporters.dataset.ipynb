{
 "cells": [
  {
   "cell_type": "code",
   "execution_count": null,
   "id": "ffcf3000",
   "metadata": {},
   "outputs": [
    {
     "name": "stdout",
     "output_type": "stream",
     "text": [
      "The autoreload extension is already loaded. To reload it, use:\n",
      "  %reload_ext autoreload\n"
     ]
    }
   ],
   "source": [
    "# default_exp exporters.dataset\n",
    "%load_ext autoreload\n",
    "%autoreload 2"
   ]
  },
  {
   "cell_type": "code",
   "execution_count": null,
   "id": "c251979b",
   "metadata": {},
   "outputs": [],
   "source": [
    "# export\n",
    "from typing import Dict, List, Optional\n",
    "\n",
    "from pymemri.pod.client import PodClient\n",
    "from pymemri.data.itembase import Item"
   ]
  },
  {
   "cell_type": "markdown",
   "id": "58299d4f",
   "metadata": {},
   "source": [
    "## Column utilities"
   ]
  },
  {
   "cell_type": "code",
   "execution_count": null,
   "id": "545f8a5c",
   "metadata": {},
   "outputs": [],
   "source": [
    "# export\n",
    "class DataColumn:\n",
    "    def __init__(self, definition, name=None):\n",
    "        self.definition = definition\n",
    "        self.edges, self.property = self._parse(definition)\n",
    "        self.name = name if name is not None else definition\n",
    "\n",
    "    @staticmethod\n",
    "    def _parse(definition):\n",
    "        definition = definition.split(\".\")\n",
    "        edges = definition[:-1]\n",
    "        prop = definition[-1]\n",
    "        return edges, prop\n",
    "    \n",
    "def parse_columns(columns: List[str], column_names: Optional[list] = None) -> List[DataColumn]:\n",
    "    if column_names is not None:\n",
    "        columns = [\n",
    "            DataColumn(col, name=col_name)\n",
    "            for col, col_name in zip(columns, column_names)\n",
    "        ]\n",
    "    else:\n",
    "        columns = [DataColumn(col) for col in columns]\n",
    "    \n",
    "    return columns\n",
    "\n",
    "\n",
    "def get_column_value(client: PodClient, item: Item, column: DataColumn):\n",
    "    for edge in column.edges:\n",
    "        if edge not in item.edges or not isinstance(getattr(item, edge), list):\n",
    "            return None\n",
    "\n",
    "        if len(getattr(item, edge)) == 0:\n",
    "            item = client.get(item.id)\n",
    "\n",
    "        if len(getattr(item, edge)) == 0:\n",
    "            return None\n",
    "\n",
    "        item = getattr(item, edge)[0]\n",
    "\n",
    "    return getattr(item, column.property, None)\n",
    "\n",
    "\n",
    "def get_column_values(client, item, columns):\n",
    "    return [get_column_value(client, item, column) for column in columns]"
   ]
  },
  {
   "cell_type": "markdown",
   "id": "9e06f58d",
   "metadata": {},
   "source": [
    "## Exporting datasets"
   ]
  },
  {
   "cell_type": "code",
   "execution_count": null,
   "id": "2dc5338e",
   "metadata": {},
   "outputs": [],
   "source": [
    "# export\n",
    "def export_dataset(\n",
    "    client: PodClient,\n",
    "    items: List[Item],\n",
    "    columns: List[str],\n",
    "    filter_incomplete: bool = True,\n",
    "    column_names: Optional[list] = None,\n",
    ") -> Dict[str, list]:\n",
    "    \"\"\"Exports a dataset from the pod to a dictionary of lists, with each list a field in the dataset.\n",
    "\n",
    "    Example usage:\n",
    "    Given a dataset of Messages, each with a sender edge and label edge:\n",
    "    columns = [\"content\", \"sender.handle\", \"label.name\"]\n",
    "    dataset = export_dataset(messages, columns)\n",
    "\n",
    "    Args:\n",
    "        client (PodClient): A PodClient to export data from\n",
    "        items (List[Item]): A list of items, entries in the dataset\n",
    "        columns (List[str]): Columns of the dataset, see example usage.\n",
    "        filter_incomplete (bool, optional): If True, skip any item with missing values. Defaults to True.\n",
    "        column_names (list, optional): Optional names for the columns. Column definitions are used for names if left blank. Defaults to None.\n",
    "\n",
    "    Returns:\n",
    "        Dict[str, list]: dict of `col_name`: `values` for each col in columns\n",
    "    \"\"\"\n",
    "\n",
    "    columns = parse_columns(columns, column_names)\n",
    "\n",
    "    dataset = {column.name: list() for column in columns}\n",
    "    for item in items:\n",
    "        values = get_column_values(client, item, columns)\n",
    "        if filter_incomplete and None in values:\n",
    "            continue\n",
    "        for col, value in zip(columns, values):\n",
    "            dataset[col.name].append(value)\n",
    "    return dataset"
   ]
  },
  {
   "cell_type": "markdown",
   "id": "708f56ad",
   "metadata": {},
   "source": [
    "# Tests"
   ]
  },
  {
   "cell_type": "code",
   "execution_count": null,
   "id": "be433175",
   "metadata": {},
   "outputs": [],
   "source": [
    "from pymemri.pod.client import PodClient\n",
    "from pymemri.data.schema import Account, Person, Message, Label\n",
    "from pymemri.data.itembase import Edge\n",
    "import random"
   ]
  },
  {
   "cell_type": "markdown",
   "id": "84e3be22",
   "metadata": {},
   "source": [
    "### Create dummy data for dataset"
   ]
  },
  {
   "cell_type": "code",
   "execution_count": null,
   "id": "8cd43657",
   "metadata": {},
   "outputs": [
    {
     "name": "stdout",
     "output_type": "stream",
     "text": [
      "BULK: Writing 640/640 items/edges\n",
      "Completed Bulk action, written 640 items/edges\n"
     ]
    },
    {
     "data": {
      "text/plain": [
       "True"
      ]
     },
     "execution_count": null,
     "metadata": {},
     "output_type": "execute_result"
    }
   ],
   "source": [
    "client = PodClient()\n",
    "client.add_to_schema(Account, Person, Message)\n",
    "\n",
    "messages = []\n",
    "items = []\n",
    "edges = []\n",
    "for i in range(100):   \n",
    "    msg = Message(content=f\"content_{i}\")\n",
    "    account = Account(handle=f\"account_{i}\")\n",
    "    person = Person(firstName=f\"person_{i}\")\n",
    "    label = Label(name=f\"label_{i}\")\n",
    "    items.extend([msg, account, person, label])\n",
    "    edges.extend([\n",
    "        Edge(msg, account, \"sender\"),\n",
    "        Edge(msg, label, \"label\"),\n",
    "        Edge(account, person, \"owner\")\n",
    "    ])\n",
    "    messages.append(msg)\n",
    "    \n",
    "# Dataset is not perfect, remove some random edges\n",
    "edges = random.sample(edges, int(len(edges)*0.8))\n",
    "\n",
    "client.bulk_action(\n",
    "    create_items=items,\n",
    "    create_edges=edges\n",
    ")"
   ]
  },
  {
   "cell_type": "code",
   "execution_count": null,
   "id": "2125da32",
   "metadata": {},
   "outputs": [],
   "source": [
    "columns = [\"content\", \"sender.handle\", \"sender.owner.firstName\", \"label.name\"]\n",
    "column_names = [\"content\", \"handle\", \"first_name\", \"label\"]\n",
    "\n",
    "dataset = export_dataset(client, messages, columns, column_names=column_names, filter_incomplete=False)\n",
    "dataset_filtered = export_dataset(client, messages, columns, column_names=column_names, filter_incomplete=True)"
   ]
  },
  {
   "cell_type": "code",
   "execution_count": null,
   "id": "652b08a4",
   "metadata": {},
   "outputs": [
    {
     "data": {
      "text/plain": [
       "4"
      ]
     },
     "execution_count": null,
     "metadata": {},
     "output_type": "execute_result"
    }
   ],
   "source": [
    "len(dataset[\"content\"])"
   ]
  },
  {
   "cell_type": "code",
   "execution_count": null,
   "id": "6fcef105",
   "metadata": {},
   "outputs": [],
   "source": [
    "assert len(dataset) == len(columns)\n",
    "assert all(len(vals) == len(dataset[\"content\"]) for vals in dataset.values())\n",
    "assert len(dataset[\"content\"]) == 100\n",
    "assert len(dataset_filtered[\"content\"]) < 100"
   ]
  },
  {
   "cell_type": "markdown",
   "id": "93027c40",
   "metadata": {},
   "source": [
    "## Convert to Pandas"
   ]
  },
  {
   "cell_type": "code",
   "execution_count": null,
   "id": "2501f08e",
   "metadata": {},
   "outputs": [],
   "source": [
    "import pandas as pd"
   ]
  },
  {
   "cell_type": "code",
   "execution_count": null,
   "id": "19fcf548",
   "metadata": {},
   "outputs": [
    {
     "data": {
      "text/html": [
       "<div>\n",
       "<style scoped>\n",
       "    .dataframe tbody tr th:only-of-type {\n",
       "        vertical-align: middle;\n",
       "    }\n",
       "\n",
       "    .dataframe tbody tr th {\n",
       "        vertical-align: top;\n",
       "    }\n",
       "\n",
       "    .dataframe thead th {\n",
       "        text-align: right;\n",
       "    }\n",
       "</style>\n",
       "<table border=\"1\" class=\"dataframe\">\n",
       "  <thead>\n",
       "    <tr style=\"text-align: right;\">\n",
       "      <th></th>\n",
       "      <th>content</th>\n",
       "      <th>handle</th>\n",
       "      <th>first_name</th>\n",
       "      <th>label</th>\n",
       "    </tr>\n",
       "  </thead>\n",
       "  <tbody>\n",
       "    <tr>\n",
       "      <th>0</th>\n",
       "      <td>content_0</td>\n",
       "      <td>account_0</td>\n",
       "      <td>None</td>\n",
       "      <td>label_0</td>\n",
       "    </tr>\n",
       "    <tr>\n",
       "      <th>1</th>\n",
       "      <td>content_1</td>\n",
       "      <td>account_1</td>\n",
       "      <td>person_1</td>\n",
       "      <td>label_1</td>\n",
       "    </tr>\n",
       "    <tr>\n",
       "      <th>2</th>\n",
       "      <td>content_2</td>\n",
       "      <td>None</td>\n",
       "      <td>None</td>\n",
       "      <td>None</td>\n",
       "    </tr>\n",
       "    <tr>\n",
       "      <th>3</th>\n",
       "      <td>content_3</td>\n",
       "      <td>account_3</td>\n",
       "      <td>person_3</td>\n",
       "      <td>label_3</td>\n",
       "    </tr>\n",
       "    <tr>\n",
       "      <th>4</th>\n",
       "      <td>content_4</td>\n",
       "      <td>account_4</td>\n",
       "      <td>person_4</td>\n",
       "      <td>label_4</td>\n",
       "    </tr>\n",
       "  </tbody>\n",
       "</table>\n",
       "</div>"
      ],
      "text/plain": [
       "     content     handle first_name    label\n",
       "0  content_0  account_0       None  label_0\n",
       "1  content_1  account_1   person_1  label_1\n",
       "2  content_2       None       None     None\n",
       "3  content_3  account_3   person_3  label_3\n",
       "4  content_4  account_4   person_4  label_4"
      ]
     },
     "execution_count": null,
     "metadata": {},
     "output_type": "execute_result"
    }
   ],
   "source": [
    "df = pd.DataFrame.from_dict(dataset)\n",
    "df.head()"
   ]
  },
  {
   "cell_type": "code",
   "execution_count": null,
   "id": "958ba72c",
   "metadata": {},
   "outputs": [
    {
     "name": "stdout",
     "output_type": "stream",
     "text": [
      "Converted Untitled.ipynb.\n",
      "Converted basic.ipynb.\n",
      "Converted cvu.utils.ipynb.\n",
      "Converted data.photo.ipynb.\n",
      "Converted exporters.dataset.ipynb.\n",
      "Converted index.ipynb.\n",
      "Converted itembase.ipynb.\n",
      "Converted plugin.authenticators.credentials.ipynb.\n",
      "Converted plugin.authenticators.oauth.ipynb.\n",
      "Converted plugin.listeners.ipynb.\n",
      "Converted plugin.pluginbase.ipynb.\n",
      "Converted plugin.states.ipynb.\n",
      "Converted plugins.authenticators.password.ipynb.\n",
      "Converted pod.api.ipynb.\n",
      "Converted pod.client.ipynb.\n",
      "Converted pod.db.ipynb.\n",
      "Converted pod.utils.ipynb.\n",
      "Converted template.config.ipynb.\n",
      "Converted template.formatter.ipynb.\n",
      "Converted test_schema.ipynb.\n",
      "Converted test_utils.ipynb.\n"
     ]
    }
   ],
   "source": [
    "# hide\n",
    "from nbdev.export import *\n",
    "notebook2script()"
   ]
  }
 ],
 "metadata": {
  "kernelspec": {
   "display_name": "Python 3 (ipykernel)",
   "language": "python",
   "name": "python3"
  }
 },
 "nbformat": 4,
 "nbformat_minor": 5
}
