{
 "cells": [
  {
   "cell_type": "code",
   "execution_count": null,
   "id": "ffcf3000",
   "metadata": {},
   "outputs": [],
   "source": [
    "# default_exp exporters.exporters\n",
    "%load_ext autoreload\n",
    "%autoreload 2"
   ]
  },
  {
   "cell_type": "code",
   "execution_count": null,
   "id": "c251979b",
   "metadata": {},
   "outputs": [],
   "source": [
    "# export\n",
    "# hide\n",
    "from typing import Dict, List, Optional, Iterable, Any\n",
    "import pandas as pd\n",
    "import json\n",
    "\n",
    "from pymemri.data.itembase import Item"
   ]
  },
  {
   "cell_type": "markdown",
   "id": "58299d4f",
   "metadata": {},
   "source": [
    "# Query\n",
    "\n",
    "With the `Query` class you can query the Pod with a list of properties, and export the result to a tabular dataformat. These properties can include edges that point to different items."
   ]
  },
  {
   "cell_type": "code",
   "execution_count": null,
   "id": "8d32b240",
   "metadata": {},
   "outputs": [],
   "source": [
    "# export\n",
    "class Query:\n",
    "    def __init__(self, *properties: List[str]):\n",
    "        \"\"\"\n",
    "        A Query implements functionality to retrieve data from the pod to a tabular format.\n",
    "        \n",
    "        Given a list of `properties`, the `execute` method queries the pod for a set of given items, \n",
    "        and retrieves the properties for each item if it exists. Note that a properties can be nested behind\n",
    "        multiple edges, such as \"sender.owner.firstName\".\n",
    "        \"\"\"\n",
    "        self.properties = list(properties)\n",
    "\n",
    "    def traverse_edges(self, client: \"PodClient\", items: List[Item], edges: List[str]) -> List[Item]:\n",
    "        items = items.copy()\n",
    "\n",
    "        for edge in edges:\n",
    "            ids_to_query = list()\n",
    "            query_item_idx = list()\n",
    "            for i in range(len(items)):\n",
    "                item = items[i]\n",
    "                if item is None:\n",
    "                    continue\n",
    "                # Replace item with target item. If the edge is empty, it has to be queried again.\n",
    "                try:\n",
    "                    if edge not in item.edges:\n",
    "                        items[i] = None\n",
    "                    else:\n",
    "                        items[i] = getattr(item, edge)[0]\n",
    "                except Exception:\n",
    "                    ids_to_query.append(item.id)\n",
    "                    query_item_idx.append(i)\n",
    "                    items[i] = None\n",
    "\n",
    "            \n",
    "            new_items = client.search({\"ids\": ids_to_query})\n",
    "            for i, new_item in zip(query_item_idx, new_items):\n",
    "                try:\n",
    "                    items[i] = getattr(new_item, edge)[0]\n",
    "                except Exception:\n",
    "                    items[i] = None\n",
    "        return items\n",
    "\n",
    "    def get_property_values(\n",
    "        self, client: \"PodClient\", prop: str, items: List[Item]\n",
    "    ) -> list:\n",
    "        edges, prop_name = self.parse_property(prop)\n",
    "        target_items = self.traverse_edges(client, items, edges)\n",
    "\n",
    "        result = [getattr(item, prop_name, None) for item in target_items]\n",
    "        return result\n",
    "\n",
    "    @staticmethod\n",
    "    def parse_property(prop: str):\n",
    "        prop = prop.split(\".\")\n",
    "        edges = prop[:-1]\n",
    "        prop = prop[-1]\n",
    "        return edges, prop\n",
    "\n",
    "    def convert_dtype(self, result, dtype):\n",
    "        if dtype == \"dict\":\n",
    "            return result\n",
    "        elif dtype == \"list\":\n",
    "            return [result[prop] for prop in self.properties]\n",
    "        elif dtype in {\"pandas\", \"pd\", \"df\"}:\n",
    "            return pd.DataFrame.from_dict(result)\n",
    "        else:\n",
    "            raise ValueError(f\"Unknown dtype: {dtype}\")\n",
    "\n",
    "    def execute(self, client: \"PodClient\", items: List[Item], dtype=\"dict\") -> Any:\n",
    "        result = {\n",
    "            prop: self.get_property_values(client, prop, items) for prop in self.properties\n",
    "        }\n",
    "        return self.convert_dtype(result, dtype)"
   ]
  },
  {
   "cell_type": "markdown",
   "id": "708f56ad",
   "metadata": {},
   "source": [
    "## Tests"
   ]
  },
  {
   "cell_type": "code",
   "execution_count": null,
   "id": "be433175",
   "metadata": {},
   "outputs": [],
   "source": [
    "# hide\n",
    "from pymemri.pod.client import PodClient\n",
    "from pymemri.data.schema import Account, Person, Message, CategoricalLabel\n",
    "from pymemri.data.itembase import Edge\n",
    "import random"
   ]
  },
  {
   "cell_type": "markdown",
   "id": "84e3be22",
   "metadata": {},
   "source": [
    "### Create dummy data for dataset-"
   ]
  },
  {
   "cell_type": "code",
   "execution_count": null,
   "id": "8cd43657",
   "metadata": {},
   "outputs": [],
   "source": [
    "# hide\n",
    "client = PodClient()\n",
    "client.add_to_schema(Account, Person, Message, CategoricalLabel)\n",
    "\n",
    "num_items = 10\n",
    "messages = []\n",
    "items = []\n",
    "edges = []\n",
    "for i in range(num_items):   \n",
    "    msg = Message(content=f\"content_{i}\", service=\"my_service\")\n",
    "    account = Account(handle=f\"account_{i}\")\n",
    "    person = Person(firstName=f\"firstname_{i}\")\n",
    "    label = CategoricalLabel(labelValue=f\"label_{i}\")\n",
    "    items.extend([msg, account, person, label])\n",
    "    edges.extend([\n",
    "        Edge(msg, account, \"sender\"),\n",
    "        Edge(msg, label, \"label\"),\n",
    "        Edge(account, person, \"owner\")\n",
    "    ])\n",
    "    messages.append(msg)\n",
    "    \n",
    "# Dataset is not perfect, drop some random edges\n",
    "edges = random.sample(edges, int(len(edges)*0.8))\n",
    "\n",
    "client.bulk_action(\n",
    "    create_items=items,\n",
    "    create_edges=edges\n",
    ")"
   ]
  },
  {
   "cell_type": "markdown",
   "id": "3440b126",
   "metadata": {},
   "source": [
    "### Example usage\n",
    "For example, if we have a list of Messages and we want to get message content,\n",
    "the accompanying account handles and account owner names, we can query:"
   ]
  },
  {
   "cell_type": "code",
   "execution_count": null,
   "id": "c6e44269",
   "metadata": {},
   "outputs": [],
   "source": [
    "messages = client.search({\"type\": \"Message\", \"service\": \"my_service\"})\n",
    "query = Query(\"content\", \"sender.handle\", \"sender.owner.firstName\")\n",
    "query.execute(client, messages, dtype=\"pandas\")"
   ]
  },
  {
   "cell_type": "code",
   "execution_count": null,
   "id": "e79fe310",
   "metadata": {},
   "outputs": [],
   "source": [
    "q = Query(\"content\", \"label.labelValue\", \"sender.owner.firstName\", \"sender.handle\", \"wrong_property\")\n",
    "result = q.execute(client, messages)\n",
    "result"
   ]
  },
  {
   "cell_type": "code",
   "execution_count": null,
   "id": "6fcef105",
   "metadata": {},
   "outputs": [],
   "source": [
    "# hide\n",
    "q = Query(\"content\", \"label.labelValue\", \"sender.owner.firstName\", \"sender.handle\", \"wrong_property\")\n",
    "result = q.execute(client, messages)\n",
    "\n",
    "assert all(len(vals) == len(result[\"content\"]) for vals in result.values())\n",
    "assert len(result[\"content\"]) == num_items\n",
    "\n",
    "# Check if columns all align\n",
    "valid_props = [\"label.labelValue\", \"sender.owner.firstName\", \"sender.handle\"]\n",
    "for i in range(num_items):\n",
    "    row = [result[prop][i] for prop in valid_props]\n",
    "    row_idx = [val[-1] for val in row if val is not None]\n",
    "    assert len(set(row_idx)) <= 1\n",
    "\n",
    "assert all(val is None for val in result[\"wrong_property\"])"
   ]
  },
  {
   "cell_type": "code",
   "execution_count": null,
   "id": "5013f1bb",
   "metadata": {},
   "outputs": [],
   "source": [
    "q = Query(\"content\", \"label.name\", \"sender.owner.firstName\", \"sender.handle\")\n",
    "result = q.execute(client, messages, dtype=\"pandas\")\n",
    "result.head()"
   ]
  },
  {
   "cell_type": "code",
   "execution_count": null,
   "id": "958ba72c",
   "metadata": {},
   "outputs": [],
   "source": [
    "# hide\n",
    "from nbdev.export import *\n",
    "notebook2script()"
   ]
  }
 ],
 "metadata": {
  "interpreter": {
   "hash": "31f2aee4e71d21fbe5cf8b01ff0e069b9275f58929596ceb00d14d90e3e16cd6"
  },
  "kernelspec": {
   "display_name": "Python 3.9.7 64-bit",
   "language": "python",
   "name": "python3"
  },
  "language_info": {
   "codemirror_mode": {
    "name": "ipython",
    "version": 3
   },
   "file_extension": ".py",
   "mimetype": "text/x-python",
   "name": "python",
   "nbconvert_exporter": "python",
   "pygments_lexer": "ipython3",
   "version": "3.9.7"
  }
 },
 "nbformat": 4,
 "nbformat_minor": 5
}
