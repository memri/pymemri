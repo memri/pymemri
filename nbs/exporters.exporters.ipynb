{
 "cells": [
  {
   "cell_type": "code",
   "execution_count": 2,
   "id": "ffcf3000",
   "metadata": {},
   "outputs": [],
   "source": [
    "# default_exp exporters.exporters\n",
    "%load_ext autoreload\n",
    "%autoreload 2"
   ]
  },
  {
   "cell_type": "code",
   "execution_count": 3,
   "id": "c251979b",
   "metadata": {},
   "outputs": [],
   "source": [
    "# export\n",
    "# hide\n",
    "from typing import Dict, List, Optional, Iterable, Any\n",
    "import pandas as pd\n",
    "import json\n",
    "\n",
    "from pymemri.data.itembase import Item"
   ]
  },
  {
   "cell_type": "markdown",
   "id": "58299d4f",
   "metadata": {},
   "source": [
    "# Query\n",
    "\n",
    "With the `Query` class you can query the Pod with a list of properties, and export the result to a tabular dataformat. These properties can include edges that point to different items."
   ]
  },
  {
   "cell_type": "code",
   "execution_count": 4,
   "id": "8d32b240",
   "metadata": {},
   "outputs": [],
   "source": [
    "# export\n",
    "class Query:\n",
    "    def __init__(self, *properties: List[str]):\n",
    "        \"\"\"\n",
    "        A Query implements functionality to retrieve data from the pod to a tabular format.\n",
    "        \n",
    "        Given a list of `properties`, the `execute` method queries the pod for a set of given items, \n",
    "        and retrieves the properties for each item if it exists. Note that a properties can be nested behind\n",
    "        multiple edges, such as \"sender.owner.firstName\".\n",
    "        \"\"\"\n",
    "        self.properties = list(properties)\n",
    "\n",
    "    def traverse_edges(self, client: \"PodClient\", items: List[Item], edges: List[str]) -> List[Item]:\n",
    "        items = items.copy()\n",
    "\n",
    "        for edge in edges:\n",
    "            ids_to_query = list()\n",
    "            query_item_idx = list()\n",
    "            for i in range(len(items)):\n",
    "                item = items[i]\n",
    "                if item is None:\n",
    "                    continue\n",
    "                # Replace item with target item. If the edge is empty, it has to be queried again.\n",
    "                try:\n",
    "                    if edge not in item.edges:\n",
    "                        items[i] = None\n",
    "                    else:\n",
    "                        items[i] = getattr(item, edge)[0]\n",
    "                except Exception:\n",
    "                    ids_to_query.append(item.id)\n",
    "                    query_item_idx.append(i)\n",
    "                    items[i] = None\n",
    "\n",
    "            \n",
    "            new_items = client.search({\"ids\": ids_to_query})\n",
    "            for i, new_item in zip(query_item_idx, new_items):\n",
    "                try:\n",
    "                    items[i] = getattr(new_item, edge)[0]\n",
    "                except Exception:\n",
    "                    items[i] = None\n",
    "        return items\n",
    "\n",
    "    def get_property_values(\n",
    "        self, client: \"PodClient\", prop: str, items: List[Item]\n",
    "    ) -> list:\n",
    "        edges, prop_name = self.parse_property(prop)\n",
    "        target_items = self.traverse_edges(client, items, edges)\n",
    "\n",
    "        result = [getattr(item, prop_name, None) for item in target_items]\n",
    "        return result\n",
    "\n",
    "    @staticmethod\n",
    "    def parse_property(prop: str):\n",
    "        prop = prop.split(\".\")\n",
    "        edges = prop[:-1]\n",
    "        prop = prop[-1]\n",
    "        return edges, prop\n",
    "\n",
    "    def convert_dtype(self, result, dtype):\n",
    "        if dtype == \"dict\":\n",
    "            return result\n",
    "        elif dtype == \"list\":\n",
    "            return [result[prop] for prop in self.properties]\n",
    "        elif dtype in {\"pandas\", \"pd\", \"df\"}:\n",
    "            return pd.DataFrame.from_dict(result)\n",
    "        else:\n",
    "            raise ValueError(f\"Unknown dtype: {dtype}\")\n",
    "\n",
    "    def execute(self, client: \"PodClient\", items: List[Item], dtype=\"dict\") -> Any:\n",
    "        result = {\n",
    "            prop: self.get_property_values(client, prop, items) for prop in self.properties\n",
    "        }\n",
    "        return self.convert_dtype(result, dtype)"
   ]
  },
  {
   "cell_type": "markdown",
   "id": "708f56ad",
   "metadata": {},
   "source": [
    "## Tests"
   ]
  },
  {
   "cell_type": "code",
   "execution_count": 5,
   "id": "be433175",
   "metadata": {},
   "outputs": [],
   "source": [
    "# hide\n",
    "from pymemri.pod.client import PodClient\n",
    "from pymemri.data.schema import Account, Person, Message, CategoricalLabel\n",
    "from pymemri.data.itembase import Edge\n",
    "import random"
   ]
  },
  {
   "cell_type": "markdown",
   "id": "84e3be22",
   "metadata": {},
   "source": [
    "### Create dummy data for dataset-"
   ]
  },
  {
   "cell_type": "code",
   "execution_count": 13,
   "id": "8cd43657",
   "metadata": {},
   "outputs": [
    {
     "name": "stdout",
     "output_type": "stream",
     "text": [
      "BULK: Writing 64/64 items/edges\n",
      "Completed Bulk action, written 64 items/edges\n"
     ]
    },
    {
     "data": {
      "text/plain": [
       "True"
      ]
     },
     "execution_count": 13,
     "metadata": {},
     "output_type": "execute_result"
    }
   ],
   "source": [
    "# hide\n",
    "client = PodClient()\n",
    "client.add_to_schema(Account, Person, Message, CategoricalLabel)\n",
    "\n",
    "num_items = 10\n",
    "messages = []\n",
    "items = []\n",
    "edges = []\n",
    "for i in range(num_items):   \n",
    "    msg = Message(content=f\"content_{i}\", service=\"my_service\")\n",
    "    account = Account(handle=f\"account_{i}\")\n",
    "    person = Person(firstName=f\"firstname_{i}\")\n",
    "    label = CategoricalLabel(labelValue=f\"label_{i}\")\n",
    "    items.extend([msg, account, person, label])\n",
    "    edges.extend([\n",
    "        Edge(msg, account, \"sender\"),\n",
    "        Edge(msg, label, \"label\"),\n",
    "        Edge(account, person, \"owner\")\n",
    "    ])\n",
    "    messages.append(msg)\n",
    "    \n",
    "# Dataset is not perfect, drop some random edges\n",
    "edges = random.sample(edges, int(len(edges)*0.8))\n",
    "\n",
    "client.bulk_action(\n",
    "    create_items=items,\n",
    "    create_edges=edges\n",
    ")"
   ]
  },
  {
   "cell_type": "markdown",
   "id": "3440b126",
   "metadata": {},
   "source": [
    "### Example usage\n",
    "For example, if we have a list of Messages and we want to get message content,\n",
    "the accompanying account handles and account owner names, we can query:"
   ]
  },
  {
   "cell_type": "code",
   "execution_count": 14,
   "id": "c6e44269",
   "metadata": {},
   "outputs": [
    {
     "data": {
      "text/html": [
       "<div>\n",
       "<style scoped>\n",
       "    .dataframe tbody tr th:only-of-type {\n",
       "        vertical-align: middle;\n",
       "    }\n",
       "\n",
       "    .dataframe tbody tr th {\n",
       "        vertical-align: top;\n",
       "    }\n",
       "\n",
       "    .dataframe thead th {\n",
       "        text-align: right;\n",
       "    }\n",
       "</style>\n",
       "<table border=\"1\" class=\"dataframe\">\n",
       "  <thead>\n",
       "    <tr style=\"text-align: right;\">\n",
       "      <th></th>\n",
       "      <th>content</th>\n",
       "      <th>sender.handle</th>\n",
       "      <th>sender.owner.firstName</th>\n",
       "    </tr>\n",
       "  </thead>\n",
       "  <tbody>\n",
       "    <tr>\n",
       "      <th>0</th>\n",
       "      <td>content_7</td>\n",
       "      <td>None</td>\n",
       "      <td>None</td>\n",
       "    </tr>\n",
       "    <tr>\n",
       "      <th>1</th>\n",
       "      <td>content_5</td>\n",
       "      <td>None</td>\n",
       "      <td>None</td>\n",
       "    </tr>\n",
       "    <tr>\n",
       "      <th>2</th>\n",
       "      <td>content_0</td>\n",
       "      <td>None</td>\n",
       "      <td>None</td>\n",
       "    </tr>\n",
       "    <tr>\n",
       "      <th>3</th>\n",
       "      <td>content_3</td>\n",
       "      <td>account_3</td>\n",
       "      <td>firstname_3</td>\n",
       "    </tr>\n",
       "    <tr>\n",
       "      <th>4</th>\n",
       "      <td>content_4</td>\n",
       "      <td>account_4</td>\n",
       "      <td>firstname_4</td>\n",
       "    </tr>\n",
       "    <tr>\n",
       "      <th>5</th>\n",
       "      <td>content_6</td>\n",
       "      <td>account_6</td>\n",
       "      <td>None</td>\n",
       "    </tr>\n",
       "    <tr>\n",
       "      <th>6</th>\n",
       "      <td>content_9</td>\n",
       "      <td>account_9</td>\n",
       "      <td>firstname_9</td>\n",
       "    </tr>\n",
       "    <tr>\n",
       "      <th>7</th>\n",
       "      <td>content_1</td>\n",
       "      <td>account_1</td>\n",
       "      <td>firstname_1</td>\n",
       "    </tr>\n",
       "    <tr>\n",
       "      <th>8</th>\n",
       "      <td>content_2</td>\n",
       "      <td>account_2</td>\n",
       "      <td>firstname_2</td>\n",
       "    </tr>\n",
       "    <tr>\n",
       "      <th>9</th>\n",
       "      <td>content_8</td>\n",
       "      <td>account_8</td>\n",
       "      <td>firstname_8</td>\n",
       "    </tr>\n",
       "  </tbody>\n",
       "</table>\n",
       "</div>"
      ],
      "text/plain": [
       "     content sender.handle sender.owner.firstName\n",
       "0  content_7          None                   None\n",
       "1  content_5          None                   None\n",
       "2  content_0          None                   None\n",
       "3  content_3     account_3            firstname_3\n",
       "4  content_4     account_4            firstname_4\n",
       "5  content_6     account_6                   None\n",
       "6  content_9     account_9            firstname_9\n",
       "7  content_1     account_1            firstname_1\n",
       "8  content_2     account_2            firstname_2\n",
       "9  content_8     account_8            firstname_8"
      ]
     },
     "execution_count": 14,
     "metadata": {},
     "output_type": "execute_result"
    }
   ],
   "source": [
    "messages = client.search({\"type\": \"Message\", \"service\": \"my_service\"})\n",
    "query = Query(\"content\", \"sender.handle\", \"sender.owner.firstName\")\n",
    "query.execute(client, messages, dtype=\"pandas\")"
   ]
  },
  {
   "cell_type": "code",
   "execution_count": 15,
   "id": "e79fe310",
   "metadata": {},
   "outputs": [
    {
     "data": {
      "text/plain": [
       "{'content': ['content_7',\n",
       "  'content_5',\n",
       "  'content_0',\n",
       "  'content_3',\n",
       "  'content_4',\n",
       "  'content_6',\n",
       "  'content_9',\n",
       "  'content_1',\n",
       "  'content_2',\n",
       "  'content_8'],\n",
       " 'label.name': [None, None, None, None, None, None, None, None, None, None],\n",
       " 'sender.owner.firstName': [None,\n",
       "  None,\n",
       "  None,\n",
       "  'firstname_3',\n",
       "  'firstname_4',\n",
       "  None,\n",
       "  'firstname_9',\n",
       "  'firstname_1',\n",
       "  'firstname_2',\n",
       "  'firstname_8'],\n",
       " 'sender.handle': [None,\n",
       "  None,\n",
       "  None,\n",
       "  'account_3',\n",
       "  'account_4',\n",
       "  'account_6',\n",
       "  'account_9',\n",
       "  'account_1',\n",
       "  'account_2',\n",
       "  'account_8'],\n",
       " 'wrong_property': [None,\n",
       "  None,\n",
       "  None,\n",
       "  None,\n",
       "  None,\n",
       "  None,\n",
       "  None,\n",
       "  None,\n",
       "  None,\n",
       "  None]}"
      ]
     },
     "execution_count": 15,
     "metadata": {},
     "output_type": "execute_result"
    }
   ],
   "source": [
    "q = Query(\"content\", \"label.name\", \"sender.owner.firstName\", \"sender.handle\", \"wrong_property\")\n",
    "result = q.execute(client, messages)\n",
    "result"
   ]
  },
  {
   "cell_type": "code",
   "execution_count": 16,
   "id": "6fcef105",
   "metadata": {},
   "outputs": [
    {
     "name": "stdout",
     "output_type": "stream",
     "text": [
      "RES: {'data.content': [None, None, None, None, None, None, None, None, None, None], 'data.annotation.labelValue': [None, None, None, None, None, None, None, None, None, None], 'data.sender.owner.firstName': [None, None, None, None, None, None, None, None, None, None], 'data.sender.handle': [None, None, None, None, None, None, None, None, None, None], 'wrong_property': [None, None, None, None, None, None, None, None, None, None]}\n"
     ]
    },
    {
     "ename": "KeyError",
     "evalue": "'content'",
     "output_type": "error",
     "traceback": [
      "\u001b[0;31m---------------------------------------------------------------------------\u001b[0m",
      "\u001b[0;31mKeyError\u001b[0m                                  Traceback (most recent call last)",
      "\u001b[1;32m/home/maqroll/Documents/memri/pymemri/nbs/exporters.exporters.ipynb Cell 12'\u001b[0m in \u001b[0;36m<cell line: 6>\u001b[0;34m()\u001b[0m\n\u001b[1;32m      <a href='vscode-notebook-cell:/home/maqroll/Documents/memri/pymemri/nbs/exporters.exporters.ipynb#ch0000011?line=2'>3</a>\u001b[0m result \u001b[39m=\u001b[39m q\u001b[39m.\u001b[39mexecute(client, messages)\n\u001b[1;32m      <a href='vscode-notebook-cell:/home/maqroll/Documents/memri/pymemri/nbs/exporters.exporters.ipynb#ch0000011?line=4'>5</a>\u001b[0m \u001b[39mprint\u001b[39m(\u001b[39m\"\u001b[39m\u001b[39mRES:\u001b[39m\u001b[39m\"\u001b[39m, result)\n\u001b[0;32m----> <a href='vscode-notebook-cell:/home/maqroll/Documents/memri/pymemri/nbs/exporters.exporters.ipynb#ch0000011?line=5'>6</a>\u001b[0m \u001b[39massert\u001b[39;00m \u001b[39mall\u001b[39;49m(\u001b[39mlen\u001b[39;49m(vals) \u001b[39m==\u001b[39;49m \u001b[39mlen\u001b[39;49m(result[\u001b[39m\"\u001b[39;49m\u001b[39mcontent\u001b[39;49m\u001b[39m\"\u001b[39;49m]) \u001b[39mfor\u001b[39;49;00m vals \u001b[39min\u001b[39;49;00m result\u001b[39m.\u001b[39;49mvalues())\n\u001b[1;32m      <a href='vscode-notebook-cell:/home/maqroll/Documents/memri/pymemri/nbs/exporters.exporters.ipynb#ch0000011?line=6'>7</a>\u001b[0m \u001b[39massert\u001b[39;00m \u001b[39mlen\u001b[39m(result[\u001b[39m\"\u001b[39m\u001b[39mcontent\u001b[39m\u001b[39m\"\u001b[39m]) \u001b[39m==\u001b[39m num_items\n\u001b[1;32m      <a href='vscode-notebook-cell:/home/maqroll/Documents/memri/pymemri/nbs/exporters.exporters.ipynb#ch0000011?line=8'>9</a>\u001b[0m \u001b[39m# Check if columns all align\u001b[39;00m\n",
      "\u001b[1;32m/home/maqroll/Documents/memri/pymemri/nbs/exporters.exporters.ipynb Cell 12'\u001b[0m in \u001b[0;36m<genexpr>\u001b[0;34m(.0)\u001b[0m\n\u001b[1;32m      <a href='vscode-notebook-cell:/home/maqroll/Documents/memri/pymemri/nbs/exporters.exporters.ipynb#ch0000011?line=2'>3</a>\u001b[0m result \u001b[39m=\u001b[39m q\u001b[39m.\u001b[39mexecute(client, messages)\n\u001b[1;32m      <a href='vscode-notebook-cell:/home/maqroll/Documents/memri/pymemri/nbs/exporters.exporters.ipynb#ch0000011?line=4'>5</a>\u001b[0m \u001b[39mprint\u001b[39m(\u001b[39m\"\u001b[39m\u001b[39mRES:\u001b[39m\u001b[39m\"\u001b[39m, result)\n\u001b[0;32m----> <a href='vscode-notebook-cell:/home/maqroll/Documents/memri/pymemri/nbs/exporters.exporters.ipynb#ch0000011?line=5'>6</a>\u001b[0m \u001b[39massert\u001b[39;00m \u001b[39mall\u001b[39m(\u001b[39mlen\u001b[39m(vals) \u001b[39m==\u001b[39m \u001b[39mlen\u001b[39m(result[\u001b[39m\"\u001b[39;49m\u001b[39mcontent\u001b[39;49m\u001b[39m\"\u001b[39;49m]) \u001b[39mfor\u001b[39;00m vals \u001b[39min\u001b[39;00m result\u001b[39m.\u001b[39mvalues())\n\u001b[1;32m      <a href='vscode-notebook-cell:/home/maqroll/Documents/memri/pymemri/nbs/exporters.exporters.ipynb#ch0000011?line=6'>7</a>\u001b[0m \u001b[39massert\u001b[39;00m \u001b[39mlen\u001b[39m(result[\u001b[39m\"\u001b[39m\u001b[39mcontent\u001b[39m\u001b[39m\"\u001b[39m]) \u001b[39m==\u001b[39m num_items\n\u001b[1;32m      <a href='vscode-notebook-cell:/home/maqroll/Documents/memri/pymemri/nbs/exporters.exporters.ipynb#ch0000011?line=8'>9</a>\u001b[0m \u001b[39m# Check if columns all align\u001b[39;00m\n",
      "\u001b[0;31mKeyError\u001b[0m: 'content'"
     ]
    }
   ],
   "source": [
    "# hide\n",
    "q = Query(\"data.content\", \"data.annotation.labelValue\", \"data.sender.owner.firstName\", \"data.sender.handle\", \"wrong_property\")\n",
    "result = q.execute(client, messages)\n",
    "\n",
    "print(\"RES:\", result)\n",
    "assert all(len(vals) == len(result[\"data.content\"]) for vals in result.values())\n",
    "assert len(result[\"data.content\"]) == num_items\n",
    "\n",
    "# Check if columns all align\n",
    "valid_props = [\"data.annotation.labelValue\", \"data.sender.owner.firstName\", \"data.sender.handle\"]\n",
    "for i in range(num_items):\n",
    "    row = [result[prop][i] for prop in valid_props]\n",
    "    row_idx = [val[-1] for val in row if val is not None]\n",
    "    assert len(set(row_idx)) <= 1\n",
    "\n",
    "assert all(val is None for val in result[\"wrong_property\"])"
   ]
  },
  {
   "cell_type": "code",
   "execution_count": null,
   "id": "5013f1bb",
   "metadata": {},
   "outputs": [
    {
     "data": {
      "text/html": [
       "<div>\n",
       "<style scoped>\n",
       "    .dataframe tbody tr th:only-of-type {\n",
       "        vertical-align: middle;\n",
       "    }\n",
       "\n",
       "    .dataframe tbody tr th {\n",
       "        vertical-align: top;\n",
       "    }\n",
       "\n",
       "    .dataframe thead th {\n",
       "        text-align: right;\n",
       "    }\n",
       "</style>\n",
       "<table border=\"1\" class=\"dataframe\">\n",
       "  <thead>\n",
       "    <tr style=\"text-align: right;\">\n",
       "      <th></th>\n",
       "      <th>content</th>\n",
       "      <th>label.name</th>\n",
       "      <th>sender.owner.firstName</th>\n",
       "      <th>sender.handle</th>\n",
       "    </tr>\n",
       "  </thead>\n",
       "  <tbody>\n",
       "    <tr>\n",
       "      <th>0</th>\n",
       "      <td>content_0</td>\n",
       "      <td>label_0</td>\n",
       "      <td>firstname_0</td>\n",
       "      <td>account_0</td>\n",
       "    </tr>\n",
       "    <tr>\n",
       "      <th>1</th>\n",
       "      <td>content_1</td>\n",
       "      <td>label_1</td>\n",
       "      <td>firstname_1</td>\n",
       "      <td>account_1</td>\n",
       "    </tr>\n",
       "    <tr>\n",
       "      <th>2</th>\n",
       "      <td>content_2</td>\n",
       "      <td>None</td>\n",
       "      <td>None</td>\n",
       "      <td>account_2</td>\n",
       "    </tr>\n",
       "    <tr>\n",
       "      <th>3</th>\n",
       "      <td>content_3</td>\n",
       "      <td>None</td>\n",
       "      <td>firstname_3</td>\n",
       "      <td>account_3</td>\n",
       "    </tr>\n",
       "    <tr>\n",
       "      <th>4</th>\n",
       "      <td>content_4</td>\n",
       "      <td>label_4</td>\n",
       "      <td>firstname_4</td>\n",
       "      <td>account_4</td>\n",
       "    </tr>\n",
       "  </tbody>\n",
       "</table>\n",
       "</div>"
      ],
      "text/plain": [
       "     content label.name sender.owner.firstName sender.handle\n",
       "0  content_0    label_0            firstname_0     account_0\n",
       "1  content_1    label_1            firstname_1     account_1\n",
       "2  content_2       None                   None     account_2\n",
       "3  content_3       None            firstname_3     account_3\n",
       "4  content_4    label_4            firstname_4     account_4"
      ]
     },
     "execution_count": null,
     "metadata": {},
     "output_type": "execute_result"
    }
   ],
   "source": [
    "q = Query(\"content\", \"label.name\", \"sender.owner.firstName\", \"sender.handle\")\n",
    "result = q.execute(client, messages, dtype=\"pandas\")\n",
    "result.head()"
   ]
  },
  {
   "cell_type": "code",
   "execution_count": null,
   "id": "958ba72c",
   "metadata": {},
   "outputs": [
    {
     "name": "stdout",
     "output_type": "stream",
     "text": [
      "Converted Untitled.ipynb.\n",
      "Converted basic.ipynb.\n",
      "Converted cvu.utils.ipynb.\n",
      "Converted data.dataset.ipynb.\n",
      "Converted data.photo.ipynb.\n",
      "Converted exporters.exporters.ipynb.\n",
      "Converted index.ipynb.\n",
      "Converted itembase.ipynb.\n",
      "Converted plugin.authenticators.credentials.ipynb.\n",
      "Converted plugin.authenticators.oauth.ipynb.\n",
      "Converted plugin.listeners.ipynb.\n",
      "Converted plugin.pluginbase.ipynb.\n",
      "Converted plugin.states.ipynb.\n",
      "Converted plugins.authenticators.password.ipynb.\n",
      "Converted pod.api.ipynb.\n",
      "Converted pod.client.ipynb.\n",
      "Converted pod.db.ipynb.\n",
      "Converted pod.utils.ipynb.\n",
      "Converted template.config.ipynb.\n",
      "Converted template.formatter.ipynb.\n",
      "Converted test_schema.ipynb.\n",
      "Converted test_utils.ipynb.\n"
     ]
    }
   ],
   "source": [
    "# hide\n",
    "from nbdev.export import *\n",
    "notebook2script()"
   ]
  }
 ],
 "metadata": {
  "interpreter": {
   "hash": "31f2aee4e71d21fbe5cf8b01ff0e069b9275f58929596ceb00d14d90e3e16cd6"
  },
  "kernelspec": {
   "display_name": "Python 3.9.7 64-bit",
   "language": "python",
   "name": "python3"
  },
  "language_info": {
   "codemirror_mode": {
    "name": "ipython",
    "version": 3
   },
   "file_extension": ".py",
   "mimetype": "text/x-python",
   "name": "python",
   "nbconvert_exporter": "python",
   "pygments_lexer": "ipython3",
   "version": "3.9.7"
  }
 },
 "nbformat": 4,
 "nbformat_minor": 5
}
