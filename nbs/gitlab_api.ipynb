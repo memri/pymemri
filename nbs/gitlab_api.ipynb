{
 "cells": [
  {
   "cell_type": "code",
   "execution_count": null,
   "metadata": {},
   "outputs": [],
   "source": [
    "#default_exp gitlab_api\n",
    "%load_ext autoreload\n",
    "%autoreload 2"
   ]
  },
  {
   "cell_type": "code",
   "execution_count": null,
   "metadata": {},
   "outputs": [],
   "source": [
    "# export\n",
    "from fastprogress.fastprogress import progress_bar\n",
    "from pathlib import Path\n",
    "import requests\n",
    "import os, sys\n",
    "from getpass import getpass\n",
    "from datetime import datetime\n",
    "from git import Repo\n",
    "import re\n",
    "from pymemri.data.basic import *\n",
    "from pymemri.template.formatter import plugin_from_template\n",
    "import urllib"
   ]
  },
  {
   "cell_type": "code",
   "execution_count": null,
   "metadata": {},
   "outputs": [],
   "source": [
    "# export\n",
    "MEMRI_PATH = Path.home() / \".memri\"\n",
    "MEMRI_GITLAB_BASE_URL = \"https://gitlab.memri.io\"\n",
    "ACCESS_TOKEN_PATH = Path.home() / \".memri/access_token/access_token.txt\"\n",
    "GITLAB_API_BASE_URL = \"https://gitlab.memri.io/api/v4\"\n",
    "DEFAULT_PACKAGE_VERSION = \"0.0.1\"\n",
    "\n",
    "TIME_FORMAT_GITLAB = '%Y-%m-%dT%H:%M:%S.%fZ'\n",
    "PROJET_ID_PATTERN = '(?<=<span class=\"gl-button-text\">Project ID: )[0-9]+(?=</span>)'"
   ]
  },
  {
   "cell_type": "markdown",
   "metadata": {},
   "source": [
    "# - Downloading & Uploading functions for package registry"
   ]
  },
  {
   "cell_type": "code",
   "execution_count": null,
   "metadata": {},
   "outputs": [],
   "source": [
    "# export\n",
    "def find_git_repo():\n",
    "    path = \".\"\n",
    "    for i in range(10):\n",
    "        try:\n",
    "            repo = Repo(f\"{path + ('.' * i)}/\")\n",
    "        except:\n",
    "            pass\n",
    "        else:\n",
    "            break\n",
    "    if i == 9:\n",
    "        raise ValueError(f\"could not fine git repo in {os.path.abspath('')}\")\n",
    "    \n",
    "    repo_name = repo.remotes.origin.url.split('.git')[0].split('/')[-1]\n",
    "    return repo_name"
   ]
  },
  {
   "cell_type": "code",
   "execution_count": null,
   "metadata": {},
   "outputs": [],
   "source": [
    "# export\n",
    "def get_registry_api_key():\n",
    "    ACCESS_TOKEN_PATH.parent.mkdir(parents=True, exist_ok=True)\n",
    "    if ACCESS_TOKEN_PATH.is_file():\n",
    "        with open(ACCESS_TOKEN_PATH, \"r\") as f:\n",
    "            return f.read()\n",
    "    else:\n",
    "        print(f\"\"\"\n",
    "        The first time you are uploading a model you need to create an access_token\n",
    "        at https://gitlab.memri.io/-/profile/personal_access_tokens?name=Model+Access+token&scopes=api\n",
    "        Click at the blue button with 'Create personal access token'\"\n",
    "        \"\"\")\n",
    "        access_token = getpass(\"Then copy your personal access token from 'Your new personal access token', and paste here: \")\n",
    "        with open(ACCESS_TOKEN_PATH, \"w\") as f:\n",
    "            f.write(access_token)\n",
    "        return access_token"
   ]
  },
  {
   "cell_type": "code",
   "execution_count": null,
   "metadata": {},
   "outputs": [],
   "source": [
    "# export\n",
    "class upload_in_chunks(object):\n",
    "    def __init__(self, filename, chunksize=1 << 14):\n",
    "        self.filename = filename\n",
    "        self.chunksize = chunksize\n",
    "        self.totalsize = os.path.getsize(filename)\n",
    "        self.readsofar = 0\n",
    "\n",
    "    def __iter__(self):\n",
    "        n = 100\n",
    "        pb = progress_bar(range(n))\n",
    "        pb_iter = iter(pb)\n",
    "        i = 1\n",
    "        delta = 1 / n\n",
    "        next(pb_iter, None)\n",
    "\n",
    "        with open(self.filename, 'rb') as file:\n",
    "            while True:\n",
    "                data = file.read(self.chunksize)\n",
    "                if not data:\n",
    "                    sys.stderr.write(\"\\n\")\n",
    "                    break\n",
    "                self.readsofar += len(data)\n",
    "                percent = self.readsofar * 1e2 / self.totalsize\n",
    "                while (percent / 100) > i * delta:\n",
    "                    next(pb_iter, None)\n",
    "                    i += 1\n",
    "                yield data\n",
    "        pb.update_bar(n)\n",
    "\n",
    "    def __len__(self):\n",
    "        return self.totalsize\n",
    "    \n",
    "class IterableToFileAdapter(object):\n",
    "    def __init__(self, iterable):\n",
    "        self.iterator = iter(iterable)\n",
    "        self.length = len(iterable)\n",
    "\n",
    "    def read(self, size=-1): # TBD: add buffer for `len(data) > size` case\n",
    "        return next(self.iterator, b'')\n",
    "\n",
    "    def __len__(self):\n",
    "        return self.length"
   ]
  },
  {
   "cell_type": "code",
   "execution_count": null,
   "metadata": {},
   "outputs": [],
   "source": [
    "# export\n",
    "def write_file_to_package_registry(project_id, file_path, api_key, package_name, version=DEFAULT_PACKAGE_VERSION):\n",
    "    file_path = Path(file_path)\n",
    "    file_name = file_path.name\n",
    "    \n",
    "    url = f\"{GITLAB_API_BASE_URL}/projects/{project_id}/packages/generic/{package_name}/{version}/{file_name}\"\n",
    "    print(f\"uploading {file_path}\")\n",
    "    it = upload_in_chunks(file_path)\n",
    "    res = requests.put(url=url, data=IterableToFileAdapter(it), \n",
    "                     headers={\"PRIVATE-TOKEN\": api_key})\n",
    "    \n",
    "    if res.status_code not in [200, 201]:\n",
    "        print(f\"Failed to upload {file_path}: {res.content}\")\n",
    "    else:\n",
    "        print(f\"Succesfully uploaded {file_path}\")"
   ]
  },
  {
   "cell_type": "code",
   "execution_count": null,
   "metadata": {},
   "outputs": [],
   "source": [
    "# export\n",
    "def project_id_from_name(project_name, api_key, job_token=None):\n",
    "    if api_key:\n",
    "        headers = {\"PRIVATE-TOKEN\": api_key}\n",
    "    else:\n",
    "        headers = {\"JOB-TOKEN\": job_token}\n",
    "    res = requests.get(f\"{GITLAB_API_BASE_URL}/projects\",\n",
    "                       headers=headers,\n",
    "                       params={\n",
    "                           \"owned\": True,\n",
    "                           \"search\": project_name\n",
    "                       })\n",
    "    # we need this extra filter (search is not exact match)\n",
    "    res = [x.get(\"id\") for x in res.json() if x.get(\"path\", None) == project_name]\n",
    "    if len(res) == 0:\n",
    "        raise ValueError(f\"No plugin found with name {project_name}, make sure to enter the name as specified in the url of the repo\")\n",
    "    else:\n",
    "        return res[0]"
   ]
  },
  {
   "cell_type": "code",
   "execution_count": null,
   "metadata": {},
   "outputs": [],
   "source": [
    "# export\n",
    "def get_project_id_from_project_path_unsafe(project_path):\n",
    "    try:\n",
    "        res = requests.get(f\"{MEMRI_GITLAB_BASE_URL}/{project_path}\")\n",
    "        html = str(res.content)\n",
    "        match = re.search(PROJET_ID_PATTERN, html)\n",
    "        return match.group()\n",
    "    except Exception:\n",
    "        raise ValueError(f\"Could not find project with name {project_path}\")"
   ]
  },
  {
   "cell_type": "code",
   "execution_count": null,
   "metadata": {},
   "outputs": [],
   "source": [
    "# export\n",
    "def download_package_file(filename, project_path, package_name, out_dir=None,\n",
    "                          package_version=DEFAULT_PACKAGE_VERSION, download_if_exists=False):\n",
    "    \n",
    "    project_name = str(project_path).split(\"/\")[-1]\n",
    "    out_dir = out_dir if out_dir is not None else MEMRI_PATH / \"projects\" / project_name\n",
    "    out_dir.mkdir(parents=True, exist_ok=True)\n",
    "    \n",
    "    project_id = get_project_id_from_project_path_unsafe(project_path)\n",
    "    \n",
    "    file_path = out_dir / filename\n",
    "    print(file_path)\n",
    "    \n",
    "    if file_path.exists() and not download_if_exists:\n",
    "        print(f\"{file_path} already exists, and `download_if_exists`==False, using cached version\")\n",
    "        return file_path\n",
    "    \n",
    "    print(f\"downloading {filename} from project {project_path}, package {package_name}\")\n",
    "\n",
    "    res = requests.get(\n",
    "        url=f\"{GITLAB_API_BASE_URL}/projects/{project_id}/packages/generic/{package_name}/{package_version}/{filename}\"\n",
    "    )\n",
    "    res.raise_for_status() \n",
    "    with open(out_dir / filename, \"wb\") as f:\n",
    "        print(f\"writing {filename} to {out_dir}\")\n",
    "        f.write(res.content)\n",
    "    return file_path"
   ]
  },
  {
   "cell_type": "code",
   "execution_count": null,
   "metadata": {},
   "outputs": [
    {
     "name": "stdout",
     "output_type": "stream",
     "text": [
      "/Users/koen/.memri/projects/finetuning-example/config.json\n",
      "/Users/koen/.memri/projects/finetuning-example/config.json already exists, and `download_if_exists`==False, using cached version\n"
     ]
    }
   ],
   "source": [
    "# skip\n",
    "# todo: cleanup old package files during testing\n",
    "filename = \"config.json\"\n",
    "out_file = download_package_file(filename, \"memri/finetuning-example\", \"plugin-model-package\")"
   ]
  },
  {
   "cell_type": "code",
   "execution_count": null,
   "metadata": {},
   "outputs": [],
   "source": [
    "# export\n",
    "def create_repo(repo_name):    \n",
    "    url = f\"{GITLAB_API_BASE_URL}/projects/\"\n",
    "    api_key = get_registry_api_key()\n",
    "    payload = {\"name\": repo_name}\n",
    "    res = requests.post(url=url, json=payload, \n",
    "                        headers={\"PRIVATE-TOKEN\": api_key})\n",
    "    if res.status_code not in [200, 201]:\n",
    "        raise ValueError(f\"failed to create repo:\\n {res.text}\")\n",
    "    print(f\"created project {repo_name}\")"
   ]
  },
  {
   "cell_type": "code",
   "execution_count": null,
   "metadata": {},
   "outputs": [],
   "source": [
    "# export\n",
    "def get_current_username():\n",
    "    url = f\"{GITLAB_API_BASE_URL}/user/\"\n",
    "    api_key = get_registry_api_key()\n",
    "    res = requests.get(url=url, headers={\"PRIVATE-TOKEN\": api_key})\n",
    "    if res.status_code not in [200,201]:\n",
    "        raise ValueError(f\"Could not find current user {res.content}\")\n",
    "    else:\n",
    "        username = res.json()[\"username\"]\n",
    "        return username"
   ]
  },
  {
   "cell_type": "code",
   "execution_count": null,
   "metadata": {},
   "outputs": [],
   "source": [
    "# NEVER EXPORT THIS\n",
    "def delete_project(path_or_id):\n",
    "    url_escape_id = urllib.parse.quote(path_or_id, safe='')\n",
    "    url = f\"{GITLAB_API_BASE_URL}/projects/{url_escape_id}\"\n",
    "    api_key = get_registry_api_key()\n",
    "    res = requests.delete(url=url, headers={\"PRIVATE-TOKEN\": api_key})\n",
    "    if res.status_code not in [200, 201, 202]:\n",
    "        raise ValueError(f\"failed to delete repo:\\n {res.text}\")\n",
    "    print(f\"deleted project {path_or_id}\")"
   ]
  },
  {
   "cell_type": "code",
   "execution_count": null,
   "metadata": {},
   "outputs": [],
   "source": [
    "# export\n",
    "def commit_file(project_name, path_in2out, branch=\"main\"):\n",
    "    api_key = get_registry_api_key()\n",
    "    project_id = project_id_from_name(repo, api_key)\n",
    "#     file_out_path_escaped = urllib.parse.quote(file_out_path, safe='')\n",
    "    \n",
    "    actions = []\n",
    "    \n",
    "    for file_in_path, file_out_path in path_in2out.items():\n",
    "        content = read_file(file_in_path)\n",
    "        action_payload = {\"action\": \"create\", \"file_path\": file_out_path, \"content\": content}\n",
    "        actions.append(action_payload)\n",
    "\n",
    "    url = f\"{GITLAB_API_BASE_URL}/projects/{project_id}/repository/commits\"\n",
    "    payload = {\"branch\": branch, \"commit_message\": \"automated commit\", \"content\": content, \"actions\": actions}\n",
    "    \n",
    "    res = requests.post(url=url, json=payload,\n",
    "                        headers={\"PRIVATE-TOKEN\": api_key})\n",
    "    files_in = list(path_in2out.keys())\n",
    "    if res.status_code not in [200, 201, 202]:\n",
    "        raise ValueError(f\"failed to make commit with files {files_in}:\\n {res.text}\")\n",
    "    print(f\"committed files {files_in}\")\n",
    "\n",
    "#      --data '{\"branch\": \"master\", \"author_email\": \"author@example.com\", \"author_name\": \"Firstname Lastname\",\n",
    "#                \"content\": \"some content\", \"commit_message\": \"create a new file\"}' \\\n"
   ]
  },
  {
   "cell_type": "code",
   "execution_count": null,
   "metadata": {},
   "outputs": [],
   "source": [
    "# export\n",
    "def rm_tree(pth):\n",
    "    pth = Path(pth)\n",
    "    for child in pth.glob('*'):\n",
    "        if child.is_file():\n",
    "            child.unlink()\n",
    "        else:\n",
    "            rm_tree(child)\n",
    "\n",
    "    try:\n",
    "        pth.rmdir()\n",
    "    except FileNotFoundError as e:\n",
    "        pass"
   ]
  },
  {
   "cell_type": "code",
   "execution_count": null,
   "metadata": {},
   "outputs": [],
   "source": [
    "# export\n",
    "def write_files_to_git(repo, target_dir):\n",
    "    path_in2out = dict()\n",
    "    for p in target_dir.rglob(\"*\"):\n",
    "        if p.is_file():\n",
    "            path_in_repo = p.relative_to(target_dir)\n",
    "            path_in2out[str(p)] = str(path_in_repo)\n",
    "    commit_file(str(repo), path_in2out)\n",
    "            \n",
    "            \n",
    "def create_new_project(project_name):\n",
    "    tmp_dir = Path(\"/tmp/test\") / project_name\n",
    "    rm_tree(tmp_dir)\n",
    "\n",
    "    plugin_from_template(\n",
    "        template_name=\"classifier_plugin\",\n",
    "        description=\"A transformer based sentiment analyis plugin\", \n",
    "        install_requires=\"transformers,sentencepiece,protobuf,torch==1.10.0\",\n",
    "        target_dir=str(tmp_dir),\n",
    "        repo_url=f\"{MEMRI_GITLAB_BASE_URL}/plugins/{project_name}\",\n",
    "        verbose=False\n",
    "    )\n",
    "    write_files_to_git(project_name, tmp_dir)\n"
   ]
  },
  {
   "cell_type": "code",
   "execution_count": null,
   "metadata": {},
   "outputs": [
    {
     "name": "stdout",
     "output_type": "stream",
     "text": [
      "created project test12345612345\n"
     ]
    }
   ],
   "source": [
    "# skip\n",
    "repo = \"test12345612345\"\n",
    "create_repo(repo)\n",
    "# delete_project(f\"{get_current_username()}/{repo}\")"
   ]
  },
  {
   "cell_type": "code",
   "execution_count": null,
   "metadata": {},
   "outputs": [
    {
     "name": "stdout",
     "output_type": "stream",
     "text": [
      "Created `Test12345612345` using the classifier_plugin template.\n",
      "committed files ['/tmp/test/test12345612345/Dockerfile', '/tmp/test/test12345612345/metadata.json', '/tmp/test/test12345612345/README.md', '/tmp/test/test12345612345/setup.py', '/tmp/test/test12345612345/.gitignore', '/tmp/test/test12345612345/setup.cfg', '/tmp/test/test12345612345/.gitlab-ci.yml', '/tmp/test/test12345612345/LICENSE.txt', '/tmp/test/test12345612345/tools/preload.py', '/tmp/test/test12345612345/test12345612345/model.py', '/tmp/test/test12345612345/test12345612345/utils.py', '/tmp/test/test12345612345/test12345612345/plugin.py', '/tmp/test/test12345612345/test12345612345/schema.py', '/tmp/test/test12345612345/tests/test_plugin.py']\n"
     ]
    }
   ],
   "source": [
    "create_new_project(repo)"
   ]
  },
  {
   "cell_type": "code",
   "execution_count": null,
   "metadata": {},
   "outputs": [
    {
     "name": "stdout",
     "output_type": "stream",
     "text": [
      "deleted project koenvanderveen/test12345612345\n"
     ]
    }
   ],
   "source": [
    "# skip\n",
    "delete_project(f\"{get_current_username()}/{repo}\")"
   ]
  },
  {
   "cell_type": "markdown",
   "metadata": {},
   "source": [
    "# Export -"
   ]
  },
  {
   "cell_type": "code",
   "execution_count": null,
   "metadata": {},
   "outputs": [
    {
     "name": "stdout",
     "output_type": "stream",
     "text": [
      "Converted basic.ipynb.\n",
      "Converted cvu.utils.ipynb.\n",
      "Converted data.dataset.ipynb.\n",
      "Converted data.loader.ipynb.\n",
      "Converted data.photo.ipynb.\n",
      "Converted exporters.exporters.ipynb.\n",
      "Converted gitlab_api.ipynb.\n",
      "Converted index.ipynb.\n",
      "Converted itembase.ipynb.\n",
      "Converted plugin.authenticators.credentials.ipynb.\n",
      "Converted plugin.authenticators.oauth.ipynb.\n",
      "Converted plugin.listeners.ipynb.\n",
      "Converted plugin.pluginbase.ipynb.\n",
      "Converted plugin.states.ipynb.\n",
      "Converted plugins.authenticators.password.ipynb.\n",
      "Converted pod.api.ipynb.\n",
      "Converted pod.client.ipynb.\n",
      "Converted pod.db.ipynb.\n",
      "Converted pod.utils.ipynb.\n",
      "Converted template.config.ipynb.\n",
      "Converted template.formatter.ipynb.\n",
      "Converted test_schema.ipynb.\n",
      "Converted test_utils.ipynb.\n"
     ]
    }
   ],
   "source": [
    "# hide\n",
    "from nbdev.export import *\n",
    "notebook2script()"
   ]
  },
  {
   "cell_type": "code",
   "execution_count": null,
   "metadata": {},
   "outputs": [],
   "source": []
  }
 ],
 "metadata": {
  "kernelspec": {
   "display_name": "Python 3",
   "language": "python",
   "name": "python3"
  }
 },
 "nbformat": 4,
 "nbformat_minor": 4
}
