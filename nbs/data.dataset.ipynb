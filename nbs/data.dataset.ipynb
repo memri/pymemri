{
 "cells": [
  {
   "cell_type": "code",
   "execution_count": null,
   "id": "f328cc00",
   "metadata": {},
   "outputs": [],
   "source": [
    "# default_exp data.dataset\n",
    "%load_ext autoreload\n",
    "%autoreload 2"
   ]
  },
  {
   "cell_type": "code",
   "execution_count": null,
   "id": "27a2575d",
   "metadata": {},
   "outputs": [],
   "source": [
    "# export\n",
    "# hide\n",
    "from typing import List, Union\n",
    "from pathlib import Path\n",
    "from pymemri.data.itembase import Item\n",
    "from pymemri.exporters.exporters import Query"
   ]
  },
  {
   "cell_type": "code",
   "execution_count": null,
   "id": "5c2f01e8",
   "metadata": {},
   "outputs": [],
   "source": [
    "# export\n",
    "def filter_rows(dataset: dict, filter_val=None) -> dict:\n",
    "    missing_idx = set()\n",
    "    for column in dataset.values():\n",
    "        missing_idx.update([i for i, val in enumerate(column) if val == filter_val])\n",
    "    return {\n",
    "        k: [item for i, item in enumerate(v) if i not in missing_idx] for k, v in dataset.items()\n",
    "    }"
   ]
  },
  {
   "cell_type": "code",
   "execution_count": null,
   "id": "32e9a1f8",
   "metadata": {},
   "outputs": [],
   "source": [
    "# export\n",
    "class Dataset(Item):\n",
    "    \"\"\"\n",
    "    Temporary dataset schema, needs update when MVP2 is done.\n",
    "    \"\"\"\n",
    "    properties= Item.properties + [\"name\", \"queryStr\"]\n",
    "    edges = Item.edges + [\"item\"]\n",
    "    \n",
    "    def __init__(self, name: str = None, queryStr: str = None, item: list = None, **kwargs):\n",
    "        super().__init__(**kwargs)\n",
    "        self.queryStr = queryStr\n",
    "        self.name = name\n",
    "        self.item: list = item if item is not None else []\n",
    "            \n",
    "    def _get_items(self):\n",
    "        if self._client is None:\n",
    "            raise ValueError(\"Dataset does not have associated PodClient.\")\n",
    "        if not len(self.item):\n",
    "            edges = self._client.get_edges(self.id)\n",
    "            for e in self._client.get_edges(self.id):\n",
    "                self.add_edge(e[\"name\"], e[\"item\"])\n",
    "\n",
    "        return self.item\n",
    "            \n",
    "    def _get_data(self, dtype: str, columns: List[str], filter_missing: bool = True):\n",
    "        if self._client is None:\n",
    "            raise ValueError(\"Dataset does not have associated PodClient.\")\n",
    "        items = self._get_items()\n",
    "            \n",
    "        query = Query(\"id\", *columns)\n",
    "        result = query.execute(self._client, items)\n",
    "        if filter_missing:\n",
    "            result = filter_rows(result, filter_val=None)\n",
    "        return query.convert_dtype(result, dtype)\n",
    "            \n",
    "    def to(self, dtype: str, columns: List[str], filter_missing: bool = True):\n",
    "        return self._get_data(dtype, columns, filter_missing)\n",
    "    \n",
    "    def save(self, path: Union[Path, str], columns: List[str], filter_missing: bool = True):\n",
    "        result = self._get_data(\"pandas\", columns, filter_missing)\n",
    "        result.to_csv(path, index=False)"
   ]
  },
  {
   "cell_type": "code",
   "execution_count": null,
   "id": "5e11166c",
   "metadata": {},
   "outputs": [],
   "source": [
    "# hide\n",
    "from pymemri.pod.client import PodClient\n",
    "from pymemri.data.schema import Account, Person, Message, Label\n",
    "from pymemri.data.itembase import Edge\n",
    "import random\n",
    "import tempfile\n",
    "import pandas as pd"
   ]
  },
  {
   "cell_type": "code",
   "execution_count": null,
   "id": "d0b0d8dd",
   "metadata": {},
   "outputs": [
    {
     "name": "stdout",
     "output_type": "stream",
     "text": [
      "BULK: Writing 81/81 items/edges\n",
      "Completed Bulk action, written 81 items/edges\n"
     ]
    },
    {
     "data": {
      "text/plain": [
       "True"
      ]
     },
     "execution_count": null,
     "metadata": {},
     "output_type": "execute_result"
    }
   ],
   "source": [
    "# hide\n",
    "client = PodClient()\n",
    "client.add_to_schema(Account, Person, Message, Dataset)\n",
    "\n",
    "dataset = Dataset()\n",
    "\n",
    "num_items = 10\n",
    "messages = []\n",
    "items = [dataset]\n",
    "edges = []\n",
    "for i in range(num_items):   \n",
    "    msg = Message(content=f\"content_{i}\", service=\"my_service\")\n",
    "    account = Account(handle=f\"account_{i}\")\n",
    "    person = Person(firstName=f\"firstname_{i}\")\n",
    "    label = Label(name=f\"label_{i}\")\n",
    "    items.extend([msg, account, person, label])\n",
    "    edges.extend([\n",
    "        Edge(dataset, msg, \"item\"),\n",
    "        Edge(msg, account, \"sender\"),\n",
    "        Edge(msg, label, \"label\"),\n",
    "        Edge(account, person, \"owner\")\n",
    "    ])\n",
    "    messages.append(msg)\n",
    "\n",
    "client.bulk_action(\n",
    "    create_items=items,\n",
    "    create_edges=edges\n",
    ")"
   ]
  },
  {
   "cell_type": "code",
   "execution_count": null,
   "id": "29b9c9cb",
   "metadata": {},
   "outputs": [
    {
     "data": {
      "text/html": [
       "<div>\n",
       "<style scoped>\n",
       "    .dataframe tbody tr th:only-of-type {\n",
       "        vertical-align: middle;\n",
       "    }\n",
       "\n",
       "    .dataframe tbody tr th {\n",
       "        vertical-align: top;\n",
       "    }\n",
       "\n",
       "    .dataframe thead th {\n",
       "        text-align: right;\n",
       "    }\n",
       "</style>\n",
       "<table border=\"1\" class=\"dataframe\">\n",
       "  <thead>\n",
       "    <tr style=\"text-align: right;\">\n",
       "      <th></th>\n",
       "      <th>id</th>\n",
       "      <th>content</th>\n",
       "      <th>sender.owner.firstName</th>\n",
       "      <th>label.name</th>\n",
       "    </tr>\n",
       "  </thead>\n",
       "  <tbody>\n",
       "    <tr>\n",
       "      <th>0</th>\n",
       "      <td>d49425e997814990911b0bffd0c10300</td>\n",
       "      <td>content_0</td>\n",
       "      <td>firstname_0</td>\n",
       "      <td>label_0</td>\n",
       "    </tr>\n",
       "    <tr>\n",
       "      <th>1</th>\n",
       "      <td>bad388bb62d74127bafaac3e293c767d</td>\n",
       "      <td>content_1</td>\n",
       "      <td>firstname_1</td>\n",
       "      <td>label_1</td>\n",
       "    </tr>\n",
       "    <tr>\n",
       "      <th>2</th>\n",
       "      <td>bdab8a9a6bdb4b15b8ef74f48450e099</td>\n",
       "      <td>content_2</td>\n",
       "      <td>firstname_2</td>\n",
       "      <td>label_2</td>\n",
       "    </tr>\n",
       "    <tr>\n",
       "      <th>3</th>\n",
       "      <td>ab4f0f71a2564e5dbb85ff1cb0afbcd1</td>\n",
       "      <td>content_3</td>\n",
       "      <td>firstname_3</td>\n",
       "      <td>label_3</td>\n",
       "    </tr>\n",
       "    <tr>\n",
       "      <th>4</th>\n",
       "      <td>6c96d870e2d74568b8a314cdb21eaf83</td>\n",
       "      <td>content_4</td>\n",
       "      <td>firstname_4</td>\n",
       "      <td>label_4</td>\n",
       "    </tr>\n",
       "  </tbody>\n",
       "</table>\n",
       "</div>"
      ],
      "text/plain": [
       "                                 id    content sender.owner.firstName  \\\n",
       "0  d49425e997814990911b0bffd0c10300  content_0            firstname_0   \n",
       "1  bad388bb62d74127bafaac3e293c767d  content_1            firstname_1   \n",
       "2  bdab8a9a6bdb4b15b8ef74f48450e099  content_2            firstname_2   \n",
       "3  ab4f0f71a2564e5dbb85ff1cb0afbcd1  content_3            firstname_3   \n",
       "4  6c96d870e2d74568b8a314cdb21eaf83  content_4            firstname_4   \n",
       "\n",
       "  label.name  \n",
       "0    label_0  \n",
       "1    label_1  \n",
       "2    label_2  \n",
       "3    label_3  \n",
       "4    label_4  "
      ]
     },
     "execution_count": null,
     "metadata": {},
     "output_type": "execute_result"
    }
   ],
   "source": [
    "# hide\n",
    "dataframe = dataset.to(\"pd\", columns=[\"content\", \"sender.owner.firstName\", \"label.name\"])\n",
    "dataframe.head()\n",
    "\n",
    "assert isinstance(dataframe, pd.DataFrame)\n",
    "dataframe.head()"
   ]
  },
  {
   "cell_type": "code",
   "execution_count": null,
   "id": "824e0b06",
   "metadata": {},
   "outputs": [],
   "source": [
    "# hide\n",
    "with tempfile.TemporaryFile(mode='w') as f:\n",
    "    dataset.save(f, columns=[\"content\", \"sender.owner.firstName\", \"label.name\"])\n",
    "    f.seek(0)\n",
    "    result = pd.read_csv(f)\n",
    "    \n",
    "assert result.equals(dataframe)"
   ]
  },
  {
   "cell_type": "code",
   "execution_count": null,
   "id": "23cc738a",
   "metadata": {},
   "outputs": [
    {
     "name": "stdout",
     "output_type": "stream",
     "text": [
      "Converted Untitled.ipynb.\n",
      "Converted basic.ipynb.\n",
      "Converted cvu.utils.ipynb.\n",
      "Converted data.dataset.ipynb.\n",
      "Converted data.photo.ipynb.\n",
      "Converted exporters.exporters.ipynb.\n",
      "Converted index.ipynb.\n",
      "Converted itembase.ipynb.\n",
      "Converted plugin.authenticators.credentials.ipynb.\n",
      "Converted plugin.authenticators.oauth.ipynb.\n",
      "Converted plugin.listeners.ipynb.\n",
      "Converted plugin.pluginbase.ipynb.\n",
      "Converted plugin.states.ipynb.\n",
      "Converted plugins.authenticators.password.ipynb.\n",
      "Converted pod.api.ipynb.\n",
      "Converted pod.client.ipynb.\n",
      "Converted pod.db.ipynb.\n",
      "Converted pod.utils.ipynb.\n",
      "Converted template.config.ipynb.\n",
      "Converted template.formatter.ipynb.\n",
      "Converted test_schema.ipynb.\n",
      "Converted test_utils.ipynb.\n"
     ]
    }
   ],
   "source": [
    "# hide\n",
    "from nbdev.export import *\n",
    "notebook2script()"
   ]
  }
 ],
 "metadata": {
  "kernelspec": {
   "display_name": "Python 3 (ipykernel)",
   "language": "python",
   "name": "python3"
  }
 },
 "nbformat": 4,
 "nbformat_minor": 5
}
