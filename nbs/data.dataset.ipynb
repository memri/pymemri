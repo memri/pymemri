{
 "cells": [
  {
   "cell_type": "code",
   "execution_count": null,
   "id": "f328cc00",
   "metadata": {},
   "outputs": [],
   "source": [
    "# default_exp data.dataset\n",
    "%load_ext autoreload\n",
    "%autoreload 2"
   ]
  },
  {
   "cell_type": "code",
   "execution_count": null,
   "id": "27a2575d",
   "metadata": {},
   "outputs": [],
   "source": [
    "# export\n",
    "# hide\n",
    "from typing import List, Union, Any\n",
    "from pathlib import Path\n",
    "from pymemri.data.itembase import Item, EdgeList\n",
    "from pymemri.exporters.exporters import Query\n",
    "from pymemri.data import _central_schema"
   ]
  },
  {
   "cell_type": "code",
   "execution_count": null,
   "id": "1901b7c1",
   "metadata": {},
   "outputs": [],
   "source": [
    "# hide\n",
    "from nbdev import show_doc"
   ]
  },
  {
   "cell_type": "markdown",
   "id": "f767c976",
   "metadata": {},
   "source": [
    "# Datasets"
   ]
  },
  {
   "cell_type": "markdown",
   "id": "543f6885",
   "metadata": {},
   "source": [
    "A dataset is a central item in the pod that organizes your project data and label annotations. To facilitate using `Dataset` items in your datascience workflow, the `Dataset` class contains methods to convert the data to a popular datascience format, or save a dataset to disk. "
   ]
  },
  {
   "cell_type": "code",
   "execution_count": null,
   "id": "5c2f01e8",
   "metadata": {},
   "outputs": [],
   "source": [
    "# export\n",
    "# hide\n",
    "def filter_rows(dataset: dict, filter_val=None) -> dict:\n",
    "    missing_idx = set()\n",
    "    for column in dataset.values():\n",
    "        missing_idx.update([i for i, val in enumerate(column) if val == filter_val])\n",
    "    return {\n",
    "        k: [item for i, item in enumerate(v) if i not in missing_idx]\n",
    "        for k, v in dataset.items()\n",
    "    }"
   ]
  },
  {
   "cell_type": "code",
   "execution_count": null,
   "id": "32e9a1f8",
   "metadata": {},
   "outputs": [],
   "source": [
    "# export\n",
    "class Dataset(_central_schema.Dataset):\n",
    "    \"\"\"\n",
    "    The main Dataset class\n",
    "    \"\"\"\n",
    "    requires_client_ref = True\n",
    "\n",
    "    def __init__(self, **kwargs):\n",
    "        super().__init__(**kwargs)\n",
    "        self._client = None\n",
    "\n",
    "    def _get_items(self):\n",
    "        if self._client is None:\n",
    "            raise ValueError(\"Dataset does not have associated PodClient.\")\n",
    "        if not len(self.entry):\n",
    "            edges = self._client.get_edges(self.id)\n",
    "            for e in self._client.get_edges(self.id):\n",
    "                self.add_edge(e[\"name\"], e[\"item\"])\n",
    "\n",
    "        return self.entry\n",
    "\n",
    "    def _get_data(self, dtype: str, columns: List[str], filter_missing: bool = True):\n",
    "        if self._client is None:\n",
    "            raise ValueError(\"Dataset does not have associated PodClient.\")\n",
    "        items = self._get_items()\n",
    "\n",
    "        query = Query(\"id\", *columns)\n",
    "        result = query.execute(self._client, items)\n",
    "        if filter_missing:\n",
    "            result = filter_rows(result, filter_val=None)\n",
    "        return query.convert_dtype(result, dtype)\n",
    "\n",
    "    def to(self, dtype: str, columns: List[str], filter_missing: bool = True):\n",
    "        \"\"\"\n",
    "        Converts Dataset to a different format.\n",
    "\n",
    "        Available formats:\n",
    "        list: a 2-dimensional list, containing one dataset entry per row\n",
    "        dict: a list of dicts, where each dict contains {column: value} for each column\n",
    "        pd: a Pandas dataframe\n",
    "\n",
    "\n",
    "        Args:\n",
    "            dtype (str): Datatype of the returned dataset\n",
    "            columns (List[str]): Column names of the dataset\n",
    "            filter_missing (bool, optional): If true, all rows that contain `None` values are omitted.\n",
    "                Defaults to True.\n",
    "\n",
    "        Returns:\n",
    "            Any: Dataset formatted according to `dtype`\n",
    "        \"\"\"\n",
    "        return self._get_data(dtype, columns, filter_missing)\n",
    "\n",
    "    def save(\n",
    "        self, path: Union[Path, str], columns: List[str], filter_missing: bool = True\n",
    "    ):\n",
    "        \"\"\"\n",
    "        Save dataset to CSV.\n",
    "        \"\"\"\n",
    "        result = self._get_data(\"pandas\", columns, filter_missing)\n",
    "        result.to_csv(path, index=False)"
   ]
  },
  {
   "cell_type": "code",
   "execution_count": null,
   "id": "a6374315",
   "metadata": {},
   "outputs": [
    {
     "data": {
      "text/markdown": [
       "<h4 id=\"Dataset.to\" class=\"doc_header\"><code>Dataset.to</code><a href=\"__main__.py#L33\" class=\"source_link\" style=\"float:right\">[source]</a></h4>\n",
       "\n",
       "> <code>Dataset.to</code>(**`dtype`**:`str`, **`columns`**:`List`\\[`str`\\], **`filter_missing`**:`bool`=*`True`*)\n",
       "\n",
       "```\n",
       "Converts Dataset to a different format.\n",
       "\n",
       "Available formats:\n",
       "list: a 2-dimensional list, containing one dataset entry per row\n",
       "dict: a list of dicts, where each dict contains {column: value} for each column\n",
       "pd: a Pandas dataframe\n",
       "\n",
       "\n",
       "Args:\n",
       "    dtype (str): Datatype of the returned dataset\n",
       "    columns (List[str]): Column names of the dataset\n",
       "    filter_missing (bool, optional): If true, all rows that contain `None` values are omitted.\n",
       "        Defaults to True.\n",
       "\n",
       "Returns:\n",
       "    Any: Dataset formatted according to `dtype`\n",
       "```"
      ],
      "text/plain": [
       "<IPython.core.display.Markdown object>"
      ]
     },
     "metadata": {},
     "output_type": "display_data"
    },
    {
     "data": {
      "text/markdown": [
       "<h4 id=\"Dataset.save\" class=\"doc_header\"><code>Dataset.save</code><a href=\"__main__.py#L54\" class=\"source_link\" style=\"float:right\">[source]</a></h4>\n",
       "\n",
       "> <code>Dataset.save</code>(**`path`**:`Union`\\[`Path`, `str`\\], **`columns`**:`List`\\[`str`\\], **`filter_missing`**:`bool`=*`True`*)\n",
       "\n",
       "```\n",
       "Save dataset to CSV.\n",
       "```"
      ],
      "text/plain": [
       "<IPython.core.display.Markdown object>"
      ]
     },
     "metadata": {},
     "output_type": "display_data"
    }
   ],
   "source": [
    "show_doc(Dataset.to)\n",
    "\n",
    "show_doc(Dataset.save)"
   ]
  },
  {
   "cell_type": "code",
   "execution_count": null,
   "id": "5e11166c",
   "metadata": {},
   "outputs": [],
   "source": [
    "# hide\n",
    "from pymemri.pod.client import PodClient\n",
    "from pymemri.data.schema import Account, Person, Message, Label, DatasetEntry\n",
    "from pymemri.data.itembase import Edge\n",
    "import random\n",
    "import tempfile\n",
    "import pandas as pd"
   ]
  },
  {
   "cell_type": "markdown",
   "id": "959a27e7",
   "metadata": {},
   "source": [
    "## Usage\n",
    "\n",
    "To convert the data in the pod to a different format, `Dataset` implements the `Dataset.to` method. In the `columns` argument, you can define which features will be included in your dataset. A `column` is either a property of an entry in the dataset, or a property of an item connected to an entry in the dataset.\n",
    "\n",
    "The Pod uses the following schema for Dataset items. Note that the `DatasetEntry` item is always included, and the actual data can be found by traversing the `entry.data` Edge.\n",
    "\n",
    "![dataset schema](images/dataset-diagram.png)\n",
    "\n",
    "Now for example, if a dataset is a set of `Message` items, and the content has to be included as column, `data.content` would be the column name. If the name of the `sender` of a message has to be included, `data.sender.handle` would be a valid column name.\n",
    "\n",
    "The following example retrieves an example dataset of `Message` items, and formats them to a Pandas dataframe:"
   ]
  },
  {
   "cell_type": "code",
   "execution_count": null,
   "id": "081fd828",
   "metadata": {},
   "outputs": [
    {
     "data": {
      "text/plain": [
       "True"
      ]
     },
     "execution_count": null,
     "metadata": {},
     "output_type": "execute_result"
    }
   ],
   "source": [
    "client = PodClient()\n",
    "client.add_to_schema(Dataset, DatasetEntry)"
   ]
  },
  {
   "cell_type": "code",
   "execution_count": null,
   "id": "d0b0d8dd",
   "metadata": {},
   "outputs": [
    {
     "name": "stdout",
     "output_type": "stream",
     "text": [
      "BULK: Writing 101/101 items/edges\n",
      "Completed Bulk action, written 101 items/edges\n"
     ]
    },
    {
     "data": {
      "text/plain": [
       "True"
      ]
     },
     "execution_count": null,
     "metadata": {},
     "output_type": "execute_result"
    }
   ],
   "source": [
    "# hide\n",
    "client.add_to_schema(Account, Person, Message, Dataset, DatasetEntry)\n",
    "\n",
    "dataset = Dataset(name=\"example-dataset\")\n",
    "\n",
    "num_items = 10\n",
    "messages = []\n",
    "items = [dataset]\n",
    "edges = []\n",
    "for i in range(num_items):\n",
    "    entry = DatasetEntry()\n",
    "    msg = Message(content=f\"content_{i}\", service=\"my_service\")\n",
    "    account = Account(handle=f\"account_{i}\")\n",
    "    person = Person(firstName=f\"firstname_{i}\")\n",
    "    label = Label(name=f\"label_{i}\")\n",
    "    items.extend([entry, msg, account, person, label])\n",
    "    edges.extend([\n",
    "        Edge(dataset, entry, \"entry\"),\n",
    "        Edge(entry, msg, \"data\"),\n",
    "        Edge(msg, account, \"sender\"),\n",
    "        Edge(entry, label, \"labelAnnotation\"),\n",
    "        Edge(account, person, \"owner\")\n",
    "    ])\n",
    "    messages.append(msg)\n",
    "\n",
    "client.bulk_action(\n",
    "    create_items=items,\n",
    "    create_edges=edges\n",
    ")"
   ]
  },
  {
   "cell_type": "code",
   "execution_count": null,
   "id": "71d9e5b2",
   "metadata": {},
   "outputs": [
    {
     "data": {
      "text/html": [
       "<div>\n",
       "<style scoped>\n",
       "    .dataframe tbody tr th:only-of-type {\n",
       "        vertical-align: middle;\n",
       "    }\n",
       "\n",
       "    .dataframe tbody tr th {\n",
       "        vertical-align: top;\n",
       "    }\n",
       "\n",
       "    .dataframe thead th {\n",
       "        text-align: right;\n",
       "    }\n",
       "</style>\n",
       "<table border=\"1\" class=\"dataframe\">\n",
       "  <thead>\n",
       "    <tr style=\"text-align: right;\">\n",
       "      <th></th>\n",
       "      <th>id</th>\n",
       "      <th>data.content</th>\n",
       "      <th>data.sender.handle</th>\n",
       "      <th>labelAnnotation.name</th>\n",
       "    </tr>\n",
       "  </thead>\n",
       "  <tbody>\n",
       "    <tr>\n",
       "      <th>0</th>\n",
       "      <td>df242451f2444927b2d4c2d7180ec140</td>\n",
       "      <td>content_0</td>\n",
       "      <td>account_0</td>\n",
       "      <td>label_0</td>\n",
       "    </tr>\n",
       "    <tr>\n",
       "      <th>1</th>\n",
       "      <td>735a1848456c458193a2bf149df5b90f</td>\n",
       "      <td>content_1</td>\n",
       "      <td>account_1</td>\n",
       "      <td>label_1</td>\n",
       "    </tr>\n",
       "    <tr>\n",
       "      <th>2</th>\n",
       "      <td>5853664c4bc448129c6e282f2038f432</td>\n",
       "      <td>content_2</td>\n",
       "      <td>account_2</td>\n",
       "      <td>label_2</td>\n",
       "    </tr>\n",
       "    <tr>\n",
       "      <th>3</th>\n",
       "      <td>7e7554d63d7d45d6b85793fb1ae046b8</td>\n",
       "      <td>content_3</td>\n",
       "      <td>account_3</td>\n",
       "      <td>label_3</td>\n",
       "    </tr>\n",
       "    <tr>\n",
       "      <th>4</th>\n",
       "      <td>fd4f3da2661b489590ab41c1e62e213d</td>\n",
       "      <td>content_4</td>\n",
       "      <td>account_4</td>\n",
       "      <td>label_4</td>\n",
       "    </tr>\n",
       "  </tbody>\n",
       "</table>\n",
       "</div>"
      ],
      "text/plain": [
       "                                 id data.content data.sender.handle  \\\n",
       "0  df242451f2444927b2d4c2d7180ec140    content_0          account_0   \n",
       "1  735a1848456c458193a2bf149df5b90f    content_1          account_1   \n",
       "2  5853664c4bc448129c6e282f2038f432    content_2          account_2   \n",
       "3  7e7554d63d7d45d6b85793fb1ae046b8    content_3          account_3   \n",
       "4  fd4f3da2661b489590ab41c1e62e213d    content_4          account_4   \n",
       "\n",
       "  labelAnnotation.name  \n",
       "0              label_0  \n",
       "1              label_1  \n",
       "2              label_2  \n",
       "3              label_3  \n",
       "4              label_4  "
      ]
     },
     "execution_count": null,
     "metadata": {},
     "output_type": "execute_result"
    }
   ],
   "source": [
    "dataset = client.get_dataset(\"example-dataset\")\n",
    "\n",
    "columns = [\"data.content\", \"data.sender.handle\", \"labelAnnotation.name\"]\n",
    "dataframe = dataset.to(\"pd\", columns=columns)\n",
    "dataframe.head()"
   ]
  },
  {
   "cell_type": "code",
   "execution_count": null,
   "id": "29b9c9cb",
   "metadata": {},
   "outputs": [
    {
     "data": {
      "text/html": [
       "<div>\n",
       "<style scoped>\n",
       "    .dataframe tbody tr th:only-of-type {\n",
       "        vertical-align: middle;\n",
       "    }\n",
       "\n",
       "    .dataframe tbody tr th {\n",
       "        vertical-align: top;\n",
       "    }\n",
       "\n",
       "    .dataframe thead th {\n",
       "        text-align: right;\n",
       "    }\n",
       "</style>\n",
       "<table border=\"1\" class=\"dataframe\">\n",
       "  <thead>\n",
       "    <tr style=\"text-align: right;\">\n",
       "      <th></th>\n",
       "      <th>id</th>\n",
       "      <th>data.content</th>\n",
       "      <th>data.sender.owner.firstName</th>\n",
       "      <th>labelAnnotation.name</th>\n",
       "    </tr>\n",
       "  </thead>\n",
       "  <tbody>\n",
       "    <tr>\n",
       "      <th>0</th>\n",
       "      <td>df242451f2444927b2d4c2d7180ec140</td>\n",
       "      <td>content_0</td>\n",
       "      <td>firstname_0</td>\n",
       "      <td>label_0</td>\n",
       "    </tr>\n",
       "    <tr>\n",
       "      <th>1</th>\n",
       "      <td>735a1848456c458193a2bf149df5b90f</td>\n",
       "      <td>content_1</td>\n",
       "      <td>firstname_1</td>\n",
       "      <td>label_1</td>\n",
       "    </tr>\n",
       "    <tr>\n",
       "      <th>2</th>\n",
       "      <td>5853664c4bc448129c6e282f2038f432</td>\n",
       "      <td>content_2</td>\n",
       "      <td>firstname_2</td>\n",
       "      <td>label_2</td>\n",
       "    </tr>\n",
       "    <tr>\n",
       "      <th>3</th>\n",
       "      <td>7e7554d63d7d45d6b85793fb1ae046b8</td>\n",
       "      <td>content_3</td>\n",
       "      <td>firstname_3</td>\n",
       "      <td>label_3</td>\n",
       "    </tr>\n",
       "    <tr>\n",
       "      <th>4</th>\n",
       "      <td>fd4f3da2661b489590ab41c1e62e213d</td>\n",
       "      <td>content_4</td>\n",
       "      <td>firstname_4</td>\n",
       "      <td>label_4</td>\n",
       "    </tr>\n",
       "  </tbody>\n",
       "</table>\n",
       "</div>"
      ],
      "text/plain": [
       "                                 id data.content data.sender.owner.firstName  \\\n",
       "0  df242451f2444927b2d4c2d7180ec140    content_0                 firstname_0   \n",
       "1  735a1848456c458193a2bf149df5b90f    content_1                 firstname_1   \n",
       "2  5853664c4bc448129c6e282f2038f432    content_2                 firstname_2   \n",
       "3  7e7554d63d7d45d6b85793fb1ae046b8    content_3                 firstname_3   \n",
       "4  fd4f3da2661b489590ab41c1e62e213d    content_4                 firstname_4   \n",
       "\n",
       "  labelAnnotation.name  \n",
       "0              label_0  \n",
       "1              label_1  \n",
       "2              label_2  \n",
       "3              label_3  \n",
       "4              label_4  "
      ]
     },
     "execution_count": null,
     "metadata": {},
     "output_type": "execute_result"
    }
   ],
   "source": [
    "# hide\n",
    "columns = [\"data.content\", \"data.sender.owner.firstName\", \"labelAnnotation.name\"]\n",
    "dataframe = dataset.to(\"pd\", columns=columns)\n",
    "dataframe.head()\n",
    "\n",
    "assert isinstance(dataframe, pd.DataFrame)\n",
    "assert all(dataframe.columns == [\"id\"] + columns)\n",
    "assert len(dataframe) == num_items\n",
    "dataframe.head()"
   ]
  },
  {
   "cell_type": "code",
   "execution_count": null,
   "id": "824e0b06",
   "metadata": {},
   "outputs": [],
   "source": [
    "# hide\n",
    "# TODO tempfile does not work in CI\n",
    "# with tempfile.TemporaryFile(mode='w+') as f:\n",
    "#     dataset.save(f, columns=[\"content\", \"sender.owner.firstName\", \"label.name\"])\n",
    "#     f.seek(0)\n",
    "#     result = pd.read_csv(f)\n",
    "    \n",
    "# assert result.equals(dataframe)"
   ]
  },
  {
   "cell_type": "code",
   "execution_count": null,
   "id": "23cc738a",
   "metadata": {},
   "outputs": [
    {
     "name": "stdout",
     "output_type": "stream",
     "text": [
      "Converted Untitled.ipynb.\n",
      "Converted basic.ipynb.\n",
      "Converted cvu.utils.ipynb.\n",
      "Converted data.dataset.ipynb.\n",
      "Converted data.photo.ipynb.\n",
      "Converted exporters.exporters.ipynb.\n",
      "Converted index.ipynb.\n",
      "Converted itembase.ipynb.\n",
      "Converted plugin.authenticators.credentials.ipynb.\n",
      "Converted plugin.authenticators.oauth.ipynb.\n",
      "Converted plugin.listeners.ipynb.\n",
      "Converted plugin.pluginbase.ipynb.\n",
      "Converted plugin.states.ipynb.\n",
      "Converted plugins.authenticators.password.ipynb.\n",
      "Converted pod.api.ipynb.\n",
      "Converted pod.client.ipynb.\n",
      "Converted pod.db.ipynb.\n",
      "Converted pod.sync.ipynb.\n",
      "Converted pod.utils.ipynb.\n",
      "Converted template.config.ipynb.\n",
      "Converted template.formatter.ipynb.\n",
      "Converted test_schema.ipynb.\n",
      "Converted test_utils.ipynb.\n"
     ]
    }
   ],
   "source": [
    "# hide\n",
    "from nbdev.export import *\n",
    "notebook2script()"
   ]
  }
 ],
 "metadata": {
  "kernelspec": {
   "display_name": "Python 3 (ipykernel)",
   "language": "python",
   "name": "python3"
  }
 },
 "nbformat": 4,
 "nbformat_minor": 5
}
