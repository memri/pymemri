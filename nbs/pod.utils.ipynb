{
 "cells": [
  {
   "cell_type": "code",
   "execution_count": null,
   "id": "f541251c",
   "metadata": {},
   "outputs": [
    {
     "name": "stdout",
     "output_type": "stream",
     "text": [
      "The autoreload extension is already loaded. To reload it, use:\n",
      "  %reload_ext autoreload\n"
     ]
    }
   ],
   "source": [
    "# default_exp pod.utils\n",
    "%load_ext autoreload\n",
    "%autoreload 2"
   ]
  },
  {
   "cell_type": "code",
   "execution_count": null,
   "id": "f23b1d4a",
   "metadata": {},
   "outputs": [],
   "source": [
    "# export\n",
    "from pathlib import Path\n",
    "from pymemri.data.basic import *"
   ]
  },
  {
   "cell_type": "code",
   "execution_count": null,
   "id": "d2d9948e",
   "metadata": {},
   "outputs": [],
   "source": [
    "# export\n",
    "PYMEMRI_FOLDER = \".pymemri\"\n",
    "POD_KEYS_FOLDER = \"pod_keys\"\n",
    "POD_KEYS_FILENAME = \"keys.json\"\n",
    "POD_KEYS_FULL_FOLDER = Path.home() / \".pymemri\" / POD_KEYS_FOLDER\n",
    "DEFAULT_POD_KEY_PATH = POD_KEYS_FULL_FOLDER / POD_KEYS_FILENAME"
   ]
  },
  {
   "cell_type": "code",
   "execution_count": null,
   "id": "75fed7bd",
   "metadata": {},
   "outputs": [],
   "source": [
    "# export\n",
    "def read_pod_key(key_type, file=DEFAULT_POD_KEY_PATH):\n",
    "    try:\n",
    "        json = read_json(file)\n",
    "    except:\n",
    "        raise ValueError(f\"Trying to read key from {file}, but file or key does not exist\") from None\n",
    "    try:\n",
    "        key = json[key_type]\n",
    "        print(f\"reading {key_type} from {file}\")\n",
    "        return key\n",
    "    except:\n",
    "        raise ValueError(f\"{key_type} not specified in {file}\") from None"
   ]
  },
  {
   "cell_type": "code",
   "execution_count": null,
   "id": "643bd34c",
   "metadata": {},
   "outputs": [],
   "source": []
  }
 ],
 "metadata": {
  "kernelspec": {
   "display_name": "Python [conda env:pymemri] *",
   "language": "python",
   "name": "conda-env-pymemri-py"
  }
 },
 "nbformat": 4,
 "nbformat_minor": 5
}
