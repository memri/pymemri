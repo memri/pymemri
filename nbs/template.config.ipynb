{
 "cells": [
  {
   "cell_type": "code",
   "execution_count": null,
   "id": "9dc1dd55",
   "metadata": {},
   "outputs": [],
   "source": [
    "%load_ext autoreload\n",
    "%autoreload 2\n",
    "# default_exp template.config"
   ]
  },
  {
   "cell_type": "code",
   "execution_count": null,
   "id": "ba7f7b8e",
   "metadata": {},
   "outputs": [],
   "source": [
    "# export\n",
    "from typing import List\n",
    "from fastcore.script import call_parse, Param\n",
    "import inspect\n",
    "import os\n",
    "import importlib\n",
    "import json\n",
    "from pathlib import Path\n",
    "\n",
    "from pymemri.plugin.pluginbase import get_plugin_cls\n",
    "from pymemri.pod.client import PodClient"
   ]
  },
  {
   "cell_type": "code",
   "execution_count": null,
   "id": "7726d3b4",
   "metadata": {},
   "outputs": [],
   "source": [
    "# hide\n",
    "# test imports\n",
    "from pymemri.plugin.pluginbase import PluginBase\n",
    "from pprint import pprint\n",
    "import os"
   ]
  },
  {
   "cell_type": "markdown",
   "id": "d9a80467",
   "metadata": {},
   "source": [
    "# Template Configuration formatter\n",
    "\n",
    "To do plugin configuration in the front-end, plugins require a `config.json` in the root of the plugin repository. This module contains utilities to directly generate this config file from the plugin definition\n",
    "\n",
    "Example usage:\n",
    "```\n",
    "create_plugin_config\n",
    "```"
   ]
  },
  {
   "cell_type": "code",
   "execution_count": null,
   "id": "faa994ca",
   "metadata": {},
   "outputs": [],
   "source": [
    "# export\n",
    "ALLOWED_TYPES = [int, str, float]"
   ]
  },
  {
   "cell_type": "code",
   "execution_count": null,
   "id": "b9eb78f4",
   "metadata": {},
   "outputs": [],
   "source": [
    "# export\n",
    "def get_params(cls):\n",
    "    params = inspect.signature(cls.__init__).parameters\n",
    "    return {k: v for k, v in list(params.items()) if k not in {\"self\", \"args\", \"kwargs\"}}\n",
    "\n",
    "def identifier_to_displayname(identifier: str) -> str:\n",
    "    return identifier.replace(\"_\", \" \").title()\n",
    "\n",
    "def get_param_config(name, dtype, is_optional, default):\n",
    "    return {\n",
    "        \"name\": name,\n",
    "        \"display\": identifier_to_displayname(name),\n",
    "        \"data_type\": dtype,\n",
    "        \"type\": \"textbox\",\n",
    "        \"default\": default,\n",
    "        \"optional\": is_optional,\n",
    "    }\n",
    "\n",
    "def create_config(plugin_cls: type) -> List[dict]:\n",
    "    config = list()\n",
    "    for param_name, param in get_params(plugin_cls).items():\n",
    "        if param_name.startswith(\"_\"):\n",
    "            continue\n",
    "        if param.annotation == inspect._empty:\n",
    "            print(f\"Skipping unannotated parameter `{param_name}`\")\n",
    "            continue\n",
    "        if param.annotation not in ALLOWED_TYPES:\n",
    "            print(f\"Skipping parameter with unknown type: `{param_name}: {param.annotation}`\")\n",
    "            continue\n",
    "        is_optional = param.default != inspect._empty\n",
    "        dtype = PodClient.TYPE_TO_SCHEMA[param.annotation]\n",
    "        default = param.default if is_optional else None\n",
    "        param_config = get_param_config(param_name, dtype, is_optional, default)\n",
    "        config.append(param_config)\n",
    "    return config"
   ]
  },
  {
   "cell_type": "code",
   "execution_count": null,
   "id": "cbd682fb",
   "metadata": {},
   "outputs": [],
   "source": [
    "# export\n",
    "@call_parse\n",
    "def create_plugin_config(\n",
    "    metadata: Param(\"metadata.json of the plugin\", str) = None,\n",
    "    tgt_file: Param(\"Filename of config file\", str) = \"config.json\"):\n",
    "    if metadata is None:\n",
    "        if os.path.exists(\"./metadata.json\"):\n",
    "            metadata = \"./metadata.json\"\n",
    "        else:\n",
    "            print(\"Define a metadata file with --metadata <filename>\")\n",
    "            return\n",
    "    with open(metadata, \"r\") as f:\n",
    "        metadata = json.load(f)\n",
    "        \n",
    "    plugin_module = metadata[\"pluginModule\"]\n",
    "    plugin_name = metadata[\"pluginName\"]\n",
    "    \n",
    "    try:\n",
    "        plugin_cls = get_plugin_cls(plugin_module, plugin_name)\n",
    "    except Exception as e:\n",
    "        print(e)\n",
    "        return\n",
    "    config = create_config(plugin_cls)\n",
    "    \n",
    "    with open(tgt_file, \"w\") as f:\n",
    "        json.dump(config, f, indent=2)\n",
    "    print(f\"Config saved to {Path(tgt_file)}\")"
   ]
  },
  {
   "cell_type": "code",
   "execution_count": null,
   "id": "f885a624",
   "metadata": {},
   "outputs": [],
   "source": [
    "class MyPlugin(PluginBase):\n",
    "    def __init__(self, my_arg: str, my_str: str = None, my_int: int = None, my_float: float = None, unannotated=None, _private = None, **kwargs):\n",
    "        super().__init__(**kwargs)\n",
    "    \n",
    "    def run(self):\n",
    "        pass\n",
    "    \n",
    "    def add_to_schema(self):\n",
    "        pass"
   ]
  },
  {
   "cell_type": "code",
   "execution_count": null,
   "id": "ae222d40",
   "metadata": {},
   "outputs": [
    {
     "name": "stdout",
     "output_type": "stream",
     "text": [
      "Skipping unannotated parameter `unannotated`\n",
      "[{'data_type': 'Text',\n",
      "  'default': None,\n",
      "  'display': 'My Arg',\n",
      "  'name': 'my_arg',\n",
      "  'optional': False,\n",
      "  'type': 'textbox'},\n",
      " {'data_type': 'Text',\n",
      "  'default': None,\n",
      "  'display': 'My Str',\n",
      "  'name': 'my_str',\n",
      "  'optional': True,\n",
      "  'type': 'textbox'},\n",
      " {'data_type': 'Integer',\n",
      "  'default': None,\n",
      "  'display': 'My Int',\n",
      "  'name': 'my_int',\n",
      "  'optional': True,\n",
      "  'type': 'textbox'},\n",
      " {'data_type': 'Real',\n",
      "  'default': None,\n",
      "  'display': 'My Float',\n",
      "  'name': 'my_float',\n",
      "  'optional': True,\n",
      "  'type': 'textbox'}]\n"
     ]
    }
   ],
   "source": [
    "config = create_config(MyPlugin)\n",
    "pprint(config)"
   ]
  },
  {
   "cell_type": "code",
   "execution_count": null,
   "id": "f64fa90e",
   "metadata": {},
   "outputs": [
    {
     "name": "stdout",
     "output_type": "stream",
     "text": [
      "Converted basic.ipynb.\n",
      "Converted cvu.utils.ipynb.\n",
      "Converted data.photo.ipynb.\n",
      "Converted index.ipynb.\n",
      "Converted itembase.ipynb.\n",
      "Converted plugin.authenticators.credentials.ipynb.\n",
      "Converted plugin.authenticators.oauth.ipynb.\n",
      "Converted plugin.listeners.ipynb.\n",
      "Converted plugin.pluginbase.ipynb.\n",
      "Converted plugin.states.ipynb.\n",
      "Converted plugins.authenticators.password.ipynb.\n",
      "Converted pod.api.ipynb.\n",
      "Converted pod.client.ipynb.\n",
      "Converted pod.db.ipynb.\n",
      "Converted pod.utils.ipynb.\n",
      "Converted template.config.ipynb.\n",
      "Converted template.formatter.ipynb.\n",
      "Converted test_schema.ipynb.\n",
      "Converted test_utils.ipynb.\n"
     ]
    }
   ],
   "source": [
    "# hide\n",
    "from nbdev.export import *\n",
    "notebook2script()"
   ]
  }
 ],
 "metadata": {
  "kernelspec": {
   "display_name": "Python 3 (ipykernel)",
   "language": "python",
   "name": "python3"
  }
 },
 "nbformat": 4,
 "nbformat_minor": 5
}
