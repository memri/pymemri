{
 "cells": [
  {
   "cell_type": "code",
   "execution_count": null,
   "id": "ffcf3000",
   "metadata": {},
   "outputs": [
    {
     "name": "stdout",
     "output_type": "stream",
     "text": [
      "The autoreload extension is already loaded. To reload it, use:\n",
      "  %reload_ext autoreload\n"
     ]
    }
   ],
   "source": [
    "# default_exp exporters.query\n",
    "%load_ext autoreload\n",
    "%autoreload 2"
   ]
  },
  {
   "cell_type": "code",
   "execution_count": null,
   "id": "c251979b",
   "metadata": {},
   "outputs": [],
   "source": [
    "# export\n",
    "from typing import Dict, List, Optional, Iterable, Any\n",
    "import pandas as pd\n",
    "\n",
    "from pymemri.pod.client import PodClient\n",
    "from pymemri.data.itembase import Item"
   ]
  },
  {
   "cell_type": "markdown",
   "id": "58299d4f",
   "metadata": {},
   "source": [
    "## Query"
   ]
  },
  {
   "cell_type": "code",
   "execution_count": null,
   "id": "812c6011",
   "metadata": {},
   "outputs": [],
   "source": [
    "class Query:\n",
    "    def __init__(self, *properties: List[str]):\n",
    "        self.properties = list(properties)\n",
    "        self.num_api_calls = 0\n",
    "\n",
    "    def traverse_edges(self, client: PodClient, items: List[Item], edges: List[str]) -> List[Item]:\n",
    "        items = items.copy()\n",
    "\n",
    "        for edge in edges:\n",
    "            items_to_query = dict()\n",
    "            for i in range(len(items)):\n",
    "                item = items[i]\n",
    "                # Replace item with target item. If the edge is empty, it has to be queried again.\n",
    "                try:\n",
    "                    if edge not in item.edges:\n",
    "                        items[i] = None\n",
    "                    else:\n",
    "                        items[i] = getattr(item, edge)[0]\n",
    "                except Exception:\n",
    "                    items_to_query[i] = item\n",
    "                    items[i] = None\n",
    "\n",
    "            # TODO Pod can't currently get multiple items by ID, API call for each item is required for now.\n",
    "            for i, item in items_to_query.items():\n",
    "                try:\n",
    "                    result = client.get(item.id)\n",
    "                    self.num_api_calls += 1\n",
    "                    items[i] = getattr(result, edge)[0]\n",
    "                except Exception:\n",
    "                    items[i] = None\n",
    "\n",
    "        return items\n",
    "\n",
    "    def get_property_values(\n",
    "        self, client: PodClient, prop: str, items: List[Item]\n",
    "    ) -> list:\n",
    "        edges, prop_name = self.parse_property(prop)\n",
    "        target_items = self.traverse_edges(client, items, edges)\n",
    "\n",
    "        result = [getattr(item, prop_name, None) for item in target_items]\n",
    "        return result\n",
    "\n",
    "    @staticmethod\n",
    "    def parse_property(prop: str):\n",
    "        prop = prop.split(\".\")\n",
    "        edges = prop[:-1]\n",
    "        prop = prop[-1]\n",
    "        return edges, prop\n",
    "\n",
    "    @staticmethod\n",
    "    def convert_dtype(result, dtype):\n",
    "        if dtype == \"dict\":\n",
    "            return result\n",
    "        elif dtype in {\"pandas\", \"pd\", \"df\"}:\n",
    "            return pd.DataFrame.from_dict(result)\n",
    "        else:\n",
    "            raise ValueError(f\"Unknown dtype: {dtype}\")\n",
    "\n",
    "    def execute(\n",
    "        self, client: PodClient, items: List[Item], dtype=\"dict\", include_ids=True\n",
    "    ) -> Any:\n",
    "        if \"id\" not in self.properties and include_ids:\n",
    "            properties = [\"id\"] + self.properties\n",
    "        else:\n",
    "            properties = self.properties\n",
    "\n",
    "        result = {\n",
    "            prop: self.get_property_values(client, prop, items) for prop in properties\n",
    "        }\n",
    "        return self.convert_dtype(result, dtype)"
   ]
  },
  {
   "cell_type": "markdown",
   "id": "708f56ad",
   "metadata": {},
   "source": [
    "# Tests"
   ]
  },
  {
   "cell_type": "code",
   "execution_count": null,
   "id": "be433175",
   "metadata": {},
   "outputs": [],
   "source": [
    "from pymemri.pod.client import PodClient\n",
    "from pymemri.data.schema import Account, Person, Message, Label\n",
    "from pymemri.data.itembase import Edge\n",
    "import random"
   ]
  },
  {
   "cell_type": "markdown",
   "id": "84e3be22",
   "metadata": {},
   "source": [
    "### Create dummy data for dataset"
   ]
  },
  {
   "cell_type": "code",
   "execution_count": null,
   "id": "8cd43657",
   "metadata": {},
   "outputs": [
    {
     "name": "stdout",
     "output_type": "stream",
     "text": [
      "BULK: Writing 640/640 items/edges\n",
      "Completed Bulk action, written 640 items/edges\n"
     ]
    },
    {
     "data": {
      "text/plain": [
       "True"
      ]
     },
     "execution_count": null,
     "metadata": {},
     "output_type": "execute_result"
    }
   ],
   "source": [
    "client = PodClient()\n",
    "client.add_to_schema(Account, Person, Message)\n",
    "\n",
    "num_items = 100\n",
    "messages = []\n",
    "items = []\n",
    "edges = []\n",
    "for i in range(num_items):   \n",
    "    msg = Message(content=f\"content_{i}\")\n",
    "    account = Account(handle=f\"account_{i}\")\n",
    "    person = Person(firstName=f\"person_{i}\")\n",
    "    label = Label(name=f\"label_{i}\")\n",
    "    items.extend([msg, account, person, label])\n",
    "    edges.extend([\n",
    "        Edge(msg, account, \"sender\"),\n",
    "        Edge(msg, label, \"label\"),\n",
    "        Edge(account, person, \"owner\")\n",
    "    ])\n",
    "    messages.append(msg)\n",
    "    \n",
    "# Dataset is not perfect, remove some random edges\n",
    "edges = random.sample(edges, int(len(edges)*0.8))\n",
    "\n",
    "client.bulk_action(\n",
    "    create_items=items,\n",
    "    create_edges=edges\n",
    ")"
   ]
  },
  {
   "cell_type": "code",
   "execution_count": null,
   "id": "6fcef105",
   "metadata": {},
   "outputs": [],
   "source": [
    "# hide\n",
    "q = Query(\"content\", \"label.name\", \"sender.owner.firstName\", \"sender.handle\", \"wrong_property\")\n",
    "result = q.execute(client, messages)\n",
    "\n",
    "assert all(len(vals) == len(result[\"id\"]) for vals in result.values())\n",
    "assert len(result[\"content\"]) == num_items\n",
    "\n",
    "for prop in [\"label.name\", \"sender.owner.firstName\", \"sender.handle\"]:\n",
    "    for i in range(num_items):\n",
    "        assert result[prop][i] is None or result[prop][i].endswith(str(i))\n",
    "        \n",
    "assert all(val is None for val in result[\"wrong_property\"])"
   ]
  },
  {
   "cell_type": "code",
   "execution_count": null,
   "id": "08a8c415",
   "metadata": {},
   "outputs": [
    {
     "data": {
      "text/html": [
       "<div>\n",
       "<style scoped>\n",
       "    .dataframe tbody tr th:only-of-type {\n",
       "        vertical-align: middle;\n",
       "    }\n",
       "\n",
       "    .dataframe tbody tr th {\n",
       "        vertical-align: top;\n",
       "    }\n",
       "\n",
       "    .dataframe thead th {\n",
       "        text-align: right;\n",
       "    }\n",
       "</style>\n",
       "<table border=\"1\" class=\"dataframe\">\n",
       "  <thead>\n",
       "    <tr style=\"text-align: right;\">\n",
       "      <th></th>\n",
       "      <th>id</th>\n",
       "      <th>content</th>\n",
       "      <th>label.name</th>\n",
       "      <th>sender.owner.firstName</th>\n",
       "      <th>sender.handle</th>\n",
       "    </tr>\n",
       "  </thead>\n",
       "  <tbody>\n",
       "    <tr>\n",
       "      <th>0</th>\n",
       "      <td>10b9bf06bde24c1196dd0a60e7e7e2af</td>\n",
       "      <td>content_0</td>\n",
       "      <td>label_0</td>\n",
       "      <td>person_0</td>\n",
       "      <td>account_0</td>\n",
       "    </tr>\n",
       "    <tr>\n",
       "      <th>1</th>\n",
       "      <td>1b7045a3da2f4f8391de91bd3e275437</td>\n",
       "      <td>content_1</td>\n",
       "      <td>label_1</td>\n",
       "      <td>person_1</td>\n",
       "      <td>account_1</td>\n",
       "    </tr>\n",
       "    <tr>\n",
       "      <th>2</th>\n",
       "      <td>20f3e98fbd78490f8f8ce00c6f29d932</td>\n",
       "      <td>content_2</td>\n",
       "      <td>label_2</td>\n",
       "      <td>person_2</td>\n",
       "      <td>account_2</td>\n",
       "    </tr>\n",
       "    <tr>\n",
       "      <th>3</th>\n",
       "      <td>45e0eb9bd88a4c6b85052e07d4a12fd3</td>\n",
       "      <td>content_3</td>\n",
       "      <td>label_3</td>\n",
       "      <td>person_3</td>\n",
       "      <td>account_3</td>\n",
       "    </tr>\n",
       "    <tr>\n",
       "      <th>4</th>\n",
       "      <td>1be75bf9a4c843809a52be3188894c31</td>\n",
       "      <td>content_4</td>\n",
       "      <td>label_4</td>\n",
       "      <td>person_4</td>\n",
       "      <td>account_4</td>\n",
       "    </tr>\n",
       "  </tbody>\n",
       "</table>\n",
       "</div>"
      ],
      "text/plain": [
       "                                 id    content label.name  \\\n",
       "0  10b9bf06bde24c1196dd0a60e7e7e2af  content_0    label_0   \n",
       "1  1b7045a3da2f4f8391de91bd3e275437  content_1    label_1   \n",
       "2  20f3e98fbd78490f8f8ce00c6f29d932  content_2    label_2   \n",
       "3  45e0eb9bd88a4c6b85052e07d4a12fd3  content_3    label_3   \n",
       "4  1be75bf9a4c843809a52be3188894c31  content_4    label_4   \n",
       "\n",
       "  sender.owner.firstName sender.handle  \n",
       "0               person_0     account_0  \n",
       "1               person_1     account_1  \n",
       "2               person_2     account_2  \n",
       "3               person_3     account_3  \n",
       "4               person_4     account_4  "
      ]
     },
     "execution_count": null,
     "metadata": {},
     "output_type": "execute_result"
    }
   ],
   "source": [
    "q = Query(\"content\", \"label.name\", \"sender.owner.firstName\", \"sender.handle\")\n",
    "result = q.execute(client, messages, dtype=\"pandas\")\n",
    "result.head()"
   ]
  },
  {
   "cell_type": "code",
   "execution_count": null,
   "id": "958ba72c",
   "metadata": {},
   "outputs": [
    {
     "name": "stdout",
     "output_type": "stream",
     "text": [
      "Converted basic.ipynb.\n",
      "Converted cvu.utils.ipynb.\n",
      "Converted data.photo.ipynb.\n",
      "Converted exporters.query.ipynb.\n",
      "Converted index.ipynb.\n",
      "Converted itembase.ipynb.\n",
      "Converted plugin.authenticators.credentials.ipynb.\n",
      "Converted plugin.authenticators.oauth.ipynb.\n",
      "Converted plugin.listeners.ipynb.\n",
      "Converted plugin.pluginbase.ipynb.\n",
      "Converted plugin.states.ipynb.\n",
      "Converted plugins.authenticators.password.ipynb.\n",
      "Converted pod.api.ipynb.\n",
      "Converted pod.client.ipynb.\n",
      "Converted pod.db.ipynb.\n",
      "Converted pod.utils.ipynb.\n",
      "Converted template.config.ipynb.\n",
      "Converted template.formatter.ipynb.\n",
      "Converted test_schema.ipynb.\n",
      "Converted test_utils.ipynb.\n"
     ]
    }
   ],
   "source": [
    "# hide\n",
    "from nbdev.export import *\n",
    "notebook2script()"
   ]
  }
 ],
 "metadata": {
  "kernelspec": {
   "display_name": "Python 3 (ipykernel)",
   "language": "python",
   "name": "python3"
  }
 },
 "nbformat": 4,
 "nbformat_minor": 5
}
