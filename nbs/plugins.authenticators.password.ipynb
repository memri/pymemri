{
 "cells": [
  {
   "cell_type": "code",
   "execution_count": null,
   "id": "3314359a",
   "metadata": {},
   "outputs": [],
   "source": [
    "%load_ext autoreload\n",
    "%autoreload 2\n",
    "# default_exp plugin.authenticators.password"
   ]
  },
  {
   "cell_type": "code",
   "execution_count": null,
   "id": "72fee2f9",
   "metadata": {},
   "outputs": [],
   "source": [
    "# export \n",
    "# hide\n",
    "\n",
    "import abc\n",
    "from time import sleep\n",
    "from pathlib import Path\n",
    "\n",
    "import pymemri\n",
    "from pymemri.data.basic import read_file\n",
    "from pymemri.cvu.utils import get_default_cvu\n",
    "from pymemri.plugin.states import RUN_USER_ACTION_NEEDED, RUN_USER_ACTION_COMPLETED\n",
    "from pymemri.data.schema import CVUStoredDefinition\n",
    "import time"
   ]
  },
  {
   "cell_type": "code",
   "execution_count": null,
   "id": "21778b28",
   "metadata": {},
   "outputs": [],
   "source": [
    "# export\n",
    "# hide\n",
    "\n",
    "class PasswordAuthenticator:\n",
    "    DEFAULT_CVU = \"password_auth.cvu\"\n",
    "    MAX_LOGIN_ATTEMPTS = 3\n",
    "    SLEEP_INTERVAL = 1.0\n",
    "    MAX_POLL_TIME = 600\n",
    "\n",
    "    def __init__(self, client, pluginRun):\n",
    "        self.client = client\n",
    "        self.pluginRun = pluginRun\n",
    "        self.isTest = False\n",
    "\n",
    "    def authenticate(self, login_callback):\n",
    "        self.request_user_credentials()\n",
    "\n",
    "        login_success = False\n",
    "        for i in range(self.MAX_LOGIN_ATTEMPTS):\n",
    "            username, password = self.poll_credentials()\n",
    "            try:\n",
    "                login_callback(username, password)\n",
    "                login_success = True\n",
    "                break\n",
    "            except Exception as e:\n",
    "                print(\"Login failed, invalid credentials.\")\n",
    "                if self.pluginRun.account:\n",
    "                    attempts_remaining = self.MAX_LOGIN_ATTEMPTS - (i + 1)\n",
    "                    account = self.pluginRun.account[0]\n",
    "                    account.errorMessage = f\"Reached max login attempts. {attempts_remaining} attempts remaining\"\n",
    "                    self.client.update_item(account)\n",
    "                \n",
    "        if not login_success:\n",
    "            self.pluginRun.status = \"error\"\n",
    "            self.client.update_item(self.pluginRun)\n",
    "            \n",
    "            if self.pluginRun.account:\n",
    "                account = self.pluginRun.account[0]\n",
    "                account.errorMessage = \"Reached max login attempts.\"\n",
    "                self.client.update_item(account)\n",
    "\n",
    "            raise RuntimeError(\"Reached max login attempts.\")\n",
    "            \n",
    "    def request_user_credentials(self):\n",
    "        cvu = get_default_cvu(self.DEFAULT_CVU)\n",
    "        self.client.create(cvu)\n",
    "        self.pluginRun.add_edge(\"view\", cvu)\n",
    "        self.client.create_edge(self.pluginRun.get_edges(\"view\")[0])\n",
    "        self.pluginRun.status = RUN_USER_ACTION_NEEDED\n",
    "        self.client.update_item(self.pluginRun)\n",
    "\n",
    "    def poll_credentials(self):\n",
    "        start_time = time.time()\n",
    "        while True:\n",
    "            if time.time() - start_time > self.MAX_POLL_TIME:\n",
    "                self.pluginRun.status = \"error\"\n",
    "                self.client.update_item(self.pluginRun)\n",
    "                raise RuntimeError(\"Stop polling, max time reached.\")\n",
    "                \n",
    "            print(\"polling for credentials...\")\n",
    "            sleep(self.SLEEP_INTERVAL)\n",
    "            self.pluginRun = self.client.get(self.pluginRun.id)\n",
    "            if self.pluginRun.status == RUN_USER_ACTION_COMPLETED:\n",
    "                account = self.pluginRun.account[0]\n",
    "                return account.identifier, account.secret"
   ]
  },
  {
   "cell_type": "code",
   "execution_count": null,
   "id": "a9af5c21",
   "metadata": {},
   "outputs": [
    {
     "data": {
      "text/plain": [
       "True"
      ]
     },
     "execution_count": null,
     "metadata": {},
     "output_type": "execute_result"
    }
   ],
   "source": [
    "from pymemri.plugin.pluginbase import PluginBase\n",
    "from pymemri.plugin.schema import PluginRun, Account\n",
    "from pymemri.pod.client import PodClient\n",
    "import threading\n",
    "\n",
    "class MyAuthenticatedPlugin(PluginBase):\n",
    "    def __init__(self, *args, **kwargs):\n",
    "        super().__init__(*args, **kwargs)\n",
    "        self.logged_in = False\n",
    "        self.authenticator = PasswordAuthenticator(kwargs[\"client\"], kwargs[\"pluginRun\"])\n",
    "        \n",
    "    def login(self, username, password):\n",
    "        if not (username==\"username\" and password==\"password\"):\n",
    "            raise ValueError(\"Wrong credentials.\")\n",
    "            \n",
    "    def run(self):\n",
    "        self.authenticator.authenticate(login_callback=self.login)\n",
    "        self.logged_in = True\n",
    "        print(\"done!\")\n",
    "    \n",
    "    def add_to_schema(self):\n",
    "        pass\n",
    "\n",
    "pod_client = PodClient()\n",
    "\n",
    "run = PluginRun(\"\", \"\", \"\")\n",
    "account = Account(service=\"myAccount\")\n",
    "run.add_edge(\"account\", account)\n",
    "run.status = \"started\"\n",
    "\n",
    "pod_client.create(run)\n",
    "pod_client.create(account)\n",
    "pod_client.create_edge(run.get_edges(\"account\")[0])"
   ]
  },
  {
   "cell_type": "code",
   "execution_count": null,
   "id": "b8594f9a",
   "metadata": {},
   "outputs": [],
   "source": [
    "# Create Plugin\n",
    "plugin = MyAuthenticatedPlugin(client=pod_client, pluginRun=run)\n",
    "\n",
    "# Start plugin in background thread\n",
    "def run_plugin():\n",
    "    plugin.run()\n",
    "    assert plugin.logged_in\n",
    "    \n",
    "thread = threading.Thread(target=run_plugin)\n",
    "thread.start()"
   ]
  },
  {
   "cell_type": "code",
   "execution_count": null,
   "id": "796deb89",
   "metadata": {},
   "outputs": [
    {
     "name": "stdout",
     "output_type": "stream",
     "text": [
      "polling for credentials...\n",
      "polling for credentials...\n",
      "done!\n"
     ]
    }
   ],
   "source": [
    "# Enter password and check if plugin is authenticated\n",
    "\n",
    "def simulate_enter_password(pod_client, run_id):\n",
    "    run = pod_client.get(run_id)\n",
    "    account = run.account[0]\n",
    "\n",
    "    username = \"username\"\n",
    "    password = \"password\"\n",
    "    account.identifier = username\n",
    "    account.secret = password\n",
    "    run.status = \"ready\"\n",
    "\n",
    "    pod_client.update_item(account)\n",
    "    pod_client.update_item(run)\n",
    "\n",
    "time.sleep(2)\n",
    "simulate_enter_password(pod_client, run.id)\n",
    "time.sleep(2)\n",
    "\n",
    "thread.join()\n",
    "assert plugin.logged_in"
   ]
  },
  {
   "cell_type": "code",
   "execution_count": null,
   "id": "e1592e49",
   "metadata": {},
   "outputs": [
    {
     "name": "stdout",
     "output_type": "stream",
     "text": [
      "Converted basic.ipynb.\n",
      "Converted cvu.utils.ipynb.\n",
      "Converted data.photo.ipynb.\n",
      "Converted importers.Importer.ipynb.\n",
      "Converted importers.util.ipynb.\n",
      "Converted index.ipynb.\n",
      "Converted indexers.indexer.ipynb.\n",
      "Converted itembase.ipynb.\n",
      "Converted plugin.authenticators.password.ipynb.\n",
      "Converted plugin.pluginbase.ipynb.\n",
      "Converted plugin.schema.ipynb.\n",
      "Converted plugin.stateful.ipynb.\n",
      "Converted plugin.states.ipynb.\n",
      "Converted pod.client.ipynb.\n",
      "Converted pod.db.ipynb.\n",
      "Converted pod.utils.ipynb.\n",
      "Converted test_utils.ipynb.\n"
     ]
    }
   ],
   "source": [
    "# hide\n",
    "from nbdev.export import notebook2script\n",
    "notebook2script()"
   ]
  }
 ],
 "metadata": {
  "kernelspec": {
   "display_name": "Python 3",
   "language": "python",
   "name": "python3"
  }
 },
 "nbformat": 4,
 "nbformat_minor": 5
}
