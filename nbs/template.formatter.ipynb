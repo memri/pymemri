{
 "cells": [
  {
   "cell_type": "code",
   "execution_count": null,
   "id": "f380ac34",
   "metadata": {},
   "outputs": [],
   "source": [
    "%load_ext autoreload\n",
    "%autoreload 2\n",
    "# default_exp template.formatter"
   ]
  },
  {
   "cell_type": "code",
   "execution_count": null,
   "id": "a8a7e4c9",
   "metadata": {},
   "outputs": [],
   "source": [
    "# export\n",
    "# hide\n",
    "from pathlib import Path\n",
    "from typing import Dict, Union, List\n",
    "from fastcore.script import call_parse, Param, store_true\n",
    "import zipfile\n",
    "import tempfile\n",
    "import urllib\n",
    "from string import Template\n",
    "import re\n",
    "import giturlparse\n",
    "import subprocess"
   ]
  },
  {
   "cell_type": "code",
   "execution_count": null,
   "id": "74de84a3",
   "metadata": {},
   "outputs": [],
   "source": [
    "# hide\n",
    "# test imports\n",
    "from pprint import pprint\n",
    "import os"
   ]
  },
  {
   "cell_type": "markdown",
   "id": "77d47d51",
   "metadata": {},
   "source": [
    "# Template Formatter\n",
    "\n",
    "The template formatter generates a plugin from a template that sets up setup, docker and CI configurations for you.\n",
    "\n",
    "You can list the available templates with:\n",
    "\n",
    "```\n",
    "plugin_from_template --list\n",
    "```\n",
    "\n",
    "Example usage:\n",
    "```\n",
    "plugin_from_template --template classifier_plugin --description \"My Classifier Plugin\"\n",
    "```"
   ]
  },
  {
   "cell_type": "code",
   "execution_count": null,
   "id": "9898bd14",
   "metadata": {},
   "outputs": [],
   "source": [
    "# export\n",
    "# hide\n",
    "TEMPLATE_URL = \"https://gitlab.memri.io/memri/plugin-templates/-/archive/dev/plugin-templates-dev.zip\"\n",
    "TEMPLATE_BASE_PATH = \"plugin-templates-dev\""
   ]
  },
  {
   "cell_type": "markdown",
   "id": "2c9883e9",
   "metadata": {},
   "source": [
    "## Utility functions -"
   ]
  },
  {
   "cell_type": "code",
   "execution_count": null,
   "id": "2933c056",
   "metadata": {},
   "outputs": [],
   "source": [
    "# export\n",
    "# hide\n",
    "\n",
    "# If the owner of the repository is one of these groups, the CLI requires an additional `user` argument\n",
    "GITLAB_GROUPS = [\"memri\", \"plugins\"]\n",
    "\n",
    "def get_remote_url(path=\".\"):\n",
    "    path = Path(path)\n",
    "    url = subprocess.getoutput([f\"cd {path} && git config --get remote.origin.url\"])\n",
    "    if not url:\n",
    "        raise ValueError(f\"'{path}' is not an initialized git repository\")\n",
    "    parsed = giturlparse.parse(url)\n",
    "    repo_url = parsed.url2https\n",
    "    if repo_url.endswith(\".git\"):\n",
    "        repo_url = repo_url[:-4]\n",
    "    return repo_url\n",
    "\n",
    "def infer_git_info(url):\n",
    "    parsed = giturlparse.parse(url)\n",
    "    return parsed.owner, parsed.repo"
   ]
  },
  {
   "cell_type": "code",
   "execution_count": null,
   "id": "16dfc0d2",
   "metadata": {},
   "outputs": [],
   "source": [
    "# hide\n",
    "remote_url = get_remote_url()\n",
    "repo_owner, repo_name = infer_git_info(remote_url)\n",
    "\n",
    "assert repo_owner == \"memri\"\n",
    "assert repo_name == \"pymemri\""
   ]
  },
  {
   "cell_type": "code",
   "execution_count": null,
   "id": "9a72f504",
   "metadata": {},
   "outputs": [],
   "source": [
    "# export\n",
    "# hide\n",
    "def str_to_identifier(s, lower=True):\n",
    "    result = re.sub(\"\\W|^(?=\\d)\", \"_\", s)\n",
    "    if lower:\n",
    "        result = result.lower()\n",
    "    return result\n",
    "\n",
    "def reponame_to_displayname(reponame: str) -> str:\n",
    "    return re.sub(\"[-_]+\", \" \", reponame).title()\n",
    "\n",
    "def download_plugin_template(\n",
    "    template_name: str, url: str = TEMPLATE_URL, base_path: str = TEMPLATE_BASE_PATH\n",
    "):\n",
    "    base_path = str(Path(base_path) / template_name)\n",
    "    zip_path, _ = urllib.request.urlretrieve(url)\n",
    "    with zipfile.ZipFile(zip_path, \"r\") as f:\n",
    "        result = {name: f.read(name) for name in f.namelist() if base_path in name}\n",
    "    if len(result) == 0:\n",
    "        raise ValueError(f\"Could not find template: {template_name}\")\n",
    "    result = {k.replace(base_path, \"\").strip(\"/\"): v.decode(\"utf-8\") for k, v in result.items() if v}\n",
    "    return result\n",
    "\n",
    "\n",
    "def get_templates(url: str = TEMPLATE_URL) -> List[str]:\n",
    "    zip_path, _ = urllib.request.urlretrieve(url)\n",
    "    with zipfile.ZipFile(zip_path, \"r\") as f:\n",
    "        files_split = [name.split(\"/\") for name in f.namelist()]\n",
    "        result = [fn[1] for fn in files_split if fn[-1] == '' and len(fn) == 3]\n",
    "    return result"
   ]
  },
  {
   "cell_type": "code",
   "execution_count": null,
   "id": "becd3e18",
   "metadata": {},
   "outputs": [],
   "source": [
    "# hide\n",
    "assert len(get_templates())"
   ]
  },
  {
   "cell_type": "code",
   "execution_count": null,
   "id": "f99827cd",
   "metadata": {},
   "outputs": [
    {
     "name": "stdout",
     "output_type": "stream",
     "text": [
      "['$package_name/model.py',\n",
      " '$package_name/plugin.py',\n",
      " '$package_name/schema.py',\n",
      " '$package_name/utils.py',\n",
      " '.gitignore',\n",
      " '.gitlab-ci.yml',\n",
      " 'Dockerfile',\n",
      " 'LICENSE.txt',\n",
      " 'README.md',\n",
      " 'metadata.json',\n",
      " 'setup.cfg',\n",
      " 'setup.py',\n",
      " 'tests/test_plugin.py',\n",
      " 'tools/preload.py']\n"
     ]
    }
   ],
   "source": [
    "# hide\n",
    "assert str_to_identifier(\"My Plugin\") == \"my_plugin\"\n",
    "\n",
    "template = download_plugin_template(\"classifier_plugin\")\n",
    "assert len(template)\n",
    "pprint(list(template.keys()))"
   ]
  },
  {
   "cell_type": "markdown",
   "id": "940800d7",
   "metadata": {},
   "source": [
    "## Template Formatter"
   ]
  },
  {
   "cell_type": "code",
   "execution_count": null,
   "id": "2707a14d",
   "metadata": {},
   "outputs": [],
   "source": [
    "# export\n",
    "class TemplateFormatter:\n",
    "    def __init__(\n",
    "        self,\n",
    "        template_dict: Dict[str, str],\n",
    "        replace_dict: Dict[str, str],\n",
    "        tgt_path: Union[str, Path],\n",
    "        verbose: bool = False,\n",
    "    ):\n",
    "        self.template_dict = template_dict\n",
    "        self.tgt_path = Path(tgt_path)\n",
    "        self.replace_dict = replace_dict\n",
    "        self.verbose = verbose\n",
    "\n",
    "    def format_content(self, content):\n",
    "        return Template(content).safe_substitute(self.replace_dict)\n",
    "\n",
    "    def format_path(self, path):\n",
    "        new_path = Template(path).safe_substitute(self.replace_dict)\n",
    "        return self.tgt_path / new_path\n",
    "\n",
    "    def format_file(self, filename, content):\n",
    "        new_path = self.format_path(filename)\n",
    "        new_content = self.format_content(content)\n",
    "        new_path.parent.mkdir(exist_ok=True, parents=True)\n",
    "        if self.verbose:\n",
    "            print(f\"Formatting {filename} -> {new_path}\")\n",
    "        with open(new_path, \"w\", encoding=\"utf-8\") as f:\n",
    "            f.write(new_content)\n",
    "\n",
    "    def format(self):\n",
    "        for filename, content in self.template_dict.items():\n",
    "            self.format_file(filename, content)"
   ]
  },
  {
   "cell_type": "markdown",
   "id": "30c2cdd4",
   "metadata": {},
   "source": [
    "## Template CLI\n",
    "\n",
    "With the `plugin_from_template` CLI, you can easily create a plugin where all CI pipelines, docker files, and test setups are configured for you. Multiple templates are available, to see the complete list use:\n",
    "\n",
    "`plugin_from_template --list_templates`"
   ]
  },
  {
   "cell_type": "code",
   "execution_count": null,
   "id": "9ef65986",
   "metadata": {},
   "outputs": [],
   "source": [
    "# export\n",
    "# hide\n",
    "def get_template_replace_dict(\n",
    "    repo_url=None, user=None, plugin_name=None, package_name=None, description=None\n",
    "):\n",
    "    if repo_url is None:\n",
    "        repo_url = get_remote_url()\n",
    "\n",
    "    try:\n",
    "        repo_owner, repo_name = infer_git_info(repo_url)\n",
    "    except ValueError:\n",
    "        url_inf, owner_inf, name_inf = None, None, None\n",
    "        print(\"Could not infer git information from current directory, no initialized repository found.\")\n",
    "\n",
    "    if repo_url is None:\n",
    "        repo_url = url_inf\n",
    "\n",
    "    if user is None:\n",
    "        if repo_owner in GITLAB_GROUPS:\n",
    "            user = None\n",
    "        else:\n",
    "            user = repo_owner\n",
    "\n",
    "    if plugin_name is None:\n",
    "        if repo_name is None:\n",
    "            print(\"henk\")\n",
    "            plugin_name = None\n",
    "        else:\n",
    "            plugin_name = reponame_to_displayname(repo_name)\n",
    "\n",
    "    if package_name is None:\n",
    "        if repo_name is None:\n",
    "            package_name = None\n",
    "        else:\n",
    "            package_name = str_to_identifier(repo_name)\n",
    "\n",
    "    return {\n",
    "        \"user\": user,\n",
    "        \"package_name\": package_name,\n",
    "        \"plugin_name\": plugin_name,\n",
    "        \"repo_name\": repo_name,\n",
    "        \"repo_url\": repo_url,\n",
    "        \"description\": str(description),\n",
    "    }"
   ]
  },
  {
   "cell_type": "code",
   "execution_count": null,
   "id": "5c4df6b0",
   "metadata": {},
   "outputs": [],
   "source": [
    "# export\n",
    "@call_parse\n",
    "def plugin_from_template(\n",
    "    list_templates: Param(\"List available plugin templates\", store_true) = False,\n",
    "    user: Param(\"Your Gitlab username\", str) = None,\n",
    "    repo_url: Param(\"The url of your empty Gitlab plugin repository\", str) = None,\n",
    "    plugin_name: Param(\"Display name of your plugin\", str) = None,\n",
    "    template_name: Param(\n",
    "        \"Name of the template, use `list_templates` to see all available options\"\n",
    "    ) = \"basic\",\n",
    "    package_name: Param(\"Name of your plugin python package\", str) = None,\n",
    "    description: Param(\"Description of your plugin\", str) = None,\n",
    "    target_dir: Param(\"Directory to output the formatted template\", str) = \".\",\n",
    "):\n",
    "    if list_templates:\n",
    "        print(\"Available templates:\")\n",
    "        for template in get_templates():\n",
    "            print(template)\n",
    "        return\n",
    "\n",
    "    template = download_plugin_template(template_name)\n",
    "\n",
    "    tgt_path = Path(target_dir)\n",
    "    replace_dict = get_template_replace_dict(\n",
    "        repo_url=repo_url,\n",
    "        user=user,\n",
    "        plugin_name=plugin_name,\n",
    "        package_name=package_name,\n",
    "        description=description,\n",
    "    )\n",
    "\n",
    "    formatter = TemplateFormatter(template, replace_dict, tgt_path)\n",
    "    formatter.format()\n",
    "\n",
    "    print(f\"Created `{replace_dict['plugin_name']}` using the {template_name} template.\")"
   ]
  },
  {
   "cell_type": "code",
   "execution_count": null,
   "id": "e7597558",
   "metadata": {},
   "outputs": [
    {
     "name": "stdout",
     "output_type": "stream",
     "text": [
      "Available templates:\n",
      "basic\n",
      "classifier_plugin\n"
     ]
    }
   ],
   "source": [
    "!plugin_from_template --list_templates"
   ]
  },
  {
   "cell_type": "code",
   "execution_count": null,
   "id": "3d54e18e",
   "metadata": {},
   "outputs": [
    {
     "name": "stdout",
     "output_type": "stream",
     "text": [
      "Created files:\n",
      "[Path('/tmp/tmpzeq5mdrd/setup.py'),\n",
      " Path('/tmp/tmpzeq5mdrd/Dockerfile'),\n",
      " Path('/tmp/tmpzeq5mdrd/.gitignore'),\n",
      " Path('/tmp/tmpzeq5mdrd/README.md'),\n",
      " Path('/tmp/tmpzeq5mdrd/.gitlab-ci.yml'),\n",
      " Path('/tmp/tmpzeq5mdrd/metadata.json'),\n",
      " Path('/tmp/tmpzeq5mdrd/LICENSE.txt'),\n",
      " Path('/tmp/tmpzeq5mdrd/setup.cfg'),\n",
      " Path('/tmp/tmpzeq5mdrd/sentiment_plugin/model.py'),\n",
      " Path('/tmp/tmpzeq5mdrd/sentiment_plugin/schema.py'),\n",
      " Path('/tmp/tmpzeq5mdrd/sentiment_plugin/utils.py'),\n",
      " Path('/tmp/tmpzeq5mdrd/sentiment_plugin/plugin.py'),\n",
      " Path('/tmp/tmpzeq5mdrd/tools/preload.py'),\n",
      " Path('/tmp/tmpzeq5mdrd/tests/test_plugin.py')]\n"
     ]
    }
   ],
   "source": [
    "# hide\n",
    "template = download_plugin_template(\"classifier_plugin\")\n",
    "replace_dict = {\n",
    "    \"user\": \"eelcovdw\",\n",
    "    \"repo_name\": \"sentiment-plugin\",\n",
    "    \"package_name\": \"sentiment_plugin\",\n",
    "    \"plugin_name\": \"Sentiment Plugin\",\n",
    "    \"description\": \"Predict sentiment on text messages\"\n",
    "}\n",
    "\n",
    "with tempfile.TemporaryDirectory() as result_path:\n",
    "    result_path = Path(result_path)\n",
    "    formatter = TemplateFormatter(template, replace_dict, result_path)\n",
    "    formatter.format()\n",
    "    created_files = [f for f in result_path.rglob(\"*\") if not os.path.isdir(f)]\n",
    "    \n",
    "    contents = {}\n",
    "    for fn in created_files:\n",
    "        with open(fn, \"r\") as f:\n",
    "            contents[str(fn)] = f.read()\n",
    "\n",
    "print(\"Created files:\")  \n",
    "pprint(created_files)\n",
    "assert len(template) == len(created_files)"
   ]
  },
  {
   "cell_type": "code",
   "execution_count": null,
   "id": "fc4993b2",
   "metadata": {},
   "outputs": [
    {
     "name": "stdout",
     "output_type": "stream",
     "text": [
      "Converted Untitled.ipynb.\n",
      "Converted basic.ipynb.\n",
      "Converted cvu.utils.ipynb.\n",
      "Converted data.photo.ipynb.\n",
      "Converted index.ipynb.\n",
      "Converted itembase.ipynb.\n",
      "Converted plugin.authenticators.credentials.ipynb.\n",
      "Converted plugin.authenticators.oauth.ipynb.\n",
      "Converted plugin.listeners.ipynb.\n",
      "Converted plugin.pluginbase.ipynb.\n",
      "Converted plugin.states.ipynb.\n",
      "Converted plugins.authenticators.password.ipynb.\n",
      "Converted pod.api.ipynb.\n",
      "Converted pod.client.ipynb.\n",
      "Converted pod.db.ipynb.\n",
      "Converted pod.utils.ipynb.\n",
      "Converted template.config.ipynb.\n",
      "Converted template.formatter.ipynb.\n",
      "Converted test_schema.ipynb.\n",
      "Converted test_utils.ipynb.\n"
     ]
    }
   ],
   "source": [
    "# hide\n",
    "from nbdev.export import *\n",
    "notebook2script()"
   ]
  }
 ],
 "metadata": {
  "kernelspec": {
   "display_name": "Python 3 (ipykernel)",
   "language": "python",
   "name": "python3"
  }
 },
 "nbformat": 4,
 "nbformat_minor": 5
}
