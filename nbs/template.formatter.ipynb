{
 "cells": [
  {
   "cell_type": "code",
   "execution_count": null,
   "id": "f380ac34",
   "metadata": {},
   "outputs": [
    {
     "name": "stdout",
     "output_type": "stream",
     "text": [
      "The autoreload extension is already loaded. To reload it, use:\n",
      "  %reload_ext autoreload\n"
     ]
    }
   ],
   "source": [
    "%load_ext autoreload\n",
    "%autoreload 2\n",
    "# default_exp template.formatter"
   ]
  },
  {
   "cell_type": "code",
   "execution_count": null,
   "id": "a8a7e4c9",
   "metadata": {},
   "outputs": [],
   "source": [
    "# export\n",
    "from pathlib import Path\n",
    "from typing import Dict, Union\n",
    "from fastcore.script import call_parse, Param\n",
    "import zipfile\n",
    "import tempfile\n",
    "import urllib\n",
    "from string import Template\n",
    "import re"
   ]
  },
  {
   "cell_type": "markdown",
   "id": "77d47d51",
   "metadata": {},
   "source": [
    "# Template Formatter\n",
    "\n",
    "This formatter makes getting started with plugins easier, by generating a plugin template with an easy to use CLI. setup files, docker files and the plugin structure are generated for you.\n",
    "\n",
    "Example usage:\n",
    "```\n",
    "indexer_from_template --name <gitlab-username> --plugin_name \"My Indexer Plugin\"\n",
    "```"
   ]
  },
  {
   "cell_type": "code",
   "execution_count": null,
   "id": "9898bd14",
   "metadata": {},
   "outputs": [],
   "source": [
    "# export\n",
    "INDEXER_TEMPLATE_URL = \"https://gitlab.memri.io/plugins/indexer-template/-/archive/master/indexer-template-master.zip\""
   ]
  },
  {
   "cell_type": "code",
   "execution_count": null,
   "id": "9a72f504",
   "metadata": {},
   "outputs": [],
   "source": [
    "# export\n",
    "def str_to_identifier(s, lower=True):\n",
    "    result = re.sub(\"\\W|^(?=\\d)\", \"_\", s)\n",
    "    if lower:\n",
    "        result = result.lower()\n",
    "    return result\n",
    "\n",
    "def download_indexer_template(\n",
    "    url=INDEXER_TEMPLATE_URL, base_path=\"indexer-template-master/template/\"\n",
    "):\n",
    "    zip_path, _ = urllib.request.urlretrieve(url)\n",
    "    with zipfile.ZipFile(zip_path, \"r\") as f:\n",
    "        result = {name: f.read(name) for name in f.namelist()}\n",
    "        result = {\n",
    "            k.replace(base_path, \"\"): v.decode(\"utf-8\") for k, v in result.items() if v\n",
    "        }\n",
    "    return result"
   ]
  },
  {
   "cell_type": "code",
   "execution_count": null,
   "id": "f99827cd",
   "metadata": {},
   "outputs": [
    {
     "data": {
      "text/plain": [
       "'my_plugin'"
      ]
     },
     "execution_count": null,
     "metadata": {},
     "output_type": "execute_result"
    }
   ],
   "source": [
    "str_to_identifier(\"My Plugin\")"
   ]
  },
  {
   "cell_type": "code",
   "execution_count": null,
   "id": "2707a14d",
   "metadata": {},
   "outputs": [],
   "source": [
    "# export\n",
    "class TemplateFormatter:\n",
    "    def __init__(\n",
    "        self,\n",
    "        template_dict: Dict[str, str],\n",
    "        replace_dict: Dict[str, str],\n",
    "        tgt_path: Union[str, Path],\n",
    "        verbose: bool = False,\n",
    "    ):\n",
    "        self.template_dict = template_dict\n",
    "        self.tgt_path = Path(tgt_path)\n",
    "        self.replace_dict = replace_dict\n",
    "        self.verbose = verbose\n",
    "\n",
    "    def format_content(self, content):\n",
    "        return Template(content).substitute(self.replace_dict)\n",
    "\n",
    "    def format_path(self, path):\n",
    "        new_path = Template(path).substitute(self.replace_dict)\n",
    "        return self.tgt_path / new_path\n",
    "\n",
    "    def format_file(self, filename, content):\n",
    "        new_path = self.format_path(filename)\n",
    "        new_content = self.format_content(content)\n",
    "        new_path.parent.mkdir(exist_ok=True, parents=True)\n",
    "        if self.verbose:\n",
    "            print(f\"Formatting {filename} -> {new_path}\")\n",
    "        with open(new_path, \"w\", encoding=\"utf-8\") as f:\n",
    "            f.write(new_content)\n",
    "\n",
    "    def format(self):\n",
    "        for filename, content in self.template_dict.items():\n",
    "            self.format_file(filename, content)"
   ]
  },
  {
   "cell_type": "code",
   "execution_count": null,
   "id": "5c4df6b0",
   "metadata": {},
   "outputs": [],
   "source": [
    "# export\n",
    "@call_parse\n",
    "def indexer_from_template(\n",
    "    user: Param(\"Your Gitlab username\", str) = None,\n",
    "    repo_name: Param(\"The name of your Gitlab plugin repository\", str) = None,\n",
    "    package_name: Param(\"Name of your plugin python package\", str) = None,\n",
    "    plugin_name: Param(\"Display name of your plugin\", str) = None,\n",
    "    model_name: Param(\"Name of the model used in the indexer\", str) = None,\n",
    "    target_dir: Param(\"Directory to output the formatted template\", str) = \".\",\n",
    "):\n",
    "    if user is None:\n",
    "        print(\"Define your gitlab user name with `--user <username>`\")\n",
    "        return\n",
    "\n",
    "    if plugin_name is None:\n",
    "        print(\"Define your gitlab user name with `--plugin_name <name>`\")\n",
    "        return\n",
    "\n",
    "    if package_name is None:\n",
    "        package_name = str_to_identifier(plugin_name, lower=True)\n",
    "\n",
    "    if repo_name is None:\n",
    "        repo_name = package_name\n",
    "\n",
    "    if model_name is None:\n",
    "        model_name = package_name + \"_model\"\n",
    "\n",
    "    template = download_indexer_template()\n",
    "    tgt_path = Path(target_dir)\n",
    "    replace_dict = {\n",
    "        \"user\": user,\n",
    "        \"repo_name\": repo_name,\n",
    "        \"package_name\": package_name,\n",
    "        \"plugin_name\": plugin_name,\n",
    "        \"model_name\": model_name,\n",
    "    }\n",
    "\n",
    "    formatter = TemplateFormatter(template, replace_dict, tgt_path)\n",
    "    formatter.format()"
   ]
  },
  {
   "cell_type": "code",
   "execution_count": null,
   "id": "3d54e18e",
   "metadata": {},
   "outputs": [
    {
     "name": "stdout",
     "output_type": "stream",
     "text": [
      "Formatting $package_name/model.py -> result/sentiment_plugin/model.py\n",
      "Formatting Dockerfile -> result/Dockerfile\n",
      "Formatting README.md -> result/README.md\n",
      "Formatting plugin_config.json -> result/plugin_config.json\n",
      "Formatting setup.cfg -> result/setup.cfg\n",
      "Formatting setup.py -> result/setup.py\n",
      "Formatting tools/preload.py -> result/tools/preload.py\n"
     ]
    }
   ],
   "source": [
    "# skip\n",
    "template = download_indexer_template()\n",
    "result_path = Path(\"./result/\")\n",
    "replace_dict = {\n",
    "    \"user\": \"eelcovdw\",\n",
    "    \"repo_name\": \"sentiment-plugin\",\n",
    "    \"package_name\": \"sentiment_plugin\",\n",
    "    \"plugin_name\": \"Sentiment Plugin\",\n",
    "    \"model_name\": \"cardiffnlp/twitter-xlm-roberta-base-sentiment\",\n",
    "}\n",
    "\n",
    "formatter = TemplateFormatter(template, replace_dict, result_path, True)\n",
    "formatter.format()"
   ]
  },
  {
   "cell_type": "code",
   "execution_count": null,
   "id": "fc4993b2",
   "metadata": {},
   "outputs": [
    {
     "name": "stdout",
     "output_type": "stream",
     "text": [
      "Converted basic.ipynb.\n",
      "Converted cvu.utils.ipynb.\n",
      "Converted data.photo.ipynb.\n",
      "Converted index.ipynb.\n",
      "Converted itembase.ipynb.\n",
      "Converted plugin.authenticators.credentials.ipynb.\n",
      "Converted plugin.authenticators.oauth.ipynb.\n",
      "Converted plugin.listeners.ipynb.\n",
      "Converted plugin.pluginbase.ipynb.\n",
      "Converted plugin.states.ipynb.\n",
      "Converted plugins.authenticators.password.ipynb.\n",
      "Converted pod.api.ipynb.\n",
      "Converted pod.client.ipynb.\n",
      "Converted pod.db.ipynb.\n",
      "Converted pod.utils.ipynb.\n",
      "Converted template.formatter.ipynb.\n",
      "Converted test_schema.ipynb.\n",
      "Converted test_utils.ipynb.\n"
     ]
    }
   ],
   "source": [
    "# hide\n",
    "from nbdev.export import *\n",
    "notebook2script()"
   ]
  }
 ],
 "metadata": {
  "kernelspec": {
   "display_name": "Python 3 (ipykernel)",
   "language": "python",
   "name": "python3"
  }
 },
 "nbformat": 4,
 "nbformat_minor": 5
}
