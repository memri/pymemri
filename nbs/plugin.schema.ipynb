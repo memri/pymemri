{
 "cells": [
  {
   "cell_type": "code",
   "execution_count": null,
   "id": "48d3c421",
   "metadata": {},
   "outputs": [],
   "source": [
    "# default_exp plugin.schema"
   ]
  },
  {
   "cell_type": "code",
   "execution_count": null,
   "id": "54a8301b",
   "metadata": {},
   "outputs": [],
   "source": [
    "# export\n",
    "# hide\n",
    "import random, string\n",
    "from pymemri.data.itembase import Item"
   ]
  },
  {
   "cell_type": "code",
   "execution_count": null,
   "id": "ec7eeeb1",
   "metadata": {},
   "outputs": [],
   "source": [
    "# export\n",
    "# hide\n",
    "class PluginRun(Item):\n",
    "    properties = Item.properties + [\"containerImage\", \"pluginModule\", \"pluginName\", \"state\", \"targetItemId\",\n",
    "                                    \"oAuthUrl\", \"message\", \"config\"]\n",
    "    edges = Item.edges + [\"account\"]\n",
    "\n",
    "    def __init__(self, containerImage, pluginModule, pluginName, account=None, state=None, settings=None, targetItemId=None, oAuthUrl=None, message=None,\n",
    "                 **kwargs):\n",
    "        \"\"\"\n",
    "                PluginRun defines a the run of plugin `plugin_module.plugin_name`,\n",
    "        with an optional `settings` string.\n",
    "\n",
    "        Args:\n",
    "            plugin_module (str): module of the plugin.\n",
    "            plugin_name (str): class name of the plugin.\n",
    "            settings (str, optional): Optional plugin configuration. For example,\n",
    "                this could be a `json.dumps` of a configuration dict. Defaults to None.\n",
    "        \"\"\"\n",
    "        super().__init__(**kwargs)\n",
    "        self.pluginModule = pluginModule\n",
    "        self.pluginName = pluginName\n",
    "        self.containerImage = containerImage\n",
    "        id_ = ''.join([random.choice(string.hexdigits) for i in range(32)]) if targetItemId is None else targetItemId\n",
    "        self.targetItemId=id_\n",
    "        self.id=id_\n",
    "        self.state = state       # for stateful plugins\n",
    "        self.settings = settings\n",
    "        self.oAuthUrl = oAuthUrl # for authenticated plugins\n",
    "        self.message = message   # universa\n",
    "\n",
    "        self.account = account if account is not None else []"
   ]
  }
 ],
 "metadata": {
  "kernelspec": {
   "display_name": "Python 3",
   "language": "python",
   "name": "python3"
  }
 },
 "nbformat": 4,
 "nbformat_minor": 5
}
