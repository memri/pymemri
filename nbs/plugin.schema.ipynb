{
 "cells": [
  {
   "cell_type": "code",
   "execution_count": null,
   "metadata": {},
   "outputs": [],
   "source": [
    "# default_exp plugin.schema"
   ]
  },
  {
   "cell_type": "code",
   "execution_count": null,
   "metadata": {},
   "outputs": [],
   "source": [
    "# export\n",
    "# hide\n",
    "import random, string\n",
    "from pymemri.data.itembase import Item"
   ]
  },
  {
   "cell_type": "code",
   "execution_count": null,
   "metadata": {},
   "outputs": [],
   "source": [
    "# export\n",
    "# hide\n",
    "class Account(Item):\n",
    "    \n",
    "    properties = Item.properties + ['service', \"identifier\", \"secret\", \"code\", \"refreshToken\", \"errorMessage\"]\n",
    "    edges = Item.edges\n",
    "    \n",
    "    \n",
    "    def __init__(self, service=None, identifier=None, secret=None, code=None, refreshToken=None,\n",
    "                 errorMessage=None, **kwargs):\n",
    "        super().__init__(**kwargs)\n",
    "        self.service = service\n",
    "        self.identifier = identifier\n",
    "        self.secret = secret\n",
    "        self.refreshToken = refreshToken\n",
    "        self.code = code\n",
    "        self.errorMessage = errorMessage\n"
   ]
  },
  {
   "cell_type": "code",
   "execution_count": null,
   "metadata": {},
   "outputs": [],
   "source": [
    "# export\n",
    "# hide\n",
    "class PluginRun(Item):\n",
    "    properties = Item.properties + [\"containerImage\", \"pluginModule\", \"pluginName\", \"state\", \"targetItemId\",\n",
    "                                    \"oAuthUrl\", \"message\", \"settings\"]\n",
    "    edges = Item.edges + [\"account\"]\n",
    "\n",
    "    def __init__(self, containerImage, pluginModule, pluginName, account=None, state=None, settings=None, targetItemId=None, oAuthUrl=None, message=None,\n",
    "                 **kwargs):\n",
    "        \"\"\"\n",
    "                PluginRun defines a the run of plugin `plugin_module.plugin_name`,\n",
    "        with an optional `settings` string.\n",
    "\n",
    "        Args:\n",
    "            plugin_module (str): module of the plugin.\n",
    "            plugin_name (str): class name of the plugin.\n",
    "            settings (str, optional): Optional plugin configuration. For example,\n",
    "                this could be a `json.dumps` of a configuration dict. Defaults to None.\n",
    "        \"\"\"\n",
    "        super().__init__(**kwargs)\n",
    "        self.pluginModule = pluginModule\n",
    "        self.pluginName = pluginName\n",
    "        self.containerImage = containerImage\n",
    "        id_ = ''.join([random.choice(string.hexdigits) for i in range(32)]) if targetItemId is None else targetItemId\n",
    "        self.targetItemId=id_\n",
    "        self.id=id_\n",
    "        self.state = state       # for stateful plugins\n",
    "        self.settings = settings\n",
    "        self.oAuthUrl = oAuthUrl # to pass oauth url for authenticated plugins\n",
    "        self.message = message   # to pass a message\n",
    "\n",
    "        self.account = account if account is not None else []\n",
    "\n",
    "    def reload(self, client):\n",
    "        self = client.get(self.id, expanded=True)\n"
   ]
  }
 ],
 "metadata": {
  "kernelspec": {
   "display_name": "Python 3",
   "language": "python",
   "name": "python3"
  }
 },
 "nbformat": 4,
 "nbformat_minor": 5
}
