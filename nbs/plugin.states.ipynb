{
 "cells": [
  {
   "cell_type": "code",
   "execution_count": null,
   "metadata": {},
   "outputs": [],
   "source": [
    "%load_ext autoreload\n",
    "%autoreload 2\n",
    "# default_exp plugin.states"
   ]
  },
  {
   "cell_type": "code",
   "execution_count": null,
   "metadata": {},
   "outputs": [],
   "source": [
    "# export\n",
    "\n",
    "# run states\n",
    "RUN_IDLE = 'idle'\n",
    "RUN_INITIALIZED = 'initialized'\n",
    "RUN_USER_ACTION_NEEDED = 'userActionNeeded'\n",
    "RUN_USER_ACTION_COMPLETED = 'ready'\n",
    "RUN_STARTED = 'started'\n",
    "RUN_FAILED = 'error'\n",
    "RUN_COMPLETED = 'done'\n",
    "RUN_ABORTED = 'aborted'\n",
    "RUN_AUTHENTICATED = 'authenticated'\n",
    "RUN_DAEMON = \"daemon\""
   ]
  },
  {
   "cell_type": "code",
   "execution_count": null,
   "metadata": {},
   "outputs": [],
   "source": []
  }
 ],
 "metadata": {
  "kernelspec": {
   "display_name": "Python 3.9.12 ('base')",
   "language": "python",
   "name": "python3"
  }
 },
 "nbformat": 4,
 "nbformat_minor": 2
}
