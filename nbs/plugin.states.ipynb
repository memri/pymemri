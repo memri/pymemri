{
 "cells": [
  {
   "cell_type": "code",
   "execution_count": null,
   "metadata": {},
   "outputs": [],
   "source": [
    "%load_ext autoreload\n",
    "%autoreload 2\n",
    "# default_exp plugin.states"
   ]
  },
  {
   "cell_type": "code",
   "execution_count": null,
   "metadata": {},
   "outputs": [],
   "source": [
    "# export\n",
    "\n",
    "# run states\n",
    "RUN_IDLE = 'idle'                           #1\n",
    "RUN_INITIALIZED = 'initilized'              #2\n",
    "RUN_USER_ACTION_NEEDED = 'userActionNeeded' # 2-3\n",
    "RUN_USER_ACTION_COMPLETED = 'ready'         # 2-3\n",
    "RUN_STARTED = 'start'                       #3\n",
    "RUN_FAILED = 'error'                        # 3-4\n",
    "RUN_COMPLETED = 'done'                      #4"
   ]
  }
 ],
 "metadata": {},
 "nbformat": 4,
 "nbformat_minor": 2
}
