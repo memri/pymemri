{
 "cells": [
  {
   "cell_type": "code",
   "execution_count": null,
   "metadata": {},
   "outputs": [],
   "source": [
    "%load_ext autoreload\n",
    "%autoreload 2\n",
    "# default_exp plugin.stateful"
   ]
  },
  {
   "cell_type": "code",
   "execution_count": null,
   "metadata": {},
   "outputs": [],
   "source": [
    "#export\n",
    "from pymemri.data.schema import Item, CVUStoredDefinition\n",
    "from pymemri.plugin.pluginbase import PluginBase\n",
    "import logging"
   ]
  },
  {
   "cell_type": "code",
   "execution_count": null,
   "metadata": {},
   "outputs": [],
   "source": [
    "#hide\n",
    "from nbdev.showdoc import *"
   ]
  },
  {
   "cell_type": "markdown",
   "metadata": {},
   "source": [
    "# Stateful Plugins"
   ]
  },
  {
   "cell_type": "markdown",
   "metadata": {},
   "source": [
    "If a plugin with states are going to be used, this includes the plugins with user interaction, then StatefulPlugin should be used.\n"
   ]
  },
  {
   "cell_type": "code",
   "execution_count": null,
   "metadata": {},
   "outputs": [],
   "source": [
    "# export\n",
    "RUN_IDLE = 'idle'                           #1\n",
    "RUN_INITIALIZED = 'initilized'              #2\n",
    "RUN_USER_ACTION_NEEDED = 'userActionNeeded' # 2-3\n",
    "RUN_USER_ACTION_COMPLETED = 'ready'         # 2-3\n",
    "RUN_STARTED = 'start'                       #3\n",
    "RUN_FAILED = 'error'                        # 3-4\n",
    "RUN_COMPLETED = 'done'                      #4\n",
    "\n",
    "logging.basicConfig(format='%(asctime)s [%(levelname)s] - %(message)s')"
   ]
  },
  {
   "cell_type": "code",
   "execution_count": null,
   "metadata": {},
   "outputs": [],
   "source": [
    "# export\n",
    "class PersistentState(Item):\n",
    "    \"\"\" Persistent state variables saved for plugin such as views, accounts, the last state to resume from etc. \"\"\"\n",
    "\n",
    "    properties = Item.properties + [\"pluginId\", \"lastState\"]\n",
    "    edges = Item.edges + [\"account\", \"view\"]\n",
    "\n",
    "    def __init__(self, pluginId=None, lastState=None, account=None, view=None, **kwargs):\n",
    "        super().__init__(**kwargs)\n",
    "        self.pluginId = pluginId\n",
    "        self.lastState = lastState\n",
    "        self.account = account if account is not None else []\n",
    "        self.view = view if view is not None else []"
   ]
  },
  {
   "cell_type": "code",
   "execution_count": null,
   "metadata": {},
   "outputs": [],
   "source": [
    "# export\n",
    "class StatefulPlugin(PluginBase):\n",
    "    \"\"\" Provides state/view setter and getter functions to plugin runtime \"\"\"    \n",
    "    \n",
    "    properties = PluginBase.properties + [\"runId\"]\n",
    "    edges = PluginBase.edges\n",
    "    \n",
    "    def __init__(self, runId, pluginState=None, **kwargs):\n",
    "        super().__init__(**kwargs)\n",
    "        self.runId = runId\n",
    "\n",
    "    def get_persistent_state(self, client):\n",
    "        run = self.get_run(client)\n",
    "        states = run.get_edges(\"persistentState\")\n",
    "        if len(states) > 0:\n",
    "            return states[0].traverse(run)\n",
    "\n",
    "    def set_persistent_state(self, client):\n",
    "        raise Exception(\"Not implemented\")\n",
    "\n",
    "    def initialized(self, client):\n",
    "        logging.warning(\"PLUGIN run is initialized\")\n",
    "        self._set_run_vars(client, {'state':RUN_INITIALIZED})\n",
    "\n",
    "    def started(self, client):\n",
    "        logging.warning(\"PLUGIN run is started\")\n",
    "        self._set_run_vars(client, {'state':RUN_STARTED})\n",
    "\n",
    "    def failed(self, client, error):\n",
    "        logging.error(f\"PLUGIN run is failed: {error}\")\n",
    "        print(\"Exception while running plugin:\", error)\n",
    "        self._set_run_vars(client, {'state':RUN_FAILED, 'message': str(error)})\n",
    "\n",
    "    def completed(self, client):\n",
    "        logging.warning(\"PLUGIN run is completed\")\n",
    "        self._set_run_vars(client, {'state':RUN_COMPLETED})\n",
    "\n",
    "    def complete_action(self, client):\n",
    "        self._set_run_vars(client, {'state': RUN_USER_ACTION_COMPLETED})\n",
    "\n",
    "    def action_required(self, client):\n",
    "        self._set_run_vars(client, {'state': RUN_USER_ACTION_NEEDED})\n",
    "\n",
    "    def is_action_required(self, client):\n",
    "        return self._get_run_state(client) == RUN_USER_ACTION_NEEDED\n",
    "\n",
    "    def is_action_completed(self, client):\n",
    "        return self._get_run_state(client) == RUN_USER_ACTION_COMPLETED\n",
    "\n",
    "    def is_completed(self, client):\n",
    "        return self._get_run_state(client) == RUN_COMPLETED\n",
    "\n",
    "    def is_daemon(self, client):\n",
    "        run = self.get_run(client, expanded=False)\n",
    "        return run.interval and run.interval > 0\n",
    "\n",
    "    def get_run(self, client, expanded=False):\n",
    "        return client.get(self.runId, expanded=expanded)\n",
    "\n",
    "\n",
    "    # =======================================\n",
    "    # --------- INTERNAL METHODS ------------\n",
    "\n",
    "    # EXPORT TO STATEFUL.py\n",
    "    def _get_run_state(self, client):\n",
    "        start_plugin = self.get_run(client)\n",
    "        return start_plugin.state\n",
    "\n",
    "    def _set_run_vars(self, client, vars):\n",
    "        start_plugin = client.get(self.runId, expanded=False)\n",
    "        for k,v in vars.items():\n",
    "            setattr(start_plugin, k, v)\n",
    "        client.update_item(start_plugin)\n",
    "        \n",
    "    def _get_run_view(self, client, run):\n",
    "        run = self.get_run(client, expanded=True)\n",
    "        if run:\n",
    "            views = run.get_edges('view')\n",
    "            if len(views) > 0:\n",
    "                return views[0].traverse(run)\n",
    "        \n",
    "    def _set_run_view(self, client, view_name):\n",
    "        run = self.get_run(client)\n",
    "        views = client.search({'type': 'CVUStoredDefinition', 'name': view_name})\n",
    "        if len(views) > 0:\n",
    "\n",
    "            view = views[0]\n",
    "\n",
    "            attached_CVU_edge = self._get_run_view(client, run) # index error here if there is no already bound CVU \n",
    "            if attached_CVU_edge:\n",
    "                logging.warning(f\"Plugin Run already has a view. Updating with {view_name}\")\n",
    "                attached_CVU_edge.target = view  # update CVU\n",
    "                attached_CVU_edge.update(client) # having doubts if this really updates the existing edge\n",
    "            else:\n",
    "                logging.warning(f\"Plugin Run does not have a view. Creating {view_name}\")\n",
    "                run.add_edge('view', view)\n",
    "                run.update(client)\n",
    "            return True\n",
    "        return False"
   ]
  },
  {
   "cell_type": "markdown",
   "metadata": {},
   "source": [
    "## Setting and communicating states through PluginRun\n",
    "\n",
    "An example stateful plugin is below."
   ]
  },
  {
   "cell_type": "code",
   "execution_count": null,
   "metadata": {},
   "outputs": [],
   "source": [
    "\n",
    "class MyStatefulPlugin(StatefulPlugin):\n",
    "    \n",
    "    def __init__(self, runId=None, **kwargs):\n",
    "        super().__init__(runId=runId, **kwargs)\n",
    "\n",
    "    def run(self):\n",
    "        print(\"Running plugin\")\n",
    "        pass\n",
    "    \n",
    "    def add_to_schema(self):\n",
    "        print(\"Adding schema\")\n",
    "        pass"
   ]
  },
  {
   "cell_type": "markdown",
   "metadata": {},
   "source": [
    "Through this inherited class you can set states to control the flow and views that are displayed to user."
   ]
  },
  {
   "cell_type": "code",
   "execution_count": null,
   "metadata": {},
   "outputs": [],
   "source": [
    "from pymemri.pod.client import PodClient\n",
    "from pymemri.data.schema import CVUStoredDefinition\n",
    "from pymemri.plugin.pluginbase import PluginRun, register_base_schemas\n",
    "\n",
    "# prepare\n",
    "client = PodClient()\n",
    "register_base_schemas(client)\n",
    "\n",
    "# create a run\n",
    "run = PluginRun(containerImage=\"stateful_plugin\", pluginModule=\"StatefulPlugin\", pluginName=\"stateful_plugin\")\n",
    "client.create(run)\n",
    "\n",
    "# test the run states    \n",
    "stateful = MyStatefulPlugin(runId=run.id)\n",
    "stateful.started(client)\n",
    "assert stateful._get_run_state(client) == RUN_STARTED\n",
    "\n",
    "# test run views\n",
    "view = CVUStoredDefinition(name=\"test-view\")\n",
    "client.create(view)\n",
    "assert stateful._set_run_view(client, \"non-existent-view\") == False\n",
    "assert stateful._set_run_view(client, \"test-view\") == True\n",
    "assert stateful._get_run_view(client, run).name == 'test-view'"
   ]
  },
  {
   "cell_type": "code",
   "execution_count": null,
   "metadata": {},
   "outputs": [],
   "source": []
  }
 ],
 "metadata": {
  "kernelspec": {
   "display_name": "Python 3",
   "language": "python",
   "name": "python3"
  }
 },
 "nbformat": 4,
 "nbformat_minor": 4
}
